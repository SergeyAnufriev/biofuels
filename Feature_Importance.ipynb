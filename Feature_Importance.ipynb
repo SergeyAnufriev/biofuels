{
 "cells": [
  {
   "cell_type": "code",
   "execution_count": 1,
   "metadata": {},
   "outputs": [
    {
     "name": "stdout",
     "output_type": "stream",
     "text": [
      "2019.03.3\n"
     ]
    }
   ],
   "source": [
    "import os\n",
    "import numpy as np\n",
    "from sklearn.ensemble import RandomForestClassifier\n",
    "from sklearn.model_selection import StratifiedKFold\n",
    "from sklearn.metrics import accuracy_score\n",
    "from rdkit import Chem\n",
    "from rdkit.Chem import AllChem\n",
    "from rdkit.Chem import Draw\n",
    "from rdkit.Chem.Draw import IPythonConsole\n",
    "from rdkit.Chem import DataStructs\n",
    "from rdkit.Chem import RDConfig\n",
    "from rdkit.Chem import rdBase\n",
    "print(rdBase.rdkitVersion)"
   ]
  },
  {
   "cell_type": "code",
   "execution_count": 2,
   "metadata": {},
   "outputs": [],
   "source": [
    "trainpath = os.path.join(RDConfig.RDDocsDir, 'Book/data/solubility.train.sdf')\n",
    "testpath = os.path.join(RDConfig.RDDocsDir, 'Book/data/solubility.test.sdf')\n",
    "solclass = {'(A) low':0, '(B) medium': 1, '(C) high': 2}\n",
    "n_splits = 10\n",
    "def mol2fp(mol,nBits=2048):\n",
    "    bitInfo={}\n",
    "    fp = AllChem.GetMorganFingerprintAsBitVect(mol, 2, bitInfo=bitInfo)\n",
    "    arr = np.zeros((1,))\n",
    "    DataStructs.ConvertToNumpyArray(fp, arr)\n",
    "    return arr, bitInfo\n",
    "trainmols = [m for m in Chem.SDMolSupplier(trainpath)]\n",
    "testmols = [m for m in Chem.SDMolSupplier(testpath)]"
   ]
  },
  {
   "cell_type": "code",
   "execution_count": 3,
   "metadata": {},
   "outputs": [],
   "source": [
    "trainX = np.array([mol2fp(m)[0] for m in trainmols])\n",
    "trainY = np.array([solclass[m.GetProp('SOL_classification')] for m in trainmols], dtype=np.int)\n",
    " \n",
    "testX = np.array([mol2fp(m)[0] for m in testmols])\n",
    "testY = np.array([solclass[m.GetProp('SOL_classification')] for m in testmols], dtype=np.int)"
   ]
  },
  {
   "cell_type": "code",
   "execution_count": 4,
   "metadata": {},
   "outputs": [
    {
     "name": "stdout",
     "output_type": "stream",
     "text": [
      "0.4807692307692308\n",
      "0.5288461538461539\n",
      "0.6213592233009708\n",
      "0.6213592233009708\n",
      "0.6213592233009708\n",
      "0.6407766990291263\n",
      "0.5490196078431373\n",
      "0.5643564356435643\n",
      "0.5346534653465347\n",
      "0.6534653465346535\n"
     ]
    }
   ],
   "source": [
    "rfclf = RandomForestClassifier(n_estimators=50)\n",
    "skf = StratifiedKFold(n_splits=n_splits)\n",
    "for train, test in skf.split(trainX, trainY):\n",
    "    trainx = trainX[train]\n",
    "    trainy = trainY[train]\n",
    "    testx = trainX[test]\n",
    "    testy = trainY[test]\n",
    "    rfclf.fit(trainx, trainy)\n",
    "    predy = rfclf.predict(testx)\n",
    "    print(accuracy_score(testy, predy))"
   ]
  },
  {
   "cell_type": "code",
   "execution_count": 5,
   "metadata": {},
   "outputs": [],
   "source": [
    "fimportance = rfclf.feature_importances_\n",
    "fimportance_dict = dict(zip(range(1024), fimportance))\n",
    "sorteddata = sorted(fimportance_dict.items(), key=lambda x:-x[1])\n",
    "top50feat = [x[0] for x in sorteddata][:50]\n",
    "solblemol_idx = []\n",
    "for i, v in enumerate(testY):\n",
    "    if v == 2:\n",
    "        solblemol_idx.append(i)"
   ]
  },
  {
   "cell_type": "code",
   "execution_count": 17,
   "metadata": {},
   "outputs": [
    {
     "data": {
      "text/plain": [
       "2048"
      ]
     },
     "execution_count": 17,
     "metadata": {},
     "output_type": "execute_result"
    }
   ],
   "source": [
    "len(fimportance)"
   ]
  },
  {
   "cell_type": "code",
   "execution_count": null,
   "metadata": {},
   "outputs": [],
   "source": [
    "def smiles_to_fps(smiles_tuple, fp_radius, fp_length):\n",
    "\tfps = []\n",
    "\tfor smiles in smiles_tuple:\n",
    "\t\tmolecule = Chem.MolFromSmiles(smiles)\n",
    "\t\tfp = AllChem.GetMorganFingerprintAsBitVect(\n",
    "\t\t\tmolecule, fp_radius, nBits=fp_length)\n",
    "\t\tfps.append(fp.ToBitString())\n",
    "\tfps = np.array(fps)\n",
    "\tfps = np.array([list(fp) for fp in fps], dtype=np.float32)\n",
    "\treturn fps "
   ]
  }
 ],
 "metadata": {
  "kernelspec": {
   "display_name": "Python 3",
   "language": "python",
   "name": "python3"
  },
  "language_info": {
   "codemirror_mode": {
    "name": "ipython",
    "version": 3
   },
   "file_extension": ".py",
   "mimetype": "text/x-python",
   "name": "python",
   "nbconvert_exporter": "python",
   "pygments_lexer": "ipython3",
   "version": "3.6.12"
  }
 },
 "nbformat": 4,
 "nbformat_minor": 2
}
