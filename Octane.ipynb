{
 "cells": [
  {
   "cell_type": "code",
   "execution_count": 1,
   "metadata": {},
   "outputs": [],
   "source": [
    "import pandas as pd\n",
    "import numpy as np\n",
    "import pubchempy as pcp\n",
    "from mordred import Calculator, descriptors\n",
    "from rdkit import Chem\n",
    "from sklearn.preprocessing import StandardScaler\n",
    "from sklearn.svm import SVR\n",
    "from mlxtend.feature_selection import SequentialFeatureSelector as sfs\n",
    "from collections import Counter\n",
    "\n",
    "from skopt.space import Real, Integer\n",
    "from skopt.utils import use_named_args\n",
    "from skopt import gp_minimize\n",
    "from sklearn.model_selection import cross_val_score\n",
    "from skopt.plots import plot_convergence\n",
    "\n",
    "from sklearn.metrics import mean_squared_error,r2_score,mean_absolute_error\n",
    "from matplotlib import pyplot as plt"
   ]
  },
  {
   "cell_type": "code",
   "execution_count": 2,
   "metadata": {},
   "outputs": [],
   "source": [
    "scaler = StandardScaler()"
   ]
  },
  {
   "cell_type": "code",
   "execution_count": 3,
   "metadata": {},
   "outputs": [],
   "source": [
    "''' [1] https://pubs.acs.org/doi/10.1021/acs.energyfuels.6b03251'''\n",
    "mult_obj        = pd.read_csv(r'C:\\Users\\zcemg08\\PycharmProjects\\biofuels\\data\\octane_data_multobj_paper.csv')\n",
    "\n",
    "\n",
    "ron             = pd.read_csv(r'C:\\Users\\zcemg08\\PycharmProjects\\biofuels\\data\\ron_database_v1.0.csv',low_memory=False)\n",
    "\n",
    "''' [3] https://pubs.acs.org/doi/10.1021/acs.energyfuels.6b01952'''\n",
    "ron_biocompound = pd.read_table(r'C:\\Users\\zcemg08\\PycharmProjects\\biofuels\\data\\RON.txt')"
   ]
  },
  {
   "cell_type": "code",
   "execution_count": 4,
   "metadata": {},
   "outputs": [
    {
     "data": {
      "text/html": [
       "<div>\n",
       "<style scoped>\n",
       "    .dataframe tbody tr th:only-of-type {\n",
       "        vertical-align: middle;\n",
       "    }\n",
       "\n",
       "    .dataframe tbody tr th {\n",
       "        vertical-align: top;\n",
       "    }\n",
       "\n",
       "    .dataframe thead th {\n",
       "        text-align: right;\n",
       "    }\n",
       "</style>\n",
       "<table border=\"1\" class=\"dataframe\">\n",
       "  <thead>\n",
       "    <tr style=\"text-align: right;\">\n",
       "      <th></th>\n",
       "      <th>RON_Molecules_x</th>\n",
       "      <th>ZM2V</th>\n",
       "      <th>IC1</th>\n",
       "      <th>SPAN</th>\n",
       "      <th>RDF020m</th>\n",
       "      <th>Mor03u</th>\n",
       "      <th>Mor16m</th>\n",
       "      <th>Mor31m</th>\n",
       "      <th>Mor29v</th>\n",
       "      <th>Mor10p</th>\n",
       "      <th>nCp</th>\n",
       "      <th>ALOGP2</th>\n",
       "      <th>ALOGPS_logS</th>\n",
       "      <th>Data Set</th>\n",
       "      <th>Predicted</th>\n",
       "      <th>Absolute  Error</th>\n",
       "      <th>SMILES</th>\n",
       "      <th>RON_Molecules_y</th>\n",
       "      <th>Experiment</th>\n",
       "    </tr>\n",
       "  </thead>\n",
       "  <tbody>\n",
       "    <tr>\n",
       "      <th>0</th>\n",
       "      <td>n-Butylbenzene</td>\n",
       "      <td>1.483</td>\n",
       "      <td>1.270</td>\n",
       "      <td>2.057</td>\n",
       "      <td>0.115</td>\n",
       "      <td>-0.406</td>\n",
       "      <td>0.720</td>\n",
       "      <td>-0.103</td>\n",
       "      <td>0.659</td>\n",
       "      <td>-0.760</td>\n",
       "      <td>-1.034</td>\n",
       "      <td>0.967</td>\n",
       "      <td>-0.864</td>\n",
       "      <td>Training</td>\n",
       "      <td>100.58</td>\n",
       "      <td>3.82</td>\n",
       "      <td>CCCCc1ccccc1</td>\n",
       "      <td>n-Butylbenzene</td>\n",
       "      <td>104.4</td>\n",
       "    </tr>\n",
       "    <tr>\n",
       "      <th>1</th>\n",
       "      <td>1,2,3,4-Tetramethylbenzene</td>\n",
       "      <td>2.313</td>\n",
       "      <td>0.364</td>\n",
       "      <td>-0.096</td>\n",
       "      <td>-0.195</td>\n",
       "      <td>0.633</td>\n",
       "      <td>0.932</td>\n",
       "      <td>-1.054</td>\n",
       "      <td>0.680</td>\n",
       "      <td>-0.656</td>\n",
       "      <td>1.243</td>\n",
       "      <td>1.120</td>\n",
       "      <td>-0.374</td>\n",
       "      <td>Training</td>\n",
       "      <td>107.59</td>\n",
       "      <td>2.29</td>\n",
       "      <td>Cc1c(C)ccc(c1C)C</td>\n",
       "      <td>1,2,3,4-Tetramethylbenzene</td>\n",
       "      <td>105.3</td>\n",
       "    </tr>\n",
       "    <tr>\n",
       "      <th>2</th>\n",
       "      <td>1-Phenylpentane</td>\n",
       "      <td>1.657</td>\n",
       "      <td>1.186</td>\n",
       "      <td>2.895</td>\n",
       "      <td>0.367</td>\n",
       "      <td>-0.932</td>\n",
       "      <td>0.272</td>\n",
       "      <td>0.442</td>\n",
       "      <td>0.520</td>\n",
       "      <td>-0.710</td>\n",
       "      <td>-1.034</td>\n",
       "      <td>1.779</td>\n",
       "      <td>-1.228</td>\n",
       "      <td>Training</td>\n",
       "      <td>89.73</td>\n",
       "      <td>0.53</td>\n",
       "      <td>CCCCCc1ccccc1</td>\n",
       "      <td>1-Phenylpentane</td>\n",
       "      <td>89.2</td>\n",
       "    </tr>\n",
       "    <tr>\n",
       "      <th>3</th>\n",
       "      <td>1-Methyl-2-allylbenzene</td>\n",
       "      <td>2.051</td>\n",
       "      <td>1.832</td>\n",
       "      <td>0.829</td>\n",
       "      <td>0.864</td>\n",
       "      <td>0.735</td>\n",
       "      <td>1.011</td>\n",
       "      <td>-0.526</td>\n",
       "      <td>0.541</td>\n",
       "      <td>-1.457</td>\n",
       "      <td>-1.034</td>\n",
       "      <td>0.392</td>\n",
       "      <td>-0.508</td>\n",
       "      <td>Training</td>\n",
       "      <td>101.42</td>\n",
       "      <td>2.82</td>\n",
       "      <td>C=CCc1ccccc1C</td>\n",
       "      <td>1-Methyl-2-allylbenzene</td>\n",
       "      <td>98.6</td>\n",
       "    </tr>\n",
       "    <tr>\n",
       "      <th>4</th>\n",
       "      <td>1,2,3,4-Tetrahydronaphthalene</td>\n",
       "      <td>2.225</td>\n",
       "      <td>1.327</td>\n",
       "      <td>-0.043</td>\n",
       "      <td>0.115</td>\n",
       "      <td>-0.342</td>\n",
       "      <td>0.484</td>\n",
       "      <td>0.425</td>\n",
       "      <td>0.017</td>\n",
       "      <td>0.747</td>\n",
       "      <td>-1.793</td>\n",
       "      <td>0.421</td>\n",
       "      <td>-0.441</td>\n",
       "      <td>Training</td>\n",
       "      <td>102.26</td>\n",
       "      <td>5.86</td>\n",
       "      <td>C1CCc2c(C1)cccc2</td>\n",
       "      <td>1,2,3,4-Tetrahydronaphthalene</td>\n",
       "      <td>96.4</td>\n",
       "    </tr>\n",
       "  </tbody>\n",
       "</table>\n",
       "</div>"
      ],
      "text/plain": [
       "                 RON_Molecules_x   ZM2V    IC1   SPAN  RDF020m  Mor03u  \\\n",
       "0                 n-Butylbenzene  1.483  1.270  2.057    0.115  -0.406   \n",
       "1     1,2,3,4-Tetramethylbenzene  2.313  0.364 -0.096   -0.195   0.633   \n",
       "2                1-Phenylpentane  1.657  1.186  2.895    0.367  -0.932   \n",
       "3        1-Methyl-2-allylbenzene  2.051  1.832  0.829    0.864   0.735   \n",
       "4  1,2,3,4-Tetrahydronaphthalene  2.225  1.327 -0.043    0.115  -0.342   \n",
       "\n",
       "   Mor16m  Mor31m  Mor29v  Mor10p    nCp  ALOGP2  ALOGPS_logS  Data Set  \\\n",
       "0   0.720  -0.103   0.659  -0.760 -1.034   0.967       -0.864  Training   \n",
       "1   0.932  -1.054   0.680  -0.656  1.243   1.120       -0.374  Training   \n",
       "2   0.272   0.442   0.520  -0.710 -1.034   1.779       -1.228  Training   \n",
       "3   1.011  -0.526   0.541  -1.457 -1.034   0.392       -0.508  Training   \n",
       "4   0.484   0.425   0.017   0.747 -1.793   0.421       -0.441  Training   \n",
       "\n",
       "   Predicted  Absolute  Error            SMILES  \\\n",
       "0     100.58             3.82      CCCCc1ccccc1   \n",
       "1     107.59             2.29  Cc1c(C)ccc(c1C)C   \n",
       "2      89.73             0.53     CCCCCc1ccccc1   \n",
       "3     101.42             2.82     C=CCc1ccccc1C   \n",
       "4     102.26             5.86  C1CCc2c(C1)cccc2   \n",
       "\n",
       "                 RON_Molecules_y  Experiment  \n",
       "0                 n-Butylbenzene       104.4  \n",
       "1     1,2,3,4-Tetramethylbenzene       105.3  \n",
       "2                1-Phenylpentane        89.2  \n",
       "3        1-Methyl-2-allylbenzene        98.6  \n",
       "4  1,2,3,4-Tetrahydronaphthalene        96.4  "
      ]
     },
     "execution_count": 4,
     "metadata": {},
     "output_type": "execute_result"
    }
   ],
   "source": [
    "mult_obj.head(5)"
   ]
  },
  {
   "cell_type": "code",
   "execution_count": 5,
   "metadata": {},
   "outputs": [],
   "source": [
    "count = Counter"
   ]
  },
  {
   "cell_type": "code",
   "execution_count": 6,
   "metadata": {},
   "outputs": [
    {
     "name": "stdout",
     "output_type": "stream",
     "text": [
      "data set size = 281,data column types = Counter({dtype('float64'): 15, dtype('O'): 4})\n"
     ]
    },
    {
     "data": {
      "text/plain": [
       "RON_Molecules_x     object\n",
       "ZM2V               float64\n",
       "IC1                float64\n",
       "SPAN               float64\n",
       "RDF020m            float64\n",
       "Mor03u             float64\n",
       "Mor16m             float64\n",
       "Mor31m             float64\n",
       "Mor29v             float64\n",
       "Mor10p             float64\n",
       "nCp                float64\n",
       "ALOGP2             float64\n",
       "ALOGPS_logS        float64\n",
       "Data Set            object\n",
       "Predicted          float64\n",
       "Absolute  Error    float64\n",
       "SMILES              object\n",
       "RON_Molecules_y     object\n",
       "Experiment         float64\n",
       "dtype: object"
      ]
     },
     "execution_count": 6,
     "metadata": {},
     "output_type": "execute_result"
    }
   ],
   "source": [
    "print('data set size = {},data column types = {}'.format(len(mult_obj),count(mult_obj.dtypes)))\n",
    "mult_obj.dtypes"
   ]
  },
  {
   "cell_type": "code",
   "execution_count": 7,
   "metadata": {},
   "outputs": [
    {
     "data": {
      "text/html": [
       "<div>\n",
       "<style scoped>\n",
       "    .dataframe tbody tr th:only-of-type {\n",
       "        vertical-align: middle;\n",
       "    }\n",
       "\n",
       "    .dataframe tbody tr th {\n",
       "        vertical-align: top;\n",
       "    }\n",
       "\n",
       "    .dataframe thead th {\n",
       "        text-align: right;\n",
       "    }\n",
       "</style>\n",
       "<table border=\"1\" class=\"dataframe\">\n",
       "  <thead>\n",
       "    <tr style=\"text-align: right;\">\n",
       "      <th></th>\n",
       "      <th>DATAID</th>\n",
       "      <th>ASSIGNMENT</th>\n",
       "      <th>Compound Name</th>\n",
       "      <th>SMILES</th>\n",
       "      <th>PubChem CID</th>\n",
       "      <th>Notes</th>\n",
       "      <th>Source</th>\n",
       "      <th>Literature Source</th>\n",
       "      <th>Formula</th>\n",
       "      <th>Validated By</th>\n",
       "      <th>...</th>\n",
       "      <th>CATS3D_10_LL</th>\n",
       "      <th>CATS3D_11_LL</th>\n",
       "      <th>CATS3D_12_LL</th>\n",
       "      <th>CATS3D_13_LL</th>\n",
       "      <th>CATS3D_14_LL</th>\n",
       "      <th>CATS3D_15_LL</th>\n",
       "      <th>CATS3D_16_LL</th>\n",
       "      <th>CATS3D_17_LL</th>\n",
       "      <th>CATS3D_18_LL</th>\n",
       "      <th>CATS3D_19_LL</th>\n",
       "    </tr>\n",
       "  </thead>\n",
       "  <tbody>\n",
       "    <tr>\n",
       "      <th>0</th>\n",
       "      <td>UMLRON0001</td>\n",
       "      <td>L</td>\n",
       "      <td>1-Butanol</td>\n",
       "      <td>CCCCO</td>\n",
       "      <td>263</td>\n",
       "      <td>NaN</td>\n",
       "      <td>Sandia, UML</td>\n",
       "      <td>[6]</td>\n",
       "      <td>C4H10O</td>\n",
       "      <td>PubChem</td>\n",
       "      <td>...</td>\n",
       "      <td>0</td>\n",
       "      <td>0</td>\n",
       "      <td>0</td>\n",
       "      <td>0</td>\n",
       "      <td>0</td>\n",
       "      <td>0</td>\n",
       "      <td>0</td>\n",
       "      <td>0</td>\n",
       "      <td>0</td>\n",
       "      <td>0</td>\n",
       "    </tr>\n",
       "    <tr>\n",
       "      <th>1</th>\n",
       "      <td>UMLRON0002</td>\n",
       "      <td>L</td>\n",
       "      <td>Ethanol</td>\n",
       "      <td>CCO</td>\n",
       "      <td>702</td>\n",
       "      <td>NaN</td>\n",
       "      <td>Sandia, UML</td>\n",
       "      <td>[6]</td>\n",
       "      <td>C2H6O</td>\n",
       "      <td>PubChem</td>\n",
       "      <td>...</td>\n",
       "      <td>0</td>\n",
       "      <td>0</td>\n",
       "      <td>0</td>\n",
       "      <td>0</td>\n",
       "      <td>0</td>\n",
       "      <td>0</td>\n",
       "      <td>0</td>\n",
       "      <td>0</td>\n",
       "      <td>0</td>\n",
       "      <td>0</td>\n",
       "    </tr>\n",
       "    <tr>\n",
       "      <th>2</th>\n",
       "      <td>UMLRON0003</td>\n",
       "      <td>L</td>\n",
       "      <td>Methanol</td>\n",
       "      <td>CO</td>\n",
       "      <td>887</td>\n",
       "      <td>NaN</td>\n",
       "      <td>Sandia, UML</td>\n",
       "      <td>[11]</td>\n",
       "      <td>CH4O</td>\n",
       "      <td>PubChem</td>\n",
       "      <td>...</td>\n",
       "      <td>0</td>\n",
       "      <td>0</td>\n",
       "      <td>0</td>\n",
       "      <td>0</td>\n",
       "      <td>0</td>\n",
       "      <td>0</td>\n",
       "      <td>0</td>\n",
       "      <td>0</td>\n",
       "      <td>0</td>\n",
       "      <td>0</td>\n",
       "    </tr>\n",
       "    <tr>\n",
       "      <th>3</th>\n",
       "      <td>UMLRON0004</td>\n",
       "      <td>L</td>\n",
       "      <td>n-Propanol</td>\n",
       "      <td>CCCO</td>\n",
       "      <td>1031</td>\n",
       "      <td>NaN</td>\n",
       "      <td>Sandia, UML</td>\n",
       "      <td>[6]</td>\n",
       "      <td>C3H8O</td>\n",
       "      <td>PubChem</td>\n",
       "      <td>...</td>\n",
       "      <td>0</td>\n",
       "      <td>0</td>\n",
       "      <td>0</td>\n",
       "      <td>0</td>\n",
       "      <td>0</td>\n",
       "      <td>0</td>\n",
       "      <td>0</td>\n",
       "      <td>0</td>\n",
       "      <td>0</td>\n",
       "      <td>0</td>\n",
       "    </tr>\n",
       "    <tr>\n",
       "      <th>4</th>\n",
       "      <td>UMLRON0005</td>\n",
       "      <td>L</td>\n",
       "      <td>Toluene</td>\n",
       "      <td>CC1=CC=CC=C1</td>\n",
       "      <td>1140</td>\n",
       "      <td>Averaged sensitivity values</td>\n",
       "      <td>Sandia, UML</td>\n",
       "      <td>[1], [3]</td>\n",
       "      <td>C7H8</td>\n",
       "      <td>PubChem</td>\n",
       "      <td>...</td>\n",
       "      <td>0</td>\n",
       "      <td>0</td>\n",
       "      <td>0</td>\n",
       "      <td>0</td>\n",
       "      <td>0</td>\n",
       "      <td>0</td>\n",
       "      <td>0</td>\n",
       "      <td>0</td>\n",
       "      <td>0</td>\n",
       "      <td>0</td>\n",
       "    </tr>\n",
       "  </tbody>\n",
       "</table>\n",
       "<p>5 rows × 5317 columns</p>\n",
       "</div>"
      ],
      "text/plain": [
       "       DATAID ASSIGNMENT Compound Name        SMILES  PubChem CID  \\\n",
       "0  UMLRON0001          L     1-Butanol         CCCCO          263   \n",
       "1  UMLRON0002          L       Ethanol           CCO          702   \n",
       "2  UMLRON0003          L      Methanol            CO          887   \n",
       "3  UMLRON0004          L    n-Propanol          CCCO         1031   \n",
       "4  UMLRON0005          L       Toluene  CC1=CC=CC=C1         1140   \n",
       "\n",
       "                         Notes       Source Literature Source Formula  \\\n",
       "0                          NaN  Sandia, UML               [6]  C4H10O   \n",
       "1                          NaN  Sandia, UML               [6]   C2H6O   \n",
       "2                          NaN  Sandia, UML              [11]    CH4O   \n",
       "3                          NaN  Sandia, UML               [6]   C3H8O   \n",
       "4  Averaged sensitivity values  Sandia, UML          [1], [3]    C7H8   \n",
       "\n",
       "  Validated By  ... CATS3D_10_LL  CATS3D_11_LL  CATS3D_12_LL  CATS3D_13_LL  \\\n",
       "0      PubChem  ...            0             0             0             0   \n",
       "1      PubChem  ...            0             0             0             0   \n",
       "2      PubChem  ...            0             0             0             0   \n",
       "3      PubChem  ...            0             0             0             0   \n",
       "4      PubChem  ...            0             0             0             0   \n",
       "\n",
       "   CATS3D_14_LL  CATS3D_15_LL  CATS3D_16_LL  CATS3D_17_LL  CATS3D_18_LL  \\\n",
       "0             0             0             0             0             0   \n",
       "1             0             0             0             0             0   \n",
       "2             0             0             0             0             0   \n",
       "3             0             0             0             0             0   \n",
       "4             0             0             0             0             0   \n",
       "\n",
       "   CATS3D_19_LL  \n",
       "0             0  \n",
       "1             0  \n",
       "2             0  \n",
       "3             0  \n",
       "4             0  \n",
       "\n",
       "[5 rows x 5317 columns]"
      ]
     },
     "execution_count": 7,
     "metadata": {},
     "output_type": "execute_result"
    }
   ],
   "source": [
    "ron.head(5)"
   ]
  },
  {
   "cell_type": "code",
   "execution_count": 8,
   "metadata": {},
   "outputs": [
    {
     "name": "stdout",
     "output_type": "stream",
     "text": [
      "data set size = 308,data column types = Counter({dtype('int64'): 3768, dtype('float64'): 1539, dtype('O'): 10})\n"
     ]
    }
   ],
   "source": [
    "print('data set size = {},data column types = {}'.format(len(ron),count(ron.dtypes)))\n"
   ]
  },
  {
   "cell_type": "code",
   "execution_count": 9,
   "metadata": {},
   "outputs": [
    {
     "data": {
      "text/plain": [
       "DATAID           object\n",
       "ASSIGNMENT       object\n",
       "Compound Name    object\n",
       "SMILES           object\n",
       "PubChem CID       int64\n",
       "                  ...  \n",
       "CATS3D_15_LL      int64\n",
       "CATS3D_16_LL      int64\n",
       "CATS3D_17_LL      int64\n",
       "CATS3D_18_LL      int64\n",
       "CATS3D_19_LL      int64\n",
       "Length: 5317, dtype: object"
      ]
     },
     "execution_count": 9,
     "metadata": {},
     "output_type": "execute_result"
    }
   ],
   "source": [
    "ron.dtypes"
   ]
  },
  {
   "cell_type": "code",
   "execution_count": 10,
   "metadata": {},
   "outputs": [],
   "source": [
    "# List of usefull column names in mult_obj dataset\n",
    "\n",
    "'''\n",
    "RON_Molecules_x - name of molecules \n",
    "Data Set        - reserach paper dataset split \n",
    "Predicted       - reserach paper preduicted values \n",
    "Absolute Error  - MAE between predictions and true values\n",
    "Experiment      - True octane number \n",
    "'''\n",
    "\n",
    "c_mult_obj = ['SMILES','RON_Molecules_x','Experiment','Data Set','Predicted','Absolute  Error']\n",
    "c_ron      = ['SMILES','Compound Name','TARGET','PubChem CID','Source','Literature Source']\n",
    "\n",
    "\n",
    "#all columns in ron_biocompound are usefull"
   ]
  },
  {
   "cell_type": "code",
   "execution_count": 11,
   "metadata": {},
   "outputs": [],
   "source": [
    "df1 = ron[c_ron]\n",
    "df1 = df1.rename(columns={'PubChem CID': \"PubChem\"})\n",
    "df2 = mult_obj[c_mult_obj]\n",
    "df3 = ron_biocompound"
   ]
  },
  {
   "cell_type": "code",
   "execution_count": 12,
   "metadata": {},
   "outputs": [
    {
     "data": {
      "text/html": [
       "<div>\n",
       "<style scoped>\n",
       "    .dataframe tbody tr th:only-of-type {\n",
       "        vertical-align: middle;\n",
       "    }\n",
       "\n",
       "    .dataframe tbody tr th {\n",
       "        vertical-align: top;\n",
       "    }\n",
       "\n",
       "    .dataframe thead th {\n",
       "        text-align: right;\n",
       "    }\n",
       "</style>\n",
       "<table border=\"1\" class=\"dataframe\">\n",
       "  <thead>\n",
       "    <tr style=\"text-align: right;\">\n",
       "      <th></th>\n",
       "      <th>SMILES</th>\n",
       "      <th>Compound Name</th>\n",
       "      <th>TARGET</th>\n",
       "      <th>PubChem</th>\n",
       "      <th>Source</th>\n",
       "      <th>Literature Source</th>\n",
       "    </tr>\n",
       "  </thead>\n",
       "  <tbody>\n",
       "    <tr>\n",
       "      <th>0</th>\n",
       "      <td>CCCCO</td>\n",
       "      <td>1-Butanol</td>\n",
       "      <td>98.0</td>\n",
       "      <td>263</td>\n",
       "      <td>Sandia, UML</td>\n",
       "      <td>[6]</td>\n",
       "    </tr>\n",
       "    <tr>\n",
       "      <th>1</th>\n",
       "      <td>CCO</td>\n",
       "      <td>Ethanol</td>\n",
       "      <td>109.0</td>\n",
       "      <td>702</td>\n",
       "      <td>Sandia, UML</td>\n",
       "      <td>[6]</td>\n",
       "    </tr>\n",
       "  </tbody>\n",
       "</table>\n",
       "</div>"
      ],
      "text/plain": [
       "  SMILES Compound Name  TARGET  PubChem       Source Literature Source\n",
       "0  CCCCO     1-Butanol    98.0      263  Sandia, UML               [6]\n",
       "1    CCO       Ethanol   109.0      702  Sandia, UML               [6]"
      ]
     },
     "execution_count": 12,
     "metadata": {},
     "output_type": "execute_result"
    }
   ],
   "source": [
    "df1.head(2)"
   ]
  },
  {
   "cell_type": "code",
   "execution_count": 13,
   "metadata": {},
   "outputs": [
    {
     "data": {
      "text/html": [
       "<div>\n",
       "<style scoped>\n",
       "    .dataframe tbody tr th:only-of-type {\n",
       "        vertical-align: middle;\n",
       "    }\n",
       "\n",
       "    .dataframe tbody tr th {\n",
       "        vertical-align: top;\n",
       "    }\n",
       "\n",
       "    .dataframe thead th {\n",
       "        text-align: right;\n",
       "    }\n",
       "</style>\n",
       "<table border=\"1\" class=\"dataframe\">\n",
       "  <thead>\n",
       "    <tr style=\"text-align: right;\">\n",
       "      <th></th>\n",
       "      <th>SMILES</th>\n",
       "      <th>RON_Molecules_x</th>\n",
       "      <th>Experiment</th>\n",
       "      <th>Data Set</th>\n",
       "      <th>Predicted</th>\n",
       "      <th>Absolute  Error</th>\n",
       "    </tr>\n",
       "  </thead>\n",
       "  <tbody>\n",
       "    <tr>\n",
       "      <th>0</th>\n",
       "      <td>CCCCc1ccccc1</td>\n",
       "      <td>n-Butylbenzene</td>\n",
       "      <td>104.4</td>\n",
       "      <td>Training</td>\n",
       "      <td>100.58</td>\n",
       "      <td>3.82</td>\n",
       "    </tr>\n",
       "    <tr>\n",
       "      <th>1</th>\n",
       "      <td>Cc1c(C)ccc(c1C)C</td>\n",
       "      <td>1,2,3,4-Tetramethylbenzene</td>\n",
       "      <td>105.3</td>\n",
       "      <td>Training</td>\n",
       "      <td>107.59</td>\n",
       "      <td>2.29</td>\n",
       "    </tr>\n",
       "  </tbody>\n",
       "</table>\n",
       "</div>"
      ],
      "text/plain": [
       "             SMILES             RON_Molecules_x  Experiment  Data Set  \\\n",
       "0      CCCCc1ccccc1              n-Butylbenzene       104.4  Training   \n",
       "1  Cc1c(C)ccc(c1C)C  1,2,3,4-Tetramethylbenzene       105.3  Training   \n",
       "\n",
       "   Predicted  Absolute  Error  \n",
       "0     100.58             3.82  \n",
       "1     107.59             2.29  "
      ]
     },
     "execution_count": 13,
     "metadata": {},
     "output_type": "execute_result"
    }
   ],
   "source": [
    "df2.head(2)"
   ]
  },
  {
   "cell_type": "code",
   "execution_count": 14,
   "metadata": {},
   "outputs": [
    {
     "data": {
      "text/html": [
       "<div>\n",
       "<style scoped>\n",
       "    .dataframe tbody tr th:only-of-type {\n",
       "        vertical-align: middle;\n",
       "    }\n",
       "\n",
       "    .dataframe tbody tr th {\n",
       "        vertical-align: top;\n",
       "    }\n",
       "\n",
       "    .dataframe thead th {\n",
       "        text-align: right;\n",
       "    }\n",
       "</style>\n",
       "<table border=\"1\" class=\"dataframe\">\n",
       "  <thead>\n",
       "    <tr style=\"text-align: right;\">\n",
       "      <th></th>\n",
       "      <th>#Name</th>\n",
       "      <th>RON</th>\n",
       "      <th>PubChem</th>\n",
       "    </tr>\n",
       "  </thead>\n",
       "  <tbody>\n",
       "    <tr>\n",
       "      <th>0</th>\n",
       "      <td>Methyl acetate</td>\n",
       "      <td>120.0</td>\n",
       "      <td>6584</td>\n",
       "    </tr>\n",
       "    <tr>\n",
       "      <th>1</th>\n",
       "      <td>O-Xylene</td>\n",
       "      <td>120.0</td>\n",
       "      <td>7237</td>\n",
       "    </tr>\n",
       "  </tbody>\n",
       "</table>\n",
       "</div>"
      ],
      "text/plain": [
       "            #Name    RON  PubChem\n",
       "0  Methyl acetate  120.0     6584\n",
       "1        O-Xylene  120.0     7237"
      ]
     },
     "execution_count": 14,
     "metadata": {},
     "output_type": "execute_result"
    }
   ],
   "source": [
    "df3.head(2)"
   ]
  },
  {
   "cell_type": "code",
   "execution_count": 15,
   "metadata": {},
   "outputs": [
    {
     "name": "stdout",
     "output_type": "stream",
     "text": [
      "data sets sizes = [308, 281, 188]\n"
     ]
    }
   ],
   "source": [
    "print('data sets sizes = {}'.format([len(df1),len(df2),len(df3)]))"
   ]
  },
  {
   "cell_type": "code",
   "execution_count": 16,
   "metadata": {},
   "outputs": [],
   "source": [
    "'''\n",
    "Merge all datasets into one\n",
    "merge df1 and df2 by SMILES\n",
    "merge the above with df3 by PubChem'''\n",
    "\n",
    "\n",
    "'''\n",
    "https://pandas.pydata.org/pandas-docs/stable/reference/api/pandas.DataFrame.merge.html\n",
    "'''\n",
    "\n",
    "merged_df = pd.merge(pd.merge(df1,df2,how='outer',on=['SMILES']),df3,how='outer',on=['PubChem'])"
   ]
  },
  {
   "cell_type": "code",
   "execution_count": 17,
   "metadata": {},
   "outputs": [
    {
     "name": "stdout",
     "output_type": "stream",
     "text": [
      "number of compounds without smiles strings = 28\n"
     ]
    }
   ],
   "source": [
    "print('number of compounds without smiles strings = {}'.format(merged_df['SMILES'].isnull().sum()))"
   ]
  },
  {
   "cell_type": "code",
   "execution_count": 18,
   "metadata": {},
   "outputs": [],
   "source": [
    "## Fill empty smiles string by mapping PubChem IDs to SMILES \n",
    "merged_df.iloc[list(merged_df[merged_df['SMILES'].isnull()].index),0] = \\\n",
    "merged_df[merged_df['SMILES'].isnull()]['PubChem'].apply(lambda x:pcp.Compound.from_cid(int(x)).canonical_smiles)"
   ]
  },
  {
   "cell_type": "code",
   "execution_count": 19,
   "metadata": {},
   "outputs": [
    {
     "name": "stdout",
     "output_type": "stream",
     "text": [
      "number of compounds without smiles strings = 0\n"
     ]
    }
   ],
   "source": [
    "print('number of compounds without smiles strings = {}'.format(merged_df['SMILES'].isnull().sum()))"
   ]
  },
  {
   "cell_type": "code",
   "execution_count": 20,
   "metadata": {},
   "outputs": [
    {
     "data": {
      "text/html": [
       "<div>\n",
       "<style scoped>\n",
       "    .dataframe tbody tr th:only-of-type {\n",
       "        vertical-align: middle;\n",
       "    }\n",
       "\n",
       "    .dataframe tbody tr th {\n",
       "        vertical-align: top;\n",
       "    }\n",
       "\n",
       "    .dataframe thead th {\n",
       "        text-align: right;\n",
       "    }\n",
       "</style>\n",
       "<table border=\"1\" class=\"dataframe\">\n",
       "  <thead>\n",
       "    <tr style=\"text-align: right;\">\n",
       "      <th></th>\n",
       "      <th>SMILES</th>\n",
       "      <th>Compound Name</th>\n",
       "      <th>TARGET</th>\n",
       "      <th>PubChem</th>\n",
       "      <th>Source</th>\n",
       "      <th>Literature Source</th>\n",
       "      <th>RON_Molecules_x</th>\n",
       "      <th>Experiment</th>\n",
       "      <th>Data Set</th>\n",
       "      <th>Predicted</th>\n",
       "      <th>Absolute  Error</th>\n",
       "      <th>#Name</th>\n",
       "      <th>RON</th>\n",
       "    </tr>\n",
       "  </thead>\n",
       "  <tbody>\n",
       "    <tr>\n",
       "      <th>0</th>\n",
       "      <td>CCCCO</td>\n",
       "      <td>1-Butanol</td>\n",
       "      <td>98.0</td>\n",
       "      <td>263.0</td>\n",
       "      <td>Sandia, UML</td>\n",
       "      <td>[6]</td>\n",
       "      <td>N-BUTANOL</td>\n",
       "      <td>98.0</td>\n",
       "      <td>Validation</td>\n",
       "      <td>92.76</td>\n",
       "      <td>5.24</td>\n",
       "      <td>1-Butanol</td>\n",
       "      <td>98.0</td>\n",
       "    </tr>\n",
       "    <tr>\n",
       "      <th>1</th>\n",
       "      <td>CCO</td>\n",
       "      <td>Ethanol</td>\n",
       "      <td>109.0</td>\n",
       "      <td>702.0</td>\n",
       "      <td>Sandia, UML</td>\n",
       "      <td>[6]</td>\n",
       "      <td>ETHANOL</td>\n",
       "      <td>109.0</td>\n",
       "      <td>Training</td>\n",
       "      <td>107.77</td>\n",
       "      <td>1.23</td>\n",
       "      <td>Ethanol</td>\n",
       "      <td>109.0</td>\n",
       "    </tr>\n",
       "    <tr>\n",
       "      <th>2</th>\n",
       "      <td>CO</td>\n",
       "      <td>Methanol</td>\n",
       "      <td>109.0</td>\n",
       "      <td>887.0</td>\n",
       "      <td>Sandia, UML</td>\n",
       "      <td>[11]</td>\n",
       "      <td>METHANOL</td>\n",
       "      <td>122.0</td>\n",
       "      <td>Training</td>\n",
       "      <td>105.38</td>\n",
       "      <td>16.62</td>\n",
       "      <td>NaN</td>\n",
       "      <td>NaN</td>\n",
       "    </tr>\n",
       "  </tbody>\n",
       "</table>\n",
       "</div>"
      ],
      "text/plain": [
       "  SMILES Compound Name  TARGET  PubChem       Source Literature Source  \\\n",
       "0  CCCCO     1-Butanol    98.0    263.0  Sandia, UML               [6]   \n",
       "1    CCO       Ethanol   109.0    702.0  Sandia, UML               [6]   \n",
       "2     CO      Methanol   109.0    887.0  Sandia, UML              [11]   \n",
       "\n",
       "  RON_Molecules_x  Experiment    Data Set  Predicted  Absolute  Error  \\\n",
       "0       N-BUTANOL        98.0  Validation      92.76             5.24   \n",
       "1         ETHANOL       109.0    Training     107.77             1.23   \n",
       "2        METHANOL       122.0    Training     105.38            16.62   \n",
       "\n",
       "       #Name    RON  \n",
       "0  1-Butanol   98.0  \n",
       "1    Ethanol  109.0  \n",
       "2        NaN    NaN  "
      ]
     },
     "execution_count": 20,
     "metadata": {},
     "output_type": "execute_result"
    }
   ],
   "source": [
    "merged_df.head(3)"
   ]
  },
  {
   "cell_type": "code",
   "execution_count": 21,
   "metadata": {},
   "outputs": [
    {
     "data": {
      "text/plain": [
       "(503, 13)"
      ]
     },
     "execution_count": 21,
     "metadata": {},
     "output_type": "execute_result"
    }
   ],
   "source": [
    "merged_df.shape"
   ]
  },
  {
   "cell_type": "code",
   "execution_count": 22,
   "metadata": {},
   "outputs": [
    {
     "name": "stderr",
     "output_type": "stream",
     "text": [
      "100%|████████████████████████████████████████████████████████████████████████████████| 503/503 [00:46<00:00, 10.87it/s]\n"
     ]
    }
   ],
   "source": [
    "calc           = Calculator(descriptors, ignore_3D=False)\n",
    "mols           = [Chem.MolFromSmiles(smi) for smi in list(merged_df['SMILES'].values)]\n",
    "df_descriptors = calc.pandas(mols)\n",
    "datka          = pd.concat([merged_df,df_descriptors],axis=1,join='inner')"
   ]
  },
  {
   "cell_type": "code",
   "execution_count": 23,
   "metadata": {},
   "outputs": [
    {
     "name": "stdout",
     "output_type": "stream",
     "text": [
      "Final Data Set Column types = Counter({dtype('float64'): 834, dtype('O'): 666, dtype('int64'): 337, dtype('bool'): 2})\n"
     ]
    }
   ],
   "source": [
    "print('Final Data Set Column types = {}'.format(count(list(datka.dtypes.values))))"
   ]
  },
  {
   "cell_type": "code",
   "execution_count": 24,
   "metadata": {},
   "outputs": [
    {
     "data": {
      "text/plain": [
       "Index(['SMILES', 'Compound Name', 'Source', 'Literature Source',\n",
       "       'RON_Molecules_x', 'Data Set', '#Name', 'AATS4dv', 'AATS5dv', 'AATS6dv',\n",
       "       ...\n",
       "       'MDEN-11', 'MDEN-12', 'MDEN-13', 'MDEN-22', 'MDEN-23', 'MDEN-33',\n",
       "       'MOMI-X', 'MOMI-Y', 'MOMI-Z', 'PBF'],\n",
       "      dtype='object', length=666)"
      ]
     },
     "execution_count": 24,
     "metadata": {},
     "output_type": "execute_result"
    }
   ],
   "source": [
    "obj_columns = datka.select_dtypes(include=['object']).columns\n",
    "obj_columns"
   ]
  },
  {
   "cell_type": "code",
   "execution_count": 25,
   "metadata": {},
   "outputs": [],
   "source": [
    "# Save weird columns for further investigation later on \n",
    "\n",
    "with open('object_columns.txt', 'w') as f:\n",
    "    for line in obj_columns[7:]:\n",
    "        f.write(line)\n",
    "        f.write('\\n')"
   ]
  },
  {
   "cell_type": "code",
   "execution_count": 26,
   "metadata": {},
   "outputs": [],
   "source": [
    "datka.to_csv(r'C:\\Users\\zcemg08\\PycharmProjects\\biofuels\\data\\octane_descriptors.csv')"
   ]
  },
  {
   "cell_type": "code",
   "execution_count": 27,
   "metadata": {},
   "outputs": [
    {
     "data": {
      "text/plain": [
       "0      missing 3D coordinate (PBF)\n",
       "1      missing 3D coordinate (PBF)\n",
       "2      missing 3D coordinate (PBF)\n",
       "3      missing 3D coordinate (PBF)\n",
       "4      missing 3D coordinate (PBF)\n",
       "                  ...             \n",
       "498    missing 3D coordinate (PBF)\n",
       "499    missing 3D coordinate (PBF)\n",
       "500    missing 3D coordinate (PBF)\n",
       "501    missing 3D coordinate (PBF)\n",
       "502    missing 3D coordinate (PBF)\n",
       "Name: PBF, Length: 503, dtype: object"
      ]
     },
     "execution_count": 27,
     "metadata": {},
     "output_type": "execute_result"
    }
   ],
   "source": [
    "# Object dtype column example\n",
    "datka['PBF']"
   ]
  },
  {
   "cell_type": "code",
   "execution_count": 28,
   "metadata": {},
   "outputs": [
    {
     "data": {
      "text/plain": [
       "Counter({dtype('O'): 666,\n",
       "         dtype('float64'): 834,\n",
       "         dtype('int64'): 337,\n",
       "         dtype('bool'): 2})"
      ]
     },
     "execution_count": 28,
     "metadata": {},
     "output_type": "execute_result"
    }
   ],
   "source": [
    "count(list(datka.dtypes))"
   ]
  },
  {
   "cell_type": "code",
   "execution_count": 29,
   "metadata": {},
   "outputs": [
    {
     "data": {
      "text/plain": [
       "(503, 1839)"
      ]
     },
     "execution_count": 29,
     "metadata": {},
     "output_type": "execute_result"
    }
   ],
   "source": [
    "datka.shape"
   ]
  },
  {
   "cell_type": "raw",
   "metadata": {},
   "source": [
    "Dataset Basic Cleaning\n",
    "\n",
    "1) Duplicated columns removed\n",
    "2) Columns with constant entries removed\n",
    "3) Columns were all values are None removed\n",
    "4) All columns with missing values do not belong to descriptors or smiles \n",
    "5) Rows with duplicated molecules removed "
   ]
  },
  {
   "cell_type": "code",
   "execution_count": 30,
   "metadata": {},
   "outputs": [],
   "source": [
    "# Drop non numeric object columns for now (dropped coumn names saved in a file, for further investigation)\n",
    "datka = datka.drop(obj_columns[7:],axis=1)\n",
    "\n",
    "#Remove exactly the same columns\n",
    "datka = datka.T.drop_duplicates().T\n",
    "\n",
    "#Remove exactly the same rows\n",
    "datka = datka.drop_duplicates()\n",
    "\n",
    "#remove columns with constant entries \n",
    "datka = datka.loc[:,datka.apply(pd.Series.nunique) != 1]\n",
    "\n",
    "#remove column if all values are None \n",
    "datka = datka.loc[:,datka.notnull().any()]\n"
   ]
  },
  {
   "cell_type": "code",
   "execution_count": 31,
   "metadata": {},
   "outputs": [
    {
     "data": {
      "text/plain": [
       "(501, 888)"
      ]
     },
     "execution_count": 31,
     "metadata": {},
     "output_type": "execute_result"
    }
   ],
   "source": [
    "datka.shape"
   ]
  },
  {
   "cell_type": "code",
   "execution_count": 32,
   "metadata": {},
   "outputs": [
    {
     "name": "stdout",
     "output_type": "stream",
     "text": [
      "Number of columns with missing values = 12\n"
     ]
    }
   ],
   "source": [
    "#Find number of columns with missing None (missing values)\n",
    "\n",
    "print('Number of columns with missing values = {}'.format(datka.isnull().any().sum()))"
   ]
  },
  {
   "cell_type": "code",
   "execution_count": 33,
   "metadata": {},
   "outputs": [
    {
     "name": "stdout",
     "output_type": "stream",
     "text": [
      "Column names with missing values = ['Compound Name', 'TARGET', 'PubChem', 'Source', 'Literature Source', 'RON_Molecules_x', 'Experiment', 'Data Set', 'Predicted', 'Absolute  Error', '#Name', 'RON']\n"
     ]
    }
   ],
   "source": [
    "print('Column names with missing values = {}'.format(list(datka.iloc[:,list(datka.isnull().any())])))"
   ]
  },
  {
   "cell_type": "code",
   "execution_count": 34,
   "metadata": {},
   "outputs": [
    {
     "data": {
      "text/plain": [
       "(501, 888)"
      ]
     },
     "execution_count": 34,
     "metadata": {},
     "output_type": "execute_result"
    }
   ],
   "source": [
    "datka.shape"
   ]
  },
  {
   "cell_type": "code",
   "execution_count": 35,
   "metadata": {},
   "outputs": [
    {
     "name": "stdout",
     "output_type": "stream",
     "text": [
      "Number of duplicated rows by Molecular SMILES = 9\n"
     ]
    },
    {
     "data": {
      "text/html": [
       "<div>\n",
       "<style scoped>\n",
       "    .dataframe tbody tr th:only-of-type {\n",
       "        vertical-align: middle;\n",
       "    }\n",
       "\n",
       "    .dataframe tbody tr th {\n",
       "        vertical-align: top;\n",
       "    }\n",
       "\n",
       "    .dataframe thead th {\n",
       "        text-align: right;\n",
       "    }\n",
       "</style>\n",
       "<table border=\"1\" class=\"dataframe\">\n",
       "  <thead>\n",
       "    <tr style=\"text-align: right;\">\n",
       "      <th></th>\n",
       "      <th>Compound Name</th>\n",
       "      <th>SMILES</th>\n",
       "      <th>TARGET</th>\n",
       "      <th>Experiment</th>\n",
       "      <th>RON</th>\n",
       "      <th>Data Set</th>\n",
       "    </tr>\n",
       "  </thead>\n",
       "  <tbody>\n",
       "    <tr>\n",
       "      <th>12</th>\n",
       "      <td>2-Methylbutane</td>\n",
       "      <td>CCC(C)C</td>\n",
       "      <td>92.3</td>\n",
       "      <td>92.3</td>\n",
       "      <td>93</td>\n",
       "      <td>Training</td>\n",
       "    </tr>\n",
       "    <tr>\n",
       "      <th>64</th>\n",
       "      <td>Hexane</td>\n",
       "      <td>CCCCCC</td>\n",
       "      <td>24.8</td>\n",
       "      <td>24.8</td>\n",
       "      <td>31</td>\n",
       "      <td>Training</td>\n",
       "    </tr>\n",
       "    <tr>\n",
       "      <th>99</th>\n",
       "      <td>2,2,4-trimethylpentane</td>\n",
       "      <td>CC(C)CC(C)(C)C</td>\n",
       "      <td>100</td>\n",
       "      <td>NaN</td>\n",
       "      <td>100</td>\n",
       "      <td>NaN</td>\n",
       "    </tr>\n",
       "    <tr>\n",
       "      <th>106</th>\n",
       "      <td>3,3-dimethylpentane</td>\n",
       "      <td>CCC(C)(C)CC</td>\n",
       "      <td>80.8</td>\n",
       "      <td>NaN</td>\n",
       "      <td>NaN</td>\n",
       "      <td>NaN</td>\n",
       "    </tr>\n",
       "    <tr>\n",
       "      <th>155</th>\n",
       "      <td>2,4-dimethyl-2-pentene</td>\n",
       "      <td>CC(C)C=C(C)C</td>\n",
       "      <td>100</td>\n",
       "      <td>NaN</td>\n",
       "      <td>100</td>\n",
       "      <td>NaN</td>\n",
       "    </tr>\n",
       "    <tr>\n",
       "      <th>193</th>\n",
       "      <td>n-Propylcyclohexane</td>\n",
       "      <td>CCCC1CCCCC1</td>\n",
       "      <td>17.8</td>\n",
       "      <td>17.8</td>\n",
       "      <td>17.8</td>\n",
       "      <td>Training</td>\n",
       "    </tr>\n",
       "    <tr>\n",
       "      <th>202</th>\n",
       "      <td>n-Propylcyclopentane</td>\n",
       "      <td>CCCC1CCCC1</td>\n",
       "      <td>31.2</td>\n",
       "      <td>31.2</td>\n",
       "      <td>31.2</td>\n",
       "      <td>Validation</td>\n",
       "    </tr>\n",
       "    <tr>\n",
       "      <th>361</th>\n",
       "      <td>NaN</td>\n",
       "      <td>Cc1ccc(o1)C</td>\n",
       "      <td>NaN</td>\n",
       "      <td>119</td>\n",
       "      <td>NaN</td>\n",
       "      <td>Training</td>\n",
       "    </tr>\n",
       "    <tr>\n",
       "      <th>501</th>\n",
       "      <td>NaN</td>\n",
       "      <td>CC</td>\n",
       "      <td>NaN</td>\n",
       "      <td>NaN</td>\n",
       "      <td>114.9</td>\n",
       "      <td>NaN</td>\n",
       "    </tr>\n",
       "  </tbody>\n",
       "</table>\n",
       "</div>"
      ],
      "text/plain": [
       "              Compound Name          SMILES TARGET Experiment    RON  \\\n",
       "12           2-Methylbutane         CCC(C)C   92.3       92.3     93   \n",
       "64                   Hexane          CCCCCC   24.8       24.8     31   \n",
       "99   2,2,4-trimethylpentane  CC(C)CC(C)(C)C    100        NaN    100   \n",
       "106     3,3-dimethylpentane     CCC(C)(C)CC   80.8        NaN    NaN   \n",
       "155  2,4-dimethyl-2-pentene    CC(C)C=C(C)C    100        NaN    100   \n",
       "193     n-Propylcyclohexane     CCCC1CCCCC1   17.8       17.8   17.8   \n",
       "202    n-Propylcyclopentane      CCCC1CCCC1   31.2       31.2   31.2   \n",
       "361                     NaN     Cc1ccc(o1)C    NaN        119    NaN   \n",
       "501                     NaN              CC    NaN        NaN  114.9   \n",
       "\n",
       "       Data Set  \n",
       "12     Training  \n",
       "64     Training  \n",
       "99          NaN  \n",
       "106         NaN  \n",
       "155         NaN  \n",
       "193    Training  \n",
       "202  Validation  \n",
       "361    Training  \n",
       "501         NaN  "
      ]
     },
     "execution_count": 35,
     "metadata": {},
     "output_type": "execute_result"
    }
   ],
   "source": [
    "print('Number of duplicated rows by Molecular SMILES = {}'.format(datka.duplicated(subset=['SMILES']).sum()))\n",
    "\n",
    "duplicated_smiles_columns = list(datka.duplicated(subset=['SMILES']))\n",
    "\n",
    "datka.iloc[duplicated_smiles_columns][['Compound Name','SMILES','TARGET','Experiment','RON','Data Set']]"
   ]
  },
  {
   "cell_type": "code",
   "execution_count": 36,
   "metadata": {},
   "outputs": [],
   "source": [
    "repeating_componuds = list(datka.iloc[duplicated_smiles_columns]['SMILES'])"
   ]
  },
  {
   "cell_type": "markdown",
   "metadata": {},
   "source": [
    "### Case by case inspection and removal of the 9 repeating compounds "
   ]
  },
  {
   "cell_type": "code",
   "execution_count": 37,
   "metadata": {},
   "outputs": [],
   "source": [
    "def diff_columns(n_compound):\n",
    "    #Returns rows columns\n",
    "    df               =  datka[datka['SMILES']==repeating_componuds[n_compound]]\n",
    "    idx              =  df.index\n",
    "    dif_idx          =  list(np.where((datka.iloc[idx[0],:].values == datka.iloc[idx[1],:].values)==False)[0])\n",
    "    dif_column_names =  [list(datka)[x] for x in dif_idx]\n",
    "\n",
    "    return df[['SMILES']+dif_column_names]"
   ]
  },
  {
   "cell_type": "markdown",
   "metadata": {},
   "source": [
    "##### 1) 2-Methylbutane  : CCC(C)C\t"
   ]
  },
  {
   "cell_type": "code",
   "execution_count": 38,
   "metadata": {},
   "outputs": [
    {
     "data": {
      "text/html": [
       "<div>\n",
       "<style scoped>\n",
       "    .dataframe tbody tr th:only-of-type {\n",
       "        vertical-align: middle;\n",
       "    }\n",
       "\n",
       "    .dataframe tbody tr th {\n",
       "        vertical-align: top;\n",
       "    }\n",
       "\n",
       "    .dataframe thead th {\n",
       "        text-align: right;\n",
       "    }\n",
       "</style>\n",
       "<table border=\"1\" class=\"dataframe\">\n",
       "  <thead>\n",
       "    <tr style=\"text-align: right;\">\n",
       "      <th></th>\n",
       "      <th>SMILES</th>\n",
       "      <th>#Name</th>\n",
       "      <th>RON</th>\n",
       "    </tr>\n",
       "  </thead>\n",
       "  <tbody>\n",
       "    <tr>\n",
       "      <th>11</th>\n",
       "      <td>CCC(C)C</td>\n",
       "      <td>2-Methylbutane</td>\n",
       "      <td>92.3</td>\n",
       "    </tr>\n",
       "    <tr>\n",
       "      <th>12</th>\n",
       "      <td>CCC(C)C</td>\n",
       "      <td>Methylbutane</td>\n",
       "      <td>93</td>\n",
       "    </tr>\n",
       "  </tbody>\n",
       "</table>\n",
       "</div>"
      ],
      "text/plain": [
       "     SMILES           #Name   RON\n",
       "11  CCC(C)C  2-Methylbutane  92.3\n",
       "12  CCC(C)C    Methylbutane    93"
      ]
     },
     "execution_count": 38,
     "metadata": {},
     "output_type": "execute_result"
    }
   ],
   "source": [
    "diff_columns(0)"
   ]
  },
  {
   "cell_type": "code",
   "execution_count": 39,
   "metadata": {},
   "outputs": [],
   "source": [
    "#  Reason  : Repeating SMILES entry in 'C:\\Users\\zcemg08\\PycharmProjects\\biofuels\\data\\RON.txt'\n",
    "# Decision: drop index [12]"
   ]
  },
  {
   "cell_type": "markdown",
   "metadata": {},
   "source": [
    "###### 2) Hexane: CCCCCC"
   ]
  },
  {
   "cell_type": "code",
   "execution_count": 40,
   "metadata": {},
   "outputs": [
    {
     "data": {
      "text/html": [
       "<div>\n",
       "<style scoped>\n",
       "    .dataframe tbody tr th:only-of-type {\n",
       "        vertical-align: middle;\n",
       "    }\n",
       "\n",
       "    .dataframe tbody tr th {\n",
       "        vertical-align: top;\n",
       "    }\n",
       "\n",
       "    .dataframe thead th {\n",
       "        text-align: right;\n",
       "    }\n",
       "</style>\n",
       "<table border=\"1\" class=\"dataframe\">\n",
       "  <thead>\n",
       "    <tr style=\"text-align: right;\">\n",
       "      <th></th>\n",
       "      <th>SMILES</th>\n",
       "      <th>#Name</th>\n",
       "      <th>RON</th>\n",
       "    </tr>\n",
       "  </thead>\n",
       "  <tbody>\n",
       "    <tr>\n",
       "      <th>63</th>\n",
       "      <td>CCCCCC</td>\n",
       "      <td>Hexane</td>\n",
       "      <td>24.8</td>\n",
       "    </tr>\n",
       "    <tr>\n",
       "      <th>64</th>\n",
       "      <td>CCCCCC</td>\n",
       "      <td>n-Hexane</td>\n",
       "      <td>31</td>\n",
       "    </tr>\n",
       "  </tbody>\n",
       "</table>\n",
       "</div>"
      ],
      "text/plain": [
       "    SMILES     #Name   RON\n",
       "63  CCCCCC    Hexane  24.8\n",
       "64  CCCCCC  n-Hexane    31"
      ]
     },
     "execution_count": 40,
     "metadata": {},
     "output_type": "execute_result"
    }
   ],
   "source": [
    "diff_columns(1)"
   ]
  },
  {
   "cell_type": "code",
   "execution_count": 41,
   "metadata": {},
   "outputs": [],
   "source": [
    "#  Reason   : Repeating SMILES entry in 'C:\\Users\\zcemg08\\PycharmProjects\\biofuels\\data\\RON.txt'\n",
    "#  Decision: drop index [64] (based on checked octane number)"
   ]
  },
  {
   "cell_type": "markdown",
   "metadata": {},
   "source": [
    "###### 3) 2,2,4-trimethylpentane\tCC(C)CC(C)(C)C"
   ]
  },
  {
   "cell_type": "code",
   "execution_count": 42,
   "metadata": {},
   "outputs": [
    {
     "data": {
      "text/html": [
       "<div>\n",
       "<style scoped>\n",
       "    .dataframe tbody tr th:only-of-type {\n",
       "        vertical-align: middle;\n",
       "    }\n",
       "\n",
       "    .dataframe tbody tr th {\n",
       "        vertical-align: top;\n",
       "    }\n",
       "\n",
       "    .dataframe thead th {\n",
       "        text-align: right;\n",
       "    }\n",
       "</style>\n",
       "<table border=\"1\" class=\"dataframe\">\n",
       "  <thead>\n",
       "    <tr style=\"text-align: right;\">\n",
       "      <th></th>\n",
       "      <th>SMILES</th>\n",
       "      <th>RON_Molecules_x</th>\n",
       "      <th>Experiment</th>\n",
       "      <th>Data Set</th>\n",
       "      <th>Predicted</th>\n",
       "      <th>Absolute  Error</th>\n",
       "      <th>#Name</th>\n",
       "    </tr>\n",
       "  </thead>\n",
       "  <tbody>\n",
       "    <tr>\n",
       "      <th>98</th>\n",
       "      <td>CC(C)CC(C)(C)C</td>\n",
       "      <td>NaN</td>\n",
       "      <td>NaN</td>\n",
       "      <td>NaN</td>\n",
       "      <td>NaN</td>\n",
       "      <td>NaN</td>\n",
       "      <td>2,2,4-trimethylpentane</td>\n",
       "    </tr>\n",
       "    <tr>\n",
       "      <th>99</th>\n",
       "      <td>CC(C)CC(C)(C)C</td>\n",
       "      <td>NaN</td>\n",
       "      <td>NaN</td>\n",
       "      <td>NaN</td>\n",
       "      <td>NaN</td>\n",
       "      <td>NaN</td>\n",
       "      <td>2,2,4-Trimethylpentane</td>\n",
       "    </tr>\n",
       "  </tbody>\n",
       "</table>\n",
       "</div>"
      ],
      "text/plain": [
       "            SMILES RON_Molecules_x Experiment Data Set Predicted  \\\n",
       "98  CC(C)CC(C)(C)C             NaN        NaN      NaN       NaN   \n",
       "99  CC(C)CC(C)(C)C             NaN        NaN      NaN       NaN   \n",
       "\n",
       "   Absolute  Error                   #Name  \n",
       "98             NaN  2,2,4-trimethylpentane  \n",
       "99             NaN  2,2,4-Trimethylpentane  "
      ]
     },
     "execution_count": 42,
     "metadata": {},
     "output_type": "execute_result"
    }
   ],
   "source": [
    "diff_columns(2)"
   ]
  },
  {
   "cell_type": "code",
   "execution_count": 43,
   "metadata": {},
   "outputs": [],
   "source": [
    "#  Reason   : Repeating SMILES entry in 'C:\\Users\\zcemg08\\PycharmProjects\\biofuels\\data\\RON.txt'\n",
    "#  Decision: drop index [98] (the difference is only in #Name spelling)"
   ]
  },
  {
   "cell_type": "markdown",
   "metadata": {},
   "source": [
    "###### 4) 3,3-dimethylpentane\tCCC(C)(C)CC"
   ]
  },
  {
   "cell_type": "code",
   "execution_count": 44,
   "metadata": {},
   "outputs": [
    {
     "data": {
      "text/html": [
       "<div>\n",
       "<style scoped>\n",
       "    .dataframe tbody tr th:only-of-type {\n",
       "        vertical-align: middle;\n",
       "    }\n",
       "\n",
       "    .dataframe tbody tr th {\n",
       "        vertical-align: top;\n",
       "    }\n",
       "\n",
       "    .dataframe thead th {\n",
       "        text-align: right;\n",
       "    }\n",
       "</style>\n",
       "<table border=\"1\" class=\"dataframe\">\n",
       "  <thead>\n",
       "    <tr style=\"text-align: right;\">\n",
       "      <th></th>\n",
       "      <th>SMILES</th>\n",
       "      <th>PubChem</th>\n",
       "      <th>Source</th>\n",
       "      <th>Literature Source</th>\n",
       "      <th>RON_Molecules_x</th>\n",
       "      <th>Experiment</th>\n",
       "      <th>Data Set</th>\n",
       "      <th>Predicted</th>\n",
       "      <th>Absolute  Error</th>\n",
       "      <th>#Name</th>\n",
       "      <th>RON</th>\n",
       "    </tr>\n",
       "  </thead>\n",
       "  <tbody>\n",
       "    <tr>\n",
       "      <th>105</th>\n",
       "      <td>CCC(C)(C)CC</td>\n",
       "      <td>11229</td>\n",
       "      <td>UML</td>\n",
       "      <td>[1]</td>\n",
       "      <td>NaN</td>\n",
       "      <td>NaN</td>\n",
       "      <td>NaN</td>\n",
       "      <td>NaN</td>\n",
       "      <td>NaN</td>\n",
       "      <td>NaN</td>\n",
       "      <td>NaN</td>\n",
       "    </tr>\n",
       "    <tr>\n",
       "      <th>106</th>\n",
       "      <td>CCC(C)(C)CC</td>\n",
       "      <td>9.11058e+07</td>\n",
       "      <td>Sandia</td>\n",
       "      <td>NaN</td>\n",
       "      <td>NaN</td>\n",
       "      <td>NaN</td>\n",
       "      <td>NaN</td>\n",
       "      <td>NaN</td>\n",
       "      <td>NaN</td>\n",
       "      <td>NaN</td>\n",
       "      <td>NaN</td>\n",
       "    </tr>\n",
       "  </tbody>\n",
       "</table>\n",
       "</div>"
      ],
      "text/plain": [
       "          SMILES      PubChem  Source Literature Source RON_Molecules_x  \\\n",
       "105  CCC(C)(C)CC        11229     UML               [1]             NaN   \n",
       "106  CCC(C)(C)CC  9.11058e+07  Sandia               NaN             NaN   \n",
       "\n",
       "    Experiment Data Set Predicted Absolute  Error #Name  RON  \n",
       "105        NaN      NaN       NaN             NaN   NaN  NaN  \n",
       "106        NaN      NaN       NaN             NaN   NaN  NaN  "
      ]
     },
     "execution_count": 44,
     "metadata": {},
     "output_type": "execute_result"
    }
   ],
   "source": [
    "diff_columns(3)"
   ]
  },
  {
   "cell_type": "code",
   "execution_count": 45,
   "metadata": {},
   "outputs": [],
   "source": [
    "#  Reason   : Repeating SMILES entry in 'C:\\Users\\zcemg08\\PycharmProjects\\biofuels\\data\\ron_database_v1.0.csv'\n",
    "#  the difference is only in PubChem id\n",
    "\n",
    "#  Decision: drop index [106] (no Literature source)"
   ]
  },
  {
   "cell_type": "markdown",
   "metadata": {},
   "source": [
    "##### 5) 2,4-dimethyl-2-pentene\tCC(C)C=C(C)C"
   ]
  },
  {
   "cell_type": "code",
   "execution_count": 46,
   "metadata": {},
   "outputs": [
    {
     "data": {
      "text/html": [
       "<div>\n",
       "<style scoped>\n",
       "    .dataframe tbody tr th:only-of-type {\n",
       "        vertical-align: middle;\n",
       "    }\n",
       "\n",
       "    .dataframe tbody tr th {\n",
       "        vertical-align: top;\n",
       "    }\n",
       "\n",
       "    .dataframe thead th {\n",
       "        text-align: right;\n",
       "    }\n",
       "</style>\n",
       "<table border=\"1\" class=\"dataframe\">\n",
       "  <thead>\n",
       "    <tr style=\"text-align: right;\">\n",
       "      <th></th>\n",
       "      <th>SMILES</th>\n",
       "      <th>RON_Molecules_x</th>\n",
       "      <th>Experiment</th>\n",
       "      <th>Data Set</th>\n",
       "      <th>Predicted</th>\n",
       "      <th>Absolute  Error</th>\n",
       "      <th>#Name</th>\n",
       "    </tr>\n",
       "  </thead>\n",
       "  <tbody>\n",
       "    <tr>\n",
       "      <th>154</th>\n",
       "      <td>CC(C)C=C(C)C</td>\n",
       "      <td>NaN</td>\n",
       "      <td>NaN</td>\n",
       "      <td>NaN</td>\n",
       "      <td>NaN</td>\n",
       "      <td>NaN</td>\n",
       "      <td>2,4-dimethyl-2-pentene</td>\n",
       "    </tr>\n",
       "    <tr>\n",
       "      <th>155</th>\n",
       "      <td>CC(C)C=C(C)C</td>\n",
       "      <td>NaN</td>\n",
       "      <td>NaN</td>\n",
       "      <td>NaN</td>\n",
       "      <td>NaN</td>\n",
       "      <td>NaN</td>\n",
       "      <td>2,4-Dimethyl-2-Pentene</td>\n",
       "    </tr>\n",
       "  </tbody>\n",
       "</table>\n",
       "</div>"
      ],
      "text/plain": [
       "           SMILES RON_Molecules_x Experiment Data Set Predicted  \\\n",
       "154  CC(C)C=C(C)C             NaN        NaN      NaN       NaN   \n",
       "155  CC(C)C=C(C)C             NaN        NaN      NaN       NaN   \n",
       "\n",
       "    Absolute  Error                   #Name  \n",
       "154             NaN  2,4-dimethyl-2-pentene  \n",
       "155             NaN  2,4-Dimethyl-2-Pentene  "
      ]
     },
     "execution_count": 46,
     "metadata": {},
     "output_type": "execute_result"
    }
   ],
   "source": [
    "diff_columns(4)"
   ]
  },
  {
   "cell_type": "code",
   "execution_count": 47,
   "metadata": {},
   "outputs": [],
   "source": [
    "#  Reason   : Repeating SMILES entry in 'C:\\Users\\zcemg08\\PycharmProjects\\biofuels\\data\\ron_database_v1.0.csv'\n",
    "#  the difference is only in #Name spelling \n",
    "\n",
    "#  Decision: drop index [155] "
   ]
  },
  {
   "cell_type": "markdown",
   "metadata": {},
   "source": [
    "##### 6) n-Propylcyclohexane\tCCCC1CCCCC1"
   ]
  },
  {
   "cell_type": "code",
   "execution_count": 48,
   "metadata": {},
   "outputs": [
    {
     "data": {
      "text/html": [
       "<div>\n",
       "<style scoped>\n",
       "    .dataframe tbody tr th:only-of-type {\n",
       "        vertical-align: middle;\n",
       "    }\n",
       "\n",
       "    .dataframe tbody tr th {\n",
       "        vertical-align: top;\n",
       "    }\n",
       "\n",
       "    .dataframe thead th {\n",
       "        text-align: right;\n",
       "    }\n",
       "</style>\n",
       "<table border=\"1\" class=\"dataframe\">\n",
       "  <thead>\n",
       "    <tr style=\"text-align: right;\">\n",
       "      <th></th>\n",
       "      <th>SMILES</th>\n",
       "      <th>#Name</th>\n",
       "    </tr>\n",
       "  </thead>\n",
       "  <tbody>\n",
       "    <tr>\n",
       "      <th>192</th>\n",
       "      <td>CCCC1CCCCC1</td>\n",
       "      <td>n-Propylcyclohexane</td>\n",
       "    </tr>\n",
       "    <tr>\n",
       "      <th>193</th>\n",
       "      <td>CCCC1CCCCC1</td>\n",
       "      <td>Propylcyclohexane</td>\n",
       "    </tr>\n",
       "  </tbody>\n",
       "</table>\n",
       "</div>"
      ],
      "text/plain": [
       "          SMILES                #Name\n",
       "192  CCCC1CCCCC1  n-Propylcyclohexane\n",
       "193  CCCC1CCCCC1    Propylcyclohexane"
      ]
     },
     "execution_count": 48,
     "metadata": {},
     "output_type": "execute_result"
    }
   ],
   "source": [
    "diff_columns(5)"
   ]
  },
  {
   "cell_type": "code",
   "execution_count": 49,
   "metadata": {},
   "outputs": [],
   "source": [
    "#  Reason   : Repeating SMILES entry in 'C:\\Users\\zcemg08\\PycharmProjects\\biofuels\\data\\ron_database_v1.0.csv'\n",
    "#  the difference is only in #Name spelling \n",
    "\n",
    "#  Decision: drop index [192] "
   ]
  },
  {
   "cell_type": "markdown",
   "metadata": {},
   "source": [
    "##### 7) n-Propylcyclopentane\tCCCC1CCCC1"
   ]
  },
  {
   "cell_type": "code",
   "execution_count": 50,
   "metadata": {},
   "outputs": [
    {
     "data": {
      "text/html": [
       "<div>\n",
       "<style scoped>\n",
       "    .dataframe tbody tr th:only-of-type {\n",
       "        vertical-align: middle;\n",
       "    }\n",
       "\n",
       "    .dataframe tbody tr th {\n",
       "        vertical-align: top;\n",
       "    }\n",
       "\n",
       "    .dataframe thead th {\n",
       "        text-align: right;\n",
       "    }\n",
       "</style>\n",
       "<table border=\"1\" class=\"dataframe\">\n",
       "  <thead>\n",
       "    <tr style=\"text-align: right;\">\n",
       "      <th></th>\n",
       "      <th>SMILES</th>\n",
       "      <th>#Name</th>\n",
       "    </tr>\n",
       "  </thead>\n",
       "  <tbody>\n",
       "    <tr>\n",
       "      <th>201</th>\n",
       "      <td>CCCC1CCCC1</td>\n",
       "      <td>n-Propylcyclopentane</td>\n",
       "    </tr>\n",
       "    <tr>\n",
       "      <th>202</th>\n",
       "      <td>CCCC1CCCC1</td>\n",
       "      <td>Propylcyclopentane</td>\n",
       "    </tr>\n",
       "  </tbody>\n",
       "</table>\n",
       "</div>"
      ],
      "text/plain": [
       "         SMILES                 #Name\n",
       "201  CCCC1CCCC1  n-Propylcyclopentane\n",
       "202  CCCC1CCCC1    Propylcyclopentane"
      ]
     },
     "execution_count": 50,
     "metadata": {},
     "output_type": "execute_result"
    }
   ],
   "source": [
    "diff_columns(6)"
   ]
  },
  {
   "cell_type": "code",
   "execution_count": 51,
   "metadata": {},
   "outputs": [],
   "source": [
    "#  Reason   : Repeating SMILES entry in 'C:\\Users\\zcemg08\\PycharmProjects\\biofuels\\data\\ron_database_v1.0.csv'\n",
    "#  the difference is only in #Name spelling \n",
    "\n",
    "#  Decision: drop index [201] "
   ]
  },
  {
   "cell_type": "markdown",
   "metadata": {},
   "source": [
    "##### 8) Cc1ccc(o1)C"
   ]
  },
  {
   "cell_type": "code",
   "execution_count": 52,
   "metadata": {},
   "outputs": [
    {
     "data": {
      "text/html": [
       "<div>\n",
       "<style scoped>\n",
       "    .dataframe tbody tr th:only-of-type {\n",
       "        vertical-align: middle;\n",
       "    }\n",
       "\n",
       "    .dataframe tbody tr th {\n",
       "        vertical-align: top;\n",
       "    }\n",
       "\n",
       "    .dataframe thead th {\n",
       "        text-align: right;\n",
       "    }\n",
       "</style>\n",
       "<table border=\"1\" class=\"dataframe\">\n",
       "  <thead>\n",
       "    <tr style=\"text-align: right;\">\n",
       "      <th></th>\n",
       "      <th>SMILES</th>\n",
       "      <th>SMILES</th>\n",
       "      <th>Compound Name</th>\n",
       "      <th>TARGET</th>\n",
       "      <th>PubChem</th>\n",
       "      <th>Source</th>\n",
       "      <th>Literature Source</th>\n",
       "      <th>RON_Molecules_x</th>\n",
       "      <th>Experiment</th>\n",
       "      <th>Predicted</th>\n",
       "      <th>...</th>\n",
       "      <th>SRW10</th>\n",
       "      <th>TSRW10</th>\n",
       "      <th>MW</th>\n",
       "      <th>AMW</th>\n",
       "      <th>WPath</th>\n",
       "      <th>WPol</th>\n",
       "      <th>Zagreb1</th>\n",
       "      <th>Zagreb2</th>\n",
       "      <th>mZagreb1</th>\n",
       "      <th>mZagreb2</th>\n",
       "    </tr>\n",
       "  </thead>\n",
       "  <tbody>\n",
       "    <tr>\n",
       "      <th>359</th>\n",
       "      <td>Cc1ccc(o1)C</td>\n",
       "      <td>Cc1ccc(o1)C</td>\n",
       "      <td>NaN</td>\n",
       "      <td>NaN</td>\n",
       "      <td>NaN</td>\n",
       "      <td>NaN</td>\n",
       "      <td>NaN</td>\n",
       "      <td>2,5-Dimethylfuran</td>\n",
       "      <td>119</td>\n",
       "      <td>118.9</td>\n",
       "      <td>...</td>\n",
       "      <td>8.20658</td>\n",
       "      <td>47.3825</td>\n",
       "      <td>96.0575</td>\n",
       "      <td>6.40383</td>\n",
       "      <td>41</td>\n",
       "      <td>4</td>\n",
       "      <td>32</td>\n",
       "      <td>34</td>\n",
       "      <td>2.97222</td>\n",
       "      <td>1.58333</td>\n",
       "    </tr>\n",
       "    <tr>\n",
       "      <th>361</th>\n",
       "      <td>Cc1ccc(o1)C</td>\n",
       "      <td>Cc1ccc(o1)C</td>\n",
       "      <td>NaN</td>\n",
       "      <td>NaN</td>\n",
       "      <td>NaN</td>\n",
       "      <td>NaN</td>\n",
       "      <td>NaN</td>\n",
       "      <td>2,5-dimethylfuran</td>\n",
       "      <td>119</td>\n",
       "      <td>118.9</td>\n",
       "      <td>...</td>\n",
       "      <td>8.20658</td>\n",
       "      <td>47.3825</td>\n",
       "      <td>96.0575</td>\n",
       "      <td>6.40383</td>\n",
       "      <td>41</td>\n",
       "      <td>4</td>\n",
       "      <td>32</td>\n",
       "      <td>34</td>\n",
       "      <td>2.97222</td>\n",
       "      <td>1.58333</td>\n",
       "    </tr>\n",
       "  </tbody>\n",
       "</table>\n",
       "<p>2 rows × 761 columns</p>\n",
       "</div>"
      ],
      "text/plain": [
       "          SMILES       SMILES Compound Name TARGET PubChem Source  \\\n",
       "359  Cc1ccc(o1)C  Cc1ccc(o1)C           NaN    NaN     NaN    NaN   \n",
       "361  Cc1ccc(o1)C  Cc1ccc(o1)C           NaN    NaN     NaN    NaN   \n",
       "\n",
       "    Literature Source    RON_Molecules_x Experiment Predicted  ...    SRW10  \\\n",
       "359               NaN  2,5-Dimethylfuran        119     118.9  ...  8.20658   \n",
       "361               NaN  2,5-dimethylfuran        119     118.9  ...  8.20658   \n",
       "\n",
       "      TSRW10       MW      AMW WPath WPol Zagreb1 Zagreb2 mZagreb1 mZagreb2  \n",
       "359  47.3825  96.0575  6.40383    41    4      32      34  2.97222  1.58333  \n",
       "361  47.3825  96.0575  6.40383    41    4      32      34  2.97222  1.58333  \n",
       "\n",
       "[2 rows x 761 columns]"
      ]
     },
     "execution_count": 52,
     "metadata": {},
     "output_type": "execute_result"
    }
   ],
   "source": [
    "diff_columns(7)"
   ]
  },
  {
   "cell_type": "code",
   "execution_count": 53,
   "metadata": {},
   "outputs": [],
   "source": [
    "#  Reason   : Repeating SMILES entry in ''C:\\Users\\zcemg08\\PycharmProjects\\biofuels\\data\\octane_data_multobj_paper.csv''\n",
    "#  the difference is only in #Name spelling \n",
    "\n",
    "#  Decision: drop index [359] "
   ]
  },
  {
   "cell_type": "markdown",
   "metadata": {},
   "source": [
    "##### 9) CC"
   ]
  },
  {
   "cell_type": "code",
   "execution_count": 54,
   "metadata": {},
   "outputs": [
    {
     "data": {
      "text/html": [
       "<div>\n",
       "<style scoped>\n",
       "    .dataframe tbody tr th:only-of-type {\n",
       "        vertical-align: middle;\n",
       "    }\n",
       "\n",
       "    .dataframe tbody tr th {\n",
       "        vertical-align: top;\n",
       "    }\n",
       "\n",
       "    .dataframe thead th {\n",
       "        text-align: right;\n",
       "    }\n",
       "</style>\n",
       "<table border=\"1\" class=\"dataframe\">\n",
       "  <thead>\n",
       "    <tr style=\"text-align: right;\">\n",
       "      <th></th>\n",
       "      <th>SMILES</th>\n",
       "      <th>SMILES</th>\n",
       "      <th>Compound Name</th>\n",
       "      <th>TARGET</th>\n",
       "      <th>PubChem</th>\n",
       "      <th>Source</th>\n",
       "      <th>Literature Source</th>\n",
       "      <th>RON_Molecules_x</th>\n",
       "      <th>Experiment</th>\n",
       "      <th>Data Set</th>\n",
       "      <th>...</th>\n",
       "      <th>SRW10</th>\n",
       "      <th>TSRW10</th>\n",
       "      <th>MW</th>\n",
       "      <th>AMW</th>\n",
       "      <th>WPath</th>\n",
       "      <th>WPol</th>\n",
       "      <th>Zagreb1</th>\n",
       "      <th>Zagreb2</th>\n",
       "      <th>mZagreb1</th>\n",
       "      <th>mZagreb2</th>\n",
       "    </tr>\n",
       "  </thead>\n",
       "  <tbody>\n",
       "    <tr>\n",
       "      <th>331</th>\n",
       "      <td>CC</td>\n",
       "      <td>CC</td>\n",
       "      <td>NaN</td>\n",
       "      <td>NaN</td>\n",
       "      <td>NaN</td>\n",
       "      <td>NaN</td>\n",
       "      <td>NaN</td>\n",
       "      <td>ETHANE</td>\n",
       "      <td>111.7</td>\n",
       "      <td>Training</td>\n",
       "      <td>...</td>\n",
       "      <td>1.09861</td>\n",
       "      <td>7.49306</td>\n",
       "      <td>30.047</td>\n",
       "      <td>3.75587</td>\n",
       "      <td>1</td>\n",
       "      <td>0</td>\n",
       "      <td>2</td>\n",
       "      <td>1</td>\n",
       "      <td>2</td>\n",
       "      <td>1</td>\n",
       "    </tr>\n",
       "    <tr>\n",
       "      <th>501</th>\n",
       "      <td>CC</td>\n",
       "      <td>CC</td>\n",
       "      <td>NaN</td>\n",
       "      <td>NaN</td>\n",
       "      <td>6324</td>\n",
       "      <td>NaN</td>\n",
       "      <td>NaN</td>\n",
       "      <td>NaN</td>\n",
       "      <td>NaN</td>\n",
       "      <td>NaN</td>\n",
       "      <td>...</td>\n",
       "      <td>1.09861</td>\n",
       "      <td>7.49306</td>\n",
       "      <td>30.047</td>\n",
       "      <td>3.75587</td>\n",
       "      <td>1</td>\n",
       "      <td>0</td>\n",
       "      <td>2</td>\n",
       "      <td>1</td>\n",
       "      <td>2</td>\n",
       "      <td>1</td>\n",
       "    </tr>\n",
       "  </tbody>\n",
       "</table>\n",
       "<p>2 rows × 722 columns</p>\n",
       "</div>"
      ],
      "text/plain": [
       "    SMILES SMILES Compound Name TARGET PubChem Source Literature Source  \\\n",
       "331     CC     CC           NaN    NaN     NaN    NaN               NaN   \n",
       "501     CC     CC           NaN    NaN    6324    NaN               NaN   \n",
       "\n",
       "    RON_Molecules_x Experiment  Data Set  ...    SRW10   TSRW10      MW  \\\n",
       "331          ETHANE      111.7  Training  ...  1.09861  7.49306  30.047   \n",
       "501             NaN        NaN       NaN  ...  1.09861  7.49306  30.047   \n",
       "\n",
       "         AMW WPath WPol Zagreb1 Zagreb2 mZagreb1 mZagreb2  \n",
       "331  3.75587     1    0       2       1        2        1  \n",
       "501  3.75587     1    0       2       1        2        1  \n",
       "\n",
       "[2 rows x 722 columns]"
      ]
     },
     "execution_count": 54,
     "metadata": {},
     "output_type": "execute_result"
    }
   ],
   "source": [
    "dif_idx = list(np.where((datka.iloc[331,:].values == datka.iloc[500,:].values)==False)[0])\n",
    "dif_column_names = [list(datka)[x] for x in dif_idx]\n",
    "datka[datka['SMILES']==repeating_componuds[8]][['SMILES']+dif_column_names]"
   ]
  },
  {
   "cell_type": "code",
   "execution_count": 55,
   "metadata": {},
   "outputs": [],
   "source": [
    "#the same SMILES entry from 'C:\\Users\\zcemg08\\PycharmProjects\\biofuels\\data\\octane_data_multobj_paper.csv' \n",
    "#                        and C:\\Users\\zcemg08\\PycharmProjects\\biofuels\\data\\RON.txt ''' \n",
    " \n",
    "\n",
    "#  Decision: remove 501, since it has less other data"
   ]
  },
  {
   "cell_type": "code",
   "execution_count": 56,
   "metadata": {},
   "outputs": [
    {
     "name": "stdout",
     "output_type": "stream",
     "text": [
      "Number of smiles duplicates = 0\n"
     ]
    }
   ],
   "source": [
    "remove_index = [12,64,98,106,155,192,201,359,501]\n",
    "datka        = datka.drop(remove_index)\n",
    "\n",
    "'''Check if smiles duplicatres still present'''\n",
    "\n",
    "print('Number of smiles duplicates = {}'.format(datka.duplicated(subset=['SMILES']).sum()))"
   ]
  },
  {
   "cell_type": "code",
   "execution_count": 57,
   "metadata": {},
   "outputs": [
    {
     "name": "stdout",
     "output_type": "stream",
     "text": [
      "Dataset size = 492\n"
     ]
    },
    {
     "data": {
      "text/html": [
       "<div>\n",
       "<style scoped>\n",
       "    .dataframe tbody tr th:only-of-type {\n",
       "        vertical-align: middle;\n",
       "    }\n",
       "\n",
       "    .dataframe tbody tr th {\n",
       "        vertical-align: top;\n",
       "    }\n",
       "\n",
       "    .dataframe thead th {\n",
       "        text-align: right;\n",
       "    }\n",
       "</style>\n",
       "<table border=\"1\" class=\"dataframe\">\n",
       "  <thead>\n",
       "    <tr style=\"text-align: right;\">\n",
       "      <th></th>\n",
       "      <th>SMILES</th>\n",
       "      <th>Compound Name</th>\n",
       "      <th>TARGET</th>\n",
       "      <th>PubChem</th>\n",
       "      <th>Source</th>\n",
       "      <th>Literature Source</th>\n",
       "      <th>RON_Molecules_x</th>\n",
       "      <th>Experiment</th>\n",
       "      <th>Data Set</th>\n",
       "      <th>Predicted</th>\n",
       "      <th>...</th>\n",
       "      <th>SRW10</th>\n",
       "      <th>TSRW10</th>\n",
       "      <th>MW</th>\n",
       "      <th>AMW</th>\n",
       "      <th>WPath</th>\n",
       "      <th>WPol</th>\n",
       "      <th>Zagreb1</th>\n",
       "      <th>Zagreb2</th>\n",
       "      <th>mZagreb1</th>\n",
       "      <th>mZagreb2</th>\n",
       "    </tr>\n",
       "  </thead>\n",
       "  <tbody>\n",
       "    <tr>\n",
       "      <th>500</th>\n",
       "      <td>CCC(C)(C)CC=C</td>\n",
       "      <td>NaN</td>\n",
       "      <td>NaN</td>\n",
       "      <td>137136</td>\n",
       "      <td>NaN</td>\n",
       "      <td>NaN</td>\n",
       "      <td>NaN</td>\n",
       "      <td>NaN</td>\n",
       "      <td>NaN</td>\n",
       "      <td>NaN</td>\n",
       "      <td>...</td>\n",
       "      <td>8.38594</td>\n",
       "      <td>35.2488</td>\n",
       "      <td>112.125</td>\n",
       "      <td>4.67188</td>\n",
       "      <td>67</td>\n",
       "      <td>7</td>\n",
       "      <td>32</td>\n",
       "      <td>32</td>\n",
       "      <td>4.8125</td>\n",
       "      <td>2</td>\n",
       "    </tr>\n",
       "    <tr>\n",
       "      <th>502</th>\n",
       "      <td>CCCCCCCC</td>\n",
       "      <td>NaN</td>\n",
       "      <td>NaN</td>\n",
       "      <td>356</td>\n",
       "      <td>NaN</td>\n",
       "      <td>NaN</td>\n",
       "      <td>NaN</td>\n",
       "      <td>NaN</td>\n",
       "      <td>NaN</td>\n",
       "      <td>NaN</td>\n",
       "      <td>...</td>\n",
       "      <td>7.12689</td>\n",
       "      <td>32.1876</td>\n",
       "      <td>114.141</td>\n",
       "      <td>4.39003</td>\n",
       "      <td>84</td>\n",
       "      <td>5</td>\n",
       "      <td>26</td>\n",
       "      <td>24</td>\n",
       "      <td>3.5</td>\n",
       "      <td>2.25</td>\n",
       "    </tr>\n",
       "  </tbody>\n",
       "</table>\n",
       "<p>2 rows × 888 columns</p>\n",
       "</div>"
      ],
      "text/plain": [
       "            SMILES Compound Name TARGET PubChem Source Literature Source  \\\n",
       "500  CCC(C)(C)CC=C           NaN    NaN  137136    NaN               NaN   \n",
       "502       CCCCCCCC           NaN    NaN     356    NaN               NaN   \n",
       "\n",
       "    RON_Molecules_x Experiment Data Set Predicted  ...    SRW10   TSRW10  \\\n",
       "500             NaN        NaN      NaN       NaN  ...  8.38594  35.2488   \n",
       "502             NaN        NaN      NaN       NaN  ...  7.12689  32.1876   \n",
       "\n",
       "          MW      AMW WPath WPol Zagreb1 Zagreb2 mZagreb1 mZagreb2  \n",
       "500  112.125  4.67188    67    7      32      32   4.8125        2  \n",
       "502  114.141  4.39003    84    5      26      24      3.5     2.25  \n",
       "\n",
       "[2 rows x 888 columns]"
      ]
     },
     "execution_count": 57,
     "metadata": {},
     "output_type": "execute_result"
    }
   ],
   "source": [
    "print('Dataset size = {}'.format(len(datka)))\n",
    "datka.tail(2)"
   ]
  },
  {
   "cell_type": "code",
   "execution_count": 58,
   "metadata": {},
   "outputs": [],
   "source": [
    "# Reset DataFrame indecies to match the number of rows in the dataset\n",
    "datka.reset_index(drop=True, inplace=True)"
   ]
  },
  {
   "cell_type": "code",
   "execution_count": 59,
   "metadata": {},
   "outputs": [
    {
     "data": {
      "text/html": [
       "<div>\n",
       "<style scoped>\n",
       "    .dataframe tbody tr th:only-of-type {\n",
       "        vertical-align: middle;\n",
       "    }\n",
       "\n",
       "    .dataframe tbody tr th {\n",
       "        vertical-align: top;\n",
       "    }\n",
       "\n",
       "    .dataframe thead th {\n",
       "        text-align: right;\n",
       "    }\n",
       "</style>\n",
       "<table border=\"1\" class=\"dataframe\">\n",
       "  <thead>\n",
       "    <tr style=\"text-align: right;\">\n",
       "      <th></th>\n",
       "      <th>SMILES</th>\n",
       "      <th>Compound Name</th>\n",
       "      <th>TARGET</th>\n",
       "      <th>PubChem</th>\n",
       "      <th>Source</th>\n",
       "      <th>Literature Source</th>\n",
       "      <th>RON_Molecules_x</th>\n",
       "      <th>Experiment</th>\n",
       "      <th>Data Set</th>\n",
       "      <th>Predicted</th>\n",
       "      <th>...</th>\n",
       "      <th>SRW10</th>\n",
       "      <th>TSRW10</th>\n",
       "      <th>MW</th>\n",
       "      <th>AMW</th>\n",
       "      <th>WPath</th>\n",
       "      <th>WPol</th>\n",
       "      <th>Zagreb1</th>\n",
       "      <th>Zagreb2</th>\n",
       "      <th>mZagreb1</th>\n",
       "      <th>mZagreb2</th>\n",
       "    </tr>\n",
       "  </thead>\n",
       "  <tbody>\n",
       "    <tr>\n",
       "      <th>490</th>\n",
       "      <td>CCC(C)(C)CC=C</td>\n",
       "      <td>NaN</td>\n",
       "      <td>NaN</td>\n",
       "      <td>137136</td>\n",
       "      <td>NaN</td>\n",
       "      <td>NaN</td>\n",
       "      <td>NaN</td>\n",
       "      <td>NaN</td>\n",
       "      <td>NaN</td>\n",
       "      <td>NaN</td>\n",
       "      <td>...</td>\n",
       "      <td>8.38594</td>\n",
       "      <td>35.2488</td>\n",
       "      <td>112.125</td>\n",
       "      <td>4.67188</td>\n",
       "      <td>67</td>\n",
       "      <td>7</td>\n",
       "      <td>32</td>\n",
       "      <td>32</td>\n",
       "      <td>4.8125</td>\n",
       "      <td>2</td>\n",
       "    </tr>\n",
       "    <tr>\n",
       "      <th>491</th>\n",
       "      <td>CCCCCCCC</td>\n",
       "      <td>NaN</td>\n",
       "      <td>NaN</td>\n",
       "      <td>356</td>\n",
       "      <td>NaN</td>\n",
       "      <td>NaN</td>\n",
       "      <td>NaN</td>\n",
       "      <td>NaN</td>\n",
       "      <td>NaN</td>\n",
       "      <td>NaN</td>\n",
       "      <td>...</td>\n",
       "      <td>7.12689</td>\n",
       "      <td>32.1876</td>\n",
       "      <td>114.141</td>\n",
       "      <td>4.39003</td>\n",
       "      <td>84</td>\n",
       "      <td>5</td>\n",
       "      <td>26</td>\n",
       "      <td>24</td>\n",
       "      <td>3.5</td>\n",
       "      <td>2.25</td>\n",
       "    </tr>\n",
       "  </tbody>\n",
       "</table>\n",
       "<p>2 rows × 888 columns</p>\n",
       "</div>"
      ],
      "text/plain": [
       "            SMILES Compound Name TARGET PubChem Source Literature Source  \\\n",
       "490  CCC(C)(C)CC=C           NaN    NaN  137136    NaN               NaN   \n",
       "491       CCCCCCCC           NaN    NaN     356    NaN               NaN   \n",
       "\n",
       "    RON_Molecules_x Experiment Data Set Predicted  ...    SRW10   TSRW10  \\\n",
       "490             NaN        NaN      NaN       NaN  ...  8.38594  35.2488   \n",
       "491             NaN        NaN      NaN       NaN  ...  7.12689  32.1876   \n",
       "\n",
       "          MW      AMW WPath WPol Zagreb1 Zagreb2 mZagreb1 mZagreb2  \n",
       "490  112.125  4.67188    67    7      32      32   4.8125        2  \n",
       "491  114.141  4.39003    84    5      26      24      3.5     2.25  \n",
       "\n",
       "[2 rows x 888 columns]"
      ]
     },
     "execution_count": 59,
     "metadata": {},
     "output_type": "execute_result"
    }
   ],
   "source": [
    "## Check the tail of the dataset after reindexing\n",
    "datka.tail(2)"
   ]
  },
  {
   "cell_type": "markdown",
   "metadata": {},
   "source": [
    "### Pubchem ID duplicates inspection "
   ]
  },
  {
   "cell_type": "code",
   "execution_count": 60,
   "metadata": {},
   "outputs": [],
   "source": [
    "# Fill None PubChem values with zeros \n",
    "\n",
    "datka['PubChem'] = datka['PubChem'].fillna(0).astype(int)"
   ]
  },
  {
   "cell_type": "code",
   "execution_count": 61,
   "metadata": {},
   "outputs": [
    {
     "name": "stdout",
     "output_type": "stream",
     "text": [
      "Number of PubChem ID duplicates = 157\n"
     ]
    }
   ],
   "source": [
    "print('Number of PubChem ID duplicates = {}'.format(datka.duplicated(subset=['PubChem']).sum()))"
   ]
  },
  {
   "cell_type": "code",
   "execution_count": 62,
   "metadata": {},
   "outputs": [
    {
     "data": {
      "text/html": [
       "<div>\n",
       "<style scoped>\n",
       "    .dataframe tbody tr th:only-of-type {\n",
       "        vertical-align: middle;\n",
       "    }\n",
       "\n",
       "    .dataframe tbody tr th {\n",
       "        vertical-align: top;\n",
       "    }\n",
       "\n",
       "    .dataframe thead th {\n",
       "        text-align: right;\n",
       "    }\n",
       "</style>\n",
       "<table border=\"1\" class=\"dataframe\">\n",
       "  <thead>\n",
       "    <tr style=\"text-align: right;\">\n",
       "      <th></th>\n",
       "      <th>SMILES</th>\n",
       "      <th>Compound Name</th>\n",
       "      <th>TARGET</th>\n",
       "      <th>PubChem</th>\n",
       "      <th>Source</th>\n",
       "      <th>Literature Source</th>\n",
       "      <th>RON_Molecules_x</th>\n",
       "      <th>Experiment</th>\n",
       "      <th>Data Set</th>\n",
       "      <th>Predicted</th>\n",
       "      <th>...</th>\n",
       "      <th>SRW10</th>\n",
       "      <th>TSRW10</th>\n",
       "      <th>MW</th>\n",
       "      <th>AMW</th>\n",
       "      <th>WPath</th>\n",
       "      <th>WPol</th>\n",
       "      <th>Zagreb1</th>\n",
       "      <th>Zagreb2</th>\n",
       "      <th>mZagreb1</th>\n",
       "      <th>mZagreb2</th>\n",
       "    </tr>\n",
       "  </thead>\n",
       "  <tbody>\n",
       "    <tr>\n",
       "      <th>307</th>\n",
       "      <td>CCCCc1ccccc1</td>\n",
       "      <td>NaN</td>\n",
       "      <td>NaN</td>\n",
       "      <td>0</td>\n",
       "      <td>NaN</td>\n",
       "      <td>NaN</td>\n",
       "      <td>n-Butylbenzene</td>\n",
       "      <td>104.4</td>\n",
       "      <td>Training</td>\n",
       "      <td>100.58</td>\n",
       "      <td>...</td>\n",
       "      <td>8.43837</td>\n",
       "      <td>38.1303</td>\n",
       "      <td>134.11</td>\n",
       "      <td>5.5879</td>\n",
       "      <td>133</td>\n",
       "      <td>9</td>\n",
       "      <td>42</td>\n",
       "      <td>44</td>\n",
       "      <td>3.11111</td>\n",
       "      <td>2.5</td>\n",
       "    </tr>\n",
       "    <tr>\n",
       "      <th>308</th>\n",
       "      <td>Cc1c(C)ccc(c1C)C</td>\n",
       "      <td>NaN</td>\n",
       "      <td>NaN</td>\n",
       "      <td>0</td>\n",
       "      <td>NaN</td>\n",
       "      <td>NaN</td>\n",
       "      <td>1,2,3,4-Tetramethylbenzene</td>\n",
       "      <td>105.3</td>\n",
       "      <td>Training</td>\n",
       "      <td>107.59</td>\n",
       "      <td>...</td>\n",
       "      <td>9.12271</td>\n",
       "      <td>39.8432</td>\n",
       "      <td>134.11</td>\n",
       "      <td>5.5879</td>\n",
       "      <td>109</td>\n",
       "      <td>14</td>\n",
       "      <td>48</td>\n",
       "      <td>55</td>\n",
       "      <td>4.94444</td>\n",
       "      <td>2.25</td>\n",
       "    </tr>\n",
       "    <tr>\n",
       "      <th>309</th>\n",
       "      <td>CCCCCc1ccccc1</td>\n",
       "      <td>NaN</td>\n",
       "      <td>NaN</td>\n",
       "      <td>0</td>\n",
       "      <td>NaN</td>\n",
       "      <td>NaN</td>\n",
       "      <td>1-Phenylpentane</td>\n",
       "      <td>89.2</td>\n",
       "      <td>Training</td>\n",
       "      <td>89.73</td>\n",
       "      <td>...</td>\n",
       "      <td>8.49147</td>\n",
       "      <td>39.5045</td>\n",
       "      <td>148.125</td>\n",
       "      <td>5.48612</td>\n",
       "      <td>182</td>\n",
       "      <td>10</td>\n",
       "      <td>46</td>\n",
       "      <td>48</td>\n",
       "      <td>3.36111</td>\n",
       "      <td>2.75</td>\n",
       "    </tr>\n",
       "    <tr>\n",
       "      <th>310</th>\n",
       "      <td>C=CCc1ccccc1C</td>\n",
       "      <td>NaN</td>\n",
       "      <td>NaN</td>\n",
       "      <td>0</td>\n",
       "      <td>NaN</td>\n",
       "      <td>NaN</td>\n",
       "      <td>1-Methyl-2-allylbenzene</td>\n",
       "      <td>98.6</td>\n",
       "      <td>Training</td>\n",
       "      <td>101.42</td>\n",
       "      <td>...</td>\n",
       "      <td>8.74688</td>\n",
       "      <td>38.855</td>\n",
       "      <td>132.094</td>\n",
       "      <td>6.00427</td>\n",
       "      <td>121</td>\n",
       "      <td>11</td>\n",
       "      <td>44</td>\n",
       "      <td>48</td>\n",
       "      <td>3.72222</td>\n",
       "      <td>2.44444</td>\n",
       "    </tr>\n",
       "    <tr>\n",
       "      <th>311</th>\n",
       "      <td>C1CCc2c(C1)cccc2</td>\n",
       "      <td>NaN</td>\n",
       "      <td>NaN</td>\n",
       "      <td>0</td>\n",
       "      <td>NaN</td>\n",
       "      <td>NaN</td>\n",
       "      <td>1,2,3,4-Tetrahydronaphthalene</td>\n",
       "      <td>96.4</td>\n",
       "      <td>Training</td>\n",
       "      <td>102.26</td>\n",
       "      <td>...</td>\n",
       "      <td>9.06682</td>\n",
       "      <td>39.8565</td>\n",
       "      <td>132.094</td>\n",
       "      <td>6.00427</td>\n",
       "      <td>109</td>\n",
       "      <td>12</td>\n",
       "      <td>50</td>\n",
       "      <td>57</td>\n",
       "      <td>2.22222</td>\n",
       "      <td>2.27778</td>\n",
       "    </tr>\n",
       "    <tr>\n",
       "      <th>...</th>\n",
       "      <td>...</td>\n",
       "      <td>...</td>\n",
       "      <td>...</td>\n",
       "      <td>...</td>\n",
       "      <td>...</td>\n",
       "      <td>...</td>\n",
       "      <td>...</td>\n",
       "      <td>...</td>\n",
       "      <td>...</td>\n",
       "      <td>...</td>\n",
       "      <td>...</td>\n",
       "      <td>...</td>\n",
       "      <td>...</td>\n",
       "      <td>...</td>\n",
       "      <td>...</td>\n",
       "      <td>...</td>\n",
       "      <td>...</td>\n",
       "      <td>...</td>\n",
       "      <td>...</td>\n",
       "      <td>...</td>\n",
       "      <td>...</td>\n",
       "    </tr>\n",
       "    <tr>\n",
       "      <th>460</th>\n",
       "      <td>[C@@H]1(C)[C@@H](C)CCC[C@H]1C</td>\n",
       "      <td>NaN</td>\n",
       "      <td>NaN</td>\n",
       "      <td>0</td>\n",
       "      <td>NaN</td>\n",
       "      <td>NaN</td>\n",
       "      <td>1,2,3-Trimethylcyclohexane (cis,trans,cis)</td>\n",
       "      <td>83.4</td>\n",
       "      <td>Test</td>\n",
       "      <td>80.9</td>\n",
       "      <td>...</td>\n",
       "      <td>8.87613</td>\n",
       "      <td>37.9756</td>\n",
       "      <td>126.141</td>\n",
       "      <td>4.67188</td>\n",
       "      <td>82</td>\n",
       "      <td>11</td>\n",
       "      <td>42</td>\n",
       "      <td>47</td>\n",
       "      <td>4.08333</td>\n",
       "      <td>2.05556</td>\n",
       "    </tr>\n",
       "    <tr>\n",
       "      <th>461</th>\n",
       "      <td>CC(C1CCCCC1)(C)C</td>\n",
       "      <td>NaN</td>\n",
       "      <td>NaN</td>\n",
       "      <td>0</td>\n",
       "      <td>NaN</td>\n",
       "      <td>NaN</td>\n",
       "      <td>tert-Butylcyclohexane</td>\n",
       "      <td>98.5</td>\n",
       "      <td>Outliers</td>\n",
       "      <td>NaN</td>\n",
       "      <td>...</td>\n",
       "      <td>9.03133</td>\n",
       "      <td>39.6832</td>\n",
       "      <td>140.157</td>\n",
       "      <td>4.67188</td>\n",
       "      <td>114</td>\n",
       "      <td>11</td>\n",
       "      <td>48</td>\n",
       "      <td>52</td>\n",
       "      <td>4.42361</td>\n",
       "      <td>2.16667</td>\n",
       "    </tr>\n",
       "    <tr>\n",
       "      <th>462</th>\n",
       "      <td>CCC(C1CCCCC1)(C)C</td>\n",
       "      <td>NaN</td>\n",
       "      <td>NaN</td>\n",
       "      <td>0</td>\n",
       "      <td>NaN</td>\n",
       "      <td>NaN</td>\n",
       "      <td>tert-Amylcyclohexane</td>\n",
       "      <td>90.4</td>\n",
       "      <td>Outliers</td>\n",
       "      <td>NaN</td>\n",
       "      <td>...</td>\n",
       "      <td>9.15936</td>\n",
       "      <td>41.1737</td>\n",
       "      <td>154.172</td>\n",
       "      <td>4.67188</td>\n",
       "      <td>150</td>\n",
       "      <td>14</td>\n",
       "      <td>52</td>\n",
       "      <td>58</td>\n",
       "      <td>4.67361</td>\n",
       "      <td>2.54167</td>\n",
       "    </tr>\n",
       "    <tr>\n",
       "      <th>463</th>\n",
       "      <td>C1=CC2C(C1)C1C=CC2C1</td>\n",
       "      <td>NaN</td>\n",
       "      <td>NaN</td>\n",
       "      <td>0</td>\n",
       "      <td>NaN</td>\n",
       "      <td>NaN</td>\n",
       "      <td>Dicyclopentadiene</td>\n",
       "      <td>107.4</td>\n",
       "      <td>Outliers</td>\n",
       "      <td>NaN</td>\n",
       "      <td>...</td>\n",
       "      <td>9.53568</td>\n",
       "      <td>58.3528</td>\n",
       "      <td>132.094</td>\n",
       "      <td>6.00427</td>\n",
       "      <td>98</td>\n",
       "      <td>10</td>\n",
       "      <td>60</td>\n",
       "      <td>75</td>\n",
       "      <td>1.94444</td>\n",
       "      <td>2.08333</td>\n",
       "    </tr>\n",
       "    <tr>\n",
       "      <th>464</th>\n",
       "      <td>CCCCCCCCC(C)C</td>\n",
       "      <td>NaN</td>\n",
       "      <td>NaN</td>\n",
       "      <td>0</td>\n",
       "      <td>NaN</td>\n",
       "      <td>NaN</td>\n",
       "      <td>2-Methyldecane</td>\n",
       "      <td>0</td>\n",
       "      <td>Outliers</td>\n",
       "      <td>NaN</td>\n",
       "      <td>...</td>\n",
       "      <td>7.83241</td>\n",
       "      <td>37.8436</td>\n",
       "      <td>156.188</td>\n",
       "      <td>4.46251</td>\n",
       "      <td>212</td>\n",
       "      <td>8</td>\n",
       "      <td>40</td>\n",
       "      <td>38</td>\n",
       "      <td>4.86111</td>\n",
       "      <td>2.83333</td>\n",
       "    </tr>\n",
       "  </tbody>\n",
       "</table>\n",
       "<p>158 rows × 888 columns</p>\n",
       "</div>"
      ],
      "text/plain": [
       "                            SMILES Compound Name TARGET  PubChem Source  \\\n",
       "307                   CCCCc1ccccc1           NaN    NaN        0    NaN   \n",
       "308               Cc1c(C)ccc(c1C)C           NaN    NaN        0    NaN   \n",
       "309                  CCCCCc1ccccc1           NaN    NaN        0    NaN   \n",
       "310                  C=CCc1ccccc1C           NaN    NaN        0    NaN   \n",
       "311               C1CCc2c(C1)cccc2           NaN    NaN        0    NaN   \n",
       "..                             ...           ...    ...      ...    ...   \n",
       "460  [C@@H]1(C)[C@@H](C)CCC[C@H]1C           NaN    NaN        0    NaN   \n",
       "461               CC(C1CCCCC1)(C)C           NaN    NaN        0    NaN   \n",
       "462              CCC(C1CCCCC1)(C)C           NaN    NaN        0    NaN   \n",
       "463           C1=CC2C(C1)C1C=CC2C1           NaN    NaN        0    NaN   \n",
       "464                 CCCCCCCCC(C)C            NaN    NaN        0    NaN   \n",
       "\n",
       "    Literature Source                             RON_Molecules_x Experiment  \\\n",
       "307               NaN                              n-Butylbenzene      104.4   \n",
       "308               NaN                  1,2,3,4-Tetramethylbenzene      105.3   \n",
       "309               NaN                             1-Phenylpentane       89.2   \n",
       "310               NaN                     1-Methyl-2-allylbenzene       98.6   \n",
       "311               NaN               1,2,3,4-Tetrahydronaphthalene       96.4   \n",
       "..                ...                                         ...        ...   \n",
       "460               NaN  1,2,3-Trimethylcyclohexane (cis,trans,cis)       83.4   \n",
       "461               NaN                       tert-Butylcyclohexane       98.5   \n",
       "462               NaN                        tert-Amylcyclohexane       90.4   \n",
       "463               NaN                           Dicyclopentadiene      107.4   \n",
       "464               NaN                              2-Methyldecane          0   \n",
       "\n",
       "     Data Set Predicted  ...    SRW10   TSRW10       MW      AMW WPath WPol  \\\n",
       "307  Training    100.58  ...  8.43837  38.1303   134.11   5.5879   133    9   \n",
       "308  Training    107.59  ...  9.12271  39.8432   134.11   5.5879   109   14   \n",
       "309  Training     89.73  ...  8.49147  39.5045  148.125  5.48612   182   10   \n",
       "310  Training    101.42  ...  8.74688   38.855  132.094  6.00427   121   11   \n",
       "311  Training    102.26  ...  9.06682  39.8565  132.094  6.00427   109   12   \n",
       "..        ...       ...  ...      ...      ...      ...      ...   ...  ...   \n",
       "460      Test      80.9  ...  8.87613  37.9756  126.141  4.67188    82   11   \n",
       "461  Outliers       NaN  ...  9.03133  39.6832  140.157  4.67188   114   11   \n",
       "462  Outliers       NaN  ...  9.15936  41.1737  154.172  4.67188   150   14   \n",
       "463  Outliers       NaN  ...  9.53568  58.3528  132.094  6.00427    98   10   \n",
       "464  Outliers       NaN  ...  7.83241  37.8436  156.188  4.46251   212    8   \n",
       "\n",
       "    Zagreb1 Zagreb2 mZagreb1 mZagreb2  \n",
       "307      42      44  3.11111      2.5  \n",
       "308      48      55  4.94444     2.25  \n",
       "309      46      48  3.36111     2.75  \n",
       "310      44      48  3.72222  2.44444  \n",
       "311      50      57  2.22222  2.27778  \n",
       "..      ...     ...      ...      ...  \n",
       "460      42      47  4.08333  2.05556  \n",
       "461      48      52  4.42361  2.16667  \n",
       "462      52      58  4.67361  2.54167  \n",
       "463      60      75  1.94444  2.08333  \n",
       "464      40      38  4.86111  2.83333  \n",
       "\n",
       "[158 rows x 888 columns]"
      ]
     },
     "execution_count": 62,
     "metadata": {},
     "output_type": "execute_result"
    }
   ],
   "source": [
    "# All pubchem duplicates belong to the subset of datasource [1], where the pubchem ids were not given\n",
    "\n",
    "datka[datka['PubChem']==0]"
   ]
  },
  {
   "cell_type": "markdown",
   "metadata": {},
   "source": [
    "### Octane number different sources distribution"
   ]
  },
  {
   "cell_type": "markdown",
   "metadata": {},
   "source": [
    "#### T=1 E=1 R=1"
   ]
  },
  {
   "cell_type": "code",
   "execution_count": 102,
   "metadata": {},
   "outputs": [],
   "source": [
    "columns = ['SMILES','TARGET','Experiment','RON']\n",
    "\n",
    "'''\n",
    "Experiment - ron values from data source [1]\n",
    "Target     - ron values from data source [2]\n",
    "RON        - ron values from data source [3]\n",
    "'''\n",
    "\n",
    "### T=1 E=1 R=1 ### \n",
    "### The case where all 3 equal to zero is excluded for numerical calculations reasons \n",
    "\n",
    "df_111 = datka[(datka['TARGET'].notnull()) & (datka['Experiment'].notnull()) & (datka['RON'].notnull()) & (datka['TARGET']!=0)][columns]"
   ]
  },
  {
   "cell_type": "code",
   "execution_count": 115,
   "metadata": {},
   "outputs": [
    {
     "data": {
      "text/plain": [
       "(63, 5)"
      ]
     },
     "execution_count": 115,
     "metadata": {},
     "output_type": "execute_result"
    }
   ],
   "source": [
    "df_111.shape"
   ]
  },
  {
   "cell_type": "code",
   "execution_count": 111,
   "metadata": {},
   "outputs": [
    {
     "data": {
      "text/plain": [
       "<matplotlib.lines.Line2D at 0x1ad7d84c400>"
      ]
     },
     "execution_count": 111,
     "metadata": {},
     "output_type": "execute_result"
    },
    {
     "data": {
      "image/png": "[encoded data removed]",
      "text/plain": [
       "<Figure size 432x288 with 1 Axes>"
      ]
     },
     "metadata": {
      "needs_background": "light"
     },
     "output_type": "display_data"
    }
   ],
   "source": [
    "df_111['dev'] = abs(df_111['TARGET']-(df_111['TARGET']+df_111['Experiment']+df_111['Experiment'])/3)/df_111['TARGET']\n",
    "df_111['dev'].hist()\n",
    "# Find lower 10% max value\n",
    "max_10_percent_val = np.sort(df_111['dev'].values)[-int(len(df_111)/10):][0]\n",
    "plt.axvline(max_10_percent_val, color='k', linestyle='dashed', linewidth=1)"
   ]
  },
  {
   "cell_type": "code",
   "execution_count": 112,
   "metadata": {},
   "outputs": [
    {
     "data": {
      "text/html": [
       "<div>\n",
       "<style scoped>\n",
       "    .dataframe tbody tr th:only-of-type {\n",
       "        vertical-align: middle;\n",
       "    }\n",
       "\n",
       "    .dataframe tbody tr th {\n",
       "        vertical-align: top;\n",
       "    }\n",
       "\n",
       "    .dataframe thead th {\n",
       "        text-align: right;\n",
       "    }\n",
       "</style>\n",
       "<table border=\"1\" class=\"dataframe\">\n",
       "  <thead>\n",
       "    <tr style=\"text-align: right;\">\n",
       "      <th></th>\n",
       "      <th>SMILES</th>\n",
       "      <th>TARGET</th>\n",
       "      <th>Experiment</th>\n",
       "      <th>RON</th>\n",
       "      <th>dev</th>\n",
       "    </tr>\n",
       "  </thead>\n",
       "  <tbody>\n",
       "    <tr>\n",
       "      <th>153</th>\n",
       "      <td>CCCCC=C(C)C</td>\n",
       "      <td>83.6</td>\n",
       "      <td>75.9</td>\n",
       "      <td>79.8</td>\n",
       "      <td>0.0614035</td>\n",
       "    </tr>\n",
       "    <tr>\n",
       "      <th>216</th>\n",
       "      <td>CC1CCC(C1)(C)C</td>\n",
       "      <td>81.7</td>\n",
       "      <td>87.7</td>\n",
       "      <td>81.7</td>\n",
       "      <td>0.0489596</td>\n",
       "    </tr>\n",
       "    <tr>\n",
       "      <th>104</th>\n",
       "      <td>CCC(=C)C</td>\n",
       "      <td>98.3</td>\n",
       "      <td>102.5</td>\n",
       "      <td>98.3</td>\n",
       "      <td>0.0284842</td>\n",
       "    </tr>\n",
       "    <tr>\n",
       "      <th>266</th>\n",
       "      <td>CCC1CCCCCC1</td>\n",
       "      <td>28</td>\n",
       "      <td>29</td>\n",
       "      <td>28</td>\n",
       "      <td>0.0238095</td>\n",
       "    </tr>\n",
       "    <tr>\n",
       "      <th>57</th>\n",
       "      <td>CCCC=C</td>\n",
       "      <td>87.9</td>\n",
       "      <td>90.9</td>\n",
       "      <td>87.9</td>\n",
       "      <td>0.0227531</td>\n",
       "    </tr>\n",
       "    <tr>\n",
       "      <th>186</th>\n",
       "      <td>CCC1CCCCC1</td>\n",
       "      <td>46.5</td>\n",
       "      <td>45.6</td>\n",
       "      <td>46.5</td>\n",
       "      <td>0.0129032</td>\n",
       "    </tr>\n",
       "  </tbody>\n",
       "</table>\n",
       "</div>"
      ],
      "text/plain": [
       "             SMILES TARGET Experiment   RON        dev\n",
       "153     CCCCC=C(C)C   83.6       75.9  79.8  0.0614035\n",
       "216  CC1CCC(C1)(C)C   81.7       87.7  81.7  0.0489596\n",
       "104        CCC(=C)C   98.3      102.5  98.3  0.0284842\n",
       "266     CCC1CCCCCC1     28         29    28  0.0238095\n",
       "57           CCCC=C   87.9       90.9  87.9  0.0227531\n",
       "186      CCC1CCCCC1   46.5       45.6  46.5  0.0129032"
      ]
     },
     "execution_count": 112,
     "metadata": {},
     "output_type": "execute_result"
    }
   ],
   "source": [
    "# Printed values to the left of the \n",
    "df_111.sort_values(by=['dev'],ascending=False).head(int(len(df_111)/10))"
   ]
  },
  {
   "cell_type": "code",
   "execution_count": 116,
   "metadata": {},
   "outputs": [],
   "source": [
    "########################### Decision for molecules to the RIGHT of dashed line ############################\n",
    "\n",
    "#153 CCCCC=C(C)C     - 79.8 (RON -[3] data source value), since its a mean betwen [1] and [2]\n",
    "#216 CC1CCC(C1)(C)C\t - 81.7 (RON)\n",
    "#104 CCC(=C)C        - 98.3 (RON)\n",
    "#266 CCC1CCCCCC1     - 28   (RON)\n",
    "#57  CCCC=C          - 87.9 (RON)\n",
    "#186 CCC1CCCCC1      - 46.5 (RON)\n",
    "\n",
    "########################### Decision for molecules to the LEFT of dashed line ############################\n",
    "\n",
    "# all octane numbers from (TARGET)"
   ]
  },
  {
   "cell_type": "markdown",
   "metadata": {},
   "source": [
    "#### T=1 E=1 R=1"
   ]
  },
  {
   "cell_type": "code",
   "execution_count": null,
   "metadata": {},
   "outputs": [],
   "source": []
  },
  {
   "cell_type": "code",
   "execution_count": null,
   "metadata": {},
   "outputs": [],
   "source": []
  },
  {
   "cell_type": "code",
   "execution_count": null,
   "metadata": {},
   "outputs": [],
   "source": [
    "X_train_validate = df_octane[df_octane['Data Set'].isin(['Training','Validation'])][descriptors].values\n",
    "Y_train_validate = df_octane[df_octane['Data Set'].isin(['Training','Validation'])]['Exeriment'].values\n",
    "\n",
    "scaler.fit(X_train_validate)\n",
    "\n",
    "X_train_validate = scaler.transform(X_train_validate)\n",
    "\n",
    "\n",
    "X_test = df_octane[df_octane['Data Set'] == 'Test'][descriptors].values\n",
    "\n",
    "X_test = scaler.transform(X_test)\n",
    "Y_test = df_octane[df_octane['Data Set'] == 'Test']['Exeriment'].values"
   ]
  },
  {
   "cell_type": "code",
   "execution_count": null,
   "metadata": {},
   "outputs": [],
   "source": [
    "reg = SVR(gamma='auto')\n",
    "\n",
    "\n",
    "# Build step forward feature selection\n",
    "sfs1 = sfs(reg,\n",
    "           k_features=25,\n",
    "           forward=True,\n",
    "           floating=False,\n",
    "           verbose=0,\n",
    "           scoring='neg_mean_squared_error',\n",
    "           cv=10)\n",
    "\n",
    "# Perform SFFS\n",
    "sfs1 = sfs1.fit(X_train_validate, Y_train_validate)\n",
    "\n",
    "index = np.array(sfs1.k_feature_idx_)\n",
    "selected_features = np.take(descriptors,index)\n"
   ]
  },
  {
   "cell_type": "code",
   "execution_count": null,
   "metadata": {},
   "outputs": [],
   "source": [
    "index = np.array(sfs1.k_feature_idx_)\n",
    "np.take(np.array(descriptors),index)"
   ]
  },
  {
   "cell_type": "code",
   "execution_count": null,
   "metadata": {},
   "outputs": [],
   "source": [
    "selected_features = np.take(np.array(descriptors),index)"
   ]
  },
  {
   "cell_type": "code",
   "execution_count": null,
   "metadata": {},
   "outputs": [],
   "source": [
    "selected_features"
   ]
  },
  {
   "cell_type": "code",
   "execution_count": null,
   "metadata": {},
   "outputs": [],
   "source": [
    "X_train_validate = df_octane[df_octane['Data Set'].isin(['Training','Validation'])][selected_features].values\n",
    "X_train_validate = scaler.fit_transform(X_train_validate)"
   ]
  },
  {
   "cell_type": "code",
   "execution_count": null,
   "metadata": {},
   "outputs": [],
   "source": [
    "reg = SVR()\n",
    "\n",
    "space  = [Real(10**-3, 10**3,\"log-uniform\", name='C'),\n",
    "          Real(10**-3, 10**-1,\"log-uniform\", name='gamma'),\n",
    "         Real(0.03,0.4,name='epsilon')]\n",
    "\n",
    "@use_named_args(space)\n",
    "def objective(**params):\n",
    "    reg.set_params(**params)\n",
    "\n",
    "    return -np.mean(cross_val_score(reg, X_train_validate, Y_train_validate, cv=10, n_jobs=-1,\n",
    "                                    scoring=\"neg_mean_squared_error\"))\n",
    "\n",
    "res_gp = gp_minimize(objective, space, n_calls=50, random_state=0, n_random_starts=5)"
   ]
  },
  {
   "cell_type": "code",
   "execution_count": null,
   "metadata": {},
   "outputs": [],
   "source": [
    "plot_convergence(res_gp)"
   ]
  },
  {
   "cell_type": "code",
   "execution_count": null,
   "metadata": {},
   "outputs": [],
   "source": [
    "reg.C = res_gp.x[0]\n",
    "reg.gamma = res_gp.x[1]\n",
    "reg.epsilon = res_gp.x[2]\n",
    "\n",
    "reg.fit(X_train_validate,Y_train_validate)"
   ]
  },
  {
   "cell_type": "code",
   "execution_count": null,
   "metadata": {},
   "outputs": [],
   "source": [
    "X_train_validate.shape"
   ]
  },
  {
   "cell_type": "code",
   "execution_count": null,
   "metadata": {},
   "outputs": [],
   "source": [
    "print ('RMSE = {}'.format(np.sqrt(mean_squared_error(Y_train_validate, reg.predict(X_train_validate)))))\n",
    "print ('R2 = {}'.format(r2_score(reg.predict(X_train_validate),Y_train_validate)))\n",
    "print ('AAE = {}'.format(mean_absolute_error(reg.predict(X_train_validate),Y_train_validate)))\n"
   ]
  },
  {
   "cell_type": "code",
   "execution_count": null,
   "metadata": {},
   "outputs": [],
   "source": [
    "X_test = df_octane[df_octane['Data Set']== 'Test'][selected_features].values\n",
    "X_test = scaler.transform(X_test)"
   ]
  },
  {
   "cell_type": "code",
   "execution_count": null,
   "metadata": {},
   "outputs": [],
   "source": [
    "print ('RMSE = {}'.format(np.sqrt(mean_squared_error(Y_test, reg.predict(X_test)))))\n",
    "print ('R2 = {}'.format(r2_score(reg.predict(X_test),Y_test)))\n",
    "print ('AAE = {}'.format(mean_absolute_error(reg.predict(X_test),Y_test)))"
   ]
  },
  {
   "cell_type": "code",
   "execution_count": null,
   "metadata": {},
   "outputs": [],
   "source": [
    "plt.scatter(reg.predict(X_test),Y_test)\n",
    "\n",
    "x = np.linspace(45,120)\n",
    "y = x\n",
    "\n",
    "plt.plot(x, y, '-r', label='ideal')\n",
    "plt.show()"
   ]
  },
  {
   "cell_type": "code",
   "execution_count": null,
   "metadata": {},
   "outputs": [],
   "source": [
    "plt.scatter(reg.predict(X_train_validate),Y_train_validate)\n",
    "\n",
    "x = np.linspace(0,140)\n",
    "y = x\n",
    "\n",
    "plt.plot(x, y, '-r', label='ideal')\n",
    "plt.show()"
   ]
  },
  {
   "cell_type": "code",
   "execution_count": null,
   "metadata": {},
   "outputs": [],
   "source": [
    "type(calc)"
   ]
  },
  {
   "cell_type": "code",
   "execution_count": null,
   "metadata": {},
   "outputs": [],
   "source": [
    "selected_features"
   ]
  },
  {
   "cell_type": "code",
   "execution_count": null,
   "metadata": {},
   "outputs": [],
   "source": [
    "#calc = Calculator(descriptors, ignore_3D=False)\n",
    "mols = [Chem.MolFromSmiles(smi) for smi in ['CC1CCC(=O)O1','CNC1=CC=CC=C1']]\n",
    "df_descriptors = calc.pandas(mols)"
   ]
  },
  {
   "cell_type": "code",
   "execution_count": null,
   "metadata": {
    "scrolled": true
   },
   "outputs": [],
   "source": [
    "#calc = Calculator(descriptors, ignore_3D=False)\n",
    "mols = [Chem.MolFromSmiles(smi) for smi in ['CCCC(C)CC','CC(C)(C)C=C']]\n",
    "df_descriptors = calc.pandas(mols)"
   ]
  },
  {
   "cell_type": "code",
   "execution_count": null,
   "metadata": {},
   "outputs": [],
   "source": [
    "x_test_compound = df_descriptors[selected_features]"
   ]
  },
  {
   "cell_type": "code",
   "execution_count": null,
   "metadata": {},
   "outputs": [],
   "source": [
    "x_test_compound.shape"
   ]
  },
  {
   "cell_type": "code",
   "execution_count": null,
   "metadata": {},
   "outputs": [],
   "source": [
    "x_test_compound = scaler.transform(x_test_compound)"
   ]
  },
  {
   "cell_type": "code",
   "execution_count": null,
   "metadata": {},
   "outputs": [],
   "source": [
    "reg.predict(x_test_compound)"
   ]
  },
  {
   "cell_type": "code",
   "execution_count": null,
   "metadata": {},
   "outputs": [],
   "source": []
  }
 ],
 "metadata": {
  "kernelspec": {
   "display_name": "biofuel",
   "language": "python",
   "name": "biofuel"
  },
  "language_info": {
   "codemirror_mode": {
    "name": "ipython",
    "version": 3
   },
   "file_extension": ".py",
   "mimetype": "text/x-python",
   "name": "python",
   "nbconvert_exporter": "python",
   "pygments_lexer": "ipython3",
   "version": "3.6.12"
  }
 },
 "nbformat": 4,
 "nbformat_minor": 2
}
