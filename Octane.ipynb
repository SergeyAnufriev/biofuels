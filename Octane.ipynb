{
 "cells": [
  {
   "cell_type": "code",
   "execution_count": 1,
   "metadata": {},
   "outputs": [],
   "source": [
    "import pandas as pd\n",
    "import numpy as np\n",
    "import pubchempy as pcp\n",
    "from mordred import Calculator, descriptors\n",
    "from rdkit import Chem\n",
    "from sklearn.preprocessing import StandardScaler\n",
    "from sklearn.svm import SVR\n",
    "from mlxtend.feature_selection import SequentialFeatureSelector as sfs\n",
    "\n",
    "from skopt.space import Real, Integer\n",
    "from skopt.utils import use_named_args\n",
    "from skopt import gp_minimize\n",
    "from sklearn.model_selection import cross_val_score\n",
    "from skopt.plots import plot_convergence\n",
    "from sklearn.metrics import mean_squared_error\n",
    "\n",
    "from sklearn.metrics import mean_squared_error,r2_score,mean_absolute_error\n",
    "from matplotlib import pyplot as plt"
   ]
  },
  {
   "cell_type": "code",
   "execution_count": 2,
   "metadata": {},
   "outputs": [],
   "source": [
    "scaler = StandardScaler()"
   ]
  },
  {
   "cell_type": "code",
   "execution_count": 3,
   "metadata": {},
   "outputs": [],
   "source": [
    "df = pd.read_csv(r'C:\\Users\\zcemg08\\Desktop\\important\\RON_database_for_EF.csv',encoding=\"cp1252\")\n",
    "\n",
    "##### df - dataset to compare predictions with\n",
    "df = df.dropna(axis = 0)\n",
    "ron = pd.read_csv(r'C:\\Users\\zcemg08\\Desktop\\algo\\ron_database_v1.0.csv',low_memory=False)\n",
    "ron.columns = ron.iloc[0].values\n",
    "ron = ron.drop(0,axis=0)\n",
    "ron = ron[['Compound Name','PubChem CID','TARGET','SMILES']]\n",
    "ron_biocompound = pd.read_table(r'C:\\Users\\zcemg08\\Desktop\\algo\\RON.txt')\n",
    "df_merged = df.merge(ron,on=['SMILES'],how='left')\n",
    "\n",
    "ans = pd.read_csv(r'C:\\Users\\zcemg08\\Desktop\\algo\\RON_database_for_EF.csv')"
   ]
  },
  {
   "cell_type": "code",
   "execution_count": 4,
   "metadata": {},
   "outputs": [],
   "source": [
    "df = df.merge(ans,on=['SMILES'],how='left')\n",
    "col = ['RON_Molecules_x','SMILES','Data Set','Exeriment']\n",
    "df = df[col]"
   ]
  },
  {
   "cell_type": "code",
   "execution_count": 5,
   "metadata": {},
   "outputs": [
    {
     "data": {
      "text/html": [
       "<div>\n",
       "<style scoped>\n",
       "    .dataframe tbody tr th:only-of-type {\n",
       "        vertical-align: middle;\n",
       "    }\n",
       "\n",
       "    .dataframe tbody tr th {\n",
       "        vertical-align: top;\n",
       "    }\n",
       "\n",
       "    .dataframe thead th {\n",
       "        text-align: right;\n",
       "    }\n",
       "</style>\n",
       "<table border=\"1\" class=\"dataframe\">\n",
       "  <thead>\n",
       "    <tr style=\"text-align: right;\">\n",
       "      <th></th>\n",
       "      <th>RON_Molecules_x</th>\n",
       "      <th>SMILES</th>\n",
       "      <th>Data Set</th>\n",
       "      <th>Exeriment</th>\n",
       "    </tr>\n",
       "  </thead>\n",
       "  <tbody>\n",
       "    <tr>\n",
       "      <td>0</td>\n",
       "      <td>n-Butylbenzene</td>\n",
       "      <td>CCCCc1ccccc1</td>\n",
       "      <td>Training</td>\n",
       "      <td>104.4</td>\n",
       "    </tr>\n",
       "    <tr>\n",
       "      <td>1</td>\n",
       "      <td>1,2,3,4-Tetramethylbenzene</td>\n",
       "      <td>Cc1c(C)ccc(c1C)C</td>\n",
       "      <td>Training</td>\n",
       "      <td>105.3</td>\n",
       "    </tr>\n",
       "    <tr>\n",
       "      <td>2</td>\n",
       "      <td>1-Phenylpentane</td>\n",
       "      <td>CCCCCc1ccccc1</td>\n",
       "      <td>Training</td>\n",
       "      <td>89.2</td>\n",
       "    </tr>\n",
       "    <tr>\n",
       "      <td>3</td>\n",
       "      <td>1-Methyl-2-allylbenzene</td>\n",
       "      <td>C=CCc1ccccc1C</td>\n",
       "      <td>Training</td>\n",
       "      <td>98.6</td>\n",
       "    </tr>\n",
       "    <tr>\n",
       "      <td>4</td>\n",
       "      <td>1,2,3,4-Tetrahydronaphthalene</td>\n",
       "      <td>C1CCc2c(C1)cccc2</td>\n",
       "      <td>Training</td>\n",
       "      <td>96.4</td>\n",
       "    </tr>\n",
       "  </tbody>\n",
       "</table>\n",
       "</div>"
      ],
      "text/plain": [
       "                 RON_Molecules_x            SMILES  Data Set  Exeriment\n",
       "0                 n-Butylbenzene      CCCCc1ccccc1  Training      104.4\n",
       "1     1,2,3,4-Tetramethylbenzene  Cc1c(C)ccc(c1C)C  Training      105.3\n",
       "2                1-Phenylpentane     CCCCCc1ccccc1  Training       89.2\n",
       "3        1-Methyl-2-allylbenzene     C=CCc1ccccc1C  Training       98.6\n",
       "4  1,2,3,4-Tetrahydronaphthalene  C1CCc2c(C1)cccc2  Training       96.4"
      ]
     },
     "execution_count": 5,
     "metadata": {},
     "output_type": "execute_result"
    }
   ],
   "source": [
    "df.head(5)"
   ]
  },
  {
   "cell_type": "code",
   "execution_count": 6,
   "metadata": {},
   "outputs": [
    {
     "name": "stderr",
     "output_type": "stream",
     "text": [
      "100%|██████████| 276/276 [00:22<00:00, 12.27it/s]\n"
     ]
    }
   ],
   "source": [
    "calc = Calculator(descriptors, ignore_3D=False)\n",
    "mols = [Chem.MolFromSmiles(smi) for smi in list(df['SMILES'].values)]\n",
    "df_descriptors = calc.pandas(mols)"
   ]
  },
  {
   "cell_type": "code",
   "execution_count": 7,
   "metadata": {},
   "outputs": [],
   "source": [
    "df_descriptors = df_descriptors.loc[:, (df_descriptors != df_descriptors.iloc[0]).any()] \n",
    "df_descriptors = df_descriptors.loc[:,~df_descriptors.columns.duplicated()]\n",
    "df_descriptors = df_descriptors.dropna(axis=1, how='all')\n",
    "\n",
    "df_descriptors = df_descriptors._get_numeric_data()"
   ]
  },
  {
   "cell_type": "code",
   "execution_count": 8,
   "metadata": {},
   "outputs": [],
   "source": [
    "df_octane = pd.concat([df,df_descriptors],axis=1)"
   ]
  },
  {
   "cell_type": "code",
   "execution_count": 10,
   "metadata": {},
   "outputs": [
    {
     "data": {
      "text/html": [
       "<div>\n",
       "<style scoped>\n",
       "    .dataframe tbody tr th:only-of-type {\n",
       "        vertical-align: middle;\n",
       "    }\n",
       "\n",
       "    .dataframe tbody tr th {\n",
       "        vertical-align: top;\n",
       "    }\n",
       "\n",
       "    .dataframe thead th {\n",
       "        text-align: right;\n",
       "    }\n",
       "</style>\n",
       "<table border=\"1\" class=\"dataframe\">\n",
       "  <thead>\n",
       "    <tr style=\"text-align: right;\">\n",
       "      <th></th>\n",
       "      <th>RON_Molecules_x</th>\n",
       "      <th>SMILES</th>\n",
       "      <th>Data Set</th>\n",
       "      <th>Exeriment</th>\n",
       "      <th>ABC</th>\n",
       "      <th>ABCGG</th>\n",
       "      <th>SpAbs_A</th>\n",
       "      <th>SpMax_A</th>\n",
       "      <th>SpDiam_A</th>\n",
       "      <th>SpAD_A</th>\n",
       "      <th>...</th>\n",
       "      <th>SRW10</th>\n",
       "      <th>TSRW10</th>\n",
       "      <th>MW</th>\n",
       "      <th>AMW</th>\n",
       "      <th>WPath</th>\n",
       "      <th>WPol</th>\n",
       "      <th>Zagreb1</th>\n",
       "      <th>Zagreb2</th>\n",
       "      <th>mZagreb1</th>\n",
       "      <th>mZagreb2</th>\n",
       "    </tr>\n",
       "  </thead>\n",
       "  <tbody>\n",
       "    <tr>\n",
       "      <td>0</td>\n",
       "      <td>n-Butylbenzene</td>\n",
       "      <td>CCCCc1ccccc1</td>\n",
       "      <td>Training</td>\n",
       "      <td>104.4</td>\n",
       "      <td>7.071068</td>\n",
       "      <td>6.547760</td>\n",
       "      <td>12.932143</td>\n",
       "      <td>2.154341</td>\n",
       "      <td>4.308683</td>\n",
       "      <td>12.932143</td>\n",
       "      <td>...</td>\n",
       "      <td>8.438366</td>\n",
       "      <td>38.130322</td>\n",
       "      <td>134.109550</td>\n",
       "      <td>5.587898</td>\n",
       "      <td>133</td>\n",
       "      <td>9</td>\n",
       "      <td>42.0</td>\n",
       "      <td>44.0</td>\n",
       "      <td>3.111111</td>\n",
       "      <td>2.500000</td>\n",
       "    </tr>\n",
       "    <tr>\n",
       "      <td>1</td>\n",
       "      <td>1,2,3,4-Tetramethylbenzene</td>\n",
       "      <td>Cc1c(C)ccc(c1C)C</td>\n",
       "      <td>Training</td>\n",
       "      <td>105.3</td>\n",
       "      <td>7.387307</td>\n",
       "      <td>7.212008</td>\n",
       "      <td>12.250296</td>\n",
       "      <td>2.318014</td>\n",
       "      <td>4.636027</td>\n",
       "      <td>12.250296</td>\n",
       "      <td>...</td>\n",
       "      <td>9.122711</td>\n",
       "      <td>39.843188</td>\n",
       "      <td>134.109550</td>\n",
       "      <td>5.587898</td>\n",
       "      <td>109</td>\n",
       "      <td>14</td>\n",
       "      <td>48.0</td>\n",
       "      <td>55.0</td>\n",
       "      <td>4.944444</td>\n",
       "      <td>2.250000</td>\n",
       "    </tr>\n",
       "    <tr>\n",
       "      <td>2</td>\n",
       "      <td>1-Phenylpentane</td>\n",
       "      <td>CCCCCc1ccccc1</td>\n",
       "      <td>Training</td>\n",
       "      <td>89.2</td>\n",
       "      <td>7.778175</td>\n",
       "      <td>7.057066</td>\n",
       "      <td>13.983360</td>\n",
       "      <td>2.156639</td>\n",
       "      <td>4.313279</td>\n",
       "      <td>13.983360</td>\n",
       "      <td>...</td>\n",
       "      <td>8.491465</td>\n",
       "      <td>39.504541</td>\n",
       "      <td>148.125201</td>\n",
       "      <td>5.486119</td>\n",
       "      <td>182</td>\n",
       "      <td>10</td>\n",
       "      <td>46.0</td>\n",
       "      <td>48.0</td>\n",
       "      <td>3.361111</td>\n",
       "      <td>2.750000</td>\n",
       "    </tr>\n",
       "    <tr>\n",
       "      <td>3</td>\n",
       "      <td>1-Methyl-2-allylbenzene</td>\n",
       "      <td>C=CCc1ccccc1C</td>\n",
       "      <td>Training</td>\n",
       "      <td>98.6</td>\n",
       "      <td>7.140017</td>\n",
       "      <td>6.833492</td>\n",
       "      <td>12.527715</td>\n",
       "      <td>2.230994</td>\n",
       "      <td>4.461989</td>\n",
       "      <td>12.527715</td>\n",
       "      <td>...</td>\n",
       "      <td>8.746875</td>\n",
       "      <td>38.855012</td>\n",
       "      <td>132.093900</td>\n",
       "      <td>6.004268</td>\n",
       "      <td>121</td>\n",
       "      <td>11</td>\n",
       "      <td>44.0</td>\n",
       "      <td>48.0</td>\n",
       "      <td>3.722222</td>\n",
       "      <td>2.444444</td>\n",
       "    </tr>\n",
       "    <tr>\n",
       "      <td>4</td>\n",
       "      <td>1,2,3,4-Tetrahydronaphthalene</td>\n",
       "      <td>C1CCc2c(C1)cccc2</td>\n",
       "      <td>Training</td>\n",
       "      <td>96.4</td>\n",
       "      <td>7.737734</td>\n",
       "      <td>6.634763</td>\n",
       "      <td>13.683239</td>\n",
       "      <td>2.302776</td>\n",
       "      <td>4.605551</td>\n",
       "      <td>13.683239</td>\n",
       "      <td>...</td>\n",
       "      <td>9.066816</td>\n",
       "      <td>39.856521</td>\n",
       "      <td>132.093900</td>\n",
       "      <td>6.004268</td>\n",
       "      <td>109</td>\n",
       "      <td>12</td>\n",
       "      <td>50.0</td>\n",
       "      <td>57.0</td>\n",
       "      <td>2.222222</td>\n",
       "      <td>2.277778</td>\n",
       "    </tr>\n",
       "    <tr>\n",
       "      <td>...</td>\n",
       "      <td>...</td>\n",
       "      <td>...</td>\n",
       "      <td>...</td>\n",
       "      <td>...</td>\n",
       "      <td>...</td>\n",
       "      <td>...</td>\n",
       "      <td>...</td>\n",
       "      <td>...</td>\n",
       "      <td>...</td>\n",
       "      <td>...</td>\n",
       "      <td>...</td>\n",
       "      <td>...</td>\n",
       "      <td>...</td>\n",
       "      <td>...</td>\n",
       "      <td>...</td>\n",
       "      <td>...</td>\n",
       "      <td>...</td>\n",
       "      <td>...</td>\n",
       "      <td>...</td>\n",
       "      <td>...</td>\n",
       "      <td>...</td>\n",
       "    </tr>\n",
       "    <tr>\n",
       "      <td>264</td>\n",
       "      <td>3-Methyl-2-hexene (trans)</td>\n",
       "      <td>CCC/C(=C/C)/C</td>\n",
       "      <td>Test</td>\n",
       "      <td>91.4</td>\n",
       "      <td>4.352030</td>\n",
       "      <td>4.798324</td>\n",
       "      <td>7.878462</td>\n",
       "      <td>1.969616</td>\n",
       "      <td>3.939231</td>\n",
       "      <td>7.878462</td>\n",
       "      <td>...</td>\n",
       "      <td>7.486053</td>\n",
       "      <td>31.656710</td>\n",
       "      <td>98.109550</td>\n",
       "      <td>4.671883</td>\n",
       "      <td>50</td>\n",
       "      <td>5</td>\n",
       "      <td>24.0</td>\n",
       "      <td>23.0</td>\n",
       "      <td>3.861111</td>\n",
       "      <td>1.916667</td>\n",
       "    </tr>\n",
       "    <tr>\n",
       "      <td>265</td>\n",
       "      <td>2,3-Dimethyl-1-butene</td>\n",
       "      <td>CC(=C)C(C)C</td>\n",
       "      <td>Test</td>\n",
       "      <td>101.3</td>\n",
       "      <td>3.932653</td>\n",
       "      <td>4.244375</td>\n",
       "      <td>6.000000</td>\n",
       "      <td>2.000000</td>\n",
       "      <td>4.000000</td>\n",
       "      <td>6.000000</td>\n",
       "      <td>...</td>\n",
       "      <td>7.626083</td>\n",
       "      <td>30.698690</td>\n",
       "      <td>84.093900</td>\n",
       "      <td>4.671883</td>\n",
       "      <td>29</td>\n",
       "      <td>4</td>\n",
       "      <td>22.0</td>\n",
       "      <td>21.0</td>\n",
       "      <td>4.222222</td>\n",
       "      <td>1.444444</td>\n",
       "    </tr>\n",
       "    <tr>\n",
       "      <td>266</td>\n",
       "      <td>Isopropylcyclopropane</td>\n",
       "      <td>CC(C1CC1)C</td>\n",
       "      <td>Test</td>\n",
       "      <td>100.3</td>\n",
       "      <td>4.420980</td>\n",
       "      <td>4.187572</td>\n",
       "      <td>7.191688</td>\n",
       "      <td>2.278414</td>\n",
       "      <td>4.169633</td>\n",
       "      <td>7.191688</td>\n",
       "      <td>...</td>\n",
       "      <td>8.383205</td>\n",
       "      <td>51.169989</td>\n",
       "      <td>84.093900</td>\n",
       "      <td>4.671883</td>\n",
       "      <td>28</td>\n",
       "      <td>4</td>\n",
       "      <td>28.0</td>\n",
       "      <td>31.0</td>\n",
       "      <td>2.722222</td>\n",
       "      <td>1.361111</td>\n",
       "    </tr>\n",
       "    <tr>\n",
       "      <td>267</td>\n",
       "      <td>2,2-Dimethyl-3-ethylpentane</td>\n",
       "      <td>CCC(C(C)(C)C)CC</td>\n",
       "      <td>Test</td>\n",
       "      <td>112.1</td>\n",
       "      <td>6.072001</td>\n",
       "      <td>6.682893</td>\n",
       "      <td>9.300563</td>\n",
       "      <td>2.236068</td>\n",
       "      <td>4.472136</td>\n",
       "      <td>9.300563</td>\n",
       "      <td>...</td>\n",
       "      <td>8.751000</td>\n",
       "      <td>37.448312</td>\n",
       "      <td>128.156501</td>\n",
       "      <td>4.419190</td>\n",
       "      <td>88</td>\n",
       "      <td>10</td>\n",
       "      <td>38.0</td>\n",
       "      <td>40.0</td>\n",
       "      <td>5.673611</td>\n",
       "      <td>2.166667</td>\n",
       "    </tr>\n",
       "    <tr>\n",
       "      <td>268</td>\n",
       "      <td>1,2-Dimethylcyclohexane (cis)</td>\n",
       "      <td>[C@@H]1(C)CCCC[C@@H]1C</td>\n",
       "      <td>Test</td>\n",
       "      <td>80.9</td>\n",
       "      <td>5.835194</td>\n",
       "      <td>5.606207</td>\n",
       "      <td>9.953960</td>\n",
       "      <td>2.193527</td>\n",
       "      <td>4.387054</td>\n",
       "      <td>9.953960</td>\n",
       "      <td>...</td>\n",
       "      <td>8.555837</td>\n",
       "      <td>35.908899</td>\n",
       "      <td>112.125201</td>\n",
       "      <td>4.671883</td>\n",
       "      <td>60</td>\n",
       "      <td>8</td>\n",
       "      <td>36.0</td>\n",
       "      <td>39.0</td>\n",
       "      <td>3.222222</td>\n",
       "      <td>1.861111</td>\n",
       "    </tr>\n",
       "  </tbody>\n",
       "</table>\n",
       "<p>269 rows × 914 columns</p>\n",
       "</div>"
      ],
      "text/plain": [
       "                   RON_Molecules_x                  SMILES  Data Set  \\\n",
       "0                   n-Butylbenzene            CCCCc1ccccc1  Training   \n",
       "1       1,2,3,4-Tetramethylbenzene        Cc1c(C)ccc(c1C)C  Training   \n",
       "2                  1-Phenylpentane           CCCCCc1ccccc1  Training   \n",
       "3          1-Methyl-2-allylbenzene           C=CCc1ccccc1C  Training   \n",
       "4    1,2,3,4-Tetrahydronaphthalene        C1CCc2c(C1)cccc2  Training   \n",
       "..                             ...                     ...       ...   \n",
       "264      3-Methyl-2-hexene (trans)           CCC/C(=C/C)/C      Test   \n",
       "265          2,3-Dimethyl-1-butene             CC(=C)C(C)C      Test   \n",
       "266          Isopropylcyclopropane              CC(C1CC1)C      Test   \n",
       "267    2,2-Dimethyl-3-ethylpentane         CCC(C(C)(C)C)CC      Test   \n",
       "268  1,2-Dimethylcyclohexane (cis)  [C@@H]1(C)CCCC[C@@H]1C      Test   \n",
       "\n",
       "     Exeriment       ABC     ABCGG    SpAbs_A   SpMax_A  SpDiam_A     SpAD_A  \\\n",
       "0        104.4  7.071068  6.547760  12.932143  2.154341  4.308683  12.932143   \n",
       "1        105.3  7.387307  7.212008  12.250296  2.318014  4.636027  12.250296   \n",
       "2         89.2  7.778175  7.057066  13.983360  2.156639  4.313279  13.983360   \n",
       "3         98.6  7.140017  6.833492  12.527715  2.230994  4.461989  12.527715   \n",
       "4         96.4  7.737734  6.634763  13.683239  2.302776  4.605551  13.683239   \n",
       "..         ...       ...       ...        ...       ...       ...        ...   \n",
       "264       91.4  4.352030  4.798324   7.878462  1.969616  3.939231   7.878462   \n",
       "265      101.3  3.932653  4.244375   6.000000  2.000000  4.000000   6.000000   \n",
       "266      100.3  4.420980  4.187572   7.191688  2.278414  4.169633   7.191688   \n",
       "267      112.1  6.072001  6.682893   9.300563  2.236068  4.472136   9.300563   \n",
       "268       80.9  5.835194  5.606207   9.953960  2.193527  4.387054   9.953960   \n",
       "\n",
       "     ...     SRW10     TSRW10          MW       AMW  WPath  WPol  Zagreb1  \\\n",
       "0    ...  8.438366  38.130322  134.109550  5.587898    133     9     42.0   \n",
       "1    ...  9.122711  39.843188  134.109550  5.587898    109    14     48.0   \n",
       "2    ...  8.491465  39.504541  148.125201  5.486119    182    10     46.0   \n",
       "3    ...  8.746875  38.855012  132.093900  6.004268    121    11     44.0   \n",
       "4    ...  9.066816  39.856521  132.093900  6.004268    109    12     50.0   \n",
       "..   ...       ...        ...         ...       ...    ...   ...      ...   \n",
       "264  ...  7.486053  31.656710   98.109550  4.671883     50     5     24.0   \n",
       "265  ...  7.626083  30.698690   84.093900  4.671883     29     4     22.0   \n",
       "266  ...  8.383205  51.169989   84.093900  4.671883     28     4     28.0   \n",
       "267  ...  8.751000  37.448312  128.156501  4.419190     88    10     38.0   \n",
       "268  ...  8.555837  35.908899  112.125201  4.671883     60     8     36.0   \n",
       "\n",
       "     Zagreb2  mZagreb1  mZagreb2  \n",
       "0       44.0  3.111111  2.500000  \n",
       "1       55.0  4.944444  2.250000  \n",
       "2       48.0  3.361111  2.750000  \n",
       "3       48.0  3.722222  2.444444  \n",
       "4       57.0  2.222222  2.277778  \n",
       "..       ...       ...       ...  \n",
       "264     23.0  3.861111  1.916667  \n",
       "265     21.0  4.222222  1.444444  \n",
       "266     31.0  2.722222  1.361111  \n",
       "267     40.0  5.673611  2.166667  \n",
       "268     39.0  3.222222  1.861111  \n",
       "\n",
       "[269 rows x 914 columns]"
      ]
     },
     "execution_count": 10,
     "metadata": {},
     "output_type": "execute_result"
    }
   ],
   "source": [
    "df_octane.head(-7)"
   ]
  },
  {
   "cell_type": "code",
   "execution_count": 11,
   "metadata": {},
   "outputs": [],
   "source": [
    "descriptors = list(df_octane)[4:]"
   ]
  },
  {
   "cell_type": "code",
   "execution_count": 12,
   "metadata": {},
   "outputs": [],
   "source": [
    "X_train_validate = df_octane[df_octane['Data Set'].isin(['Training','Validation'])][descriptors].values\n",
    "Y_train_validate = df_octane[df_octane['Data Set'].isin(['Training','Validation'])]['Exeriment'].values\n",
    "\n",
    "scaler.fit(X_train_validate)\n",
    "\n",
    "X_train_validate = scaler.transform(X_train_validate)\n",
    "\n",
    "\n",
    "X_test = df_octane[df_octane['Data Set'] == 'Test'][descriptors].values\n",
    "\n",
    "X_test = scaler.transform(X_test)\n",
    "Y_test = df_octane[df_octane['Data Set'] == 'Test']['Exeriment'].values"
   ]
  },
  {
   "cell_type": "code",
   "execution_count": 13,
   "metadata": {},
   "outputs": [],
   "source": [
    "reg = SVR(gamma='auto')\n",
    "\n",
    "\n",
    "# Build step forward feature selection\n",
    "sfs1 = sfs(reg,\n",
    "           k_features=25,\n",
    "           forward=True,\n",
    "           floating=False,\n",
    "           verbose=0,\n",
    "           scoring='neg_mean_squared_error',\n",
    "           cv=10)\n",
    "\n",
    "# Perform SFFS\n",
    "sfs1 = sfs1.fit(X_train_validate, Y_train_validate)\n",
    "\n",
    "index = np.array(sfs1.k_feature_idx_)\n",
    "selected_features = np.take(descriptors,index)\n"
   ]
  },
  {
   "cell_type": "code",
   "execution_count": 14,
   "metadata": {},
   "outputs": [
    {
     "data": {
      "text/plain": [
       "array(['VE2_A', 'nAromAtom', 'ATS5s', 'AATS3m', 'MATS2se', 'GATS2v',\n",
       "       'GATS2se', 'GATS2pe', 'GATS2are', 'GATS2p', 'GATS2i', 'C3SP2',\n",
       "       'Xch-3d', 'Xch-3dv', 'VE2_Dt', 'NddC', 'NdssC', 'SssCH2', 'SdssC',\n",
       "       'CIC0', 'CIC1', 'GhoseFilter', 'EState_VSA8', 'VSA_EState4',\n",
       "       'JGI4'], dtype='<U14')"
      ]
     },
     "execution_count": 14,
     "metadata": {},
     "output_type": "execute_result"
    }
   ],
   "source": [
    "index = np.array(sfs1.k_feature_idx_)\n",
    "np.take(np.array(descriptors),index)"
   ]
  },
  {
   "cell_type": "code",
   "execution_count": 15,
   "metadata": {},
   "outputs": [],
   "source": [
    "selected_features = np.take(np.array(descriptors),index)"
   ]
  },
  {
   "cell_type": "code",
   "execution_count": 16,
   "metadata": {},
   "outputs": [
    {
     "data": {
      "text/plain": [
       "array(['VE2_A', 'nAromAtom', 'ATS5s', 'AATS3m', 'MATS2se', 'GATS2v',\n",
       "       'GATS2se', 'GATS2pe', 'GATS2are', 'GATS2p', 'GATS2i', 'C3SP2',\n",
       "       'Xch-3d', 'Xch-3dv', 'VE2_Dt', 'NddC', 'NdssC', 'SssCH2', 'SdssC',\n",
       "       'CIC0', 'CIC1', 'GhoseFilter', 'EState_VSA8', 'VSA_EState4',\n",
       "       'JGI4'], dtype='<U14')"
      ]
     },
     "execution_count": 16,
     "metadata": {},
     "output_type": "execute_result"
    }
   ],
   "source": [
    "selected_features"
   ]
  },
  {
   "cell_type": "code",
   "execution_count": 17,
   "metadata": {},
   "outputs": [],
   "source": [
    "X_train_validate = df_octane[df_octane['Data Set'].isin(['Training','Validation'])][selected_features].values\n",
    "X_train_validate = scaler.fit_transform(X_train_validate)"
   ]
  },
  {
   "cell_type": "code",
   "execution_count": 18,
   "metadata": {},
   "outputs": [],
   "source": [
    "reg = SVR()\n",
    "\n",
    "space  = [Real(10**-3, 10**3,\"log-uniform\", name='C'),\n",
    "          Real(10**-3, 10**-1,\"log-uniform\", name='gamma'),\n",
    "         Real(0.03,0.4,name='epsilon')]\n",
    "\n",
    "@use_named_args(space)\n",
    "def objective(**params):\n",
    "    reg.set_params(**params)\n",
    "\n",
    "    return -np.mean(cross_val_score(reg, X_train_validate, Y_train_validate, cv=10, n_jobs=-1,\n",
    "                                    scoring=\"neg_mean_squared_error\"))\n",
    "\n",
    "res_gp = gp_minimize(objective, space, n_calls=50, random_state=0, n_random_starts=5)"
   ]
  },
  {
   "cell_type": "code",
   "execution_count": 19,
   "metadata": {},
   "outputs": [
    {
     "data": {
      "text/plain": [
       "<matplotlib.axes._subplots.AxesSubplot at 0x2005066d648>"
      ]
     },
     "execution_count": 19,
     "metadata": {},
     "output_type": "execute_result"
    },
    {
     "data": {
      "image/png": "[encoded data removed]",
      "text/plain": [
       "<Figure size 432x288 with 1 Axes>"
      ]
     },
     "metadata": {
      "needs_background": "light"
     },
     "output_type": "display_data"
    }
   ],
   "source": [
    "plot_convergence(res_gp)"
   ]
  },
  {
   "cell_type": "code",
   "execution_count": 20,
   "metadata": {},
   "outputs": [
    {
     "data": {
      "text/plain": [
       "SVR(C=66.49233650559549, epsilon=0.4, gamma=0.06102472346964923)"
      ]
     },
     "execution_count": 20,
     "metadata": {},
     "output_type": "execute_result"
    }
   ],
   "source": [
    "reg.C = res_gp.x[0]\n",
    "reg.gamma = res_gp.x[1]\n",
    "reg.epsilon = res_gp.x[2]\n",
    "\n",
    "reg.fit(X_train_validate,Y_train_validate)"
   ]
  },
  {
   "cell_type": "code",
   "execution_count": 21,
   "metadata": {},
   "outputs": [
    {
     "data": {
      "text/plain": [
       "(250, 25)"
      ]
     },
     "execution_count": 21,
     "metadata": {},
     "output_type": "execute_result"
    }
   ],
   "source": [
    "X_train_validate.shape"
   ]
  },
  {
   "cell_type": "code",
   "execution_count": 22,
   "metadata": {},
   "outputs": [
    {
     "name": "stdout",
     "output_type": "stream",
     "text": [
      "RMSE = 6.234617520693975\n",
      "R2 = 0.9296049358739026\n",
      "AAE = 3.3257619815172497\n"
     ]
    }
   ],
   "source": [
    "print ('RMSE = {}'.format(np.sqrt(mean_squared_error(Y_train_validate, reg.predict(X_train_validate)))))\n",
    "print ('R2 = {}'.format(r2_score(reg.predict(X_train_validate),Y_train_validate)))\n",
    "print ('AAE = {}'.format(mean_absolute_error(reg.predict(X_train_validate),Y_train_validate)))\n"
   ]
  },
  {
   "cell_type": "code",
   "execution_count": 23,
   "metadata": {},
   "outputs": [],
   "source": [
    "X_test = df_octane[df_octane['Data Set']== 'Test'][selected_features].values\n",
    "X_test = scaler.transform(X_test)"
   ]
  },
  {
   "cell_type": "code",
   "execution_count": 24,
   "metadata": {},
   "outputs": [
    {
     "name": "stdout",
     "output_type": "stream",
     "text": [
      "RMSE = 5.417076723222896\n",
      "R2 = 0.8628796103432315\n",
      "AAE = 4.325546819098878\n"
     ]
    }
   ],
   "source": [
    "print ('RMSE = {}'.format(np.sqrt(mean_squared_error(Y_test, reg.predict(X_test)))))\n",
    "print ('R2 = {}'.format(r2_score(reg.predict(X_test),Y_test)))\n",
    "print ('AAE = {}'.format(mean_absolute_error(reg.predict(X_test),Y_test)))"
   ]
  },
  {
   "cell_type": "code",
   "execution_count": 25,
   "metadata": {},
   "outputs": [
    {
     "data": {
      "image/png": "[encoded data removed]",
      "text/plain": [
       "<Figure size 432x288 with 1 Axes>"
      ]
     },
     "metadata": {
      "needs_background": "light"
     },
     "output_type": "display_data"
    }
   ],
   "source": [
    "plt.scatter(reg.predict(X_test),Y_test)\n",
    "\n",
    "x = np.linspace(45,120)\n",
    "y = x\n",
    "\n",
    "plt.plot(x, y, '-r', label='ideal')\n",
    "plt.show()"
   ]
  },
  {
   "cell_type": "code",
   "execution_count": 26,
   "metadata": {},
   "outputs": [
    {
     "data": {
      "image/png": "[encoded data removed]",
      "text/plain": [
       "<Figure size 432x288 with 1 Axes>"
      ]
     },
     "metadata": {
      "needs_background": "light"
     },
     "output_type": "display_data"
    }
   ],
   "source": [
    "plt.scatter(reg.predict(X_train_validate),Y_train_validate)\n",
    "\n",
    "x = np.linspace(0,140)\n",
    "y = x\n",
    "\n",
    "plt.plot(x, y, '-r', label='ideal')\n",
    "plt.show()"
   ]
  },
  {
   "cell_type": "code",
   "execution_count": 27,
   "metadata": {},
   "outputs": [
    {
     "data": {
      "text/plain": [
       "mordred._base.calculator.Calculator"
      ]
     },
     "execution_count": 27,
     "metadata": {},
     "output_type": "execute_result"
    }
   ],
   "source": [
    "type(calc)"
   ]
  },
  {
   "cell_type": "code",
   "execution_count": 28,
   "metadata": {},
   "outputs": [
    {
     "data": {
      "text/plain": [
       "array(['VE2_A', 'nAromAtom', 'ATS5s', 'AATS3m', 'MATS2se', 'GATS2v',\n",
       "       'GATS2se', 'GATS2pe', 'GATS2are', 'GATS2p', 'GATS2i', 'C3SP2',\n",
       "       'Xch-3d', 'Xch-3dv', 'VE2_Dt', 'NddC', 'NdssC', 'SssCH2', 'SdssC',\n",
       "       'CIC0', 'CIC1', 'GhoseFilter', 'EState_VSA8', 'VSA_EState4',\n",
       "       'JGI4'], dtype='<U14')"
      ]
     },
     "execution_count": 28,
     "metadata": {},
     "output_type": "execute_result"
    }
   ],
   "source": [
    "selected_features"
   ]
  },
  {
   "cell_type": "code",
   "execution_count": 106,
   "metadata": {},
   "outputs": [
    {
     "name": "stderr",
     "output_type": "stream",
     "text": [
      "100%|██████████| 2/2 [00:01<00:00,  1.52it/s]\n"
     ]
    }
   ],
   "source": [
    "#calc = Calculator(descriptors, ignore_3D=False)\n",
    "mols = [Chem.MolFromSmiles(smi) for smi in ['CC1CCC(=O)O1','CNC1=CC=CC=C1']]\n",
    "df_descriptors = calc.pandas(mols)"
   ]
  },
  {
   "cell_type": "code",
   "execution_count": 101,
   "metadata": {
    "scrolled": true
   },
   "outputs": [
    {
     "name": "stderr",
     "output_type": "stream",
     "text": [
      "100%|██████████| 2/2 [00:01<00:00,  1.90it/s]\n"
     ]
    }
   ],
   "source": [
    "#calc = Calculator(descriptors, ignore_3D=False)\n",
    "mols = [Chem.MolFromSmiles(smi) for smi in ['CCCC(C)CC','CC(C)(C)C=C']]\n",
    "df_descriptors = calc.pandas(mols)"
   ]
  },
  {
   "cell_type": "code",
   "execution_count": 107,
   "metadata": {},
   "outputs": [],
   "source": [
    "x_test_compound = df_descriptors[selected_features]"
   ]
  },
  {
   "cell_type": "code",
   "execution_count": 108,
   "metadata": {},
   "outputs": [
    {
     "data": {
      "text/plain": [
       "(2, 25)"
      ]
     },
     "execution_count": 108,
     "metadata": {},
     "output_type": "execute_result"
    }
   ],
   "source": [
    "x_test_compound.shape"
   ]
  },
  {
   "cell_type": "code",
   "execution_count": 109,
   "metadata": {},
   "outputs": [],
   "source": [
    "x_test_compound = scaler.transform(x_test_compound)"
   ]
  },
  {
   "cell_type": "code",
   "execution_count": 110,
   "metadata": {},
   "outputs": [
    {
     "data": {
      "text/plain": [
       "array([100.39976935,  97.31280446])"
      ]
     },
     "execution_count": 110,
     "metadata": {},
     "output_type": "execute_result"
    }
   ],
   "source": [
    "reg.predict(x_test_compound)"
   ]
  },
  {
   "cell_type": "code",
   "execution_count": null,
   "metadata": {},
   "outputs": [],
   "source": []
  }
 ],
 "metadata": {
  "kernelspec": {
   "display_name": "Python 3",
   "language": "python",
   "name": "python3"
  },
  "language_info": {
   "codemirror_mode": {
    "name": "ipython",
    "version": 3
   },
   "file_extension": ".py",
   "mimetype": "text/x-python",
   "name": "python",
   "nbconvert_exporter": "python",
   "pygments_lexer": "ipython3",
   "version": "3.6.12"
  }
 },
 "nbformat": 4,
 "nbformat_minor": 2
}
