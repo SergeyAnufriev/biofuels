{
 "cells": [
  {
   "cell_type": "code",
   "execution_count": 1,
   "id": "c1d09987",
   "metadata": {},
   "outputs": [],
   "source": [
    "import pandas as pd\n",
    "import glob\n",
    "import matplotlib.pyplot as plt\n",
    "import numpy as np\n",
    "from scipy.stats import variation"
   ]
  },
  {
   "cell_type": "code",
   "execution_count": 2,
   "id": "d8ffa4ee",
   "metadata": {},
   "outputs": [],
   "source": [
    "files_dir = glob.glob(r\"C:\\Users\\zcemg08\\PycharmProjects\\biofuels\\data\\phys_prop\\*.csv\")"
   ]
  },
  {
   "cell_type": "code",
   "execution_count": 3,
   "id": "ca63fda5",
   "metadata": {},
   "outputs": [],
   "source": [
    "df0 = pd.read_csv(files_dir[0], encoding= 'unicode_escape')\n",
    "df1 = pd.read_csv(files_dir[1], encoding= 'unicode_escape')\n",
    "df2 = pd.read_csv(files_dir[2], encoding= 'unicode_escape')\n",
    "df3 = pd.read_csv(files_dir[3], encoding= 'unicode_escape')\n",
    "df4 = pd.read_csv(files_dir[4], encoding= 'unicode_escape')\n",
    "df5 = pd.read_csv(files_dir[5], encoding= 'unicode_escape')"
   ]
  },
  {
   "cell_type": "code",
   "execution_count": 4,
   "id": "de69b949",
   "metadata": {},
   "outputs": [],
   "source": [
    "datka = [df0,df1,df2,df3,df4,df5]\n",
    "\n",
    "df0['UB(mol/L)'] = None "
   ]
  },
  {
   "cell_type": "code",
   "execution_count": 5,
   "id": "4c541079",
   "metadata": {},
   "outputs": [
    {
     "name": "stdout",
     "output_type": "stream",
     "text": [
      "['NO.', 'Compound', 'Smiles', 'RON', 'MON', 'YSI', '?Hc°(KJ/L)', '?Hc°(KJ/kg)', 'RVP(kPa)', 'Density (g/mL)', 'Boiling Point (K)', 'UB(mol/L)']\n",
      "['NO.', 'Compound', 'Smiles', 'RON', 'MON', 'YSI', '?Hc°(KJ/L)', '?Hc°(KJ/kg)', 'RVP(kPa)', 'UB(mol/L)', 'Density (g/mL)', 'Boiling Point (K)']\n",
      "['NO.', 'Compound', 'Smiles', 'RON', 'MON', 'YSI', '?Hc°(KJ/L)', '?Hc°(KJ/kg)', 'RVP(kPa)', 'UB(mol/L)', 'Density (g/mL)', 'Boiling Point (K)']\n",
      "['NO.', 'Compound', 'Smiles', 'RON', 'MON', 'YSI', '?Hc°(KJ/L)', '?Hc°(KJ/kg)', 'RVP(kPa)', 'UB(mol/L)', 'Density (g/mL)', 'Boiling Point (K)']\n",
      "['NO.', 'Compound', 'Smiles', 'RON', 'MON', 'YSI', '?Hc°(KJ/L)', '?Hc°(KJ/kg)', 'RVP(kPa)', 'UB(mol/L)', 'Density (g/mL)', 'Boiling Point (K)']\n",
      "['Species', 'SMILES', 'Formula', 'Unified YSI']\n"
     ]
    }
   ],
   "source": [
    "for item in datka:\n",
    "    print(list(item))"
   ]
  },
  {
   "cell_type": "code",
   "execution_count": 6,
   "id": "112e52ed",
   "metadata": {},
   "outputs": [],
   "source": [
    "count_ = 0"
   ]
  },
  {
   "cell_type": "code",
   "execution_count": 7,
   "id": "c6fb6704",
   "metadata": {},
   "outputs": [],
   "source": [
    "data_ = pd.concat([df0,df1,df2,df3,df4],axis=0)"
   ]
  },
  {
   "cell_type": "code",
   "execution_count": 8,
   "id": "49daaa5b",
   "metadata": {},
   "outputs": [
    {
     "name": "stdout",
     "output_type": "stream",
     "text": [
      "313\n",
      "503\n",
      "618\n",
      "733\n",
      "848\n",
      "1295\n"
     ]
    }
   ],
   "source": [
    "len_ = 0\n",
    "for item in datka:\n",
    "    len_ += len(item)\n",
    "    print(len_)"
   ]
  },
  {
   "cell_type": "code",
   "execution_count": 9,
   "id": "5facedb5",
   "metadata": {},
   "outputs": [],
   "source": [
    "df = pd.concat(datka[:-1])\n",
    "df = df.drop('NO.',axis=1)\n",
    "#Drop exact duplicated rows\n",
    "df = df.drop_duplicates()\n",
    "#Drop duplicated by Smiles\tRON\tMON\tYSI\t?Hc°(KJ/L)\t?Hc°(KJ/kg)\tRVP(kPa)\tDensity (g/mL)\tBoiling Point (K)\n",
    "important_columns    = list(df)[1:-1]\n",
    "df                   = df.drop_duplicates(subset=important_columns)\n",
    "df                   = df.dropna(subset=['Smiles'])"
   ]
  },
  {
   "cell_type": "markdown",
   "id": "e909b73c",
   "metadata": {},
   "source": [
    "##### Fuel Properties\n",
    "\n",
    "(RON)  - representing the antiknock performance \n",
    "[1.\tKubic Jr, W.L., et al., Artificial neural network based group contribution method for estimating cetane and octane numbers of hydrocarbons and oxygenated organic compounds. Industrial & Engineering Chemistry Research, 2017. 56(42): p. 12236-12245.]\n",
    "\n",
    "(YSI)  - describing the emissions of soot\n",
    "[2.\tDas, D.D., et al., Measuring and predicting sooting tendencies of oxygenates, alkanes, alkenes, cycloalkanes, and aromatics on a unified scale. Combustion and Flame, 2018. 190: p. 349-364.\n",
    "\n",
    "3.\tMcEnally, Charles S.; Das, Dhrubajyoti D.; Pfefferle, Lisa D., 2017, \"Yield Sooting Index Database Volume 2: Sooting Tendencies of a Wide Range of Fuel Compounds on a Unified Scale\", https://doi.org/10.7910/DVN/7HGFT8, Harvard Dataverse, V1, UNF:6:n617TMoSmliFFMdXMfOB9w== [fileUNF].]\n",
    "\n",
    "\n",
    "(DHc)  - combustion heat / evaluating the power performance\n",
    "[Pan, Y., et al., Predicting the net heat of combustion of organic compounds from molecular structures based on ant colony optimization. Journal of Loss Prevention in the Process Industries, 2011. 24(1): p. 85-89.]\n",
    "\n",
    "\n",
    "(Density)- [44, A.P.I.R.P. and K.R. Hall, Selected Values of Properties of Hydrocarbons and Related Compounds. 1981: Thermodynamics Research Center.]\n",
    "\n",
    "(Boiling Point) (K)\n",
    "[Yaws, C.L., Thermophysical properties of chemicals and hydrocarbons. 2008: William Andrew.]\n",
    "\n",
    "(RVP)  - Reid vapor pressure / the evaporation performance of gasoline\n",
    "[Aspen Physical Property System databank.]\n",
    "\n",
    "\n",
    "(UB)   - the number of unsaturated bonds"
   ]
  },
  {
   "cell_type": "code",
   "execution_count": 11,
   "id": "fbecf483",
   "metadata": {},
   "outputs": [
    {
     "data": {
      "text/html": [
       "<div>\n",
       "<style scoped>\n",
       "    .dataframe tbody tr th:only-of-type {\n",
       "        vertical-align: middle;\n",
       "    }\n",
       "\n",
       "    .dataframe tbody tr th {\n",
       "        vertical-align: top;\n",
       "    }\n",
       "\n",
       "    .dataframe thead th {\n",
       "        text-align: right;\n",
       "    }\n",
       "</style>\n",
       "<table border=\"1\" class=\"dataframe\">\n",
       "  <thead>\n",
       "    <tr style=\"text-align: right;\">\n",
       "      <th></th>\n",
       "      <th>Compound</th>\n",
       "      <th>Smiles</th>\n",
       "      <th>RON</th>\n",
       "      <th>MON</th>\n",
       "      <th>YSI</th>\n",
       "      <th>?Hc°(KJ/L)</th>\n",
       "      <th>?Hc°(KJ/kg)</th>\n",
       "      <th>RVP(kPa)</th>\n",
       "      <th>Density (g/mL)</th>\n",
       "      <th>Boiling Point (K)</th>\n",
       "      <th>UB(mol/L)</th>\n",
       "    </tr>\n",
       "  </thead>\n",
       "  <tbody>\n",
       "    <tr>\n",
       "      <th>0</th>\n",
       "      <td>2,4-Dimethylpentane</td>\n",
       "      <td>CC(C)CC(C)C</td>\n",
       "      <td>86.317222</td>\n",
       "      <td>85.292433</td>\n",
       "      <td>18.964147</td>\n",
       "      <td>29749.93551</td>\n",
       "      <td>44193.53819</td>\n",
       "      <td>20.163661</td>\n",
       "      <td>0.673174</td>\n",
       "      <td>349.689912</td>\n",
       "      <td>None</td>\n",
       "    </tr>\n",
       "    <tr>\n",
       "      <th>1</th>\n",
       "      <td>Heptane</td>\n",
       "      <td>CCCCCCC</td>\n",
       "      <td>2.100058</td>\n",
       "      <td>5.788349</td>\n",
       "      <td>15.492068</td>\n",
       "      <td>30434.01910</td>\n",
       "      <td>44842.40477</td>\n",
       "      <td>13.179002</td>\n",
       "      <td>0.678688</td>\n",
       "      <td>365.924403</td>\n",
       "      <td>None</td>\n",
       "    </tr>\n",
       "    <tr>\n",
       "      <th>2</th>\n",
       "      <td>2,2,3-Trimethylbutane</td>\n",
       "      <td>CC(C)(C)C(C)C</td>\n",
       "      <td>106.380839</td>\n",
       "      <td>100.789345</td>\n",
       "      <td>31.332231</td>\n",
       "      <td>29928.10179</td>\n",
       "      <td>44024.11931</td>\n",
       "      <td>27.542545</td>\n",
       "      <td>0.679811</td>\n",
       "      <td>352.273738</td>\n",
       "      <td>None</td>\n",
       "    </tr>\n",
       "    <tr>\n",
       "      <th>3</th>\n",
       "      <td>3,3-Dimethylpentane</td>\n",
       "      <td>CCC(C)(C)CC</td>\n",
       "      <td>88.935130</td>\n",
       "      <td>91.989959</td>\n",
       "      <td>18.105944</td>\n",
       "      <td>30283.40019</td>\n",
       "      <td>44476.16394</td>\n",
       "      <td>22.833933</td>\n",
       "      <td>0.680891</td>\n",
       "      <td>357.408846</td>\n",
       "      <td>None</td>\n",
       "    </tr>\n",
       "    <tr>\n",
       "      <th>4</th>\n",
       "      <td>2,3-Dimethylpentane</td>\n",
       "      <td>CC(C)C(C)CC</td>\n",
       "      <td>88.753001</td>\n",
       "      <td>87.964683</td>\n",
       "      <td>24.657707</td>\n",
       "      <td>29868.56685</td>\n",
       "      <td>44073.29329</td>\n",
       "      <td>17.498149</td>\n",
       "      <td>0.677702</td>\n",
       "      <td>353.830958</td>\n",
       "      <td>None</td>\n",
       "    </tr>\n",
       "  </tbody>\n",
       "</table>\n",
       "</div>"
      ],
      "text/plain": [
       "                Compound         Smiles         RON         MON        YSI  \\\n",
       "0    2,4-Dimethylpentane    CC(C)CC(C)C   86.317222   85.292433  18.964147   \n",
       "1                Heptane        CCCCCCC    2.100058    5.788349  15.492068   \n",
       "2  2,2,3-Trimethylbutane  CC(C)(C)C(C)C  106.380839  100.789345  31.332231   \n",
       "3    3,3-Dimethylpentane    CCC(C)(C)CC   88.935130   91.989959  18.105944   \n",
       "4    2,3-Dimethylpentane    CC(C)C(C)CC   88.753001   87.964683  24.657707   \n",
       "\n",
       "    ?Hc°(KJ/L)  ?Hc°(KJ/kg)   RVP(kPa)  Density (g/mL)  Boiling Point (K)  \\\n",
       "0  29749.93551  44193.53819  20.163661        0.673174         349.689912   \n",
       "1  30434.01910  44842.40477  13.179002        0.678688         365.924403   \n",
       "2  29928.10179  44024.11931  27.542545        0.679811         352.273738   \n",
       "3  30283.40019  44476.16394  22.833933        0.680891         357.408846   \n",
       "4  29868.56685  44073.29329  17.498149        0.677702         353.830958   \n",
       "\n",
       "  UB(mol/L)  \n",
       "0      None  \n",
       "1      None  \n",
       "2      None  \n",
       "3      None  \n",
       "4      None  "
      ]
     },
     "execution_count": 11,
     "metadata": {},
     "output_type": "execute_result"
    }
   ],
   "source": [
    "df.head(5)"
   ]
  },
  {
   "cell_type": "code",
   "execution_count": 12,
   "id": "4760a1dd",
   "metadata": {},
   "outputs": [
    {
     "name": "stdout",
     "output_type": "stream",
     "text": [
      "RON number of duplicates = 120\n",
      "MON number of duplicates = 120\n",
      "YSI number of duplicates = 120\n",
      "?Hc°(KJ/L) number of duplicates = 0\n",
      "?Hc°(KJ/kg) number of duplicates = 0\n",
      "RVP(kPa) number of duplicates = 120\n",
      "Density (g/mL) number of duplicates = 120\n",
      "Boiling Point (K) number of duplicates = 120\n",
      "UB(mol/L) number of duplicates = 108\n"
     ]
    }
   ],
   "source": [
    "for col in list(df)[2:]:\n",
    "    print(col + ' '+ 'number of duplicates = {}'.format(df.duplicated(subset=['Smiles',col]).sum()))"
   ]
  },
  {
   "cell_type": "code",
   "execution_count": 13,
   "id": "fb280ac8",
   "metadata": {},
   "outputs": [],
   "source": [
    "def variation_(df):\n",
    "    return [variation(df[df['Smiles']==x].iloc[:,1]) for x in df[df.duplicated(subset=['Smiles'])]['Smiles'].values]"
   ]
  },
  {
   "cell_type": "code",
   "execution_count": 14,
   "id": "beae732c",
   "metadata": {},
   "outputs": [],
   "source": [
    "df_RON     = df[['Smiles','RON']].drop_duplicates()\n",
    "df_YSI     = df[['Smiles','YSI']].drop_duplicates()\n",
    "df_comb_h  = df[['Smiles','?Hc°(KJ/kg)']].drop_duplicates()\n",
    "df_RVP     = df[['Smiles','RVP(kPa)']].drop_duplicates()\n",
    "df_Density = df[['Smiles','Density (g/mL)']].drop_duplicates()\n",
    "df_bp      = df[['Smiles','Boiling Point (K)']].drop_duplicates()"
   ]
  },
  {
   "cell_type": "code",
   "execution_count": 15,
   "id": "45b40475",
   "metadata": {},
   "outputs": [
    {
     "data": {
      "text/plain": [
       "Text(0.5, 1.0, 'BP_norm_var')"
      ]
     },
     "execution_count": 15,
     "metadata": {},
     "output_type": "execute_result"
    },
    {
     "data": {
      "image/png": "[encoded data removed]",
      "text/plain": [
       "<Figure size 1440x720 with 6 Axes>"
      ]
     },
     "metadata": {
      "needs_background": "light"
     },
     "output_type": "display_data"
    }
   ],
   "source": [
    "fig, axs = plt.subplots(2, 3,figsize=(20,10))\n",
    "axs[0, 0].hist(variation_(df_YSI))\n",
    "axs[0, 0].set_title('YSI_norm_var')\n",
    "\n",
    "axs[0, 1].hist(variation_(df_comb_h))\n",
    "axs[0, 1].set_title('comb_norm_var')\n",
    "\n",
    "axs[0, 2].hist(variation_(df_RVP))\n",
    "axs[0, 2].set_title('RVP_norm_var')\n",
    "\n",
    "axs[1, 0].hist(variation_(df_Density))\n",
    "axs[1, 0].set_title('DEN_norm_var')\n",
    "\n",
    "axs[1, 1].hist(variation_(df_bp))\n",
    "axs[1, 1].set_title('BP_norm_var')"
   ]
  },
  {
   "cell_type": "code",
   "execution_count": null,
   "id": "1e7cc146",
   "metadata": {},
   "outputs": [],
   "source": []
  }
 ],
 "metadata": {
  "kernelspec": {
   "display_name": "biofuel",
   "language": "python",
   "name": "biofuel"
  },
  "language_info": {
   "codemirror_mode": {
    "name": "ipython",
    "version": 3
   },
   "file_extension": ".py",
   "mimetype": "text/x-python",
   "name": "python",
   "nbconvert_exporter": "python",
   "pygments_lexer": "ipython3",
   "version": "3.6.12"
  }
 },
 "nbformat": 4,
 "nbformat_minor": 5
}
