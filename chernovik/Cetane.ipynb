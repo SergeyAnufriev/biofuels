{
 "cells": [
  {
   "cell_type": "markdown",
   "metadata": {
    "pycharm": {
     "name": "#%% md\n"
    }
   },
   "source": [
    "# Cetane"
   ]
  },
  {
   "cell_type": "code",
   "execution_count": 6,
   "metadata": {
    "pycharm": {
     "name": "#%%\n"
    }
   },
   "outputs": [
    {
     "name": "stderr",
     "output_type": "stream",
     "text": [
      "C:\\Anaconda3\\lib\\site-packages\\sklearn\\externals\\joblib\\__init__.py:15: DeprecationWarning: sklearn.externals.joblib is deprecated in 0.21 and will be removed in 0.23. Please import this functionality directly from joblib, which can be installed with: pip install joblib. If this warning is raised when loading pickled models, you may need to re-serialize those models with scikit-learn 0.21+.\n",
      "  warnings.warn(msg, category=DeprecationWarning)\n"
     ]
    }
   ],
   "source": [
    "import pandas as pd\n",
    "import numpy as np\n",
    "from matplotlib import pyplot as plt\n",
    "from sklearn.preprocessing import StandardScaler\n",
    "from mlxtend.feature_selection import SequentialFeatureSelector as sfs\n",
    "from sklearn.metrics import mean_squared_error,r2_score\n",
    "from sklearn.model_selection import cross_val_score\n",
    "from skopt.space import Real, Integer\n",
    "from skopt.utils import use_named_args\n",
    "from sklearn.svm import SVR\n",
    "from skopt import gp_minimize\n",
    "from skopt.plots import plot_convergence\n",
    "\n"
   ]
  },
  {
   "cell_type": "code",
   "execution_count": 118,
   "metadata": {
    "pycharm": {
     "name": "#%%\n"
    }
   },
   "outputs": [],
   "source": [
    "df = pd.read_table(r'C:\\Users\\zcemg08\\Desktop\\important\\2139456\\ef200795j_si_002\\Models\\CN\\MD\\MD.txt')\n",
    "svm_vec = pd.read_table(r'C:\\Users\\zcemg08\\Desktop\\important\\2139456\\ef200795j_si_002\\Models\\CN\\MD\\SVM\\support_vectors.txt',header=None)\n",
    "cn_data = pd.read_excel(r'C:\\Users\\zcemg08\\Desktop\\important\\2139456\\cn_data.xls')\n",
    "\n",
    "df_cetane = df[df['Property'].notnull()]\n",
    "cn_data   = cn_data[cn_data['CN Exp.'].notnull()]"
   ]
  },
  {
   "cell_type": "code",
   "execution_count": 8,
   "metadata": {
    "pycharm": {
     "name": "#%%\n"
    }
   },
   "outputs": [],
   "source": [
    "col = list(cn_data)[39:]\n",
    "x_train_validate = cn_data[cn_data['Set (CN)'].isin(['Training','Validation'])][col].values\n",
    "y_train_validate = cn_data[cn_data['Set (CN)'].isin(['Training','Validation'])]['CN Exp.'].values\n",
    "\n",
    "scaler = StandardScaler()\n",
    "\n",
    "x_train_validate = scaler.fit_transform(x_train_validate)\n",
    "\n"
   ]
  },
  {
   "cell_type": "code",
   "execution_count": 9,
   "metadata": {
    "pycharm": {
     "name": "#%%\n"
    }
   },
   "outputs": [
    {
     "data": {
      "text/plain": [
       "194"
      ]
     },
     "execution_count": 9,
     "metadata": {},
     "output_type": "execute_result"
    }
   ],
   "source": [
    "len(col)"
   ]
  },
  {
   "cell_type": "code",
   "execution_count": 15,
   "metadata": {
    "pycharm": {
     "name": "#%%\n"
    }
   },
   "outputs": [
    {
     "data": {
      "text/plain": [
       "array(['Alcohols', 'Aromatics', 'Esters', 'Naphtenes', 'Olefins',\n",
       "       'Paraffins'], dtype=object)"
      ]
     },
     "execution_count": 15,
     "metadata": {},
     "output_type": "execute_result"
    }
   ],
   "source": [
    "cn_data['Family'].unique()"
   ]
  },
  {
   "cell_type": "code",
   "execution_count": null,
   "metadata": {
    "pycharm": {
     "name": "#%%\n"
    }
   },
   "outputs": [],
   "source": []
  },
  {
   "cell_type": "code",
   "execution_count": 5,
   "metadata": {
    "pycharm": {
     "name": "#%%\n"
    }
   },
   "outputs": [
    {
     "name": "stdout",
     "output_type": "stream",
     "text": [
      "Number of common features found 4\n"
     ]
    }
   ],
   "source": [
    "reg = SVR(gamma='auto')\n",
    "\n",
    "# Build step forward feature selection\n",
    "sfs1 = sfs(reg,\n",
    "           k_features=20,\n",
    "           forward=True,\n",
    "           floating=False,\n",
    "           verbose=0,\n",
    "           scoring='neg_mean_squared_error',\n",
    "           cv=5)\n",
    "\n",
    "# Perform SFFS\n",
    "sfs1 = sfs1.fit(x_train_validate, y_train_validate)\n",
    "\n",
    "index = np.array(sfs1.k_feature_idx_)\n",
    "selected_features = np.take(col,index)\n",
    "found_features = list(df)[4:]\n",
    "\n",
    "a = set(found_features)\n",
    "b = set(selected_features)\n",
    "\n",
    "print ('Number of common features found {}'.format(len(a.intersection(b))))"
   ]
  },
  {
   "cell_type": "markdown",
   "metadata": {
    "pycharm": {
     "name": "#%% md\n"
    }
   },
   "source": [
    "# Build Model "
   ]
  },
  {
   "cell_type": "code",
   "execution_count": 13,
   "metadata": {
    "pycharm": {
     "name": "#%%\n"
    }
   },
   "outputs": [],
   "source": [
    "col = selected_features\n",
    "x_train_validate = cn_data[cn_data['Set (CN)'].isin(['Training','Validation'])][col].values\n",
    "y_train_validate = cn_data[cn_data['Set (CN)'].isin(['Training','Validation'])]['CN Exp.'].values\n",
    "\n",
    "\n",
    "scaler = StandardScaler()\n",
    "\n",
    "x_train_validate = scaler.fit_transform(x_train_validate)\n",
    "\n",
    "x_test = cn_data[cn_data['Set (CN)']=='Test'][col].values\n",
    "x_test = scaler.transform(x_test)\n",
    "y_test = cn_data[cn_data['Set (CN)']=='Test']['CN Exp.'].values\n",
    "\n",
    "\n",
    "reg = SVR(gamma='auto')\n",
    "\n",
    "space  = [Real(10**-3, 10**3, \"log-uniform\", name='C'),\n",
    "          Real(10**-2, 10**2,\"log-uniform\", name='gamma')]\n",
    "\n",
    "@use_named_args(space)\n",
    "def objective(**params):\n",
    "    reg.set_params(**params)\n",
    "\n",
    "    return -np.mean(cross_val_score(reg, x_train_validate, y_train_validate, cv=10, n_jobs=-1,\n",
    "                                    scoring=\"r2\"))\n",
    "\n",
    "res_gp = gp_minimize(objective, space, n_calls=50, random_state=0)\n"
   ]
  },
  {
   "cell_type": "code",
   "execution_count": 14,
   "metadata": {
    "pycharm": {
     "name": "#%%\n"
    }
   },
   "outputs": [
    {
     "data": {
      "text/plain": [
       "<matplotlib.axes._subplots.AxesSubplot at 0x263233fb860>"
      ]
     },
     "execution_count": 14,
     "metadata": {},
     "output_type": "execute_result"
    },
    {
     "data": {
      "image/png": "[encoded data removed]",
      "text/plain": [
       "<Figure size 432x288 with 1 Axes>"
      ]
     },
     "metadata": {
      "needs_background": "light"
     },
     "output_type": "display_data"
    }
   ],
   "source": [
    "plot_convergence(res_gp)"
   ]
  },
  {
   "cell_type": "code",
   "execution_count": 17,
   "metadata": {
    "pycharm": {
     "name": "#%%\n"
    }
   },
   "outputs": [
    {
     "data": {
      "text/plain": [
       "SVR(C=134.43112721338278, cache_size=200, coef0=0.0, degree=3, epsilon=0.1,\n",
       "  gamma=0.01, kernel='rbf', max_iter=-1, shrinking=True, tol=0.001,\n",
       "  verbose=False)"
      ]
     },
     "execution_count": 17,
     "metadata": {},
     "output_type": "execute_result"
    }
   ],
   "source": [
    "reg.C = res_gp.x[0]\n",
    "reg.gamma = res_gp.x[1]\n",
    "\n",
    "reg.fit(x_train_validate,y_train_validate)"
   ]
  },
  {
   "cell_type": "code",
   "execution_count": 18,
   "metadata": {
    "pycharm": {
     "name": "#%%\n"
    }
   },
   "outputs": [
    {
     "name": "stdout",
     "output_type": "stream",
     "text": [
      "RMSE = 5.856579696336973\n",
      "R2 = 0.9390485132135491\n"
     ]
    }
   ],
   "source": [
    "print ('RMSE = {}'.format(np.sqrt(mean_squared_error(y_test, reg.predict(x_test)))))\n",
    "print ('R2 = {}'.format(r2_score(reg.predict(x_test),y_test)))"
   ]
  },
  {
   "cell_type": "code",
   "execution_count": 19,
   "metadata": {
    "pycharm": {
     "name": "#%%\n"
    }
   },
   "outputs": [
    {
     "data": {
      "text/plain": [
       "array(['Molecular.flexibility..Fast.Descriptors.',\n",
       "       'Kappa.3..Fast.Descriptors.',\n",
       "       'Kappa.2..alpha.modified...Fast.Descriptors.',\n",
       "       'Kappa.3..alpha.modified...Fast.Descriptors.',\n",
       "       'Subgraph.counts..3...cluster..Fast.Descriptors.',\n",
       "       'E.state.keys..sums...S_ssCH2..Fast.Descriptors.',\n",
       "       'E.state.keys..sums...S_dsCH..Fast.Descriptors.',\n",
       "       'E.state.keys..sums...S_ddC..Fast.Descriptors.',\n",
       "       'E.state.keys..sums...S_aaO..Fast.Descriptors.',\n",
       "       'Shadow.area..YZ.plane..Spatial.Descriptors.',\n",
       "       'Shadow.length..LX..Spatial.Descriptors.',\n",
       "       'Shadow.length..LY..Spatial.Descriptors.',\n",
       "       'Shadow.ratio..Spatial.Descriptors.', 'DPSA1..Jurs.Descriptors.',\n",
       "       'FPSA1..Jurs.Descriptors.', 'Carboxylic.Acid..Fragment.Counts.',\n",
       "       'Glycerol..Fragment.Counts.', 'Glycol..Fragment.Counts.',\n",
       "       'Isobutyl..Fragment.Counts.', 'Cyclohexane..Fragment.Counts.'],\n",
       "      dtype='<U63')"
      ]
     },
     "execution_count": 19,
     "metadata": {},
     "output_type": "execute_result"
    }
   ],
   "source": [
    "col"
   ]
  },
  {
   "cell_type": "code",
   "execution_count": 24,
   "metadata": {
    "pycharm": {
     "name": "#%%\n"
    }
   },
   "outputs": [
    {
     "data": {
      "image/png": "[encoded data removed]",
      "text/plain": [
       "<Figure size 432x288 with 1 Axes>"
      ]
     },
     "metadata": {
      "needs_background": "light"
     },
     "output_type": "display_data"
    }
   ],
   "source": [
    "plt.scatter(reg.predict(x_test),y_test)\n",
    "\n",
    "x = np.linspace(10,100)\n",
    "y = x\n",
    "\n",
    "plt.plot(x, y, '-r', label='ideal')\n",
    "plt.show()"
   ]
  },
  {
   "cell_type": "code",
   "execution_count": 79,
   "metadata": {
    "pycharm": {
     "name": "#%%\n"
    }
   },
   "outputs": [],
   "source": [
    "from mordred import Calculator, descriptors\n",
    "\n",
    "\n",
    "    # Create empty Calculator instance\n",
    "calc = Calculator(descriptors, ignore_3D=False)\n",
    "\n"
   ]
  },
  {
   "cell_type": "code",
   "execution_count": 80,
   "metadata": {
    "pycharm": {
     "name": "#%%\n"
    }
   },
   "outputs": [],
   "source": [
    "mols = [Chem.MolFromSmiles(smi) for smi in list(cn_data['SMILES'].values)]"
   ]
  },
  {
   "cell_type": "code",
   "execution_count": 81,
   "metadata": {
    "pycharm": {
     "name": "#%%\n"
    }
   },
   "outputs": [
    {
     "name": "stderr",
     "output_type": "stream",
     "text": [
      "                                                \r"
     ]
    },
    {
     "name": "stdout",
     "output_type": "stream",
     "text": [
      "C:\\Anaconda3\\lib\\site-packages\\numpy\\core\\fromnumeric.py:86: RuntimeWarning: overflow encountered in reduce\n",
      "  return ufunc.reduce(obj, axis, dtype, out, **passkwargs)\n"
     ]
    },
    {
     "name": "stderr",
     "output_type": "stream",
     "text": [
      "                                                \r"
     ]
    },
    {
     "name": "stdout",
     "output_type": "stream",
     "text": [
      "C:\\Anaconda3\\lib\\site-packages\\numpy\\core\\fromnumeric.py:86: RuntimeWarning: overflow encountered in reduce\n",
      "  return ufunc.reduce(obj, axis, dtype, out, **passkwargs)\n"
     ]
    },
    {
     "name": "stderr",
     "output_type": "stream",
     "text": [
      "                                                \r"
     ]
    },
    {
     "name": "stdout",
     "output_type": "stream",
     "text": [
      "C:\\Anaconda3\\lib\\site-packages\\numpy\\core\\fromnumeric.py:86: RuntimeWarning: overflow encountered in reduce\n",
      "  return ufunc.reduce(obj, axis, dtype, out, **passkwargs)\n"
     ]
    },
    {
     "name": "stderr",
     "output_type": "stream",
     "text": [
      "                                                \r"
     ]
    },
    {
     "name": "stdout",
     "output_type": "stream",
     "text": [
      "C:\\Anaconda3\\lib\\site-packages\\numpy\\core\\fromnumeric.py:86: RuntimeWarning: overflow encountered in reduce\n",
      "  return ufunc.reduce(obj, axis, dtype, out, **passkwargs)\n"
     ]
    },
    {
     "name": "stderr",
     "output_type": "stream",
     "text": [
      "100%|██████████| 329/329 [00:16<00:00, 20.33it/s]\n"
     ]
    }
   ],
   "source": [
    "df = calc.pandas(mols)"
   ]
  },
  {
   "cell_type": "code",
   "execution_count": 85,
   "metadata": {
    "pycharm": {
     "name": "#%%\n"
    }
   },
   "outputs": [],
   "source": [
    "df['index'] = np.arange(0,329)\n",
    "df1 = cn_data[['Name','SMILES','Set (CN)','CN Exp.']]\n"
   ]
  },
  {
   "cell_type": "code",
   "execution_count": 87,
   "metadata": {
    "pycharm": {
     "name": "#%%\n"
    }
   },
   "outputs": [
    {
     "name": "stderr",
     "output_type": "stream",
     "text": [
      "C:\\Users\\zcemg08\\AppData\\Roaming\\Python\\Python37\\site-packages\\ipykernel_launcher.py:2: SettingWithCopyWarning: \n",
      "A value is trying to be set on a copy of a slice from a DataFrame.\n",
      "Try using .loc[row_indexer,col_indexer] = value instead\n",
      "\n",
      "See the caveats in the documentation: http://pandas.pydata.org/pandas-docs/stable/user_guide/indexing.html#returning-a-view-versus-a-copy\n",
      "  \n"
     ]
    },
    {
     "data": {
      "text/html": [
       "<div>\n",
       "<style scoped>\n",
       "    .dataframe tbody tr th:only-of-type {\n",
       "        vertical-align: middle;\n",
       "    }\n",
       "\n",
       "    .dataframe tbody tr th {\n",
       "        vertical-align: top;\n",
       "    }\n",
       "\n",
       "    .dataframe thead th {\n",
       "        text-align: right;\n",
       "    }\n",
       "</style>\n",
       "<table border=\"1\" class=\"dataframe\">\n",
       "  <thead>\n",
       "    <tr style=\"text-align: right;\">\n",
       "      <th></th>\n",
       "      <th>Name</th>\n",
       "      <th>SMILES</th>\n",
       "      <th>Set (CN)</th>\n",
       "      <th>CN Exp.</th>\n",
       "      <th>index</th>\n",
       "    </tr>\n",
       "  </thead>\n",
       "  <tbody>\n",
       "    <tr>\n",
       "      <td>4</td>\n",
       "      <td>(9Z,12Z,15Z)-octadeca-9,12,15-trien-1-ol</td>\n",
       "      <td>OCCCCCCCC/C=C\\C/C=C\\C/C=C\\CC</td>\n",
       "      <td>Training</td>\n",
       "      <td>41.0</td>\n",
       "      <td>0</td>\n",
       "    </tr>\n",
       "    <tr>\n",
       "      <td>5</td>\n",
       "      <td>(9Z,12Z)-octadeca-9,12-dien-1-ol</td>\n",
       "      <td>CCCCC/C=C\\C/C=C\\CCCCCCCCO</td>\n",
       "      <td>Validation</td>\n",
       "      <td>44.0</td>\n",
       "      <td>1</td>\n",
       "    </tr>\n",
       "    <tr>\n",
       "      <td>6</td>\n",
       "      <td>(9Z)-hexadec-9-en-1-ol</td>\n",
       "      <td>CCCCCC/C=C\\CCCCCCCCO</td>\n",
       "      <td>Test</td>\n",
       "      <td>46.0</td>\n",
       "      <td>2</td>\n",
       "    </tr>\n",
       "    <tr>\n",
       "      <td>7</td>\n",
       "      <td>(9Z)-octadec-9-en-1-ol</td>\n",
       "      <td>CCCCCCCC/C=C\\CCCCCCCCO</td>\n",
       "      <td>Training</td>\n",
       "      <td>51.0</td>\n",
       "      <td>3</td>\n",
       "    </tr>\n",
       "    <tr>\n",
       "      <td>32</td>\n",
       "      <td>2(R)-ethylhexan-1-ol</td>\n",
       "      <td>CCCC[C@@H](CC)CO</td>\n",
       "      <td>Training</td>\n",
       "      <td>23.4</td>\n",
       "      <td>4</td>\n",
       "    </tr>\n",
       "    <tr>\n",
       "      <td>...</td>\n",
       "      <td>...</td>\n",
       "      <td>...</td>\n",
       "      <td>...</td>\n",
       "      <td>...</td>\n",
       "      <td>...</td>\n",
       "    </tr>\n",
       "    <tr>\n",
       "      <td>1154</td>\n",
       "      <td>n-pentane</td>\n",
       "      <td>CCCCC</td>\n",
       "      <td>Training</td>\n",
       "      <td>30.0</td>\n",
       "      <td>324</td>\n",
       "    </tr>\n",
       "    <tr>\n",
       "      <td>1155</td>\n",
       "      <td>n-propane</td>\n",
       "      <td>CCC</td>\n",
       "      <td>Unreliable</td>\n",
       "      <td>-20.0</td>\n",
       "      <td>325</td>\n",
       "    </tr>\n",
       "    <tr>\n",
       "      <td>1156</td>\n",
       "      <td>n-tetradecane</td>\n",
       "      <td>CCCCCCCCCCCCCC</td>\n",
       "      <td>Training</td>\n",
       "      <td>95.0</td>\n",
       "      <td>326</td>\n",
       "    </tr>\n",
       "    <tr>\n",
       "      <td>1157</td>\n",
       "      <td>n-tridecane</td>\n",
       "      <td>CCCCCCCCCCCCC</td>\n",
       "      <td>Validation</td>\n",
       "      <td>90.0</td>\n",
       "      <td>327</td>\n",
       "    </tr>\n",
       "    <tr>\n",
       "      <td>1158</td>\n",
       "      <td>n-undecane</td>\n",
       "      <td>CCCCCCCCCCC</td>\n",
       "      <td>Test</td>\n",
       "      <td>81.0</td>\n",
       "      <td>328</td>\n",
       "    </tr>\n",
       "  </tbody>\n",
       "</table>\n",
       "<p>329 rows × 5 columns</p>\n",
       "</div>"
      ],
      "text/plain": [
       "                                          Name                        SMILES  \\\n",
       "4     (9Z,12Z,15Z)-octadeca-9,12,15-trien-1-ol  OCCCCCCCC/C=C\\C/C=C\\C/C=C\\CC   \n",
       "5             (9Z,12Z)-octadeca-9,12-dien-1-ol     CCCCC/C=C\\C/C=C\\CCCCCCCCO   \n",
       "6                       (9Z)-hexadec-9-en-1-ol          CCCCCC/C=C\\CCCCCCCCO   \n",
       "7                       (9Z)-octadec-9-en-1-ol        CCCCCCCC/C=C\\CCCCCCCCO   \n",
       "32                        2(R)-ethylhexan-1-ol              CCCC[C@@H](CC)CO   \n",
       "...                                        ...                           ...   \n",
       "1154                                 n-pentane                         CCCCC   \n",
       "1155                                 n-propane                           CCC   \n",
       "1156                             n-tetradecane                CCCCCCCCCCCCCC   \n",
       "1157                               n-tridecane                 CCCCCCCCCCCCC   \n",
       "1158                                n-undecane                   CCCCCCCCCCC   \n",
       "\n",
       "        Set (CN)  CN Exp.  index  \n",
       "4       Training     41.0      0  \n",
       "5     Validation     44.0      1  \n",
       "6           Test     46.0      2  \n",
       "7       Training     51.0      3  \n",
       "32      Training     23.4      4  \n",
       "...          ...      ...    ...  \n",
       "1154    Training     30.0    324  \n",
       "1155  Unreliable    -20.0    325  \n",
       "1156    Training     95.0    326  \n",
       "1157  Validation     90.0    327  \n",
       "1158        Test     81.0    328  \n",
       "\n",
       "[329 rows x 5 columns]"
      ]
     },
     "execution_count": 87,
     "metadata": {},
     "output_type": "execute_result"
    }
   ],
   "source": [
    "df1 = cn_data[['Name','SMILES','Set (CN)','CN Exp.']]\n",
    "df1['index'] = np.arange(0,329)\n",
    "df1"
   ]
  },
  {
   "cell_type": "code",
   "execution_count": 89,
   "metadata": {
    "pycharm": {
     "name": "#%%\n"
    }
   },
   "outputs": [],
   "source": [
    "df_descriptors = df1.merge(df,on=['index'] ,how='left')"
   ]
  },
  {
   "cell_type": "code",
   "execution_count": 97,
   "metadata": {
    "pycharm": {
     "name": "#%%\n"
    }
   },
   "outputs": [],
   "source": [
    "df_descriptors = df_descriptors.loc[:, (df_descriptors != df_descriptors.iloc[0]).any()] \n",
    "df_descriptors = df_descriptors.drop(['index'],axis=1)"
   ]
  },
  {
   "cell_type": "code",
   "execution_count": 102,
   "metadata": {
    "pycharm": {
     "name": "#%%\n"
    }
   },
   "outputs": [],
   "source": [
    "df_descriptors = df_descriptors.loc[:,~df_descriptors.columns.duplicated()]\n",
    "\n",
    "df_descriptors = df_descriptors.dropna(axis=1, how='all')"
   ]
  },
  {
   "cell_type": "code",
   "execution_count": 103,
   "metadata": {
    "pycharm": {
     "name": "#%%\n"
    }
   },
   "outputs": [
    {
     "data": {
      "text/html": [
       "<div>\n",
       "<style scoped>\n",
       "    .dataframe tbody tr th:only-of-type {\n",
       "        vertical-align: middle;\n",
       "    }\n",
       "\n",
       "    .dataframe tbody tr th {\n",
       "        vertical-align: top;\n",
       "    }\n",
       "\n",
       "    .dataframe thead th {\n",
       "        text-align: right;\n",
       "    }\n",
       "</style>\n",
       "<table border=\"1\" class=\"dataframe\">\n",
       "  <thead>\n",
       "    <tr style=\"text-align: right;\">\n",
       "      <th></th>\n",
       "      <th>Name</th>\n",
       "      <th>SMILES</th>\n",
       "      <th>Set (CN)</th>\n",
       "      <th>CN Exp.</th>\n",
       "      <th>ABC</th>\n",
       "      <th>ABCGG</th>\n",
       "      <th>nAcid</th>\n",
       "      <th>SpAbs_A</th>\n",
       "      <th>SpMax_A</th>\n",
       "      <th>SpDiam_A</th>\n",
       "      <th>...</th>\n",
       "      <th>SRW10</th>\n",
       "      <th>TSRW10</th>\n",
       "      <th>MW</th>\n",
       "      <th>AMW</th>\n",
       "      <th>WPath</th>\n",
       "      <th>WPol</th>\n",
       "      <th>Zagreb1</th>\n",
       "      <th>Zagreb2</th>\n",
       "      <th>mZagreb1</th>\n",
       "      <th>mZagreb2</th>\n",
       "    </tr>\n",
       "  </thead>\n",
       "  <tbody>\n",
       "    <tr>\n",
       "      <td>0</td>\n",
       "      <td>(9Z,12Z,15Z)-octadeca-9,12,15-trien-1-ol</td>\n",
       "      <td>OCCCCCCCC/C=C\\C/C=C\\C/C=C\\CC</td>\n",
       "      <td>Training</td>\n",
       "      <td>41.0</td>\n",
       "      <td>12.727922</td>\n",
       "      <td>10.180005</td>\n",
       "      <td>0</td>\n",
       "      <td>23.412409</td>\n",
       "      <td>1.975377</td>\n",
       "      <td>3.950753</td>\n",
       "      <td>...</td>\n",
       "      <td>8.298291</td>\n",
       "      <td>48.426412</td>\n",
       "      <td>264.245316</td>\n",
       "      <td>5.181281</td>\n",
       "      <td>1140</td>\n",
       "      <td>16</td>\n",
       "      <td>70.0</td>\n",
       "      <td>68.0</td>\n",
       "      <td>6.250000</td>\n",
       "      <td>5.00</td>\n",
       "    </tr>\n",
       "    <tr>\n",
       "      <td>1</td>\n",
       "      <td>(9Z,12Z)-octadeca-9,12-dien-1-ol</td>\n",
       "      <td>CCCCC/C=C\\C/C=C\\CCCCCCCCO</td>\n",
       "      <td>Validation</td>\n",
       "      <td>44.0</td>\n",
       "      <td>12.727922</td>\n",
       "      <td>10.180005</td>\n",
       "      <td>0</td>\n",
       "      <td>23.412409</td>\n",
       "      <td>1.975377</td>\n",
       "      <td>3.950753</td>\n",
       "      <td>...</td>\n",
       "      <td>8.298291</td>\n",
       "      <td>48.426412</td>\n",
       "      <td>266.260966</td>\n",
       "      <td>5.023792</td>\n",
       "      <td>1140</td>\n",
       "      <td>16</td>\n",
       "      <td>70.0</td>\n",
       "      <td>68.0</td>\n",
       "      <td>6.250000</td>\n",
       "      <td>5.00</td>\n",
       "    </tr>\n",
       "    <tr>\n",
       "      <td>2</td>\n",
       "      <td>(9Z)-hexadec-9-en-1-ol</td>\n",
       "      <td>CCCCCC/C=C\\CCCCCCCCO</td>\n",
       "      <td>Test</td>\n",
       "      <td>46.0</td>\n",
       "      <td>11.313708</td>\n",
       "      <td>9.412260</td>\n",
       "      <td>0</td>\n",
       "      <td>20.860105</td>\n",
       "      <td>1.969616</td>\n",
       "      <td>3.939231</td>\n",
       "      <td>...</td>\n",
       "      <td>8.164226</td>\n",
       "      <td>45.799808</td>\n",
       "      <td>240.245316</td>\n",
       "      <td>4.902966</td>\n",
       "      <td>816</td>\n",
       "      <td>14</td>\n",
       "      <td>62.0</td>\n",
       "      <td>60.0</td>\n",
       "      <td>5.750000</td>\n",
       "      <td>4.50</td>\n",
       "    </tr>\n",
       "    <tr>\n",
       "      <td>3</td>\n",
       "      <td>(9Z)-octadec-9-en-1-ol</td>\n",
       "      <td>CCCCCCCC/C=C\\CCCCCCCCO</td>\n",
       "      <td>Training</td>\n",
       "      <td>51.0</td>\n",
       "      <td>12.727922</td>\n",
       "      <td>10.180005</td>\n",
       "      <td>0</td>\n",
       "      <td>23.412409</td>\n",
       "      <td>1.975377</td>\n",
       "      <td>3.950753</td>\n",
       "      <td>...</td>\n",
       "      <td>8.298291</td>\n",
       "      <td>48.426412</td>\n",
       "      <td>268.276616</td>\n",
       "      <td>4.877757</td>\n",
       "      <td>1140</td>\n",
       "      <td>16</td>\n",
       "      <td>70.0</td>\n",
       "      <td>68.0</td>\n",
       "      <td>6.250000</td>\n",
       "      <td>5.00</td>\n",
       "    </tr>\n",
       "    <tr>\n",
       "      <td>4</td>\n",
       "      <td>2(R)-ethylhexan-1-ol</td>\n",
       "      <td>CCCC[C@@H](CC)CO</td>\n",
       "      <td>Training</td>\n",
       "      <td>23.4</td>\n",
       "      <td>5.656854</td>\n",
       "      <td>6.142781</td>\n",
       "      <td>0</td>\n",
       "      <td>10.565187</td>\n",
       "      <td>2.042079</td>\n",
       "      <td>4.084158</td>\n",
       "      <td>...</td>\n",
       "      <td>7.884953</td>\n",
       "      <td>35.263065</td>\n",
       "      <td>130.135765</td>\n",
       "      <td>4.819843</td>\n",
       "      <td>104</td>\n",
       "      <td>8</td>\n",
       "      <td>32.0</td>\n",
       "      <td>32.0</td>\n",
       "      <td>4.361111</td>\n",
       "      <td>2.50</td>\n",
       "    </tr>\n",
       "    <tr>\n",
       "      <td>...</td>\n",
       "      <td>...</td>\n",
       "      <td>...</td>\n",
       "      <td>...</td>\n",
       "      <td>...</td>\n",
       "      <td>...</td>\n",
       "      <td>...</td>\n",
       "      <td>...</td>\n",
       "      <td>...</td>\n",
       "      <td>...</td>\n",
       "      <td>...</td>\n",
       "      <td>...</td>\n",
       "      <td>...</td>\n",
       "      <td>...</td>\n",
       "      <td>...</td>\n",
       "      <td>...</td>\n",
       "      <td>...</td>\n",
       "      <td>...</td>\n",
       "      <td>...</td>\n",
       "      <td>...</td>\n",
       "      <td>...</td>\n",
       "      <td>...</td>\n",
       "    </tr>\n",
       "    <tr>\n",
       "      <td>324</td>\n",
       "      <td>n-pentane</td>\n",
       "      <td>CCCCC</td>\n",
       "      <td>Training</td>\n",
       "      <td>30.0</td>\n",
       "      <td>2.828427</td>\n",
       "      <td>3.146264</td>\n",
       "      <td>0</td>\n",
       "      <td>5.464102</td>\n",
       "      <td>1.732051</td>\n",
       "      <td>3.464102</td>\n",
       "      <td>...</td>\n",
       "      <td>6.192362</td>\n",
       "      <td>25.583106</td>\n",
       "      <td>72.093900</td>\n",
       "      <td>4.240818</td>\n",
       "      <td>20</td>\n",
       "      <td>2</td>\n",
       "      <td>14.0</td>\n",
       "      <td>12.0</td>\n",
       "      <td>2.750000</td>\n",
       "      <td>1.50</td>\n",
       "    </tr>\n",
       "    <tr>\n",
       "      <td>325</td>\n",
       "      <td>n-propane</td>\n",
       "      <td>CCC</td>\n",
       "      <td>Unreliable</td>\n",
       "      <td>-20.0</td>\n",
       "      <td>1.414214</td>\n",
       "      <td>1.414214</td>\n",
       "      <td>0</td>\n",
       "      <td>2.828427</td>\n",
       "      <td>1.414214</td>\n",
       "      <td>2.828427</td>\n",
       "      <td>...</td>\n",
       "      <td>4.174387</td>\n",
       "      <td>17.310771</td>\n",
       "      <td>44.062600</td>\n",
       "      <td>4.005691</td>\n",
       "      <td>4</td>\n",
       "      <td>0</td>\n",
       "      <td>6.0</td>\n",
       "      <td>4.0</td>\n",
       "      <td>2.250000</td>\n",
       "      <td>1.00</td>\n",
       "    </tr>\n",
       "    <tr>\n",
       "      <td>326</td>\n",
       "      <td>n-tetradecane</td>\n",
       "      <td>CCCCCCCCCCCCCC</td>\n",
       "      <td>Training</td>\n",
       "      <td>95.0</td>\n",
       "      <td>9.192388</td>\n",
       "      <td>8.164909</td>\n",
       "      <td>0</td>\n",
       "      <td>17.133544</td>\n",
       "      <td>1.956295</td>\n",
       "      <td>3.912590</td>\n",
       "      <td>...</td>\n",
       "      <td>7.921898</td>\n",
       "      <td>41.681626</td>\n",
       "      <td>198.234751</td>\n",
       "      <td>4.505335</td>\n",
       "      <td>455</td>\n",
       "      <td>11</td>\n",
       "      <td>50.0</td>\n",
       "      <td>48.0</td>\n",
       "      <td>5.000000</td>\n",
       "      <td>3.75</td>\n",
       "    </tr>\n",
       "    <tr>\n",
       "      <td>327</td>\n",
       "      <td>n-tridecane</td>\n",
       "      <td>CCCCCCCCCCCCC</td>\n",
       "      <td>Validation</td>\n",
       "      <td>90.0</td>\n",
       "      <td>8.485281</td>\n",
       "      <td>7.718011</td>\n",
       "      <td>0</td>\n",
       "      <td>15.750491</td>\n",
       "      <td>1.949856</td>\n",
       "      <td>3.899712</td>\n",
       "      <td>...</td>\n",
       "      <td>7.826044</td>\n",
       "      <td>40.245095</td>\n",
       "      <td>184.219101</td>\n",
       "      <td>4.493149</td>\n",
       "      <td>364</td>\n",
       "      <td>10</td>\n",
       "      <td>46.0</td>\n",
       "      <td>44.0</td>\n",
       "      <td>4.750000</td>\n",
       "      <td>3.50</td>\n",
       "    </tr>\n",
       "    <tr>\n",
       "      <td>328</td>\n",
       "      <td>n-undecane</td>\n",
       "      <td>CCCCCCCCCCC</td>\n",
       "      <td>Test</td>\n",
       "      <td>81.0</td>\n",
       "      <td>7.071068</td>\n",
       "      <td>6.765664</td>\n",
       "      <td>0</td>\n",
       "      <td>13.191508</td>\n",
       "      <td>1.931852</td>\n",
       "      <td>3.863703</td>\n",
       "      <td>...</td>\n",
       "      <td>7.601402</td>\n",
       "      <td>37.236738</td>\n",
       "      <td>156.187801</td>\n",
       "      <td>4.462509</td>\n",
       "      <td>220</td>\n",
       "      <td>8</td>\n",
       "      <td>38.0</td>\n",
       "      <td>36.0</td>\n",
       "      <td>4.250000</td>\n",
       "      <td>3.00</td>\n",
       "    </tr>\n",
       "  </tbody>\n",
       "</table>\n",
       "<p>329 rows × 1537 columns</p>\n",
       "</div>"
      ],
      "text/plain": [
       "                                         Name                        SMILES  \\\n",
       "0    (9Z,12Z,15Z)-octadeca-9,12,15-trien-1-ol  OCCCCCCCC/C=C\\C/C=C\\C/C=C\\CC   \n",
       "1            (9Z,12Z)-octadeca-9,12-dien-1-ol     CCCCC/C=C\\C/C=C\\CCCCCCCCO   \n",
       "2                      (9Z)-hexadec-9-en-1-ol          CCCCCC/C=C\\CCCCCCCCO   \n",
       "3                      (9Z)-octadec-9-en-1-ol        CCCCCCCC/C=C\\CCCCCCCCO   \n",
       "4                        2(R)-ethylhexan-1-ol              CCCC[C@@H](CC)CO   \n",
       "..                                        ...                           ...   \n",
       "324                                 n-pentane                         CCCCC   \n",
       "325                                 n-propane                           CCC   \n",
       "326                             n-tetradecane                CCCCCCCCCCCCCC   \n",
       "327                               n-tridecane                 CCCCCCCCCCCCC   \n",
       "328                                n-undecane                   CCCCCCCCCCC   \n",
       "\n",
       "       Set (CN)  CN Exp.        ABC      ABCGG  nAcid    SpAbs_A   SpMax_A  \\\n",
       "0      Training     41.0  12.727922  10.180005      0  23.412409  1.975377   \n",
       "1    Validation     44.0  12.727922  10.180005      0  23.412409  1.975377   \n",
       "2          Test     46.0  11.313708   9.412260      0  20.860105  1.969616   \n",
       "3      Training     51.0  12.727922  10.180005      0  23.412409  1.975377   \n",
       "4      Training     23.4   5.656854   6.142781      0  10.565187  2.042079   \n",
       "..          ...      ...        ...        ...    ...        ...       ...   \n",
       "324    Training     30.0   2.828427   3.146264      0   5.464102  1.732051   \n",
       "325  Unreliable    -20.0   1.414214   1.414214      0   2.828427  1.414214   \n",
       "326    Training     95.0   9.192388   8.164909      0  17.133544  1.956295   \n",
       "327  Validation     90.0   8.485281   7.718011      0  15.750491  1.949856   \n",
       "328        Test     81.0   7.071068   6.765664      0  13.191508  1.931852   \n",
       "\n",
       "     SpDiam_A  ...     SRW10     TSRW10          MW       AMW  WPath  WPol  \\\n",
       "0    3.950753  ...  8.298291  48.426412  264.245316  5.181281   1140    16   \n",
       "1    3.950753  ...  8.298291  48.426412  266.260966  5.023792   1140    16   \n",
       "2    3.939231  ...  8.164226  45.799808  240.245316  4.902966    816    14   \n",
       "3    3.950753  ...  8.298291  48.426412  268.276616  4.877757   1140    16   \n",
       "4    4.084158  ...  7.884953  35.263065  130.135765  4.819843    104     8   \n",
       "..        ...  ...       ...        ...         ...       ...    ...   ...   \n",
       "324  3.464102  ...  6.192362  25.583106   72.093900  4.240818     20     2   \n",
       "325  2.828427  ...  4.174387  17.310771   44.062600  4.005691      4     0   \n",
       "326  3.912590  ...  7.921898  41.681626  198.234751  4.505335    455    11   \n",
       "327  3.899712  ...  7.826044  40.245095  184.219101  4.493149    364    10   \n",
       "328  3.863703  ...  7.601402  37.236738  156.187801  4.462509    220     8   \n",
       "\n",
       "     Zagreb1  Zagreb2  mZagreb1  mZagreb2  \n",
       "0       70.0     68.0  6.250000      5.00  \n",
       "1       70.0     68.0  6.250000      5.00  \n",
       "2       62.0     60.0  5.750000      4.50  \n",
       "3       70.0     68.0  6.250000      5.00  \n",
       "4       32.0     32.0  4.361111      2.50  \n",
       "..       ...      ...       ...       ...  \n",
       "324     14.0     12.0  2.750000      1.50  \n",
       "325      6.0      4.0  2.250000      1.00  \n",
       "326     50.0     48.0  5.000000      3.75  \n",
       "327     46.0     44.0  4.750000      3.50  \n",
       "328     38.0     36.0  4.250000      3.00  \n",
       "\n",
       "[329 rows x 1537 columns]"
      ]
     },
     "execution_count": 103,
     "metadata": {},
     "output_type": "execute_result"
    }
   ],
   "source": [
    "df_descriptors"
   ]
  },
  {
   "cell_type": "code",
   "execution_count": 107,
   "metadata": {
    "pycharm": {
     "name": "#%%\n"
    }
   },
   "outputs": [],
   "source": [
    "num_cols = df_descriptors._get_numeric_data().columns"
   ]
  },
  {
   "cell_type": "code",
   "execution_count": 110,
   "metadata": {
    "pycharm": {
     "name": "#%%\n"
    }
   },
   "outputs": [
    {
     "data": {
      "text/plain": [
       "Index(['CN Exp.', 'ABC', 'ABCGG', 'nAcid', 'SpAbs_A', 'SpMax_A', 'SpDiam_A',\n",
       "       'SpAD_A', 'SpMAD_A', 'LogEE_A',\n",
       "       ...\n",
       "       'SRW10', 'TSRW10', 'MW', 'AMW', 'WPath', 'WPol', 'Zagreb1', 'Zagreb2',\n",
       "       'mZagreb1', 'mZagreb2'],\n",
       "      dtype='object', length=889)"
      ]
     },
     "execution_count": 110,
     "metadata": {},
     "output_type": "execute_result"
    }
   ],
   "source": [
    "num_cols"
   ]
  },
  {
   "cell_type": "code",
   "execution_count": 111,
   "metadata": {
    "pycharm": {
     "name": "#%%\n"
    }
   },
   "outputs": [],
   "source": [
    "df_test = df_descriptors[num_cols]"
   ]
  },
  {
   "cell_type": "code",
   "execution_count": 119,
   "metadata": {
    "pycharm": {
     "name": "#%%\n"
    }
   },
   "outputs": [
    {
     "name": "stderr",
     "output_type": "stream",
     "text": [
      "C:\\Users\\zcemg08\\AppData\\Roaming\\Python\\Python37\\site-packages\\ipykernel_launcher.py:1: SettingWithCopyWarning: \n",
      "A value is trying to be set on a copy of a slice from a DataFrame.\n",
      "Try using .loc[row_indexer,col_indexer] = value instead\n",
      "\n",
      "See the caveats in the documentation: http://pandas.pydata.org/pandas-docs/stable/user_guide/indexing.html#returning-a-view-versus-a-copy\n",
      "  \"\"\"Entry point for launching an IPython kernel.\n"
     ]
    }
   ],
   "source": [
    "df_test['Set (CN)'] = cn_data['Set (CN)']"
   ]
  },
  {
   "cell_type": "code",
   "execution_count": 121,
   "metadata": {
    "pycharm": {
     "name": "#%%\n"
    }
   },
   "outputs": [
    {
     "data": {
      "text/plain": [
       "0           NaN\n",
       "1           NaN\n",
       "2           NaN\n",
       "3           NaN\n",
       "4      Training\n",
       "         ...   \n",
       "324         NaN\n",
       "325         NaN\n",
       "326         NaN\n",
       "327         NaN\n",
       "328         NaN\n",
       "Name: Set (CN), Length: 329, dtype: object"
      ]
     },
     "execution_count": 121,
     "metadata": {},
     "output_type": "execute_result"
    }
   ],
   "source": [
    "df_test['Set (CN)']"
   ]
  },
  {
   "cell_type": "code",
   "execution_count": 115,
   "metadata": {
    "pycharm": {
     "name": "#%%\n"
    }
   },
   "outputs": [],
   "source": [
    "col = list(df_test)[1:]"
   ]
  },
  {
   "cell_type": "code",
   "execution_count": 116,
   "metadata": {
    "pycharm": {
     "name": "#%%\n"
    }
   },
   "outputs": [
    {
     "ename": "KeyError",
     "evalue": "'Set (CN)'",
     "output_type": "error",
     "traceback": [
      "\u001B[1;31m---------------------------------------------------------------------------\u001B[0m",
      "\u001B[1;31mKeyError\u001B[0m                                  Traceback (most recent call last)",
      "\u001B[1;32mC:\\Anaconda3\\lib\\site-packages\\pandas\\core\\indexes\\base.py\u001B[0m in \u001B[0;36mget_loc\u001B[1;34m(self, key, method, tolerance)\u001B[0m\n\u001B[0;32m   2896\u001B[0m             \u001B[1;32mtry\u001B[0m\u001B[1;33m:\u001B[0m\u001B[1;33m\u001B[0m\u001B[1;33m\u001B[0m\u001B[0m\n\u001B[1;32m-> 2897\u001B[1;33m                 \u001B[1;32mreturn\u001B[0m \u001B[0mself\u001B[0m\u001B[1;33m.\u001B[0m\u001B[0m_engine\u001B[0m\u001B[1;33m.\u001B[0m\u001B[0mget_loc\u001B[0m\u001B[1;33m(\u001B[0m\u001B[0mkey\u001B[0m\u001B[1;33m)\u001B[0m\u001B[1;33m\u001B[0m\u001B[1;33m\u001B[0m\u001B[0m\n\u001B[0m\u001B[0;32m   2898\u001B[0m             \u001B[1;32mexcept\u001B[0m \u001B[0mKeyError\u001B[0m\u001B[1;33m:\u001B[0m\u001B[1;33m\u001B[0m\u001B[1;33m\u001B[0m\u001B[0m\n",
      "\u001B[1;32mpandas\\_libs\\index.pyx\u001B[0m in \u001B[0;36mpandas._libs.index.IndexEngine.get_loc\u001B[1;34m()\u001B[0m\n",
      "\u001B[1;32mpandas\\_libs\\index.pyx\u001B[0m in \u001B[0;36mpandas._libs.index.IndexEngine.get_loc\u001B[1;34m()\u001B[0m\n",
      "\u001B[1;32mpandas\\_libs\\hashtable_class_helper.pxi\u001B[0m in \u001B[0;36mpandas._libs.hashtable.PyObjectHashTable.get_item\u001B[1;34m()\u001B[0m\n",
      "\u001B[1;32mpandas\\_libs\\hashtable_class_helper.pxi\u001B[0m in \u001B[0;36mpandas._libs.hashtable.PyObjectHashTable.get_item\u001B[1;34m()\u001B[0m\n",
      "\u001B[1;31mKeyError\u001B[0m: 'Set (CN)'",
      "\nDuring handling of the above exception, another exception occurred:\n",
      "\u001B[1;31mKeyError\u001B[0m                                  Traceback (most recent call last)",
      "\u001B[1;32m<ipython-input-116-010a83f9a3a6>\u001B[0m in \u001B[0;36m<module>\u001B[1;34m\u001B[0m\n\u001B[0;32m      1\u001B[0m \u001B[0mcn_data\u001B[0m \u001B[1;33m=\u001B[0m \u001B[0mdf_test\u001B[0m\u001B[1;33m\u001B[0m\u001B[1;33m\u001B[0m\u001B[0m\n\u001B[0;32m      2\u001B[0m \u001B[1;33m\u001B[0m\u001B[0m\n\u001B[1;32m----> 3\u001B[1;33m \u001B[0mx_train_validate\u001B[0m \u001B[1;33m=\u001B[0m \u001B[0mcn_data\u001B[0m\u001B[1;33m[\u001B[0m\u001B[0mcn_data\u001B[0m\u001B[1;33m[\u001B[0m\u001B[1;34m'Set (CN)'\u001B[0m\u001B[1;33m]\u001B[0m\u001B[1;33m.\u001B[0m\u001B[0misin\u001B[0m\u001B[1;33m(\u001B[0m\u001B[1;33m[\u001B[0m\u001B[1;34m'Training'\u001B[0m\u001B[1;33m,\u001B[0m\u001B[1;34m'Validation'\u001B[0m\u001B[1;33m]\u001B[0m\u001B[1;33m)\u001B[0m\u001B[1;33m]\u001B[0m\u001B[1;33m[\u001B[0m\u001B[0mcol\u001B[0m\u001B[1;33m]\u001B[0m\u001B[1;33m.\u001B[0m\u001B[0mvalues\u001B[0m\u001B[1;33m\u001B[0m\u001B[1;33m\u001B[0m\u001B[0m\n\u001B[0m\u001B[0;32m      4\u001B[0m \u001B[0my_train_validate\u001B[0m \u001B[1;33m=\u001B[0m \u001B[0mcn_data\u001B[0m\u001B[1;33m[\u001B[0m\u001B[0mcn_data\u001B[0m\u001B[1;33m[\u001B[0m\u001B[1;34m'Set (CN)'\u001B[0m\u001B[1;33m]\u001B[0m\u001B[1;33m.\u001B[0m\u001B[0misin\u001B[0m\u001B[1;33m(\u001B[0m\u001B[1;33m[\u001B[0m\u001B[1;34m'Training'\u001B[0m\u001B[1;33m,\u001B[0m\u001B[1;34m'Validation'\u001B[0m\u001B[1;33m]\u001B[0m\u001B[1;33m)\u001B[0m\u001B[1;33m]\u001B[0m\u001B[1;33m[\u001B[0m\u001B[1;34m'CN Exp.'\u001B[0m\u001B[1;33m]\u001B[0m\u001B[1;33m.\u001B[0m\u001B[0mvalues\u001B[0m\u001B[1;33m\u001B[0m\u001B[1;33m\u001B[0m\u001B[0m\n\u001B[0;32m      5\u001B[0m \u001B[1;33m\u001B[0m\u001B[0m\n",
      "\u001B[1;32mC:\\Anaconda3\\lib\\site-packages\\pandas\\core\\frame.py\u001B[0m in \u001B[0;36m__getitem__\u001B[1;34m(self, key)\u001B[0m\n\u001B[0;32m   2978\u001B[0m             \u001B[1;32mif\u001B[0m \u001B[0mself\u001B[0m\u001B[1;33m.\u001B[0m\u001B[0mcolumns\u001B[0m\u001B[1;33m.\u001B[0m\u001B[0mnlevels\u001B[0m \u001B[1;33m>\u001B[0m \u001B[1;36m1\u001B[0m\u001B[1;33m:\u001B[0m\u001B[1;33m\u001B[0m\u001B[1;33m\u001B[0m\u001B[0m\n\u001B[0;32m   2979\u001B[0m                 \u001B[1;32mreturn\u001B[0m \u001B[0mself\u001B[0m\u001B[1;33m.\u001B[0m\u001B[0m_getitem_multilevel\u001B[0m\u001B[1;33m(\u001B[0m\u001B[0mkey\u001B[0m\u001B[1;33m)\u001B[0m\u001B[1;33m\u001B[0m\u001B[1;33m\u001B[0m\u001B[0m\n\u001B[1;32m-> 2980\u001B[1;33m             \u001B[0mindexer\u001B[0m \u001B[1;33m=\u001B[0m \u001B[0mself\u001B[0m\u001B[1;33m.\u001B[0m\u001B[0mcolumns\u001B[0m\u001B[1;33m.\u001B[0m\u001B[0mget_loc\u001B[0m\u001B[1;33m(\u001B[0m\u001B[0mkey\u001B[0m\u001B[1;33m)\u001B[0m\u001B[1;33m\u001B[0m\u001B[1;33m\u001B[0m\u001B[0m\n\u001B[0m\u001B[0;32m   2981\u001B[0m             \u001B[1;32mif\u001B[0m \u001B[0mis_integer\u001B[0m\u001B[1;33m(\u001B[0m\u001B[0mindexer\u001B[0m\u001B[1;33m)\u001B[0m\u001B[1;33m:\u001B[0m\u001B[1;33m\u001B[0m\u001B[1;33m\u001B[0m\u001B[0m\n\u001B[0;32m   2982\u001B[0m                 \u001B[0mindexer\u001B[0m \u001B[1;33m=\u001B[0m \u001B[1;33m[\u001B[0m\u001B[0mindexer\u001B[0m\u001B[1;33m]\u001B[0m\u001B[1;33m\u001B[0m\u001B[1;33m\u001B[0m\u001B[0m\n",
      "\u001B[1;32mC:\\Anaconda3\\lib\\site-packages\\pandas\\core\\indexes\\base.py\u001B[0m in \u001B[0;36mget_loc\u001B[1;34m(self, key, method, tolerance)\u001B[0m\n\u001B[0;32m   2897\u001B[0m                 \u001B[1;32mreturn\u001B[0m \u001B[0mself\u001B[0m\u001B[1;33m.\u001B[0m\u001B[0m_engine\u001B[0m\u001B[1;33m.\u001B[0m\u001B[0mget_loc\u001B[0m\u001B[1;33m(\u001B[0m\u001B[0mkey\u001B[0m\u001B[1;33m)\u001B[0m\u001B[1;33m\u001B[0m\u001B[1;33m\u001B[0m\u001B[0m\n\u001B[0;32m   2898\u001B[0m             \u001B[1;32mexcept\u001B[0m \u001B[0mKeyError\u001B[0m\u001B[1;33m:\u001B[0m\u001B[1;33m\u001B[0m\u001B[1;33m\u001B[0m\u001B[0m\n\u001B[1;32m-> 2899\u001B[1;33m                 \u001B[1;32mreturn\u001B[0m \u001B[0mself\u001B[0m\u001B[1;33m.\u001B[0m\u001B[0m_engine\u001B[0m\u001B[1;33m.\u001B[0m\u001B[0mget_loc\u001B[0m\u001B[1;33m(\u001B[0m\u001B[0mself\u001B[0m\u001B[1;33m.\u001B[0m\u001B[0m_maybe_cast_indexer\u001B[0m\u001B[1;33m(\u001B[0m\u001B[0mkey\u001B[0m\u001B[1;33m)\u001B[0m\u001B[1;33m)\u001B[0m\u001B[1;33m\u001B[0m\u001B[1;33m\u001B[0m\u001B[0m\n\u001B[0m\u001B[0;32m   2900\u001B[0m         \u001B[0mindexer\u001B[0m \u001B[1;33m=\u001B[0m \u001B[0mself\u001B[0m\u001B[1;33m.\u001B[0m\u001B[0mget_indexer\u001B[0m\u001B[1;33m(\u001B[0m\u001B[1;33m[\u001B[0m\u001B[0mkey\u001B[0m\u001B[1;33m]\u001B[0m\u001B[1;33m,\u001B[0m \u001B[0mmethod\u001B[0m\u001B[1;33m=\u001B[0m\u001B[0mmethod\u001B[0m\u001B[1;33m,\u001B[0m \u001B[0mtolerance\u001B[0m\u001B[1;33m=\u001B[0m\u001B[0mtolerance\u001B[0m\u001B[1;33m)\u001B[0m\u001B[1;33m\u001B[0m\u001B[1;33m\u001B[0m\u001B[0m\n\u001B[0;32m   2901\u001B[0m         \u001B[1;32mif\u001B[0m \u001B[0mindexer\u001B[0m\u001B[1;33m.\u001B[0m\u001B[0mndim\u001B[0m \u001B[1;33m>\u001B[0m \u001B[1;36m1\u001B[0m \u001B[1;32mor\u001B[0m \u001B[0mindexer\u001B[0m\u001B[1;33m.\u001B[0m\u001B[0msize\u001B[0m \u001B[1;33m>\u001B[0m \u001B[1;36m1\u001B[0m\u001B[1;33m:\u001B[0m\u001B[1;33m\u001B[0m\u001B[1;33m\u001B[0m\u001B[0m\n",
      "\u001B[1;32mpandas\\_libs\\index.pyx\u001B[0m in \u001B[0;36mpandas._libs.index.IndexEngine.get_loc\u001B[1;34m()\u001B[0m\n",
      "\u001B[1;32mpandas\\_libs\\index.pyx\u001B[0m in \u001B[0;36mpandas._libs.index.IndexEngine.get_loc\u001B[1;34m()\u001B[0m\n",
      "\u001B[1;32mpandas\\_libs\\hashtable_class_helper.pxi\u001B[0m in \u001B[0;36mpandas._libs.hashtable.PyObjectHashTable.get_item\u001B[1;34m()\u001B[0m\n",
      "\u001B[1;32mpandas\\_libs\\hashtable_class_helper.pxi\u001B[0m in \u001B[0;36mpandas._libs.hashtable.PyObjectHashTable.get_item\u001B[1;34m()\u001B[0m\n",
      "\u001B[1;31mKeyError\u001B[0m: 'Set (CN)'"
     ]
    }
   ],
   "source": [
    "cn_data = df_test\n",
    "\n",
    "x_train_validate = cn_data[cn_data['Set (CN)'].isin(['Training','Validation'])][col].values\n",
    "y_train_validate = cn_data[cn_data['Set (CN)'].isin(['Training','Validation'])]['CN Exp.'].values\n",
    "\n",
    "scaler = StandardScaler()\n",
    "\n",
    "x_train_validate = scaler.fit_transform(x_train_validate)\n"
   ]
  },
  {
   "cell_type": "code",
   "execution_count": null,
   "metadata": {
    "pycharm": {
     "name": "#%%\n"
    }
   },
   "outputs": [],
   "source": []
  }
 ],
 "metadata": {
  "kernelspec": {
   "display_name": "Python 3",
   "language": "python",
   "name": "python3"
  },
  "language_info": {
   "codemirror_mode": {
    "name": "ipython",
    "version": 3
   },
   "file_extension": ".py",
   "mimetype": "text/x-python",
   "name": "python",
   "nbconvert_exporter": "python",
   "pygments_lexer": "ipython3",
   "version": "3.6.12"
  }
 },
 "nbformat": 4,
 "nbformat_minor": 2
}