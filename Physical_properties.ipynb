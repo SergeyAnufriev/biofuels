{
 "cells": [
  {
   "cell_type": "code",
   "execution_count": 1,
   "id": "c1d09987",
   "metadata": {},
   "outputs": [],
   "source": [
    "import pandas as pd\n",
    "import glob\n",
    "import matplotlib.pyplot as plt\n",
    "import numpy as np\n",
    "from scipy.stats import variation\n",
    "from urllib.request import urlopen\n",
    "from urllib.parse import quote\n",
    "from rdkit import Chem\n",
    "from rdkit.Chem.Descriptors import MolWt\n",
    "from collections import Counter"
   ]
  },
  {
   "cell_type": "code",
   "execution_count": 2,
   "id": "d8ffa4ee",
   "metadata": {},
   "outputs": [],
   "source": [
    "files_dir = glob.glob(r\"C:\\Users\\zcemg08\\PycharmProjects\\biofuels\\data\\phys_prop\\*.csv\")"
   ]
  },
  {
   "cell_type": "code",
   "execution_count": 3,
   "id": "3825df08",
   "metadata": {},
   "outputs": [
    {
     "data": {
      "text/plain": [
       "['C:\\\\Users\\\\zcemg08\\\\PycharmProjects\\\\biofuels\\\\data\\\\phys_prop\\\\1-s2.0-S0009250920306096-mmc2.csv',\n",
       " 'C:\\\\Users\\\\zcemg08\\\\PycharmProjects\\\\biofuels\\\\data\\\\phys_prop\\\\1-s2.0-S0009250920306096-mmc3.csv',\n",
       " 'C:\\\\Users\\\\zcemg08\\\\PycharmProjects\\\\biofuels\\\\data\\\\phys_prop\\\\1-s2.0-S0009250920306096-mmc4.csv',\n",
       " 'C:\\\\Users\\\\zcemg08\\\\PycharmProjects\\\\biofuels\\\\data\\\\phys_prop\\\\1-s2.0-S0009250920306096-mmc5.csv',\n",
       " 'C:\\\\Users\\\\zcemg08\\\\PycharmProjects\\\\biofuels\\\\data\\\\phys_prop\\\\1-s2.0-S0009250920306096-mmc6.csv',\n",
       " 'C:\\\\Users\\\\zcemg08\\\\PycharmProjects\\\\biofuels\\\\data\\\\phys_prop\\\\1-s2.0-S0009250920306096-mmc7.csv']"
      ]
     },
     "execution_count": 3,
     "metadata": {},
     "output_type": "execute_result"
    }
   ],
   "source": [
    "files_dir"
   ]
  },
  {
   "cell_type": "code",
   "execution_count": 4,
   "id": "ca63fda5",
   "metadata": {},
   "outputs": [],
   "source": [
    "df0 = pd.read_csv(files_dir[0], encoding= 'unicode_escape')\n",
    "df1 = pd.read_csv(files_dir[1], encoding= 'unicode_escape')\n",
    "df2 = pd.read_csv(files_dir[2], encoding= 'unicode_escape')\n",
    "df3 = pd.read_csv(files_dir[3], encoding= 'unicode_escape')\n",
    "df4 = pd.read_csv(files_dir[4], encoding= 'unicode_escape')\n",
    "df5 = pd.read_csv(files_dir[5], encoding= 'unicode_escape')"
   ]
  },
  {
   "cell_type": "code",
   "execution_count": 5,
   "id": "de69b949",
   "metadata": {},
   "outputs": [],
   "source": [
    "datka = [df0,df1,df2,df3,df4,df5]\n",
    "\n",
    "df0['UB(mol/L)'] = None "
   ]
  },
  {
   "cell_type": "code",
   "execution_count": 6,
   "id": "4c541079",
   "metadata": {},
   "outputs": [
    {
     "name": "stdout",
     "output_type": "stream",
     "text": [
      "['NO.', 'Compound', 'Smiles', 'RON', 'MON', 'YSI', '?Hc°(KJ/L)', '?Hc°(KJ/kg)', 'RVP(kPa)', 'Density (g/mL)', 'Boiling Point (K)', 'UB(mol/L)']\n",
      "['NO.', 'Compound', 'Smiles', 'RON', 'MON', 'YSI', '?Hc°(KJ/L)', '?Hc°(KJ/kg)', 'RVP(kPa)', 'UB(mol/L)', 'Density (g/mL)', 'Boiling Point (K)']\n",
      "['NO.', 'Compound', 'Smiles', 'RON', 'MON', 'YSI', '?Hc°(KJ/L)', '?Hc°(KJ/kg)', 'RVP(kPa)', 'UB(mol/L)', 'Density (g/mL)', 'Boiling Point (K)']\n",
      "['NO.', 'Compound', 'Smiles', 'RON', 'MON', 'YSI', '?Hc°(KJ/L)', '?Hc°(KJ/kg)', 'RVP(kPa)', 'UB(mol/L)', 'Density (g/mL)', 'Boiling Point (K)']\n",
      "['NO.', 'Compound', 'Smiles', 'RON', 'MON', 'YSI', '?Hc°(KJ/L)', '?Hc°(KJ/kg)', 'RVP(kPa)', 'UB(mol/L)', 'Density (g/mL)', 'Boiling Point (K)']\n",
      "['Species', 'SMILES', 'Formula', 'Unified YSI']\n"
     ]
    }
   ],
   "source": [
    "for item in datka:\n",
    "    print(list(item))"
   ]
  },
  {
   "cell_type": "code",
   "execution_count": 7,
   "id": "112e52ed",
   "metadata": {},
   "outputs": [],
   "source": [
    "count_ = 0"
   ]
  },
  {
   "cell_type": "code",
   "execution_count": 8,
   "id": "c6fb6704",
   "metadata": {},
   "outputs": [],
   "source": [
    "data_ = pd.concat([df0,df1,df2,df3,df4],axis=0)"
   ]
  },
  {
   "cell_type": "code",
   "execution_count": 9,
   "id": "49daaa5b",
   "metadata": {},
   "outputs": [
    {
     "name": "stdout",
     "output_type": "stream",
     "text": [
      "313\n",
      "503\n",
      "618\n",
      "733\n",
      "848\n",
      "1295\n"
     ]
    }
   ],
   "source": [
    "len_ = 0\n",
    "for item in datka:\n",
    "    len_ += len(item)\n",
    "    print(len_)"
   ]
  },
  {
   "cell_type": "code",
   "execution_count": 10,
   "id": "5facedb5",
   "metadata": {},
   "outputs": [],
   "source": [
    "df = pd.concat(datka[:-1])\n",
    "df = df.drop('NO.',axis=1)\n",
    "#Drop exact duplicated rows\n",
    "df = df.drop_duplicates()\n",
    "#Drop duplicated by Smiles\tRON\tMON\tYSI\t?Hc°(KJ/L)\t?Hc°(KJ/kg)\tRVP(kPa)\tDensity (g/mL)\tBoiling Point (K)\n",
    "important_columns    = list(df)[1:-1]\n",
    "df                   = df.drop_duplicates(subset=important_columns)\n",
    "df                   = df.dropna(subset=['Smiles'])"
   ]
  },
  {
   "cell_type": "markdown",
   "id": "e909b73c",
   "metadata": {},
   "source": [
    "##### Fuel Properties\n",
    "\n",
    "(RON)  - representing the antiknock performance \n",
    "[1.\tKubic Jr, W.L., et al., Artificial neural network based group contribution method for estimating cetane and octane numbers of hydrocarbons and oxygenated organic compounds. Industrial & Engineering Chemistry Research, 2017. 56(42): p. 12236-12245.]\n",
    "\n",
    "(YSI)  - describing the emissions of soot\n",
    "[2.\tDas, D.D., et al., Measuring and predicting sooting tendencies of oxygenates, alkanes, alkenes, cycloalkanes, and aromatics on a unified scale. Combustion and Flame, 2018. 190: p. 349-364.\n",
    "\n",
    "3.\tMcEnally, Charles S.; Das, Dhrubajyoti D.; Pfefferle, Lisa D., 2017, \"Yield Sooting Index Database Volume 2: Sooting Tendencies of a Wide Range of Fuel Compounds on a Unified Scale\", https://doi.org/10.7910/DVN/7HGFT8, Harvard Dataverse, V1, UNF:6:n617TMoSmliFFMdXMfOB9w== [fileUNF].]\n",
    "\n",
    "\n",
    "(DHc)  - combustion heat / evaluating the power performance\n",
    "[Pan, Y., et al., Predicting the net heat of combustion of organic compounds from molecular structures based on ant colony optimization. Journal of Loss Prevention in the Process Industries, 2011. 24(1): p. 85-89.]\n",
    "\n",
    "\n",
    "(Density)- [44, A.P.I.R.P. and K.R. Hall, Selected Values of Properties of Hydrocarbons and Related Compounds. 1981: Thermodynamics Research Center.]\n",
    "\n",
    "(Boiling Point) (K)\n",
    "[Yaws, C.L., Thermophysical properties of chemicals and hydrocarbons. 2008: William Andrew.]\n",
    "\n",
    "(RVP)  - Reid vapor pressure / the evaporation performance of gasoline\n",
    "[Aspen Physical Property System databank.]\n",
    "\n",
    "\n",
    "(UB)   - the number of unsaturated bonds"
   ]
  },
  {
   "cell_type": "code",
   "execution_count": 11,
   "id": "fbecf483",
   "metadata": {},
   "outputs": [
    {
     "data": {
      "text/html": [
       "<div>\n",
       "<style scoped>\n",
       "    .dataframe tbody tr th:only-of-type {\n",
       "        vertical-align: middle;\n",
       "    }\n",
       "\n",
       "    .dataframe tbody tr th {\n",
       "        vertical-align: top;\n",
       "    }\n",
       "\n",
       "    .dataframe thead th {\n",
       "        text-align: right;\n",
       "    }\n",
       "</style>\n",
       "<table border=\"1\" class=\"dataframe\">\n",
       "  <thead>\n",
       "    <tr style=\"text-align: right;\">\n",
       "      <th></th>\n",
       "      <th>Compound</th>\n",
       "      <th>Smiles</th>\n",
       "      <th>RON</th>\n",
       "      <th>MON</th>\n",
       "      <th>YSI</th>\n",
       "      <th>?Hc°(KJ/L)</th>\n",
       "      <th>?Hc°(KJ/kg)</th>\n",
       "      <th>RVP(kPa)</th>\n",
       "      <th>Density (g/mL)</th>\n",
       "      <th>Boiling Point (K)</th>\n",
       "      <th>UB(mol/L)</th>\n",
       "    </tr>\n",
       "  </thead>\n",
       "  <tbody>\n",
       "    <tr>\n",
       "      <th>0</th>\n",
       "      <td>2,4-Dimethylpentane</td>\n",
       "      <td>CC(C)CC(C)C</td>\n",
       "      <td>86.317222</td>\n",
       "      <td>85.292433</td>\n",
       "      <td>18.964147</td>\n",
       "      <td>29749.93551</td>\n",
       "      <td>44193.53819</td>\n",
       "      <td>20.163661</td>\n",
       "      <td>0.673174</td>\n",
       "      <td>349.689912</td>\n",
       "      <td>None</td>\n",
       "    </tr>\n",
       "    <tr>\n",
       "      <th>1</th>\n",
       "      <td>Heptane</td>\n",
       "      <td>CCCCCCC</td>\n",
       "      <td>2.100058</td>\n",
       "      <td>5.788349</td>\n",
       "      <td>15.492068</td>\n",
       "      <td>30434.01910</td>\n",
       "      <td>44842.40477</td>\n",
       "      <td>13.179002</td>\n",
       "      <td>0.678688</td>\n",
       "      <td>365.924403</td>\n",
       "      <td>None</td>\n",
       "    </tr>\n",
       "    <tr>\n",
       "      <th>2</th>\n",
       "      <td>2,2,3-Trimethylbutane</td>\n",
       "      <td>CC(C)(C)C(C)C</td>\n",
       "      <td>106.380839</td>\n",
       "      <td>100.789345</td>\n",
       "      <td>31.332231</td>\n",
       "      <td>29928.10179</td>\n",
       "      <td>44024.11931</td>\n",
       "      <td>27.542545</td>\n",
       "      <td>0.679811</td>\n",
       "      <td>352.273738</td>\n",
       "      <td>None</td>\n",
       "    </tr>\n",
       "    <tr>\n",
       "      <th>3</th>\n",
       "      <td>3,3-Dimethylpentane</td>\n",
       "      <td>CCC(C)(C)CC</td>\n",
       "      <td>88.935130</td>\n",
       "      <td>91.989959</td>\n",
       "      <td>18.105944</td>\n",
       "      <td>30283.40019</td>\n",
       "      <td>44476.16394</td>\n",
       "      <td>22.833933</td>\n",
       "      <td>0.680891</td>\n",
       "      <td>357.408846</td>\n",
       "      <td>None</td>\n",
       "    </tr>\n",
       "    <tr>\n",
       "      <th>4</th>\n",
       "      <td>2,3-Dimethylpentane</td>\n",
       "      <td>CC(C)C(C)CC</td>\n",
       "      <td>88.753001</td>\n",
       "      <td>87.964683</td>\n",
       "      <td>24.657707</td>\n",
       "      <td>29868.56685</td>\n",
       "      <td>44073.29329</td>\n",
       "      <td>17.498149</td>\n",
       "      <td>0.677702</td>\n",
       "      <td>353.830958</td>\n",
       "      <td>None</td>\n",
       "    </tr>\n",
       "  </tbody>\n",
       "</table>\n",
       "</div>"
      ],
      "text/plain": [
       "                Compound         Smiles         RON         MON        YSI  \\\n",
       "0    2,4-Dimethylpentane    CC(C)CC(C)C   86.317222   85.292433  18.964147   \n",
       "1                Heptane        CCCCCCC    2.100058    5.788349  15.492068   \n",
       "2  2,2,3-Trimethylbutane  CC(C)(C)C(C)C  106.380839  100.789345  31.332231   \n",
       "3    3,3-Dimethylpentane    CCC(C)(C)CC   88.935130   91.989959  18.105944   \n",
       "4    2,3-Dimethylpentane    CC(C)C(C)CC   88.753001   87.964683  24.657707   \n",
       "\n",
       "    ?Hc°(KJ/L)  ?Hc°(KJ/kg)   RVP(kPa)  Density (g/mL)  Boiling Point (K)  \\\n",
       "0  29749.93551  44193.53819  20.163661        0.673174         349.689912   \n",
       "1  30434.01910  44842.40477  13.179002        0.678688         365.924403   \n",
       "2  29928.10179  44024.11931  27.542545        0.679811         352.273738   \n",
       "3  30283.40019  44476.16394  22.833933        0.680891         357.408846   \n",
       "4  29868.56685  44073.29329  17.498149        0.677702         353.830958   \n",
       "\n",
       "  UB(mol/L)  \n",
       "0      None  \n",
       "1      None  \n",
       "2      None  \n",
       "3      None  \n",
       "4      None  "
      ]
     },
     "execution_count": 11,
     "metadata": {},
     "output_type": "execute_result"
    }
   ],
   "source": [
    "df.head(5)"
   ]
  },
  {
   "cell_type": "code",
   "execution_count": 12,
   "id": "4760a1dd",
   "metadata": {},
   "outputs": [
    {
     "name": "stdout",
     "output_type": "stream",
     "text": [
      "RON number of duplicates = 120\n",
      "MON number of duplicates = 120\n",
      "YSI number of duplicates = 120\n",
      "?Hc°(KJ/L) number of duplicates = 0\n",
      "?Hc°(KJ/kg) number of duplicates = 0\n",
      "RVP(kPa) number of duplicates = 120\n",
      "Density (g/mL) number of duplicates = 120\n",
      "Boiling Point (K) number of duplicates = 120\n",
      "UB(mol/L) number of duplicates = 108\n"
     ]
    }
   ],
   "source": [
    "for col in list(df)[2:]:\n",
    "    print(col + ' '+ 'number of duplicates = {}'.format(df.duplicated(subset=['Smiles',col]).sum()))"
   ]
  },
  {
   "cell_type": "code",
   "execution_count": 13,
   "id": "fb280ac8",
   "metadata": {},
   "outputs": [],
   "source": [
    "def variation_(df):\n",
    "    return [variation(df[df['Smiles']==x].iloc[:,1]) for x in df[df.duplicated(subset=['Smiles'])]['Smiles'].values]"
   ]
  },
  {
   "cell_type": "code",
   "execution_count": 14,
   "id": "beae732c",
   "metadata": {},
   "outputs": [],
   "source": [
    "df_RON     = df[['Smiles','RON']].drop_duplicates()\n",
    "df_YSI     = df[['Smiles','YSI']].drop_duplicates()\n",
    "df_comb_h  = df[['Smiles','?Hc°(KJ/kg)']].drop_duplicates()\n",
    "df_RVP     = df[['Smiles','RVP(kPa)']].drop_duplicates()\n",
    "df_Density = df[['Smiles','Density (g/mL)']].drop_duplicates()\n",
    "df_bp      = df[['Smiles','Boiling Point (K)']].drop_duplicates()"
   ]
  },
  {
   "cell_type": "code",
   "execution_count": 15,
   "id": "45b40475",
   "metadata": {},
   "outputs": [
    {
     "data": {
      "text/plain": [
       "Text(0.5, 1.0, 'BP_norm_var')"
      ]
     },
     "execution_count": 15,
     "metadata": {},
     "output_type": "execute_result"
    },
    {
     "data": {
      "image/png": "[encoded data removed]",
      "text/plain": [
       "<Figure size 1440x720 with 6 Axes>"
      ]
     },
     "metadata": {
      "needs_background": "light"
     },
     "output_type": "display_data"
    }
   ],
   "source": [
    "fig, axs = plt.subplots(2, 3,figsize=(20,10))\n",
    "axs[0, 0].hist(variation_(df_YSI))\n",
    "axs[0, 0].set_title('YSI_norm_var')\n",
    "\n",
    "axs[0, 1].hist(variation_(df_comb_h))\n",
    "axs[0, 1].set_title('comb_norm_var')\n",
    "\n",
    "axs[0, 2].hist(variation_(df_RVP))\n",
    "axs[0, 2].set_title('RVP_norm_var')\n",
    "\n",
    "axs[1, 0].hist(variation_(df_Density))\n",
    "axs[1, 0].set_title('DEN_norm_var')\n",
    "\n",
    "axs[1, 1].hist(variation_(df_bp))\n",
    "axs[1, 1].set_title('BP_norm_var')"
   ]
  },
  {
   "cell_type": "markdown",
   "id": "56693076",
   "metadata": {},
   "source": [
    "### Combustion heat Hc° kJ/kg"
   ]
  },
  {
   "cell_type": "code",
   "execution_count": 16,
   "id": "9287558b",
   "metadata": {},
   "outputs": [
    {
     "data": {
      "text/html": [
       "<div>\n",
       "<style scoped>\n",
       "    .dataframe tbody tr th:only-of-type {\n",
       "        vertical-align: middle;\n",
       "    }\n",
       "\n",
       "    .dataframe tbody tr th {\n",
       "        vertical-align: top;\n",
       "    }\n",
       "\n",
       "    .dataframe thead th {\n",
       "        text-align: right;\n",
       "    }\n",
       "</style>\n",
       "<table border=\"1\" class=\"dataframe\">\n",
       "  <thead>\n",
       "    <tr style=\"text-align: right;\">\n",
       "      <th></th>\n",
       "      <th>Smiles</th>\n",
       "      <th>?Hc°(KJ/kg)</th>\n",
       "    </tr>\n",
       "  </thead>\n",
       "  <tbody>\n",
       "    <tr>\n",
       "      <th>36</th>\n",
       "      <td>C=CC(C)C(C)C</td>\n",
       "      <td>42795.98464</td>\n",
       "    </tr>\n",
       "    <tr>\n",
       "      <th>44</th>\n",
       "      <td>C=CC(C)C(C)C</td>\n",
       "      <td>43733.98443</td>\n",
       "    </tr>\n",
       "  </tbody>\n",
       "</table>\n",
       "</div>"
      ],
      "text/plain": [
       "          Smiles  ?Hc°(KJ/kg)\n",
       "36  C=CC(C)C(C)C  42795.98464\n",
       "44  C=CC(C)C(C)C  43733.98443"
      ]
     },
     "execution_count": 16,
     "metadata": {},
     "output_type": "execute_result"
    }
   ],
   "source": [
    "# Largest deviation in \n",
    "df_comb_h[df_comb_h['Smiles']==df_comb_h[df_comb_h.duplicated(subset=['Smiles'])]['Smiles'].values[np.argmax(variation_(df_comb_h))]]"
   ]
  },
  {
   "cell_type": "code",
   "execution_count": 17,
   "id": "4ff23074",
   "metadata": {},
   "outputs": [],
   "source": [
    "# According to above distr plot and values for the largets deviation for combustion heat:\n",
    "#  -----> take average values in repeating smiles entries \n",
    "\n",
    "df_comb_h = df_comb_h.groupby('Smiles').mean()"
   ]
  },
  {
   "cell_type": "code",
   "execution_count": 18,
   "id": "b395a1fe",
   "metadata": {},
   "outputs": [],
   "source": [
    "def large_var_df(df,threshold):\n",
    "    \n",
    "    '''Function takes dataframe and threshold\n",
    "    returns duplicates with normilised varience larger then threshold'''\n",
    "    \n",
    "    smiles_duplicates    = df[df.duplicated(subset=['Smiles'])]['Smiles'].values\n",
    "    large_var            = smiles_duplicates[np.where(np.array(variation_(df_bp))>threshold)[0]]\n",
    "    new_df               = pd.concat([df[df['Smiles']==x] for x in large_var])\n",
    "    \n",
    "    return new_df"
   ]
  },
  {
   "cell_type": "code",
   "execution_count": 19,
   "id": "4131a72c",
   "metadata": {},
   "outputs": [
    {
     "data": {
      "text/plain": [
       "array([[<AxesSubplot:title={'center':'?Hc°(KJ/kg)'}>]], dtype=object)"
      ]
     },
     "execution_count": 19,
     "metadata": {},
     "output_type": "execute_result"
    },
    {
     "data": {
      "image/png": "[encoded data removed]",
      "text/plain": [
       "<Figure size 432x288 with 1 Axes>"
      ]
     },
     "metadata": {
      "needs_background": "light"
     },
     "output_type": "display_data"
    }
   ],
   "source": [
    "df_comb_h.hist(bins=35)"
   ]
  },
  {
   "cell_type": "markdown",
   "id": "30cc4ebd",
   "metadata": {},
   "source": [
    "### Boiling Point  K "
   ]
  },
  {
   "cell_type": "code",
   "execution_count": 20,
   "id": "78d0f928",
   "metadata": {},
   "outputs": [
    {
     "data": {
      "text/html": [
       "<div>\n",
       "<style scoped>\n",
       "    .dataframe tbody tr th:only-of-type {\n",
       "        vertical-align: middle;\n",
       "    }\n",
       "\n",
       "    .dataframe tbody tr th {\n",
       "        vertical-align: top;\n",
       "    }\n",
       "\n",
       "    .dataframe thead th {\n",
       "        text-align: right;\n",
       "    }\n",
       "</style>\n",
       "<table border=\"1\" class=\"dataframe\">\n",
       "  <thead>\n",
       "    <tr style=\"text-align: right;\">\n",
       "      <th></th>\n",
       "      <th>Smiles</th>\n",
       "      <th>Boiling Point (K)</th>\n",
       "    </tr>\n",
       "  </thead>\n",
       "  <tbody>\n",
       "    <tr>\n",
       "      <th>147</th>\n",
       "      <td>CC1=C(C)CCC1</td>\n",
       "      <td>375.318678</td>\n",
       "    </tr>\n",
       "    <tr>\n",
       "      <th>93</th>\n",
       "      <td>CC1=C(C)CCC1</td>\n",
       "      <td>356.482861</td>\n",
       "    </tr>\n",
       "  </tbody>\n",
       "</table>\n",
       "</div>"
      ],
      "text/plain": [
       "           Smiles  Boiling Point (K)\n",
       "147  CC1=C(C)CCC1         375.318678\n",
       "93   CC1=C(C)CCC1         356.482861"
      ]
     },
     "execution_count": 20,
     "metadata": {},
     "output_type": "execute_result"
    }
   ],
   "source": [
    "bp_smiles_duplicates = df_bp[df_bp.duplicated(subset=['Smiles'])]['Smiles'].values\n",
    "\n",
    "df_bp[df_bp['Smiles']==bp_smiles_duplicates[np.argmax(variation_(df_bp))]]"
   ]
  },
  {
   "cell_type": "code",
   "execution_count": 21,
   "id": "1e9eec1b",
   "metadata": {},
   "outputs": [
    {
     "data": {
      "text/html": [
       "<div>\n",
       "<style scoped>\n",
       "    .dataframe tbody tr th:only-of-type {\n",
       "        vertical-align: middle;\n",
       "    }\n",
       "\n",
       "    .dataframe tbody tr th {\n",
       "        vertical-align: top;\n",
       "    }\n",
       "\n",
       "    .dataframe thead th {\n",
       "        text-align: right;\n",
       "    }\n",
       "</style>\n",
       "<table border=\"1\" class=\"dataframe\">\n",
       "  <thead>\n",
       "    <tr style=\"text-align: right;\">\n",
       "      <th></th>\n",
       "      <th>Smiles</th>\n",
       "      <th>Boiling Point (K)</th>\n",
       "      <th>Name</th>\n",
       "    </tr>\n",
       "  </thead>\n",
       "  <tbody>\n",
       "    <tr>\n",
       "      <th>17</th>\n",
       "      <td>C=CCC(C)(C)C</td>\n",
       "      <td>356.812490</td>\n",
       "      <td>4,4-Dimethyl-1-pentene</td>\n",
       "    </tr>\n",
       "    <tr>\n",
       "      <th>34</th>\n",
       "      <td>C=CCC(C)(C)C</td>\n",
       "      <td>338.973233</td>\n",
       "      <td>4,4-Dimethyl-1-pentene</td>\n",
       "    </tr>\n",
       "    <tr>\n",
       "      <th>0</th>\n",
       "      <td>CC(C)CC(C)C</td>\n",
       "      <td>349.689912</td>\n",
       "      <td>2,4-Dimethylpentane</td>\n",
       "    </tr>\n",
       "    <tr>\n",
       "      <th>39</th>\n",
       "      <td>CC(C)CC(C)C</td>\n",
       "      <td>358.771521</td>\n",
       "      <td>2,4-Dimethylpentane</td>\n",
       "    </tr>\n",
       "    <tr>\n",
       "      <th>14</th>\n",
       "      <td>C=C(C)C(C)(C)C</td>\n",
       "      <td>363.914747</td>\n",
       "      <td>2,3,3-Trimethyl-1-butene</td>\n",
       "    </tr>\n",
       "    <tr>\n",
       "      <th>41</th>\n",
       "      <td>C=C(C)C(C)(C)C</td>\n",
       "      <td>349.751186</td>\n",
       "      <td>2,3,3-Trimethyl-1-butene</td>\n",
       "    </tr>\n",
       "    <tr>\n",
       "      <th>160</th>\n",
       "      <td>C=C(C)C(C)C=C</td>\n",
       "      <td>370.644974</td>\n",
       "      <td>2,3-Dimethyl-1,4-pentadiene</td>\n",
       "    </tr>\n",
       "    <tr>\n",
       "      <th>45</th>\n",
       "      <td>C=C(C)C(C)C=C</td>\n",
       "      <td>356.021477</td>\n",
       "      <td>2,3-Dimethyl-1,4-pentadiene</td>\n",
       "    </tr>\n",
       "    <tr>\n",
       "      <th>21</th>\n",
       "      <td>CC1(C)CCCC1</td>\n",
       "      <td>369.244465</td>\n",
       "      <td>1,1-Dimethylcyclopentane</td>\n",
       "    </tr>\n",
       "    <tr>\n",
       "      <th>60</th>\n",
       "      <td>CC1(C)CCCC1</td>\n",
       "      <td>360.984281</td>\n",
       "      <td>1,1-Dimethylcyclopentane</td>\n",
       "    </tr>\n",
       "    <tr>\n",
       "      <th>147</th>\n",
       "      <td>CC1=C(C)CCC1</td>\n",
       "      <td>375.318678</td>\n",
       "      <td>1,2-Dimethylcyclopentene</td>\n",
       "    </tr>\n",
       "    <tr>\n",
       "      <th>93</th>\n",
       "      <td>CC1=C(C)CCC1</td>\n",
       "      <td>356.482861</td>\n",
       "      <td>1,2-Dimethylcyclopentene</td>\n",
       "    </tr>\n",
       "    <tr>\n",
       "      <th>74</th>\n",
       "      <td>CC1=CC=CC=C1</td>\n",
       "      <td>393.480196</td>\n",
       "      <td>Toluene</td>\n",
       "    </tr>\n",
       "    <tr>\n",
       "      <th>95</th>\n",
       "      <td>CC1=CC=CC=C1</td>\n",
       "      <td>381.848851</td>\n",
       "      <td>Toluene</td>\n",
       "    </tr>\n",
       "    <tr>\n",
       "      <th>77</th>\n",
       "      <td>C=C(C)CC(C)(C)C</td>\n",
       "      <td>373.878316</td>\n",
       "      <td>2,4,4-trimethyl-1-pentene</td>\n",
       "    </tr>\n",
       "    <tr>\n",
       "      <th>16</th>\n",
       "      <td>C=C(C)CC(C)(C)C</td>\n",
       "      <td>381.745895</td>\n",
       "      <td>2,4,4-trimethyl-1-pentene</td>\n",
       "    </tr>\n",
       "    <tr>\n",
       "      <th>132</th>\n",
       "      <td>C=CC1=CC=CC=C1</td>\n",
       "      <td>415.997612</td>\n",
       "      <td>styrene</td>\n",
       "    </tr>\n",
       "    <tr>\n",
       "      <th>35</th>\n",
       "      <td>C=CC1=CC=CC=C1</td>\n",
       "      <td>427.396516</td>\n",
       "      <td>styrene</td>\n",
       "    </tr>\n",
       "  </tbody>\n",
       "</table>\n",
       "</div>"
      ],
      "text/plain": [
       "              Smiles  Boiling Point (K)                         Name\n",
       "17      C=CCC(C)(C)C         356.812490       4,4-Dimethyl-1-pentene\n",
       "34      C=CCC(C)(C)C         338.973233       4,4-Dimethyl-1-pentene\n",
       "0        CC(C)CC(C)C         349.689912          2,4-Dimethylpentane\n",
       "39       CC(C)CC(C)C         358.771521          2,4-Dimethylpentane\n",
       "14    C=C(C)C(C)(C)C         363.914747     2,3,3-Trimethyl-1-butene\n",
       "41    C=C(C)C(C)(C)C         349.751186     2,3,3-Trimethyl-1-butene\n",
       "160    C=C(C)C(C)C=C         370.644974  2,3-Dimethyl-1,4-pentadiene\n",
       "45     C=C(C)C(C)C=C         356.021477  2,3-Dimethyl-1,4-pentadiene\n",
       "21       CC1(C)CCCC1         369.244465     1,1-Dimethylcyclopentane\n",
       "60       CC1(C)CCCC1         360.984281     1,1-Dimethylcyclopentane\n",
       "147     CC1=C(C)CCC1         375.318678     1,2-Dimethylcyclopentene\n",
       "93      CC1=C(C)CCC1         356.482861     1,2-Dimethylcyclopentene\n",
       "74      CC1=CC=CC=C1         393.480196                      Toluene\n",
       "95      CC1=CC=CC=C1         381.848851                      Toluene\n",
       "77   C=C(C)CC(C)(C)C         373.878316    2,4,4-trimethyl-1-pentene\n",
       "16   C=C(C)CC(C)(C)C         381.745895    2,4,4-trimethyl-1-pentene\n",
       "132   C=CC1=CC=CC=C1         415.997612                      styrene\n",
       "35    C=CC1=CC=CC=C1         427.396516                      styrene"
      ]
     },
     "execution_count": 21,
     "metadata": {},
     "output_type": "execute_result"
    }
   ],
   "source": [
    "#### Show compunds with the normilised variation greater then 0.01\n",
    "df_bp_var             = large_var_df(df_bp,0.01)\n",
    "names                 = df[['Compound','Smiles']].drop_duplicates(subset='Smiles')\n",
    "df_bp_var['Name']     = df_bp_var['Smiles'].apply(lambda x:names[names['Smiles']==x].Compound.values[0] )\n",
    "\n",
    "df_bp_var"
   ]
  },
  {
   "cell_type": "code",
   "execution_count": 22,
   "id": "44a33aeb",
   "metadata": {},
   "outputs": [
    {
     "name": "stderr",
     "output_type": "stream",
     "text": [
      "C:\\Users\\zcemg08\\Miniconda3\\envs\\biofuel\\lib\\site-packages\\ipykernel_launcher.py:14: SettingWithCopyWarning: \n",
      "A value is trying to be set on a copy of a slice from a DataFrame.\n",
      "Try using .loc[row_indexer,col_indexer] = value instead\n",
      "\n",
      "See the caveats in the documentation: https://pandas.pydata.org/pandas-docs/stable/user_guide/indexing.html#returning-a-view-versus-a-copy\n",
      "  \n"
     ]
    }
   ],
   "source": [
    "# 4,4-Dimethyl-1-pentene       C=CCC(C)(C)C      bp = 71.3-73 \n",
    "# 2,4-Dimethylpentane          CC(C)CC(C)C       bp = 353.644\n",
    "# 2,3,3-Trimethyl-1-butene     C=C(C)C(C)(C)C    bp = 351.041 https://app.knovel.com/web/folder-share.v?guid=yMGnkAl2FzMI1aIE\n",
    "# 2,3-Dimethyl-1,4-pentadiene  C=C(C)C(C)C=C     neither dippr nor website --> take average (370.644974+356.021477)/2= 363.3332255\n",
    "# 1,1-Dimethylcyclopentane     CC1(C)CCCC1       bp = 361 \n",
    "# 1,2-Dimethylcyclopentene     CC1=CC=CC=C1      bp = 105.8 deg = \n",
    "# toluene                      CC1=CC=CC=C1\t     bp = 110.62 deg\n",
    "# 2,4,4-trimethyl-1-pentene    C=C(C)CC(C)(C)C   bp = 374.59k \n",
    "# styrene                      C=CC1=CC=CC=C1    bp = 418.31\n",
    "\n",
    "temp = [72+274,353.644,351.041,363.3332255,361,105.8+274,110.62+274,374.59,418.31]\n",
    "\n",
    "fixed_df                  = df_bp_var.drop_duplicates(subset='Smiles')\n",
    "fixed_df['Boiling Point (K)'] = temp"
   ]
  },
  {
   "cell_type": "code",
   "execution_count": 23,
   "id": "9de1f536",
   "metadata": {},
   "outputs": [],
   "source": [
    "df_boiling_point           = df_bp.groupby('Smiles').mean()\n",
    "df_boiling_point           = df_boiling_point.reset_index()"
   ]
  },
  {
   "cell_type": "code",
   "execution_count": 24,
   "id": "23560eee",
   "metadata": {},
   "outputs": [
    {
     "data": {
      "text/html": [
       "<div>\n",
       "<style scoped>\n",
       "    .dataframe tbody tr th:only-of-type {\n",
       "        vertical-align: middle;\n",
       "    }\n",
       "\n",
       "    .dataframe tbody tr th {\n",
       "        vertical-align: top;\n",
       "    }\n",
       "\n",
       "    .dataframe thead th {\n",
       "        text-align: right;\n",
       "    }\n",
       "</style>\n",
       "<table border=\"1\" class=\"dataframe\">\n",
       "  <thead>\n",
       "    <tr style=\"text-align: right;\">\n",
       "      <th></th>\n",
       "      <th>Smiles</th>\n",
       "      <th>Boiling Point (K)</th>\n",
       "      <th>Name</th>\n",
       "    </tr>\n",
       "  </thead>\n",
       "  <tbody>\n",
       "    <tr>\n",
       "      <th>14</th>\n",
       "      <td>C=C(C)C(C)(C)C</td>\n",
       "      <td>351.041</td>\n",
       "      <td>2,3,3-Trimethyl-1-butene</td>\n",
       "    </tr>\n",
       "  </tbody>\n",
       "</table>\n",
       "</div>"
      ],
      "text/plain": [
       "            Smiles  Boiling Point (K)                      Name\n",
       "14  C=C(C)C(C)(C)C            351.041  2,3,3-Trimethyl-1-butene"
      ]
     },
     "execution_count": 24,
     "metadata": {},
     "output_type": "execute_result"
    }
   ],
   "source": [
    "fixed_df[fixed_df['Smiles']=='C=C(C)C(C)(C)C']"
   ]
  },
  {
   "cell_type": "code",
   "execution_count": 25,
   "id": "321a596b",
   "metadata": {},
   "outputs": [
    {
     "data": {
      "text/html": [
       "<div>\n",
       "<style scoped>\n",
       "    .dataframe tbody tr th:only-of-type {\n",
       "        vertical-align: middle;\n",
       "    }\n",
       "\n",
       "    .dataframe tbody tr th {\n",
       "        vertical-align: top;\n",
       "    }\n",
       "\n",
       "    .dataframe thead th {\n",
       "        text-align: right;\n",
       "    }\n",
       "</style>\n",
       "<table border=\"1\" class=\"dataframe\">\n",
       "  <thead>\n",
       "    <tr style=\"text-align: right;\">\n",
       "      <th></th>\n",
       "      <th>Smiles</th>\n",
       "      <th>Boiling Point (K)</th>\n",
       "    </tr>\n",
       "  </thead>\n",
       "  <tbody>\n",
       "    <tr>\n",
       "      <th>72</th>\n",
       "      <td>C=C(C)C(C)(C)C</td>\n",
       "      <td>356.832966</td>\n",
       "    </tr>\n",
       "  </tbody>\n",
       "</table>\n",
       "</div>"
      ],
      "text/plain": [
       "            Smiles  Boiling Point (K)\n",
       "72  C=C(C)C(C)(C)C         356.832966"
      ]
     },
     "execution_count": 25,
     "metadata": {},
     "output_type": "execute_result"
    }
   ],
   "source": [
    "df_boiling_point[df_boiling_point['Smiles']=='C=C(C)C(C)(C)C']"
   ]
  },
  {
   "cell_type": "code",
   "execution_count": 26,
   "id": "610bf91e",
   "metadata": {},
   "outputs": [],
   "source": [
    "df_boiling_point.loc[df_boiling_point['Smiles'].isin(fixed_df['Smiles']),'Boiling Point (K)'] = 0\n",
    "merged                    = df_boiling_point.merge(fixed_df[['Smiles','Boiling Point (K)']],on='Smiles',how='left')\n",
    "merged['Boiling_point_K'] = np.max(merged[[list(merged)[1],list(merged)[2]]],axis=1)\n",
    "merged                    = merged.drop(labels=[list(merged)[1],list(merged)[2]], axis=1)"
   ]
  },
  {
   "cell_type": "code",
   "execution_count": 27,
   "id": "92f54960",
   "metadata": {},
   "outputs": [
    {
     "data": {
      "text/html": [
       "<div>\n",
       "<style scoped>\n",
       "    .dataframe tbody tr th:only-of-type {\n",
       "        vertical-align: middle;\n",
       "    }\n",
       "\n",
       "    .dataframe tbody tr th {\n",
       "        vertical-align: top;\n",
       "    }\n",
       "\n",
       "    .dataframe thead th {\n",
       "        text-align: right;\n",
       "    }\n",
       "</style>\n",
       "<table border=\"1\" class=\"dataframe\">\n",
       "  <thead>\n",
       "    <tr style=\"text-align: right;\">\n",
       "      <th></th>\n",
       "      <th>Smiles</th>\n",
       "      <th>Boiling_point_K</th>\n",
       "    </tr>\n",
       "  </thead>\n",
       "  <tbody>\n",
       "    <tr>\n",
       "      <th>72</th>\n",
       "      <td>C=C(C)C(C)(C)C</td>\n",
       "      <td>351.041</td>\n",
       "    </tr>\n",
       "  </tbody>\n",
       "</table>\n",
       "</div>"
      ],
      "text/plain": [
       "            Smiles  Boiling_point_K\n",
       "72  C=C(C)C(C)(C)C          351.041"
      ]
     },
     "execution_count": 27,
     "metadata": {},
     "output_type": "execute_result"
    }
   ],
   "source": [
    "# Check if merged data frame use substituted values \n",
    "merged[merged['Smiles']=='C=C(C)C(C)(C)C']"
   ]
  },
  {
   "cell_type": "code",
   "execution_count": 28,
   "id": "e0b498f3",
   "metadata": {},
   "outputs": [],
   "source": [
    "df_boiling_point = merged"
   ]
  },
  {
   "cell_type": "markdown",
   "id": "265dedfb",
   "metadata": {},
   "source": [
    "### Reid vapour pressure  !!!!!! Big problem with such dataset"
   ]
  },
  {
   "cell_type": "code",
   "execution_count": 61,
   "id": "e5af9693",
   "metadata": {},
   "outputs": [
    {
     "data": {
      "text/html": [
       "<div>\n",
       "<style scoped>\n",
       "    .dataframe tbody tr th:only-of-type {\n",
       "        vertical-align: middle;\n",
       "    }\n",
       "\n",
       "    .dataframe tbody tr th {\n",
       "        vertical-align: top;\n",
       "    }\n",
       "\n",
       "    .dataframe thead th {\n",
       "        text-align: right;\n",
       "    }\n",
       "</style>\n",
       "<table border=\"1\" class=\"dataframe\">\n",
       "  <thead>\n",
       "    <tr style=\"text-align: right;\">\n",
       "      <th></th>\n",
       "      <th>Smiles</th>\n",
       "      <th>RVP(kPa)</th>\n",
       "    </tr>\n",
       "  </thead>\n",
       "  <tbody>\n",
       "    <tr>\n",
       "      <th>17</th>\n",
       "      <td>C=CCC(C)(C)C</td>\n",
       "      <td>36.134518</td>\n",
       "    </tr>\n",
       "    <tr>\n",
       "      <th>34</th>\n",
       "      <td>C=CCC(C)(C)C</td>\n",
       "      <td>27.314861</td>\n",
       "    </tr>\n",
       "  </tbody>\n",
       "</table>\n",
       "</div>"
      ],
      "text/plain": [
       "          Smiles   RVP(kPa)\n",
       "17  C=CCC(C)(C)C  36.134518\n",
       "34  C=CCC(C)(C)C  27.314861"
      ]
     },
     "execution_count": 61,
     "metadata": {},
     "output_type": "execute_result"
    }
   ],
   "source": [
    "## Example of large deviations in reid vapour pressure values \n",
    "df_RVP[df_RVP['Smiles']=='C=CCC(C)(C)C']"
   ]
  },
  {
   "cell_type": "markdown",
   "id": "24031ccf",
   "metadata": {},
   "source": [
    "# Viscosity "
   ]
  },
  {
   "cell_type": "code",
   "execution_count": 30,
   "id": "4e552eef",
   "metadata": {},
   "outputs": [],
   "source": [
    "df_viscosity = pd.read_csv(r'C:\\Users\\zcemg08\\PycharmProjects\\biofuels\\data\\viscosity_cleaned.csv')"
   ]
  },
  {
   "cell_type": "code",
   "execution_count": 31,
   "id": "9c127e3d",
   "metadata": {},
   "outputs": [
    {
     "data": {
      "text/html": [
       "<div>\n",
       "<style scoped>\n",
       "    .dataframe tbody tr th:only-of-type {\n",
       "        vertical-align: middle;\n",
       "    }\n",
       "\n",
       "    .dataframe tbody tr th {\n",
       "        vertical-align: top;\n",
       "    }\n",
       "\n",
       "    .dataframe thead th {\n",
       "        text-align: right;\n",
       "    }\n",
       "</style>\n",
       "<table border=\"1\" class=\"dataframe\">\n",
       "  <thead>\n",
       "    <tr style=\"text-align: right;\">\n",
       "      <th></th>\n",
       "      <th>Family</th>\n",
       "      <th>Name</th>\n",
       "      <th>SMILES</th>\n",
       "      <th>Set</th>\n",
       "      <th>T (K)</th>\n",
       "      <th>Exp. Viscosity (Pa.s)</th>\n",
       "      <th>Pred. Viscosity (Pa.s)</th>\n",
       "      <th>A</th>\n",
       "      <th>F</th>\n",
       "      <th>G</th>\n",
       "      <th>...</th>\n",
       "      <th>X13</th>\n",
       "      <th>X18</th>\n",
       "      <th>X20</th>\n",
       "      <th>Y1</th>\n",
       "      <th>Y2</th>\n",
       "      <th>Y5</th>\n",
       "      <th>Y14</th>\n",
       "      <th>Y15</th>\n",
       "      <th>Y17</th>\n",
       "      <th>Y23</th>\n",
       "    </tr>\n",
       "  </thead>\n",
       "  <tbody>\n",
       "    <tr>\n",
       "      <th>0</th>\n",
       "      <td>Alcohols</td>\n",
       "      <td>1-butanol</td>\n",
       "      <td>CCCCO</td>\n",
       "      <td>Validation</td>\n",
       "      <td>193.1</td>\n",
       "      <td>0.2176</td>\n",
       "      <td>0.29235</td>\n",
       "      <td>74.1</td>\n",
       "      <td>2233.3</td>\n",
       "      <td>-17.7</td>\n",
       "      <td>...</td>\n",
       "      <td>-0.011288</td>\n",
       "      <td>0.147335</td>\n",
       "      <td>24.600061</td>\n",
       "      <td>10</td>\n",
       "      <td>1</td>\n",
       "      <td>0</td>\n",
       "      <td>0</td>\n",
       "      <td>0</td>\n",
       "      <td>1</td>\n",
       "      <td>0</td>\n",
       "    </tr>\n",
       "    <tr>\n",
       "      <th>1</th>\n",
       "      <td>Alcohols</td>\n",
       "      <td>1-butanol</td>\n",
       "      <td>CCCCO</td>\n",
       "      <td>Training</td>\n",
       "      <td>203.1</td>\n",
       "      <td>0.1058</td>\n",
       "      <td>0.14379</td>\n",
       "      <td>74.1</td>\n",
       "      <td>2233.3</td>\n",
       "      <td>-17.7</td>\n",
       "      <td>...</td>\n",
       "      <td>-0.011288</td>\n",
       "      <td>0.147335</td>\n",
       "      <td>24.600061</td>\n",
       "      <td>10</td>\n",
       "      <td>1</td>\n",
       "      <td>0</td>\n",
       "      <td>0</td>\n",
       "      <td>0</td>\n",
       "      <td>1</td>\n",
       "      <td>0</td>\n",
       "    </tr>\n",
       "    <tr>\n",
       "      <th>2</th>\n",
       "      <td>Alcohols</td>\n",
       "      <td>1-butanol</td>\n",
       "      <td>CCCCO</td>\n",
       "      <td>Training</td>\n",
       "      <td>213.1</td>\n",
       "      <td>0.0578</td>\n",
       "      <td>0.07659</td>\n",
       "      <td>74.1</td>\n",
       "      <td>2233.3</td>\n",
       "      <td>-17.7</td>\n",
       "      <td>...</td>\n",
       "      <td>-0.011288</td>\n",
       "      <td>0.147335</td>\n",
       "      <td>24.600061</td>\n",
       "      <td>10</td>\n",
       "      <td>1</td>\n",
       "      <td>0</td>\n",
       "      <td>0</td>\n",
       "      <td>0</td>\n",
       "      <td>1</td>\n",
       "      <td>0</td>\n",
       "    </tr>\n",
       "  </tbody>\n",
       "</table>\n",
       "<p>3 rows × 24 columns</p>\n",
       "</div>"
      ],
      "text/plain": [
       "     Family       Name SMILES         Set  T (K)  Exp. Viscosity (Pa.s)  \\\n",
       "0  Alcohols  1-butanol  CCCCO  Validation  193.1                 0.2176   \n",
       "1  Alcohols  1-butanol  CCCCO    Training  203.1                 0.1058   \n",
       "2  Alcohols  1-butanol  CCCCO    Training  213.1                 0.0578   \n",
       "\n",
       "   Pred. Viscosity (Pa.s)     A       F     G  ...       X13       X18  \\\n",
       "0                 0.29235  74.1  2233.3 -17.7  ... -0.011288  0.147335   \n",
       "1                 0.14379  74.1  2233.3 -17.7  ... -0.011288  0.147335   \n",
       "2                 0.07659  74.1  2233.3 -17.7  ... -0.011288  0.147335   \n",
       "\n",
       "         X20  Y1  Y2  Y5  Y14  Y15  Y17  Y23  \n",
       "0  24.600061  10   1   0    0    0    1    0  \n",
       "1  24.600061  10   1   0    0    0    1    0  \n",
       "2  24.600061  10   1   0    0    0    1    0  \n",
       "\n",
       "[3 rows x 24 columns]"
      ]
     },
     "execution_count": 31,
     "metadata": {},
     "output_type": "execute_result"
    }
   ],
   "source": [
    "df_viscosity.head(3)"
   ]
  },
  {
   "cell_type": "code",
   "execution_count": 62,
   "id": "1cb11bb4",
   "metadata": {},
   "outputs": [
    {
     "data": {
      "image/png": "[encoded data removed]",
      "text/plain": [
       "<Figure size 432x288 with 1 Axes>"
      ]
     },
     "metadata": {
      "needs_background": "light"
     },
     "output_type": "display_data"
    }
   ],
   "source": [
    "#plot pedicted vs  fitted Guzman-Andrade equation fitted equation of viscosity for 1-butanol\n",
    "\n",
    "def vis_(T):\n",
    "    A = 74.12 \n",
    "    F = df_viscosity[df_viscosity['SMILES']=='CCCCO']['F'].mean()\n",
    "    G = df_viscosity[df_viscosity['SMILES']=='CCCCO']['G'].mean()\n",
    "    return A*np.exp(F/T+G)\n",
    "\n",
    "butanol = df_viscosity[df_viscosity['SMILES']=='CCCCO']\n",
    "plt.plot(butanol['T (K)'],butanol['Exp. Viscosity (Pa.s)'],label='expect')\n",
    "plt.plot(np.linspace(190,350,100),[vis_(x) for x in np.linspace(190,350,100)],label='pred')\n",
    "plt.legend()\n",
    "plt.show()"
   ]
  },
  {
   "cell_type": "markdown",
   "id": "5e7d737e",
   "metadata": {},
   "source": [
    "### Dynamic Viscosity for 1-butanol given from KNOVEL = 0.000384462\n",
    "\n",
    "\n",
    "https://app.knovel.com/kn/search?include_synonyms=off&query=1-butanol"
   ]
  },
  {
   "cell_type": "code",
   "execution_count": 78,
   "id": "80573e77",
   "metadata": {},
   "outputs": [
    {
     "name": "stdout",
     "output_type": "stream",
     "text": [
      "Temperature estimate for 1-Butanol knovel data = 403.80432784766214\n"
     ]
    }
   ],
   "source": [
    "butanol = 'CCCCO'\n",
    "A = 74.12 \n",
    "F = df_viscosity[df_viscosity['SMILES']==butanol]['F'].mean()\n",
    "G = df_viscosity[df_viscosity['SMILES']==butanol]['G'].mean()\n",
    "print('Temperature estimate for 1-Butanol knovel data = {}'.format(F/(np.log(0.000384462/A)-G)))"
   ]
  },
  {
   "cell_type": "code",
   "execution_count": 55,
   "id": "60714c9c",
   "metadata": {},
   "outputs": [
    {
     "data": {
      "text/plain": [
       "<AxesSubplot:>"
      ]
     },
     "execution_count": 55,
     "metadata": {},
     "output_type": "execute_result"
    },
    {
     "data": {
      "image/png": "[encoded data removed]",
      "text/plain": [
       "<Figure size 432x288 with 1 Axes>"
      ]
     },
     "metadata": {
      "needs_background": "light"
     },
     "output_type": "display_data"
    }
   ],
   "source": [
    "### Plot temperatures used for predictions \n",
    "\n",
    "df_viscosity[df_viscosity['Set']=='Prediction']['T (K)'].hist()"
   ]
  },
  {
   "cell_type": "markdown",
   "id": "222d1308",
   "metadata": {},
   "source": [
    "### 40 deg used for viscosity and 15deg used for density Table 1 (Fuel Phys Prop vs Cetane)\n",
    "\n",
    "https://www.fev.com/fileadmin/user_upload/Media/TechnicalPublications/Diesel_Systems/2011-01-0333_Relationship_between_fuel_properties_and_sensitivity_analysis_of_non-aromatic_and_aromatic_fuels_used_in_a_single_cylin.pdf\n"
   ]
  },
  {
   "cell_type": "markdown",
   "id": "529d0b4b",
   "metadata": {},
   "source": [
    "###  Training data common most common temperature values"
   ]
  },
  {
   "cell_type": "code",
   "execution_count": 81,
   "id": "fec1a0ad",
   "metadata": {},
   "outputs": [
    {
     "name": "stdout",
     "output_type": "stream",
     "text": [
      "common temperatures with exact visc val. = [(293.1, 122), (298.1, 101), (303.1, 78), (313.1, 67), (333.1, 58), (273.1, 51)]\n"
     ]
    }
   ],
   "source": [
    "print('common temperatures with exact visc val. = {}'.format(Counter(df_viscosity[df_viscosity['Set']!='Prediction']['T (K)']).most_common(6)))"
   ]
  },
  {
   "cell_type": "code",
   "execution_count": 85,
   "id": "70e6ded0",
   "metadata": {},
   "outputs": [
    {
     "name": "stdout",
     "output_type": "stream",
     "text": [
      "Number of unique compounds in dataset = 211\n"
     ]
    }
   ],
   "source": [
    "print('Number of unique compounds in dataset = {}'.format(len(set(df_viscosity[df_viscosity['Set']!='Prediction']['SMILES']))))"
   ]
  },
  {
   "cell_type": "code",
   "execution_count": 86,
   "id": "7dba6a6d",
   "metadata": {},
   "outputs": [
    {
     "data": {
      "text/plain": [
       "<AxesSubplot:>"
      ]
     },
     "execution_count": 86,
     "metadata": {},
     "output_type": "execute_result"
    },
    {
     "data": {
      "image/png": "[encoded data removed]",
      "text/plain": [
       "<Figure size 432x288 with 1 Axes>"
      ]
     },
     "metadata": {
      "needs_background": "light"
     },
     "output_type": "display_data"
    }
   ],
   "source": [
    "### Distribution of tempretaures in training set\n",
    "\n",
    "df_viscosity[df_viscosity['Set']!='Prediction']['T (K)'].hist()"
   ]
  },
  {
   "cell_type": "code",
   "execution_count": 87,
   "id": "bd92c1a2",
   "metadata": {},
   "outputs": [],
   "source": [
    "### Calculate error between fitted Guzman-Andrade equation and table viscosity values\n",
    "\n",
    "def vis_row(X):\n",
    "    T = X[0]\n",
    "    A = X[1]\n",
    "    F = X[2]\n",
    "    G = X[3]\n",
    "    return A*np.exp(F/T+G)\n",
    "\n",
    "#### F and G initialised by joback method\n",
    "\n",
    "def error(X):\n",
    "    true_ = X[0]\n",
    "    pred  = X[1]\n",
    "    return abs(true_-pred)/true_\n",
    "\n",
    "df_viscosity['visc_pred'] = df_viscosity[['T (K)','A','F','G']].apply(vis_row,axis=1)\n",
    "df_viscosity['error']     = df_viscosity[['Exp. Viscosity (Pa.s)','visc_pred']].apply(error ,axis=1)"
   ]
  },
  {
   "cell_type": "code",
   "execution_count": null,
   "id": "cf820537",
   "metadata": {},
   "outputs": [],
   "source": []
  },
  {
   "cell_type": "markdown",
   "id": "5fab9cc6",
   "metadata": {},
   "source": [
    "### Autoinition temperature "
   ]
  },
  {
   "cell_type": "code",
   "execution_count": null,
   "id": "95fe5cc8",
   "metadata": {},
   "outputs": [],
   "source": [
    "df_auto = df_auto.drop(['No.'],axis=1)\n",
    "df_auto.head(5)"
   ]
  },
  {
   "cell_type": "code",
   "execution_count": 123,
   "id": "41780a7a",
   "metadata": {},
   "outputs": [],
   "source": [
    "def CIRconvert(ids):\n",
    "    try:\n",
    "        url = 'http://cactus.nci.nih.gov/chemical/structure/' + quote(ids) + '/smiles'\n",
    "        ans = urlopen(url).read().decode('utf8')\n",
    "        return ans\n",
    "    except:\n",
    "        return 'Did not work'\n",
    "    \n",
    "    \n",
    "def prop_ref(row):\n",
    "    str_  = row['Exp'].split()\n",
    "    temp, ref = str_[0],str_[1]\n",
    "    temp = float(temp)\n",
    "    ref  = int(ref[1:-1])\n",
    "    return temp, ref"
   ]
  },
  {
   "cell_type": "code",
   "execution_count": 137,
   "id": "b6f77f70",
   "metadata": {},
   "outputs": [],
   "source": [
    "df_auto[['Temp','Ref']] = df_auto.apply(prop_ref,axis=1, result_type=\"expand\")\n",
    "df_auto['Split'] = 'Test'\n",
    "df_auto.iloc[:249,-1] = 'Train'"
   ]
  },
  {
   "cell_type": "code",
   "execution_count": 120,
   "id": "f8355b68",
   "metadata": {},
   "outputs": [],
   "source": [
    "#df_auto = df_auto.drop(274,axis=0)"
   ]
  },
  {
   "cell_type": "code",
   "execution_count": 142,
   "id": "2e8bacfb",
   "metadata": {},
   "outputs": [
    {
     "data": {
      "text/html": [
       "<div>\n",
       "<style scoped>\n",
       "    .dataframe tbody tr th:only-of-type {\n",
       "        vertical-align: middle;\n",
       "    }\n",
       "\n",
       "    .dataframe tbody tr th {\n",
       "        vertical-align: top;\n",
       "    }\n",
       "\n",
       "    .dataframe thead th {\n",
       "        text-align: right;\n",
       "    }\n",
       "</style>\n",
       "<table border=\"1\" class=\"dataframe\">\n",
       "  <thead>\n",
       "    <tr style=\"text-align: right;\">\n",
       "      <th></th>\n",
       "      <th>Hydrocarbon name</th>\n",
       "      <th>Exp</th>\n",
       "      <th>New</th>\n",
       "      <th>Dev</th>\n",
       "      <th>Albahri</th>\n",
       "      <th>Dev.1</th>\n",
       "      <th>AlbahriGeorge</th>\n",
       "      <th>Dev.2</th>\n",
       "      <th>Chen et al.</th>\n",
       "      <th>Dev.3</th>\n",
       "      <th>SMILES</th>\n",
       "      <th>Temp</th>\n",
       "      <th>Ref</th>\n",
       "      <th>Split</th>\n",
       "    </tr>\n",
       "  </thead>\n",
       "  <tbody>\n",
       "  </tbody>\n",
       "</table>\n",
       "</div>"
      ],
      "text/plain": [
       "Empty DataFrame\n",
       "Columns: [Hydrocarbon name, Exp, New, Dev, Albahri, Dev.1, AlbahriGeorge, Dev.2, Chen et al., Dev.3, SMILES, Temp, Ref, Split]\n",
       "Index: []"
      ]
     },
     "execution_count": 142,
     "metadata": {},
     "output_type": "execute_result"
    }
   ],
   "source": [
    "df_auto[df_auto['SMILES']=='Did not work']"
   ]
  },
  {
   "cell_type": "code",
   "execution_count": 134,
   "id": "e8ebfbe7",
   "metadata": {},
   "outputs": [],
   "source": [
    "# Nonadecane                    CCCCCCCCCCCCCCCCCCC     https://pubchem.ncbi.nlm.nih.gov/compound/12401#section=Canonical-SMILES\n",
    "# 2-Methylbutadiene(isoprene)   CC(=C)C=C               https://pubchem.ncbi.nlm.nih.gov/compound/6557#section=InChI-Key\n",
    "# 3,3-Dimethyl L-1-butene       CC(C)(C)C=C             https://pubchem.ncbi.nlm.nih.gov/compound/11210#section=InChI-Key\n",
    "# 1,2,3-Trimethyl-4-ethylbenzne CCC1=C(C(=C(C=C1)C)C)C  https://pubchem.ncbi.nlm.nih.gov/compound/187815\n",
    "\n",
    "\n",
    "df_auto.iloc[(df_auto['SMILES']=='Did not work').values,-4] = ['CCCCCCCCCCCCCCCCCCC','CC(=C)C=C','CC(C)(C)C=C','CCC1=C(C(=C(C=C1)C)C)C']\n"
   ]
  },
  {
   "cell_type": "code",
   "execution_count": 144,
   "id": "b1a84f5a",
   "metadata": {},
   "outputs": [],
   "source": [
    "df_auto.to_csv(r'C:\\Users\\zcemg08\\PycharmProjects\\biofuels\\data\\autoignition_cleaned.csv')"
   ]
  },
  {
   "cell_type": "code",
   "execution_count": null,
   "id": "ac364ece",
   "metadata": {},
   "outputs": [],
   "source": []
  }
 ],
 "metadata": {
  "kernelspec": {
   "display_name": "biofuel",
   "language": "python",
   "name": "biofuel"
  },
  "language_info": {
   "codemirror_mode": {
    "name": "ipython",
    "version": 3
   },
   "file_extension": ".py",
   "mimetype": "text/x-python",
   "name": "python",
   "nbconvert_exporter": "python",
   "pygments_lexer": "ipython3",
   "version": "3.6.12"
  }
 },
 "nbformat": 4,
 "nbformat_minor": 5
}
