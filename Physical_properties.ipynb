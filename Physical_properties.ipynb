{
 "cells": [
  {
   "cell_type": "code",
   "execution_count": 2,
   "id": "c1d09987",
   "metadata": {
    "pycharm": {
     "name": "#%%\n"
    }
   },
   "outputs": [],
   "source": [
    "import pandas as pd\n",
    "import glob\n",
    "import matplotlib.pyplot as plt\n",
    "import numpy as np\n",
    "from scipy.stats import variation\n",
    "from urllib.request import urlopen\n",
    "from urllib.parse import quote\n",
    "from rdkit import Chem\n",
    "from rdkit.Chem.Descriptors import MolWt\n",
    "from collections import Counter"
   ]
  },
  {
   "cell_type": "code",
   "execution_count": 2,
   "id": "d8ffa4ee",
   "metadata": {
    "pycharm": {
     "name": "#%%\n"
    }
   },
   "outputs": [],
   "source": [
    "files_dir = glob.glob(r\"C:\\Users\\zcemg08\\PycharmProjects\\biofuels\\raw_data\\phys_prop\\*.csv\")"
   ]
  },
  {
   "cell_type": "code",
   "execution_count": 3,
   "id": "ca63fda5",
   "metadata": {
    "pycharm": {
     "name": "#%%\n"
    }
   },
   "outputs": [],
   "source": [
    "df0 = pd.read_csv(files_dir[0], encoding= 'unicode_escape')\n",
    "df1 = pd.read_csv(files_dir[1], encoding= 'unicode_escape')\n",
    "df2 = pd.read_csv(files_dir[2], encoding= 'unicode_escape')\n",
    "df3 = pd.read_csv(files_dir[3], encoding= 'unicode_escape')\n",
    "df4 = pd.read_csv(files_dir[4], encoding= 'unicode_escape')\n",
    "df5 = pd.read_csv(files_dir[5], encoding= 'unicode_escape')"
   ]
  },
  {
   "cell_type": "code",
   "execution_count": 4,
   "id": "de69b949",
   "metadata": {
    "pycharm": {
     "name": "#%%\n"
    }
   },
   "outputs": [],
   "source": [
    "datka = [df0,df1,df2,df3,df4,df5]\n",
    "\n",
    "df0['UB(mol/L)'] = None "
   ]
  },
  {
   "cell_type": "code",
   "execution_count": 5,
   "id": "4c541079",
   "metadata": {
    "pycharm": {
     "name": "#%%\n"
    }
   },
   "outputs": [
    {
     "name": "stdout",
     "output_type": "stream",
     "text": [
      "['NO.', 'Compound', 'Smiles', 'RON', 'MON', 'YSI', '?Hc°(KJ/L)', '?Hc°(KJ/kg)', 'RVP(kPa)', 'Density (g/mL)', 'Boiling Point (K)', 'UB(mol/L)']\n",
      "['NO.', 'Compound', 'Smiles', 'RON', 'MON', 'YSI', '?Hc°(KJ/L)', '?Hc°(KJ/kg)', 'RVP(kPa)', 'UB(mol/L)', 'Density (g/mL)', 'Boiling Point (K)']\n",
      "['NO.', 'Compound', 'Smiles', 'RON', 'MON', 'YSI', '?Hc°(KJ/L)', '?Hc°(KJ/kg)', 'RVP(kPa)', 'UB(mol/L)', 'Density (g/mL)', 'Boiling Point (K)']\n",
      "['NO.', 'Compound', 'Smiles', 'RON', 'MON', 'YSI', '?Hc°(KJ/L)', '?Hc°(KJ/kg)', 'RVP(kPa)', 'UB(mol/L)', 'Density (g/mL)', 'Boiling Point (K)']\n",
      "['NO.', 'Compound', 'Smiles', 'RON', 'MON', 'YSI', '?Hc°(KJ/L)', '?Hc°(KJ/kg)', 'RVP(kPa)', 'UB(mol/L)', 'Density (g/mL)', 'Boiling Point (K)']\n",
      "['Species', 'SMILES', 'Formula', 'Unified YSI']\n"
     ]
    }
   ],
   "source": [
    "for item in datka:\n",
    "    print(list(item))"
   ]
  },
  {
   "cell_type": "code",
   "execution_count": 6,
   "id": "112e52ed",
   "metadata": {
    "pycharm": {
     "name": "#%%\n"
    }
   },
   "outputs": [
    {
     "name": "stdout",
     "output_type": "stream",
     "text": [
      "313\n",
      "503\n",
      "618\n",
      "733\n",
      "848\n",
      "1295\n"
     ]
    }
   ],
   "source": [
    "data_ = pd.concat([df0,df1,df2,df3,df4],axis=0)\n",
    "\n",
    "len_ = 0\n",
    "for item in datka:\n",
    "    len_ += len(item)\n",
    "    print(len_)"
   ]
  },
  {
   "cell_type": "code",
   "execution_count": 7,
   "id": "5facedb5",
   "metadata": {
    "pycharm": {
     "name": "#%%\n"
    }
   },
   "outputs": [],
   "source": [
    "### Merge data\n",
    "\n",
    "df = pd.concat(datka[:-1])\n",
    "df = df.drop('NO.',axis=1)\n",
    "#Drop exact duplicated rows\n",
    "df = df.drop_duplicates()\n",
    "#Drop duplicated by Smiles\tRON\tMON\tYSI\t?Hc°(KJ/L)\t?Hc°(KJ/kg)\tRVP(kPa)\tDensity (g/mL)\tBoiling Point (K)\n",
    "important_columns    = list(df)[1:-1]\n",
    "df                   = df.drop_duplicates(subset=important_columns)\n",
    "df                   = df.dropna(subset=['Smiles'])"
   ]
  },
  {
   "cell_type": "markdown",
   "id": "e909b73c",
   "metadata": {
    "pycharm": {
     "name": "#%% md\n"
    }
   },
   "source": [
    "##### Fuel Properties\n",
    "\n",
    "(RON)  - representing the antiknock performance \n",
    "[1.\tKubic Jr, W.L., et al., Artificial neural network based group contribution method for estimating cetane and octane numbers of hydrocarbons and oxygenated organic compounds. Industrial & Engineering Chemistry Research, 2017. 56(42): p. 12236-12245.]\n",
    "\n",
    "(YSI)  - describing the emissions of soot\n",
    "[2.\tDas, D.D., et al., Measuring and predicting sooting tendencies of oxygenates, alkanes, alkenes, cycloalkanes, and aromatics on a unified scale. Combustion and Flame, 2018. 190: p. 349-364.\n",
    "\n",
    "3.\tMcEnally, Charles S.; Das, Dhrubajyoti D.; Pfefferle, Lisa D., 2017, \"Yield Sooting Index Database Volume 2: Sooting Tendencies of a Wide Range of Fuel Compounds on a Unified Scale\", https://doi.org/10.7910/DVN/7HGFT8, Harvard Dataverse, V1, UNF:6:n617TMoSmliFFMdXMfOB9w== [fileUNF].]\n",
    "\n",
    "\n",
    "(DHc)  - combustion heat / evaluating the power performance\n",
    "[Pan, Y., et al., Predicting the net heat of combustion of organic compounds from molecular structures based on ant colony optimization. Journal of Loss Prevention in the Process Industries, 2011. 24(1): p. 85-89.]\n",
    "\n",
    "\n",
    "(Density)- [44, A.P.I.R.P. and K.R. Hall, Selected Values of Properties of Hydrocarbons and Related Compounds. 1981: Thermodynamics Research Center.]\n",
    "\n",
    "(Boiling Point) (K)\n",
    "[Yaws, C.L., Thermophysical properties of chemicals and hydrocarbons. 2008: William Andrew.]\n",
    "\n",
    "(RVP)  - Reid vapor pressure / the evaporation performance of gasoline\n",
    "[Aspen Physical Property System databank.]\n",
    "\n",
    "\n",
    "(UB)   - the number of unsaturated bonds"
   ]
  },
  {
   "cell_type": "markdown",
   "id": "4b6ee93c",
   "metadata": {
    "pycharm": {
     "name": "#%% md\n"
    }
   },
   "source": [
    "#### Alternative datasources - not used in the notebook\n",
    "\n",
    "1) Boiling point and density:\n",
    "\n",
    "https://app.knovel.com/web/view/itable/show.v/rcid:kpYHTPPCC4/cid:kt002UT9Q2/viewerType:itble//root_slug:Physical-Properties-and-Refractive-Index/url_slug:physical-properties-refractive?b-q=Yaws%27%20Handbook%20of%20Thermodynamic%20and%20Physical%20Properties%20of%20Chemical%20Compounds&include_synonyms=no&q=Yaws%27%20Handbook%20of%20Thermodynamic%20and%20Physical%20Properties%20of%20Chemical%20Compounds&sort_on=default&start=0&columns=1,3,4,5,6,8,10,12,13\n",
    "\n",
    "\n",
    "2) Entropy of organic compounds:\n",
    "\n",
    "https://app.knovel.com/web/view/itable/show.v/rcid:kpYCPDCECD/cid:kt00BKANV1/viewerType:eptble//root_slug:Table-79-Entropy-of-Gas---Organic-Com"
   ]
  },
  {
   "cell_type": "code",
   "execution_count": 8,
   "id": "fbecf483",
   "metadata": {
    "pycharm": {
     "name": "#%%\n"
    }
   },
   "outputs": [
    {
     "data": {
      "text/html": [
       "<div>\n",
       "<style scoped>\n",
       "    .dataframe tbody tr th:only-of-type {\n",
       "        vertical-align: middle;\n",
       "    }\n",
       "\n",
       "    .dataframe tbody tr th {\n",
       "        vertical-align: top;\n",
       "    }\n",
       "\n",
       "    .dataframe thead th {\n",
       "        text-align: right;\n",
       "    }\n",
       "</style>\n",
       "<table border=\"1\" class=\"dataframe\">\n",
       "  <thead>\n",
       "    <tr style=\"text-align: right;\">\n",
       "      <th></th>\n",
       "      <th>Compound</th>\n",
       "      <th>Smiles</th>\n",
       "      <th>RON</th>\n",
       "      <th>MON</th>\n",
       "      <th>YSI</th>\n",
       "      <th>?Hc°(KJ/L)</th>\n",
       "      <th>?Hc°(KJ/kg)</th>\n",
       "      <th>RVP(kPa)</th>\n",
       "      <th>Density (g/mL)</th>\n",
       "      <th>Boiling Point (K)</th>\n",
       "      <th>UB(mol/L)</th>\n",
       "    </tr>\n",
       "  </thead>\n",
       "  <tbody>\n",
       "    <tr>\n",
       "      <th>0</th>\n",
       "      <td>2,4-Dimethylpentane</td>\n",
       "      <td>CC(C)CC(C)C</td>\n",
       "      <td>86.317222</td>\n",
       "      <td>85.292433</td>\n",
       "      <td>18.964147</td>\n",
       "      <td>29749.93551</td>\n",
       "      <td>44193.53819</td>\n",
       "      <td>20.163661</td>\n",
       "      <td>0.673174</td>\n",
       "      <td>349.689912</td>\n",
       "      <td>None</td>\n",
       "    </tr>\n",
       "    <tr>\n",
       "      <th>1</th>\n",
       "      <td>Heptane</td>\n",
       "      <td>CCCCCCC</td>\n",
       "      <td>2.100058</td>\n",
       "      <td>5.788349</td>\n",
       "      <td>15.492068</td>\n",
       "      <td>30434.01910</td>\n",
       "      <td>44842.40477</td>\n",
       "      <td>13.179002</td>\n",
       "      <td>0.678688</td>\n",
       "      <td>365.924403</td>\n",
       "      <td>None</td>\n",
       "    </tr>\n",
       "    <tr>\n",
       "      <th>2</th>\n",
       "      <td>2,2,3-Trimethylbutane</td>\n",
       "      <td>CC(C)(C)C(C)C</td>\n",
       "      <td>106.380839</td>\n",
       "      <td>100.789345</td>\n",
       "      <td>31.332231</td>\n",
       "      <td>29928.10179</td>\n",
       "      <td>44024.11931</td>\n",
       "      <td>27.542545</td>\n",
       "      <td>0.679811</td>\n",
       "      <td>352.273738</td>\n",
       "      <td>None</td>\n",
       "    </tr>\n",
       "    <tr>\n",
       "      <th>3</th>\n",
       "      <td>3,3-Dimethylpentane</td>\n",
       "      <td>CCC(C)(C)CC</td>\n",
       "      <td>88.935130</td>\n",
       "      <td>91.989959</td>\n",
       "      <td>18.105944</td>\n",
       "      <td>30283.40019</td>\n",
       "      <td>44476.16394</td>\n",
       "      <td>22.833933</td>\n",
       "      <td>0.680891</td>\n",
       "      <td>357.408846</td>\n",
       "      <td>None</td>\n",
       "    </tr>\n",
       "    <tr>\n",
       "      <th>4</th>\n",
       "      <td>2,3-Dimethylpentane</td>\n",
       "      <td>CC(C)C(C)CC</td>\n",
       "      <td>88.753001</td>\n",
       "      <td>87.964683</td>\n",
       "      <td>24.657707</td>\n",
       "      <td>29868.56685</td>\n",
       "      <td>44073.29329</td>\n",
       "      <td>17.498149</td>\n",
       "      <td>0.677702</td>\n",
       "      <td>353.830958</td>\n",
       "      <td>None</td>\n",
       "    </tr>\n",
       "  </tbody>\n",
       "</table>\n",
       "</div>"
      ],
      "text/plain": [
       "                Compound         Smiles         RON         MON        YSI  \\\n",
       "0    2,4-Dimethylpentane    CC(C)CC(C)C   86.317222   85.292433  18.964147   \n",
       "1                Heptane        CCCCCCC    2.100058    5.788349  15.492068   \n",
       "2  2,2,3-Trimethylbutane  CC(C)(C)C(C)C  106.380839  100.789345  31.332231   \n",
       "3    3,3-Dimethylpentane    CCC(C)(C)CC   88.935130   91.989959  18.105944   \n",
       "4    2,3-Dimethylpentane    CC(C)C(C)CC   88.753001   87.964683  24.657707   \n",
       "\n",
       "    ?Hc°(KJ/L)  ?Hc°(KJ/kg)   RVP(kPa)  Density (g/mL)  Boiling Point (K)  \\\n",
       "0  29749.93551  44193.53819  20.163661        0.673174         349.689912   \n",
       "1  30434.01910  44842.40477  13.179002        0.678688         365.924403   \n",
       "2  29928.10179  44024.11931  27.542545        0.679811         352.273738   \n",
       "3  30283.40019  44476.16394  22.833933        0.680891         357.408846   \n",
       "4  29868.56685  44073.29329  17.498149        0.677702         353.830958   \n",
       "\n",
       "  UB(mol/L)  \n",
       "0      None  \n",
       "1      None  \n",
       "2      None  \n",
       "3      None  \n",
       "4      None  "
      ]
     },
     "execution_count": 8,
     "metadata": {},
     "output_type": "execute_result"
    }
   ],
   "source": [
    "df.head(5)"
   ]
  },
  {
   "cell_type": "code",
   "execution_count": 9,
   "id": "4760a1dd",
   "metadata": {
    "pycharm": {
     "name": "#%%\n"
    }
   },
   "outputs": [
    {
     "name": "stdout",
     "output_type": "stream",
     "text": [
      "RON number of duplicates = 120\n",
      "MON number of duplicates = 120\n",
      "YSI number of duplicates = 120\n",
      "?Hc°(KJ/L) number of duplicates = 0\n",
      "?Hc°(KJ/kg) number of duplicates = 0\n",
      "RVP(kPa) number of duplicates = 120\n",
      "Density (g/mL) number of duplicates = 120\n",
      "Boiling Point (K) number of duplicates = 120\n",
      "UB(mol/L) number of duplicates = 108\n"
     ]
    }
   ],
   "source": [
    "for col in list(df)[2:]:\n",
    "    print(col + ' '+ 'number of duplicates = {}'.format(df.duplicated(subset=['Smiles',col]).sum()))"
   ]
  },
  {
   "cell_type": "code",
   "execution_count": 10,
   "id": "fb280ac8",
   "metadata": {
    "pycharm": {
     "name": "#%%\n"
    }
   },
   "outputs": [],
   "source": [
    "def variation_(df):\n",
    "    return [variation(df[df['Smiles']==x].iloc[:,1]) for x in df[df.duplicated(subset=['Smiles'])]['Smiles'].values]"
   ]
  },
  {
   "cell_type": "code",
   "execution_count": 11,
   "id": "beae732c",
   "metadata": {
    "pycharm": {
     "name": "#%%\n"
    }
   },
   "outputs": [],
   "source": [
    "df_RON     = df[['Smiles','RON']].drop_duplicates()\n",
    "df_YSI     = df[['Smiles','YSI']].drop_duplicates()\n",
    "df_comb_h  = df[['Smiles','?Hc°(KJ/kg)']].drop_duplicates()\n",
    "df_RVP     = df[['Smiles','RVP(kPa)']].drop_duplicates()\n",
    "df_Density = df[['Smiles','Density (g/mL)']].drop_duplicates()\n",
    "df_bp      = df[['Smiles','Boiling Point (K)']].drop_duplicates()"
   ]
  },
  {
   "cell_type": "code",
   "execution_count": 12,
   "id": "45b40475",
   "metadata": {
    "pycharm": {
     "name": "#%%\n"
    }
   },
   "outputs": [
    {
     "data": {
      "text/plain": [
       "Text(0.5, 1.0, 'BP_norm_var')"
      ]
     },
     "execution_count": 12,
     "metadata": {},
     "output_type": "execute_result"
    },
    {
     "data": {
      "image/png": "[encoded data removed]",
      "text/plain": [
       "<Figure size 1440x720 with 6 Axes>"
      ]
     },
     "metadata": {
      "needs_background": "light"
     },
     "output_type": "display_data"
    }
   ],
   "source": [
    "fig, axs = plt.subplots(2, 3,figsize=(20,10))\n",
    "axs[0, 0].hist(variation_(df_YSI))\n",
    "axs[0, 0].set_title('YSI_norm_var')\n",
    "\n",
    "axs[0, 1].hist(variation_(df_comb_h))\n",
    "axs[0, 1].set_title('comb_norm_var')\n",
    "\n",
    "axs[0, 2].hist(variation_(df_RVP))\n",
    "axs[0, 2].set_title('RVP_norm_var')\n",
    "\n",
    "axs[1, 0].hist(variation_(df_Density))\n",
    "axs[1, 0].set_title('DEN_norm_var')\n",
    "\n",
    "axs[1, 1].hist(variation_(df_bp))\n",
    "axs[1, 1].set_title('BP_norm_var')"
   ]
  },
  {
   "cell_type": "markdown",
   "id": "56693076",
   "metadata": {
    "pycharm": {
     "name": "#%% md\n"
    }
   },
   "source": [
    "### Combustion heat Hc° kJ/kg"
   ]
  },
  {
   "cell_type": "code",
   "execution_count": 13,
   "id": "9287558b",
   "metadata": {
    "pycharm": {
     "name": "#%%\n"
    }
   },
   "outputs": [
    {
     "data": {
      "text/html": [
       "<div>\n",
       "<style scoped>\n",
       "    .dataframe tbody tr th:only-of-type {\n",
       "        vertical-align: middle;\n",
       "    }\n",
       "\n",
       "    .dataframe tbody tr th {\n",
       "        vertical-align: top;\n",
       "    }\n",
       "\n",
       "    .dataframe thead th {\n",
       "        text-align: right;\n",
       "    }\n",
       "</style>\n",
       "<table border=\"1\" class=\"dataframe\">\n",
       "  <thead>\n",
       "    <tr style=\"text-align: right;\">\n",
       "      <th></th>\n",
       "      <th>Smiles</th>\n",
       "      <th>?Hc°(KJ/kg)</th>\n",
       "    </tr>\n",
       "  </thead>\n",
       "  <tbody>\n",
       "    <tr>\n",
       "      <th>36</th>\n",
       "      <td>C=CC(C)C(C)C</td>\n",
       "      <td>42795.98464</td>\n",
       "    </tr>\n",
       "    <tr>\n",
       "      <th>44</th>\n",
       "      <td>C=CC(C)C(C)C</td>\n",
       "      <td>43733.98443</td>\n",
       "    </tr>\n",
       "  </tbody>\n",
       "</table>\n",
       "</div>"
      ],
      "text/plain": [
       "          Smiles  ?Hc°(KJ/kg)\n",
       "36  C=CC(C)C(C)C  42795.98464\n",
       "44  C=CC(C)C(C)C  43733.98443"
      ]
     },
     "execution_count": 13,
     "metadata": {},
     "output_type": "execute_result"
    }
   ],
   "source": [
    "# Largest deviation in \n",
    "df_comb_h[df_comb_h['Smiles']==df_comb_h[df_comb_h.duplicated(subset=['Smiles'])]['Smiles'].values[np.argmax(variation_(df_comb_h))]]"
   ]
  },
  {
   "cell_type": "code",
   "execution_count": 14,
   "id": "4ff23074",
   "metadata": {
    "pycharm": {
     "name": "#%%\n"
    }
   },
   "outputs": [],
   "source": [
    "# According to above distr plot and values for the largets deviation for combustion heat:\n",
    "#  -----> take average values in repeating smiles entries \n",
    "\n",
    "df_comb_h = df_comb_h.groupby('Smiles').mean()"
   ]
  },
  {
   "cell_type": "code",
   "execution_count": 15,
   "id": "b395a1fe",
   "metadata": {
    "pycharm": {
     "name": "#%%\n"
    }
   },
   "outputs": [],
   "source": [
    "def large_var_df(df,threshold):\n",
    "    \n",
    "    '''Function takes dataframe and threshold\n",
    "    returns duplicates with normilised varience larger then threshold'''\n",
    "    \n",
    "    smiles_duplicates    = df[df.duplicated(subset=['Smiles'])]['Smiles'].values\n",
    "    large_var            = smiles_duplicates[np.where(np.array(variation_(df))>threshold)[0]]\n",
    "    new_df               = pd.concat([df[df['Smiles']==x] for x in large_var])\n",
    "    \n",
    "    return new_df"
   ]
  },
  {
   "cell_type": "code",
   "execution_count": 16,
   "id": "4131a72c",
   "metadata": {
    "pycharm": {
     "name": "#%%\n"
    }
   },
   "outputs": [
    {
     "data": {
      "text/plain": [
       "array([[<AxesSubplot:title={'center':'?Hc°(KJ/kg)'}>]], dtype=object)"
      ]
     },
     "execution_count": 16,
     "metadata": {},
     "output_type": "execute_result"
    },
    {
     "data": {
      "image/png": "[encoded data removed]",
      "text/plain": [
       "<Figure size 432x288 with 1 Axes>"
      ]
     },
     "metadata": {
      "needs_background": "light"
     },
     "output_type": "display_data"
    }
   ],
   "source": [
    "df_comb_h.hist(bins=35)"
   ]
  },
  {
   "cell_type": "code",
   "execution_count": 17,
   "id": "b65c86e9",
   "metadata": {
    "pycharm": {
     "name": "#%%\n"
    }
   },
   "outputs": [],
   "source": [
    "df_comb_h.to_csv(r'C:\\Users\\zcemg08\\PycharmProjects\\biofuels\\cleaned_data\\comb_heat.csv')"
   ]
  },
  {
   "cell_type": "markdown",
   "id": "30cc4ebd",
   "metadata": {
    "pycharm": {
     "name": "#%% md\n"
    }
   },
   "source": [
    "### Boiling Point  K "
   ]
  },
  {
   "cell_type": "code",
   "execution_count": 18,
   "id": "78d0f928",
   "metadata": {
    "pycharm": {
     "name": "#%%\n"
    }
   },
   "outputs": [
    {
     "data": {
      "text/html": [
       "<div>\n",
       "<style scoped>\n",
       "    .dataframe tbody tr th:only-of-type {\n",
       "        vertical-align: middle;\n",
       "    }\n",
       "\n",
       "    .dataframe tbody tr th {\n",
       "        vertical-align: top;\n",
       "    }\n",
       "\n",
       "    .dataframe thead th {\n",
       "        text-align: right;\n",
       "    }\n",
       "</style>\n",
       "<table border=\"1\" class=\"dataframe\">\n",
       "  <thead>\n",
       "    <tr style=\"text-align: right;\">\n",
       "      <th></th>\n",
       "      <th>Smiles</th>\n",
       "      <th>Boiling Point (K)</th>\n",
       "    </tr>\n",
       "  </thead>\n",
       "  <tbody>\n",
       "    <tr>\n",
       "      <th>147</th>\n",
       "      <td>CC1=C(C)CCC1</td>\n",
       "      <td>375.318678</td>\n",
       "    </tr>\n",
       "    <tr>\n",
       "      <th>93</th>\n",
       "      <td>CC1=C(C)CCC1</td>\n",
       "      <td>356.482861</td>\n",
       "    </tr>\n",
       "  </tbody>\n",
       "</table>\n",
       "</div>"
      ],
      "text/plain": [
       "           Smiles  Boiling Point (K)\n",
       "147  CC1=C(C)CCC1         375.318678\n",
       "93   CC1=C(C)CCC1         356.482861"
      ]
     },
     "execution_count": 18,
     "metadata": {},
     "output_type": "execute_result"
    }
   ],
   "source": [
    "bp_smiles_duplicates = df_bp[df_bp.duplicated(subset=['Smiles'])]['Smiles'].values\n",
    "\n",
    "df_bp[df_bp['Smiles']==bp_smiles_duplicates[np.argmax(variation_(df_bp))]]"
   ]
  },
  {
   "cell_type": "code",
   "execution_count": 19,
   "id": "1e9eec1b",
   "metadata": {
    "pycharm": {
     "name": "#%%\n"
    }
   },
   "outputs": [
    {
     "data": {
      "text/html": [
       "<div>\n",
       "<style scoped>\n",
       "    .dataframe tbody tr th:only-of-type {\n",
       "        vertical-align: middle;\n",
       "    }\n",
       "\n",
       "    .dataframe tbody tr th {\n",
       "        vertical-align: top;\n",
       "    }\n",
       "\n",
       "    .dataframe thead th {\n",
       "        text-align: right;\n",
       "    }\n",
       "</style>\n",
       "<table border=\"1\" class=\"dataframe\">\n",
       "  <thead>\n",
       "    <tr style=\"text-align: right;\">\n",
       "      <th></th>\n",
       "      <th>Smiles</th>\n",
       "      <th>Boiling Point (K)</th>\n",
       "      <th>Name</th>\n",
       "    </tr>\n",
       "  </thead>\n",
       "  <tbody>\n",
       "    <tr>\n",
       "      <th>17</th>\n",
       "      <td>C=CCC(C)(C)C</td>\n",
       "      <td>356.812490</td>\n",
       "      <td>4,4-Dimethyl-1-pentene</td>\n",
       "    </tr>\n",
       "    <tr>\n",
       "      <th>34</th>\n",
       "      <td>C=CCC(C)(C)C</td>\n",
       "      <td>338.973233</td>\n",
       "      <td>4,4-Dimethyl-1-pentene</td>\n",
       "    </tr>\n",
       "    <tr>\n",
       "      <th>0</th>\n",
       "      <td>CC(C)CC(C)C</td>\n",
       "      <td>349.689912</td>\n",
       "      <td>2,4-Dimethylpentane</td>\n",
       "    </tr>\n",
       "    <tr>\n",
       "      <th>39</th>\n",
       "      <td>CC(C)CC(C)C</td>\n",
       "      <td>358.771521</td>\n",
       "      <td>2,4-Dimethylpentane</td>\n",
       "    </tr>\n",
       "    <tr>\n",
       "      <th>14</th>\n",
       "      <td>C=C(C)C(C)(C)C</td>\n",
       "      <td>363.914747</td>\n",
       "      <td>2,3,3-Trimethyl-1-butene</td>\n",
       "    </tr>\n",
       "    <tr>\n",
       "      <th>41</th>\n",
       "      <td>C=C(C)C(C)(C)C</td>\n",
       "      <td>349.751186</td>\n",
       "      <td>2,3,3-Trimethyl-1-butene</td>\n",
       "    </tr>\n",
       "    <tr>\n",
       "      <th>160</th>\n",
       "      <td>C=C(C)C(C)C=C</td>\n",
       "      <td>370.644974</td>\n",
       "      <td>2,3-Dimethyl-1,4-pentadiene</td>\n",
       "    </tr>\n",
       "    <tr>\n",
       "      <th>45</th>\n",
       "      <td>C=C(C)C(C)C=C</td>\n",
       "      <td>356.021477</td>\n",
       "      <td>2,3-Dimethyl-1,4-pentadiene</td>\n",
       "    </tr>\n",
       "    <tr>\n",
       "      <th>21</th>\n",
       "      <td>CC1(C)CCCC1</td>\n",
       "      <td>369.244465</td>\n",
       "      <td>1,1-Dimethylcyclopentane</td>\n",
       "    </tr>\n",
       "    <tr>\n",
       "      <th>60</th>\n",
       "      <td>CC1(C)CCCC1</td>\n",
       "      <td>360.984281</td>\n",
       "      <td>1,1-Dimethylcyclopentane</td>\n",
       "    </tr>\n",
       "    <tr>\n",
       "      <th>147</th>\n",
       "      <td>CC1=C(C)CCC1</td>\n",
       "      <td>375.318678</td>\n",
       "      <td>1,2-Dimethylcyclopentene</td>\n",
       "    </tr>\n",
       "    <tr>\n",
       "      <th>93</th>\n",
       "      <td>CC1=C(C)CCC1</td>\n",
       "      <td>356.482861</td>\n",
       "      <td>1,2-Dimethylcyclopentene</td>\n",
       "    </tr>\n",
       "    <tr>\n",
       "      <th>74</th>\n",
       "      <td>CC1=CC=CC=C1</td>\n",
       "      <td>393.480196</td>\n",
       "      <td>Toluene</td>\n",
       "    </tr>\n",
       "    <tr>\n",
       "      <th>95</th>\n",
       "      <td>CC1=CC=CC=C1</td>\n",
       "      <td>381.848851</td>\n",
       "      <td>Toluene</td>\n",
       "    </tr>\n",
       "    <tr>\n",
       "      <th>77</th>\n",
       "      <td>C=C(C)CC(C)(C)C</td>\n",
       "      <td>373.878316</td>\n",
       "      <td>2,4,4-trimethyl-1-pentene</td>\n",
       "    </tr>\n",
       "    <tr>\n",
       "      <th>16</th>\n",
       "      <td>C=C(C)CC(C)(C)C</td>\n",
       "      <td>381.745895</td>\n",
       "      <td>2,4,4-trimethyl-1-pentene</td>\n",
       "    </tr>\n",
       "    <tr>\n",
       "      <th>132</th>\n",
       "      <td>C=CC1=CC=CC=C1</td>\n",
       "      <td>415.997612</td>\n",
       "      <td>styrene</td>\n",
       "    </tr>\n",
       "    <tr>\n",
       "      <th>35</th>\n",
       "      <td>C=CC1=CC=CC=C1</td>\n",
       "      <td>427.396516</td>\n",
       "      <td>styrene</td>\n",
       "    </tr>\n",
       "  </tbody>\n",
       "</table>\n",
       "</div>"
      ],
      "text/plain": [
       "              Smiles  Boiling Point (K)                         Name\n",
       "17      C=CCC(C)(C)C         356.812490       4,4-Dimethyl-1-pentene\n",
       "34      C=CCC(C)(C)C         338.973233       4,4-Dimethyl-1-pentene\n",
       "0        CC(C)CC(C)C         349.689912          2,4-Dimethylpentane\n",
       "39       CC(C)CC(C)C         358.771521          2,4-Dimethylpentane\n",
       "14    C=C(C)C(C)(C)C         363.914747     2,3,3-Trimethyl-1-butene\n",
       "41    C=C(C)C(C)(C)C         349.751186     2,3,3-Trimethyl-1-butene\n",
       "160    C=C(C)C(C)C=C         370.644974  2,3-Dimethyl-1,4-pentadiene\n",
       "45     C=C(C)C(C)C=C         356.021477  2,3-Dimethyl-1,4-pentadiene\n",
       "21       CC1(C)CCCC1         369.244465     1,1-Dimethylcyclopentane\n",
       "60       CC1(C)CCCC1         360.984281     1,1-Dimethylcyclopentane\n",
       "147     CC1=C(C)CCC1         375.318678     1,2-Dimethylcyclopentene\n",
       "93      CC1=C(C)CCC1         356.482861     1,2-Dimethylcyclopentene\n",
       "74      CC1=CC=CC=C1         393.480196                      Toluene\n",
       "95      CC1=CC=CC=C1         381.848851                      Toluene\n",
       "77   C=C(C)CC(C)(C)C         373.878316    2,4,4-trimethyl-1-pentene\n",
       "16   C=C(C)CC(C)(C)C         381.745895    2,4,4-trimethyl-1-pentene\n",
       "132   C=CC1=CC=CC=C1         415.997612                      styrene\n",
       "35    C=CC1=CC=CC=C1         427.396516                      styrene"
      ]
     },
     "execution_count": 19,
     "metadata": {},
     "output_type": "execute_result"
    }
   ],
   "source": [
    "#### Show compunds with the normilised variation greater then 0.01\n",
    "df_bp_var             = large_var_df(df_bp,0.01)\n",
    "names                 = df[['Compound','Smiles']].drop_duplicates(subset='Smiles')\n",
    "df_bp_var['Name']     = df_bp_var['Smiles'].apply(lambda x:names[names['Smiles']==x].Compound.values[0] )\n",
    "\n",
    "df_bp_var"
   ]
  },
  {
   "cell_type": "code",
   "execution_count": 20,
   "id": "44a33aeb",
   "metadata": {
    "pycharm": {
     "name": "#%%\n"
    }
   },
   "outputs": [
    {
     "name": "stderr",
     "output_type": "stream",
     "text": [
      "C:\\Users\\zcemg08\\Miniconda3\\envs\\biofuel\\lib\\site-packages\\ipykernel_launcher.py:14: SettingWithCopyWarning: \n",
      "A value is trying to be set on a copy of a slice from a DataFrame.\n",
      "Try using .loc[row_indexer,col_indexer] = value instead\n",
      "\n",
      "See the caveats in the documentation: https://pandas.pydata.org/pandas-docs/stable/user_guide/indexing.html#returning-a-view-versus-a-copy\n",
      "  \n"
     ]
    }
   ],
   "source": [
    "# 4,4-Dimethyl-1-pentene       C=CCC(C)(C)C      bp = 71.3-73 \n",
    "# 2,4-Dimethylpentane          CC(C)CC(C)C       bp = 353.644\n",
    "# 2,3,3-Trimethyl-1-butene     C=C(C)C(C)(C)C    bp = 351.041 https://app.knovel.com/web/folder-share.v?guid=yMGnkAl2FzMI1aIE\n",
    "# 2,3-Dimethyl-1,4-pentadiene  C=C(C)C(C)C=C     neither dippr nor website --> take average (370.644974+356.021477)/2= 363.3332255\n",
    "# 1,1-Dimethylcyclopentane     CC1(C)CCCC1       bp = 361 \n",
    "# 1,2-Dimethylcyclopentene     CC1=CC=CC=C1      bp = 105.8 deg = \n",
    "# toluene                      CC1=CC=CC=C1\t     bp = 110.62 deg\n",
    "# 2,4,4-trimethyl-1-pentene    C=C(C)CC(C)(C)C   bp = 374.59k \n",
    "# styrene                      C=CC1=CC=CC=C1    bp = 418.31\n",
    "\n",
    "temp = [72+274,353.644,351.041,363.3332255,361,105.8+274,110.62+274,374.59,418.31]\n",
    "\n",
    "fixed_df                  = df_bp_var.drop_duplicates(subset='Smiles')\n",
    "fixed_df['Boiling Point (K)'] = temp"
   ]
  },
  {
   "cell_type": "code",
   "execution_count": 21,
   "id": "9de1f536",
   "metadata": {
    "pycharm": {
     "name": "#%%\n"
    }
   },
   "outputs": [],
   "source": [
    "df_boiling_point           = df_bp.groupby('Smiles').mean()\n",
    "df_boiling_point           = df_boiling_point.reset_index()"
   ]
  },
  {
   "cell_type": "code",
   "execution_count": 22,
   "id": "23560eee",
   "metadata": {
    "pycharm": {
     "name": "#%%\n"
    }
   },
   "outputs": [
    {
     "data": {
      "text/html": [
       "<div>\n",
       "<style scoped>\n",
       "    .dataframe tbody tr th:only-of-type {\n",
       "        vertical-align: middle;\n",
       "    }\n",
       "\n",
       "    .dataframe tbody tr th {\n",
       "        vertical-align: top;\n",
       "    }\n",
       "\n",
       "    .dataframe thead th {\n",
       "        text-align: right;\n",
       "    }\n",
       "</style>\n",
       "<table border=\"1\" class=\"dataframe\">\n",
       "  <thead>\n",
       "    <tr style=\"text-align: right;\">\n",
       "      <th></th>\n",
       "      <th>Smiles</th>\n",
       "      <th>Boiling Point (K)</th>\n",
       "      <th>Name</th>\n",
       "    </tr>\n",
       "  </thead>\n",
       "  <tbody>\n",
       "    <tr>\n",
       "      <th>14</th>\n",
       "      <td>C=C(C)C(C)(C)C</td>\n",
       "      <td>351.041</td>\n",
       "      <td>2,3,3-Trimethyl-1-butene</td>\n",
       "    </tr>\n",
       "  </tbody>\n",
       "</table>\n",
       "</div>"
      ],
      "text/plain": [
       "            Smiles  Boiling Point (K)                      Name\n",
       "14  C=C(C)C(C)(C)C            351.041  2,3,3-Trimethyl-1-butene"
      ]
     },
     "execution_count": 22,
     "metadata": {},
     "output_type": "execute_result"
    }
   ],
   "source": [
    "fixed_df[fixed_df['Smiles']=='C=C(C)C(C)(C)C']"
   ]
  },
  {
   "cell_type": "code",
   "execution_count": 23,
   "id": "321a596b",
   "metadata": {
    "pycharm": {
     "name": "#%%\n"
    }
   },
   "outputs": [
    {
     "data": {
      "text/html": [
       "<div>\n",
       "<style scoped>\n",
       "    .dataframe tbody tr th:only-of-type {\n",
       "        vertical-align: middle;\n",
       "    }\n",
       "\n",
       "    .dataframe tbody tr th {\n",
       "        vertical-align: top;\n",
       "    }\n",
       "\n",
       "    .dataframe thead th {\n",
       "        text-align: right;\n",
       "    }\n",
       "</style>\n",
       "<table border=\"1\" class=\"dataframe\">\n",
       "  <thead>\n",
       "    <tr style=\"text-align: right;\">\n",
       "      <th></th>\n",
       "      <th>Smiles</th>\n",
       "      <th>Boiling Point (K)</th>\n",
       "    </tr>\n",
       "  </thead>\n",
       "  <tbody>\n",
       "    <tr>\n",
       "      <th>72</th>\n",
       "      <td>C=C(C)C(C)(C)C</td>\n",
       "      <td>356.832966</td>\n",
       "    </tr>\n",
       "  </tbody>\n",
       "</table>\n",
       "</div>"
      ],
      "text/plain": [
       "            Smiles  Boiling Point (K)\n",
       "72  C=C(C)C(C)(C)C         356.832966"
      ]
     },
     "execution_count": 23,
     "metadata": {},
     "output_type": "execute_result"
    }
   ],
   "source": [
    "df_boiling_point[df_boiling_point['Smiles']=='C=C(C)C(C)(C)C']"
   ]
  },
  {
   "cell_type": "code",
   "execution_count": 24,
   "id": "610bf91e",
   "metadata": {
    "pycharm": {
     "name": "#%%\n"
    }
   },
   "outputs": [],
   "source": [
    "df_boiling_point.loc[df_boiling_point['Smiles'].isin(fixed_df['Smiles']),'Boiling Point (K)'] = 0\n",
    "merged                    = df_boiling_point.merge(fixed_df[['Smiles','Boiling Point (K)']],on='Smiles',how='left')\n",
    "merged['Boiling_point_K'] = np.max(merged[[list(merged)[1],list(merged)[2]]],axis=1)\n",
    "merged                    = merged.drop(labels=[list(merged)[1],list(merged)[2]], axis=1)"
   ]
  },
  {
   "cell_type": "code",
   "execution_count": 25,
   "id": "92f54960",
   "metadata": {
    "pycharm": {
     "name": "#%%\n"
    }
   },
   "outputs": [
    {
     "data": {
      "text/html": [
       "<div>\n",
       "<style scoped>\n",
       "    .dataframe tbody tr th:only-of-type {\n",
       "        vertical-align: middle;\n",
       "    }\n",
       "\n",
       "    .dataframe tbody tr th {\n",
       "        vertical-align: top;\n",
       "    }\n",
       "\n",
       "    .dataframe thead th {\n",
       "        text-align: right;\n",
       "    }\n",
       "</style>\n",
       "<table border=\"1\" class=\"dataframe\">\n",
       "  <thead>\n",
       "    <tr style=\"text-align: right;\">\n",
       "      <th></th>\n",
       "      <th>Smiles</th>\n",
       "      <th>Boiling_point_K</th>\n",
       "    </tr>\n",
       "  </thead>\n",
       "  <tbody>\n",
       "    <tr>\n",
       "      <th>72</th>\n",
       "      <td>C=C(C)C(C)(C)C</td>\n",
       "      <td>351.041</td>\n",
       "    </tr>\n",
       "  </tbody>\n",
       "</table>\n",
       "</div>"
      ],
      "text/plain": [
       "            Smiles  Boiling_point_K\n",
       "72  C=C(C)C(C)(C)C          351.041"
      ]
     },
     "execution_count": 25,
     "metadata": {},
     "output_type": "execute_result"
    }
   ],
   "source": [
    "# Check if merged data frame use substituted values \n",
    "merged[merged['Smiles']=='C=C(C)C(C)(C)C']"
   ]
  },
  {
   "cell_type": "code",
   "execution_count": 26,
   "id": "e0b498f3",
   "metadata": {
    "pycharm": {
     "name": "#%%\n"
    }
   },
   "outputs": [],
   "source": [
    "df_boiling_point = merged"
   ]
  },
  {
   "cell_type": "code",
   "execution_count": 27,
   "id": "27ecc38e",
   "metadata": {
    "pycharm": {
     "name": "#%%\n"
    }
   },
   "outputs": [],
   "source": [
    "df_boiling_point.to_csv(r'C:\\Users\\zcemg08\\PycharmProjects\\biofuels\\cleaned_data\\boiling_point.csv')"
   ]
  },
  {
   "cell_type": "markdown",
   "id": "265dedfb",
   "metadata": {
    "pycharm": {
     "name": "#%% md\n"
    }
   },
   "source": [
    "### Reid vapour pressure  !!!!!! Big problem with such dataset"
   ]
  },
  {
   "cell_type": "code",
   "execution_count": 28,
   "id": "e5af9693",
   "metadata": {
    "pycharm": {
     "name": "#%%\n"
    }
   },
   "outputs": [
    {
     "data": {
      "text/html": [
       "<div>\n",
       "<style scoped>\n",
       "    .dataframe tbody tr th:only-of-type {\n",
       "        vertical-align: middle;\n",
       "    }\n",
       "\n",
       "    .dataframe tbody tr th {\n",
       "        vertical-align: top;\n",
       "    }\n",
       "\n",
       "    .dataframe thead th {\n",
       "        text-align: right;\n",
       "    }\n",
       "</style>\n",
       "<table border=\"1\" class=\"dataframe\">\n",
       "  <thead>\n",
       "    <tr style=\"text-align: right;\">\n",
       "      <th></th>\n",
       "      <th>Smiles</th>\n",
       "      <th>RVP(kPa)</th>\n",
       "    </tr>\n",
       "  </thead>\n",
       "  <tbody>\n",
       "    <tr>\n",
       "      <th>17</th>\n",
       "      <td>C=CCC(C)(C)C</td>\n",
       "      <td>36.134518</td>\n",
       "    </tr>\n",
       "    <tr>\n",
       "      <th>34</th>\n",
       "      <td>C=CCC(C)(C)C</td>\n",
       "      <td>27.314861</td>\n",
       "    </tr>\n",
       "  </tbody>\n",
       "</table>\n",
       "</div>"
      ],
      "text/plain": [
       "          Smiles   RVP(kPa)\n",
       "17  C=CCC(C)(C)C  36.134518\n",
       "34  C=CCC(C)(C)C  27.314861"
      ]
     },
     "execution_count": 28,
     "metadata": {},
     "output_type": "execute_result"
    }
   ],
   "source": [
    "## Example of large deviations in reid vapour pressure values \n",
    "df_RVP[df_RVP['Smiles']=='C=CCC(C)(C)C']"
   ]
  },
  {
   "cell_type": "markdown",
   "id": "24031ccf",
   "metadata": {
    "pycharm": {
     "name": "#%% md\n"
    }
   },
   "source": [
    "# Viscosity "
   ]
  },
  {
   "cell_type": "code",
   "execution_count": 3,
   "id": "4e552eef",
   "metadata": {
    "pycharm": {
     "name": "#%%\n"
    }
   },
   "outputs": [],
   "source": [
    "df_viscosity = pd.read_csv(r'C:\\Users\\zcemg08\\PycharmProjects\\biofuels\\raw_data\\viscosity_cleaned.csv')"
   ]
  },
  {
   "cell_type": "code",
   "execution_count": 4,
   "id": "9c127e3d",
   "metadata": {
    "pycharm": {
     "name": "#%%\n"
    }
   },
   "outputs": [
    {
     "data": {
      "text/html": [
       "<div>\n",
       "<style scoped>\n",
       "    .dataframe tbody tr th:only-of-type {\n",
       "        vertical-align: middle;\n",
       "    }\n",
       "\n",
       "    .dataframe tbody tr th {\n",
       "        vertical-align: top;\n",
       "    }\n",
       "\n",
       "    .dataframe thead th {\n",
       "        text-align: right;\n",
       "    }\n",
       "</style>\n",
       "<table border=\"1\" class=\"dataframe\">\n",
       "  <thead>\n",
       "    <tr style=\"text-align: right;\">\n",
       "      <th></th>\n",
       "      <th>Family</th>\n",
       "      <th>Name</th>\n",
       "      <th>SMILES</th>\n",
       "      <th>Set</th>\n",
       "      <th>T (K)</th>\n",
       "      <th>Exp. Viscosity (Pa.s)</th>\n",
       "      <th>Pred. Viscosity (Pa.s)</th>\n",
       "      <th>A</th>\n",
       "      <th>F</th>\n",
       "      <th>G</th>\n",
       "      <th>...</th>\n",
       "      <th>X13</th>\n",
       "      <th>X18</th>\n",
       "      <th>X20</th>\n",
       "      <th>Y1</th>\n",
       "      <th>Y2</th>\n",
       "      <th>Y5</th>\n",
       "      <th>Y14</th>\n",
       "      <th>Y15</th>\n",
       "      <th>Y17</th>\n",
       "      <th>Y23</th>\n",
       "    </tr>\n",
       "  </thead>\n",
       "  <tbody>\n",
       "    <tr>\n",
       "      <th>0</th>\n",
       "      <td>Alcohols</td>\n",
       "      <td>1-butanol</td>\n",
       "      <td>CCCCO</td>\n",
       "      <td>Validation</td>\n",
       "      <td>193.1</td>\n",
       "      <td>0.2176</td>\n",
       "      <td>0.29235</td>\n",
       "      <td>74.1</td>\n",
       "      <td>2233.3</td>\n",
       "      <td>-17.7</td>\n",
       "      <td>...</td>\n",
       "      <td>-0.011288</td>\n",
       "      <td>0.147335</td>\n",
       "      <td>24.600061</td>\n",
       "      <td>10</td>\n",
       "      <td>1</td>\n",
       "      <td>0</td>\n",
       "      <td>0</td>\n",
       "      <td>0</td>\n",
       "      <td>1</td>\n",
       "      <td>0</td>\n",
       "    </tr>\n",
       "    <tr>\n",
       "      <th>1</th>\n",
       "      <td>Alcohols</td>\n",
       "      <td>1-butanol</td>\n",
       "      <td>CCCCO</td>\n",
       "      <td>Training</td>\n",
       "      <td>203.1</td>\n",
       "      <td>0.1058</td>\n",
       "      <td>0.14379</td>\n",
       "      <td>74.1</td>\n",
       "      <td>2233.3</td>\n",
       "      <td>-17.7</td>\n",
       "      <td>...</td>\n",
       "      <td>-0.011288</td>\n",
       "      <td>0.147335</td>\n",
       "      <td>24.600061</td>\n",
       "      <td>10</td>\n",
       "      <td>1</td>\n",
       "      <td>0</td>\n",
       "      <td>0</td>\n",
       "      <td>0</td>\n",
       "      <td>1</td>\n",
       "      <td>0</td>\n",
       "    </tr>\n",
       "    <tr>\n",
       "      <th>2</th>\n",
       "      <td>Alcohols</td>\n",
       "      <td>1-butanol</td>\n",
       "      <td>CCCCO</td>\n",
       "      <td>Training</td>\n",
       "      <td>213.1</td>\n",
       "      <td>0.0578</td>\n",
       "      <td>0.07659</td>\n",
       "      <td>74.1</td>\n",
       "      <td>2233.3</td>\n",
       "      <td>-17.7</td>\n",
       "      <td>...</td>\n",
       "      <td>-0.011288</td>\n",
       "      <td>0.147335</td>\n",
       "      <td>24.600061</td>\n",
       "      <td>10</td>\n",
       "      <td>1</td>\n",
       "      <td>0</td>\n",
       "      <td>0</td>\n",
       "      <td>0</td>\n",
       "      <td>1</td>\n",
       "      <td>0</td>\n",
       "    </tr>\n",
       "  </tbody>\n",
       "</table>\n",
       "<p>3 rows × 24 columns</p>\n",
       "</div>"
      ],
      "text/plain": [
       "     Family       Name SMILES         Set  T (K)  Exp. Viscosity (Pa.s)  \\\n",
       "0  Alcohols  1-butanol  CCCCO  Validation  193.1                 0.2176   \n",
       "1  Alcohols  1-butanol  CCCCO    Training  203.1                 0.1058   \n",
       "2  Alcohols  1-butanol  CCCCO    Training  213.1                 0.0578   \n",
       "\n",
       "   Pred. Viscosity (Pa.s)     A       F     G  ...       X13       X18  \\\n",
       "0                 0.29235  74.1  2233.3 -17.7  ... -0.011288  0.147335   \n",
       "1                 0.14379  74.1  2233.3 -17.7  ... -0.011288  0.147335   \n",
       "2                 0.07659  74.1  2233.3 -17.7  ... -0.011288  0.147335   \n",
       "\n",
       "         X20  Y1  Y2  Y5  Y14  Y15  Y17  Y23  \n",
       "0  24.600061  10   1   0    0    0    1    0  \n",
       "1  24.600061  10   1   0    0    0    1    0  \n",
       "2  24.600061  10   1   0    0    0    1    0  \n",
       "\n",
       "[3 rows x 24 columns]"
      ]
     },
     "execution_count": 4,
     "metadata": {},
     "output_type": "execute_result"
    }
   ],
   "source": [
    "df_viscosity.head(3)"
   ]
  },
  {
   "cell_type": "code",
   "execution_count": 5,
   "id": "7c46bb38",
   "metadata": {},
   "outputs": [
    {
     "data": {
      "text/plain": [
       "2793"
      ]
     },
     "execution_count": 5,
     "metadata": {},
     "output_type": "execute_result"
    }
   ],
   "source": [
    "len(df_viscosity)"
   ]
  },
  {
   "cell_type": "code",
   "execution_count": 31,
   "id": "1cb11bb4",
   "metadata": {
    "pycharm": {
     "name": "#%%\n"
    }
   },
   "outputs": [
    {
     "data": {
      "image/png": "[encoded data removed]",
      "text/plain": [
       "<Figure size 432x288 with 1 Axes>"
      ]
     },
     "metadata": {
      "needs_background": "light"
     },
     "output_type": "display_data"
    }
   ],
   "source": [
    "#plot pedicted vs  fitted Guzman-Andrade equation fitted equation of viscosity for 1-butanol\n",
    "\n",
    "def vis_(T):\n",
    "    A = 74.12 \n",
    "    F = df_viscosity[df_viscosity['SMILES']=='CCCCO']['F'].mean()\n",
    "    G = df_viscosity[df_viscosity['SMILES']=='CCCCO']['G'].mean()\n",
    "    return A*np.exp(F/T+G)\n",
    "\n",
    "butanol = df_viscosity[df_viscosity['SMILES']=='CCCCO']\n",
    "plt.plot(butanol['T (K)'],butanol['Exp. Viscosity (Pa.s)'],label='expect')\n",
    "plt.plot(np.linspace(190,350,100),[vis_(x) for x in np.linspace(190,350,100)],label='pred')\n",
    "plt.legend()\n",
    "plt.show()"
   ]
  },
  {
   "cell_type": "markdown",
   "id": "5e7d737e",
   "metadata": {
    "pycharm": {
     "name": "#%% md\n"
    }
   },
   "source": [
    "### Dynamic Viscosity for 1-butanol given from KNOVEL = 0.000384462\n",
    "\n",
    "\n",
    "https://app.knovel.com/kn/search?include_synonyms=off&query=1-butanol"
   ]
  },
  {
   "cell_type": "code",
   "execution_count": 32,
   "id": "80573e77",
   "metadata": {
    "pycharm": {
     "name": "#%%\n"
    }
   },
   "outputs": [
    {
     "name": "stdout",
     "output_type": "stream",
     "text": [
      "Temperature estimate for 1-Butanol knovel data = 403.80432784766214\n"
     ]
    }
   ],
   "source": [
    "butanol = 'CCCCO'\n",
    "A = 74.12 \n",
    "F = df_viscosity[df_viscosity['SMILES']==butanol]['F'].mean()\n",
    "G = df_viscosity[df_viscosity['SMILES']==butanol]['G'].mean()\n",
    "print('Temperature estimate for 1-Butanol knovel data = {}'.format(F/(np.log(0.000384462/A)-G)))"
   ]
  },
  {
   "cell_type": "code",
   "execution_count": 33,
   "id": "60714c9c",
   "metadata": {
    "pycharm": {
     "name": "#%%\n"
    }
   },
   "outputs": [
    {
     "data": {
      "text/plain": [
       "<AxesSubplot:>"
      ]
     },
     "execution_count": 33,
     "metadata": {},
     "output_type": "execute_result"
    },
    {
     "data": {
      "image/png": "[encoded data removed]",
      "text/plain": [
       "<Figure size 432x288 with 1 Axes>"
      ]
     },
     "metadata": {
      "needs_background": "light"
     },
     "output_type": "display_data"
    }
   ],
   "source": [
    "### Plot temperatures used for predictions \n",
    "\n",
    "df_viscosity[df_viscosity['Set']=='Prediction']['T (K)'].hist()"
   ]
  },
  {
   "cell_type": "markdown",
   "id": "222d1308",
   "metadata": {
    "pycharm": {
     "name": "#%% md\n"
    }
   },
   "source": [
    "### 40 deg used for viscosity and 15deg used for density Table 1 (Fuel Phys Prop vs Cetane)\n",
    "\n",
    "https://www.fev.com/fileadmin/user_upload/Media/TechnicalPublications/Diesel_Systems/2011-01-0333_Relationship_between_fuel_properties_and_sensitivity_analysis_of_non-aromatic_and_aromatic_fuels_used_in_a_single_cylin.pdf\n"
   ]
  },
  {
   "cell_type": "markdown",
   "id": "529d0b4b",
   "metadata": {
    "pycharm": {
     "name": "#%% md\n"
    }
   },
   "source": [
    "###  Training data common most common temperature values"
   ]
  },
  {
   "cell_type": "code",
   "execution_count": 34,
   "id": "fec1a0ad",
   "metadata": {
    "pycharm": {
     "name": "#%%\n"
    }
   },
   "outputs": [
    {
     "name": "stdout",
     "output_type": "stream",
     "text": [
      "common temperatures with exact visc val. = [(293.1, 122), (298.1, 101), (303.1, 78), (313.1, 67), (333.1, 58), (273.1, 51)]\n"
     ]
    }
   ],
   "source": [
    "print('common temperatures with exact visc val. = {}'.format(Counter(df_viscosity[df_viscosity['Set']!='Prediction']['T (K)']).most_common(6)))"
   ]
  },
  {
   "cell_type": "code",
   "execution_count": 35,
   "id": "70e6ded0",
   "metadata": {
    "pycharm": {
     "name": "#%%\n"
    }
   },
   "outputs": [
    {
     "name": "stdout",
     "output_type": "stream",
     "text": [
      "Number of unique compounds in dataset = 211\n"
     ]
    }
   ],
   "source": [
    "print('Number of unique compounds in dataset = {}'.format(len(set(df_viscosity[df_viscosity['Set']!='Prediction']['SMILES']))))"
   ]
  },
  {
   "cell_type": "code",
   "execution_count": 36,
   "id": "7dba6a6d",
   "metadata": {
    "pycharm": {
     "name": "#%%\n"
    }
   },
   "outputs": [
    {
     "data": {
      "text/plain": [
       "<AxesSubplot:>"
      ]
     },
     "execution_count": 36,
     "metadata": {},
     "output_type": "execute_result"
    },
    {
     "data": {
      "image/png": "[encoded data removed]",
      "text/plain": [
       "<Figure size 432x288 with 1 Axes>"
      ]
     },
     "metadata": {
      "needs_background": "light"
     },
     "output_type": "display_data"
    }
   ],
   "source": [
    "### Distribution of tempretaures in training set\n",
    "\n",
    "df_viscosity[df_viscosity['Set']!='Prediction']['T (K)'].hist()"
   ]
  },
  {
   "cell_type": "code",
   "execution_count": 37,
   "id": "bd92c1a2",
   "metadata": {
    "pycharm": {
     "name": "#%%\n"
    }
   },
   "outputs": [],
   "source": [
    "### Calculate error between fitted Guzman-Andrade equation and table viscosity values\n",
    "\n",
    "def vis_row(X):\n",
    "    T = X[0]\n",
    "    A = X[1]\n",
    "    F = X[2]\n",
    "    G = X[3]\n",
    "    return A*np.exp(F/T+G)\n",
    "\n",
    "#### F and G initialised by joback method\n",
    "\n",
    "def error(X):\n",
    "    true_ = X[0]\n",
    "    pred  = X[1]\n",
    "    return abs(true_-pred)/true_\n",
    "\n",
    "df_viscosity['visc_pred'] = df_viscosity[['T (K)','A','F','G']].apply(vis_row,axis=1)\n",
    "df_viscosity['error']     = df_viscosity[['Exp. Viscosity (Pa.s)','visc_pred']].apply(error ,axis=1)"
   ]
  },
  {
   "cell_type": "markdown",
   "id": "5048355f",
   "metadata": {
    "pycharm": {
     "name": "#%% md\n"
    }
   },
   "source": [
    "### Investigate prediction errors between Guzman-Andrade equation and Viscosity at 293.1K"
   ]
  },
  {
   "cell_type": "code",
   "execution_count": 38,
   "id": "341b4047",
   "metadata": {
    "pycharm": {
     "name": "#%%\n"
    }
   },
   "outputs": [
    {
     "name": "stdout",
     "output_type": "stream",
     "text": [
      "ratio of compounds with relative error < 5% is equal to = 0.2459016393442623\n"
     ]
    }
   ],
   "source": [
    "x = len(df_viscosity.loc[(df_viscosity['T (K)']==293.1) & (df_viscosity['Set']!='Prediction')])\n",
    "y = len(df_viscosity.loc[(df_viscosity['T (K)']==293.1) & (df_viscosity['Set']!='Prediction') & (df_viscosity['error']<0.05)])\n",
    "print('ratio of compounds with relative error < 5% is equal to = {}'.format(y/x))"
   ]
  },
  {
   "cell_type": "code",
   "execution_count": 39,
   "id": "5cb1e507",
   "metadata": {
    "pycharm": {
     "name": "#%%\n"
    }
   },
   "outputs": [
    {
     "data": {
      "image/png": "[encoded data removed]",
      "text/plain": [
       "<Figure size 432x288 with 1 Axes>"
      ]
     },
     "metadata": {
      "needs_background": "light"
     },
     "output_type": "display_data"
    }
   ],
   "source": [
    "### Plot predictions vs expectations \n",
    "df_ = df_viscosity.loc[(df_viscosity['T (K)']==293.1) & (df_viscosity['Set']!='Prediction')]\n",
    "plt.scatter(df_['Exp. Viscosity (Pa.s)'].values,df_['visc_pred'].values)\n",
    "plt.xlabel('Expected Visc')\n",
    "plt.ylabel('Predicted Visc') \n",
    "plt.title('Expected vs Predicted viscosity at 293.1K')\n",
    "plt.show()"
   ]
  },
  {
   "cell_type": "code",
   "execution_count": 40,
   "id": "c4b5a01a",
   "metadata": {
    "pycharm": {
     "name": "#%%\n"
    }
   },
   "outputs": [
    {
     "data": {
      "image/png": "[encoded data removed]",
      "text/plain": [
       "<Figure size 432x288 with 1 Axes>"
      ]
     },
     "metadata": {
      "needs_background": "light"
     },
     "output_type": "display_data"
    }
   ],
   "source": [
    "### Plot predictions vs expectations for viscosity values <0.1 (i.e lower left corner of the above plot zoom)\n",
    "df_ = df_viscosity.loc[(df_viscosity['T (K)']==293.1) & (df_viscosity['Set']!='Prediction') & (df_viscosity['Exp. Viscosity (Pa.s)']<0.1)]\n",
    "plt.scatter(df_['Exp. Viscosity (Pa.s)'].values,df_['visc_pred'].values)\n",
    "plt.xlabel('Expected Visc')\n",
    "plt.ylabel('Predicted Visc') \n",
    "plt.title('Expected vs Predicted viscosity at 293.1K and visc < 0.1')\n",
    "plt.show()"
   ]
  },
  {
   "cell_type": "markdown",
   "id": "64da1891",
   "metadata": {
    "pycharm": {
     "name": "#%% md\n"
    }
   },
   "source": [
    "### Conclusion:  Fitted Guzman-Andrade equation is unrealiable for viscosity calculations, based on analysis done for viscosity values at 293.1 K "
   ]
  },
  {
   "cell_type": "markdown",
   "id": "acdd76f3",
   "metadata": {
    "pycharm": {
     "name": "#%% md\n"
    }
   },
   "source": [
    "# Density "
   ]
  },
  {
   "cell_type": "markdown",
   "id": "0375bae6",
   "metadata": {
    "pycharm": {
     "name": "#%% md\n"
    }
   },
   "source": [
    "### Comparison of 3,3-Dimethylpentane density with knovel = 0.693\n",
    "#### https://app.knovel.com/kn/search?content_type=igraph%2Citable&include_synonyms=off&query=3%2C3-dimethylpentane\n"
   ]
  },
  {
   "cell_type": "code",
   "execution_count": 41,
   "id": "ec38b991",
   "metadata": {
    "pycharm": {
     "name": "#%%\n"
    }
   },
   "outputs": [
    {
     "data": {
      "text/html": [
       "<div>\n",
       "<style scoped>\n",
       "    .dataframe tbody tr th:only-of-type {\n",
       "        vertical-align: middle;\n",
       "    }\n",
       "\n",
       "    .dataframe tbody tr th {\n",
       "        vertical-align: top;\n",
       "    }\n",
       "\n",
       "    .dataframe thead th {\n",
       "        text-align: right;\n",
       "    }\n",
       "</style>\n",
       "<table border=\"1\" class=\"dataframe\">\n",
       "  <thead>\n",
       "    <tr style=\"text-align: right;\">\n",
       "      <th></th>\n",
       "      <th>Compound</th>\n",
       "      <th>Smiles</th>\n",
       "      <th>RON</th>\n",
       "      <th>MON</th>\n",
       "      <th>YSI</th>\n",
       "      <th>?Hc°(KJ/L)</th>\n",
       "      <th>?Hc°(KJ/kg)</th>\n",
       "      <th>RVP(kPa)</th>\n",
       "      <th>Density (g/mL)</th>\n",
       "      <th>Boiling Point (K)</th>\n",
       "      <th>UB(mol/L)</th>\n",
       "    </tr>\n",
       "  </thead>\n",
       "  <tbody>\n",
       "    <tr>\n",
       "      <th>3</th>\n",
       "      <td>3,3-Dimethylpentane</td>\n",
       "      <td>CCC(C)(C)CC</td>\n",
       "      <td>88.935130</td>\n",
       "      <td>91.989959</td>\n",
       "      <td>18.105944</td>\n",
       "      <td>30283.40019</td>\n",
       "      <td>44476.16394</td>\n",
       "      <td>22.833933</td>\n",
       "      <td>0.680891</td>\n",
       "      <td>357.408846</td>\n",
       "      <td>None</td>\n",
       "    </tr>\n",
       "    <tr>\n",
       "      <th>50</th>\n",
       "      <td>3,3-dimethylpentane</td>\n",
       "      <td>CCC(C)(C)CC</td>\n",
       "      <td>81.512943</td>\n",
       "      <td>87.993361</td>\n",
       "      <td>47.835493</td>\n",
       "      <td>30165.35902</td>\n",
       "      <td>44551.60713</td>\n",
       "      <td>20.932764</td>\n",
       "      <td>0.677088</td>\n",
       "      <td>361.633436</td>\n",
       "      <td>0</td>\n",
       "    </tr>\n",
       "    <tr>\n",
       "      <th>30</th>\n",
       "      <td>3,3-dimethylpentane</td>\n",
       "      <td>CCC(C)(C)CC</td>\n",
       "      <td>81.512943</td>\n",
       "      <td>87.993361</td>\n",
       "      <td>47.835493</td>\n",
       "      <td>30189.40057</td>\n",
       "      <td>44587.11441</td>\n",
       "      <td>20.932764</td>\n",
       "      <td>0.677088</td>\n",
       "      <td>361.633436</td>\n",
       "      <td>0</td>\n",
       "    </tr>\n",
       "  </tbody>\n",
       "</table>\n",
       "</div>"
      ],
      "text/plain": [
       "               Compound       Smiles        RON        MON        YSI  \\\n",
       "3   3,3-Dimethylpentane  CCC(C)(C)CC  88.935130  91.989959  18.105944   \n",
       "50  3,3-dimethylpentane  CCC(C)(C)CC  81.512943  87.993361  47.835493   \n",
       "30  3,3-dimethylpentane  CCC(C)(C)CC  81.512943  87.993361  47.835493   \n",
       "\n",
       "     ?Hc°(KJ/L)  ?Hc°(KJ/kg)   RVP(kPa)  Density (g/mL)  Boiling Point (K)  \\\n",
       "3   30283.40019  44476.16394  22.833933        0.680891         357.408846   \n",
       "50  30165.35902  44551.60713  20.932764        0.677088         361.633436   \n",
       "30  30189.40057  44587.11441  20.932764        0.677088         361.633436   \n",
       "\n",
       "   UB(mol/L)  \n",
       "3       None  \n",
       "50         0  \n",
       "30         0  "
      ]
     },
     "execution_count": 41,
     "metadata": {},
     "output_type": "execute_result"
    }
   ],
   "source": [
    "df[df['Smiles']=='CCC(C)(C)CC']"
   ]
  },
  {
   "cell_type": "code",
   "execution_count": 42,
   "id": "03718ec6",
   "metadata": {
    "pycharm": {
     "name": "#%%\n"
    }
   },
   "outputs": [
    {
     "data": {
      "text/html": [
       "<div>\n",
       "<style scoped>\n",
       "    .dataframe tbody tr th:only-of-type {\n",
       "        vertical-align: middle;\n",
       "    }\n",
       "\n",
       "    .dataframe tbody tr th {\n",
       "        vertical-align: top;\n",
       "    }\n",
       "\n",
       "    .dataframe thead th {\n",
       "        text-align: right;\n",
       "    }\n",
       "</style>\n",
       "<table border=\"1\" class=\"dataframe\">\n",
       "  <thead>\n",
       "    <tr style=\"text-align: right;\">\n",
       "      <th></th>\n",
       "      <th>Smiles</th>\n",
       "      <th>Density (g/mL)</th>\n",
       "      <th>Compound</th>\n",
       "    </tr>\n",
       "  </thead>\n",
       "  <tbody>\n",
       "    <tr>\n",
       "      <th>0</th>\n",
       "      <td>CC(C)CC(C)C</td>\n",
       "      <td>0.673174</td>\n",
       "      <td>2,4-Dimethylpentane</td>\n",
       "    </tr>\n",
       "    <tr>\n",
       "      <th>39</th>\n",
       "      <td>CC(C)CC(C)C</td>\n",
       "      <td>0.689361</td>\n",
       "      <td>2,4-Dimethylpentane</td>\n",
       "    </tr>\n",
       "    <tr>\n",
       "      <th>160</th>\n",
       "      <td>C=C(C)C(C)C=C</td>\n",
       "      <td>0.740328</td>\n",
       "      <td>2,3-Dimethyl-1,4-pentadiene</td>\n",
       "    </tr>\n",
       "    <tr>\n",
       "      <th>45</th>\n",
       "      <td>C=C(C)C(C)C=C</td>\n",
       "      <td>0.723975</td>\n",
       "      <td>2,3-Dimethyl-1,4-pentadiene</td>\n",
       "    </tr>\n",
       "    <tr>\n",
       "      <th>31</th>\n",
       "      <td>C=C(C)C(C)CC</td>\n",
       "      <td>0.723509</td>\n",
       "      <td>2,3-Dimethyl-1-pentene</td>\n",
       "    </tr>\n",
       "    <tr>\n",
       "      <th>52</th>\n",
       "      <td>C=C(C)C(C)CC</td>\n",
       "      <td>0.702269</td>\n",
       "      <td>2,3-Dimethyl-1-pentene</td>\n",
       "    </tr>\n",
       "    <tr>\n",
       "      <th>48</th>\n",
       "      <td>C1=CC=CC=C1</td>\n",
       "      <td>0.880224</td>\n",
       "      <td>benzene</td>\n",
       "    </tr>\n",
       "    <tr>\n",
       "      <th>12</th>\n",
       "      <td>C1=CC=CC=C1</td>\n",
       "      <td>0.825138</td>\n",
       "      <td>benzene</td>\n",
       "    </tr>\n",
       "  </tbody>\n",
       "</table>\n",
       "</div>"
      ],
      "text/plain": [
       "            Smiles  Density (g/mL)                     Compound\n",
       "0      CC(C)CC(C)C        0.673174          2,4-Dimethylpentane\n",
       "39     CC(C)CC(C)C        0.689361          2,4-Dimethylpentane\n",
       "160  C=C(C)C(C)C=C        0.740328  2,3-Dimethyl-1,4-pentadiene\n",
       "45   C=C(C)C(C)C=C        0.723975  2,3-Dimethyl-1,4-pentadiene\n",
       "31    C=C(C)C(C)CC        0.723509       2,3-Dimethyl-1-pentene\n",
       "52    C=C(C)C(C)CC        0.702269       2,3-Dimethyl-1-pentene\n",
       "48     C1=CC=CC=C1        0.880224                      benzene\n",
       "12     C1=CC=CC=C1        0.825138                      benzene"
      ]
     },
     "execution_count": 42,
     "metadata": {},
     "output_type": "execute_result"
    }
   ],
   "source": [
    "### print compunds with varience in values larger then 0.01*mu, where mu is the duplicated mean \n",
    "df_repeat_density             = large_var_df(df_Density,0.01)\n",
    "df_repeat_density['Compound'] = df_repeat_density['Smiles'].apply(lambda x: df[df['Smiles']==x]['Compound'].iloc[0])\n",
    "df_repeat_density"
   ]
  },
  {
   "cell_type": "code",
   "execution_count": 43,
   "id": "93b9e27d",
   "metadata": {
    "pycharm": {
     "name": "#%%\n"
    }
   },
   "outputs": [
    {
     "data": {
      "text/plain": [
       "0.7321511304999999"
      ]
     },
     "execution_count": 43,
     "metadata": {},
     "output_type": "execute_result"
    }
   ],
   "source": [
    "df_repeat_density.loc[df_repeat_density['Smiles']=='C=C(C)C(C)C=C','Density (g/mL)'].mean()"
   ]
  },
  {
   "cell_type": "code",
   "execution_count": 44,
   "id": "a1aa7d1f",
   "metadata": {
    "pycharm": {
     "name": "#%%\n"
    }
   },
   "outputs": [
    {
     "name": "stderr",
     "output_type": "stream",
     "text": [
      "C:\\Users\\zcemg08\\Miniconda3\\envs\\biofuel\\lib\\site-packages\\ipykernel_launcher.py:9: SettingWithCopyWarning: \n",
      "A value is trying to be set on a copy of a slice from a DataFrame.\n",
      "Try using .loc[row_indexer,col_indexer] = value instead\n",
      "\n",
      "See the caveats in the documentation: https://pandas.pydata.org/pandas-docs/stable/user_guide/indexing.html#returning-a-view-versus-a-copy\n",
      "  if __name__ == '__main__':\n"
     ]
    }
   ],
   "source": [
    "### Use KNOVEL data for compunds with std > 0.01m, where m is the mean of repeating compunds \n",
    "### 2,4-Dimethylpentane             CC(C)CC(C)C     0.673  (the same as in table)\n",
    "### 2,3-Dimethyl-1,4-pentadiene     C=C(C)C(C)C=C   0.7321511304999999 - no data --> mean was taken instead \n",
    "### 2,3-Dimethyl-1-pentene          C=C(C)C(C)CC    0.7009 https://app.knovel.com/kn/search?content_type=igraph%2Citable&include_synonyms=off&query=2%2C3-Dimethyl-1-pentene\n",
    "### benzene                         C1=CC=CC=C1     0.873\n",
    "\n",
    "df_density_corrected                    = df_repeat_density.drop_duplicates(subset='Smiles')\n",
    "corrected_density                       = [0.673,0.7321511304999999,0.7009,0.873]\n",
    "df_density_corrected['Density_correct'] = corrected_density"
   ]
  },
  {
   "cell_type": "code",
   "execution_count": 45,
   "id": "b9ba2eb1",
   "metadata": {
    "pycharm": {
     "name": "#%%\n"
    }
   },
   "outputs": [
    {
     "data": {
      "text/html": [
       "<div>\n",
       "<style scoped>\n",
       "    .dataframe tbody tr th:only-of-type {\n",
       "        vertical-align: middle;\n",
       "    }\n",
       "\n",
       "    .dataframe tbody tr th {\n",
       "        vertical-align: top;\n",
       "    }\n",
       "\n",
       "    .dataframe thead th {\n",
       "        text-align: right;\n",
       "    }\n",
       "</style>\n",
       "<table border=\"1\" class=\"dataframe\">\n",
       "  <thead>\n",
       "    <tr style=\"text-align: right;\">\n",
       "      <th></th>\n",
       "      <th>Smiles</th>\n",
       "      <th>Density (g/mL)</th>\n",
       "      <th>Compound</th>\n",
       "      <th>Density_correct</th>\n",
       "    </tr>\n",
       "  </thead>\n",
       "  <tbody>\n",
       "    <tr>\n",
       "      <th>0</th>\n",
       "      <td>CC(C)CC(C)C</td>\n",
       "      <td>0.673174</td>\n",
       "      <td>2,4-Dimethylpentane</td>\n",
       "      <td>0.673000</td>\n",
       "    </tr>\n",
       "    <tr>\n",
       "      <th>160</th>\n",
       "      <td>C=C(C)C(C)C=C</td>\n",
       "      <td>0.740328</td>\n",
       "      <td>2,3-Dimethyl-1,4-pentadiene</td>\n",
       "      <td>0.732151</td>\n",
       "    </tr>\n",
       "    <tr>\n",
       "      <th>31</th>\n",
       "      <td>C=C(C)C(C)CC</td>\n",
       "      <td>0.723509</td>\n",
       "      <td>2,3-Dimethyl-1-pentene</td>\n",
       "      <td>0.700900</td>\n",
       "    </tr>\n",
       "    <tr>\n",
       "      <th>48</th>\n",
       "      <td>C1=CC=CC=C1</td>\n",
       "      <td>0.880224</td>\n",
       "      <td>benzene</td>\n",
       "      <td>0.873000</td>\n",
       "    </tr>\n",
       "  </tbody>\n",
       "</table>\n",
       "</div>"
      ],
      "text/plain": [
       "            Smiles  Density (g/mL)                     Compound  \\\n",
       "0      CC(C)CC(C)C        0.673174          2,4-Dimethylpentane   \n",
       "160  C=C(C)C(C)C=C        0.740328  2,3-Dimethyl-1,4-pentadiene   \n",
       "31    C=C(C)C(C)CC        0.723509       2,3-Dimethyl-1-pentene   \n",
       "48     C1=CC=CC=C1        0.880224                      benzene   \n",
       "\n",
       "     Density_correct  \n",
       "0           0.673000  \n",
       "160         0.732151  \n",
       "31          0.700900  \n",
       "48          0.873000  "
      ]
     },
     "execution_count": 45,
     "metadata": {},
     "output_type": "execute_result"
    }
   ],
   "source": [
    "df_density_corrected"
   ]
  },
  {
   "cell_type": "code",
   "execution_count": 46,
   "id": "9dc112b1",
   "metadata": {
    "pycharm": {
     "name": "#%%\n"
    }
   },
   "outputs": [],
   "source": [
    "df_Density.loc[df_Density['Smiles'].isin(df_density_corrected['Smiles']),'Density (g/mL)'] = 0\n",
    "merged = df_Density.merge(df_density_corrected[['Smiles','Density_correct']],on='Smiles',how='left')\n",
    "merged['Density (g/mL)'] = np.max(merged[[list(merged)[1],list(merged)[2]]],axis=1)\n"
   ]
  },
  {
   "cell_type": "code",
   "execution_count": 47,
   "id": "ba1cbba6",
   "metadata": {
    "pycharm": {
     "name": "#%%\n"
    }
   },
   "outputs": [],
   "source": [
    "df_Density = merged"
   ]
  },
  {
   "cell_type": "code",
   "execution_count": 48,
   "id": "b4416a7d",
   "metadata": {
    "pycharm": {
     "name": "#%%\n"
    }
   },
   "outputs": [],
   "source": [
    "df_Density.to_csv(r'C:\\Users\\zcemg08\\PycharmProjects\\biofuels\\cleaned_data\\density.csv')"
   ]
  },
  {
   "cell_type": "markdown",
   "id": "76c13e52",
   "metadata": {
    "pycharm": {
     "name": "#%% md\n"
    }
   },
   "source": [
    "### Entropy and Heat Capacity "
   ]
  },
  {
   "cell_type": "code",
   "execution_count": 49,
   "id": "18ced9fc",
   "metadata": {
    "pycharm": {
     "name": "#%%\n"
    }
   },
   "outputs": [],
   "source": [
    "#### data source - https://www.sciencedirect.com/science/article/pii/S2666546821000082\n",
    "\n",
    "df_entropy_heat = pd.read_csv(r'C:\\Users\\zcemg08\\PycharmProjects\\biofuels\\raw_data\\entropy_heat_capacity.csv')\n",
    "\n",
    "#### alternative entropy data source:\n",
    "\n",
    "# https://app.knovel.com/web/view/itable/show.v/rcid:kpYCPDCECD/cid:kt00BKANV1/viewerType:eptble//root_slug:Table-79-Entropy-of-Gas---Organic-Compounds-DeltaS--A--B-T--C-T-sup2sup--D-T-sup3sup--E-T-sup4sup/url_slug:table-79-entropy-gas?b-q=4-ethylheptane%20ENTROPY&include_synonyms=no&q=4-ethylheptane%20ENTROPY&sort_on=default&start=0&columns=1,2,3,4,5,6,7,8,9,10,11,12,13,14,15,16,17"
   ]
  },
  {
   "cell_type": "code",
   "execution_count": 50,
   "id": "8149f3ed",
   "metadata": {
    "pycharm": {
     "name": "#%%\n"
    }
   },
   "outputs": [
    {
     "data": {
      "text/html": [
       "<div>\n",
       "<style scoped>\n",
       "    .dataframe tbody tr th:only-of-type {\n",
       "        vertical-align: middle;\n",
       "    }\n",
       "\n",
       "    .dataframe tbody tr th {\n",
       "        vertical-align: top;\n",
       "    }\n",
       "\n",
       "    .dataframe thead th {\n",
       "        text-align: right;\n",
       "    }\n",
       "</style>\n",
       "<table border=\"1\" class=\"dataframe\">\n",
       "  <thead>\n",
       "    <tr style=\"text-align: right;\">\n",
       "      <th></th>\n",
       "      <th>No.</th>\n",
       "      <th>Hydrocarbon</th>\n",
       "      <th>SMILES</th>\n",
       "      <th>HeatCapacity</th>\n",
       "      <th>Entropy</th>\n",
       "      <th>MW</th>\n",
       "      <th>AMW</th>\n",
       "      <th>nTA</th>\n",
       "      <th>RBF</th>\n",
       "      <th>nDB</th>\n",
       "      <th>...</th>\n",
       "      <th>CATS3D_15_LL</th>\n",
       "      <th>CATS3D_18_LL</th>\n",
       "      <th>Unnamed: 257</th>\n",
       "      <th>Unnamed: 258</th>\n",
       "      <th>Unnamed: 259</th>\n",
       "      <th>Unnamed: 260</th>\n",
       "      <th>Unnamed: 261</th>\n",
       "      <th>MW.1</th>\n",
       "      <th>Unnamed: 263</th>\n",
       "      <th>1</th>\n",
       "    </tr>\n",
       "  </thead>\n",
       "  <tbody>\n",
       "    <tr>\n",
       "      <th>0</th>\n",
       "      <td>1</td>\n",
       "      <td>Ethylene</td>\n",
       "      <td>C=C</td>\n",
       "      <td>42.90</td>\n",
       "      <td>219.18</td>\n",
       "      <td>28.06</td>\n",
       "      <td>4.676667</td>\n",
       "      <td>2</td>\n",
       "      <td>0.0</td>\n",
       "      <td>1</td>\n",
       "      <td>...</td>\n",
       "      <td>0</td>\n",
       "      <td>0</td>\n",
       "      <td>NaN</td>\n",
       "      <td>NaN</td>\n",
       "      <td>NaN</td>\n",
       "      <td>NaN</td>\n",
       "      <td>NaN</td>\n",
       "      <td>AMW</td>\n",
       "      <td>NaN</td>\n",
       "      <td>2.0</td>\n",
       "    </tr>\n",
       "    <tr>\n",
       "      <th>1</th>\n",
       "      <td>2</td>\n",
       "      <td>Ethane</td>\n",
       "      <td>CC</td>\n",
       "      <td>52.47</td>\n",
       "      <td>229.45</td>\n",
       "      <td>30.08</td>\n",
       "      <td>3.760000</td>\n",
       "      <td>2</td>\n",
       "      <td>0.0</td>\n",
       "      <td>0</td>\n",
       "      <td>...</td>\n",
       "      <td>0</td>\n",
       "      <td>0</td>\n",
       "      <td>NaN</td>\n",
       "      <td>NaN</td>\n",
       "      <td>NaN</td>\n",
       "      <td>NaN</td>\n",
       "      <td>NaN</td>\n",
       "      <td>nTA</td>\n",
       "      <td>NaN</td>\n",
       "      <td>3.0</td>\n",
       "    </tr>\n",
       "    <tr>\n",
       "      <th>2</th>\n",
       "      <td>3</td>\n",
       "      <td>Allene</td>\n",
       "      <td>C=C=C</td>\n",
       "      <td>59.03</td>\n",
       "      <td>243.70</td>\n",
       "      <td>40.07</td>\n",
       "      <td>5.724286</td>\n",
       "      <td>2</td>\n",
       "      <td>0.0</td>\n",
       "      <td>2</td>\n",
       "      <td>...</td>\n",
       "      <td>0</td>\n",
       "      <td>0</td>\n",
       "      <td>NaN</td>\n",
       "      <td>NaN</td>\n",
       "      <td>NaN</td>\n",
       "      <td>NaN</td>\n",
       "      <td>NaN</td>\n",
       "      <td>RBF</td>\n",
       "      <td>NaN</td>\n",
       "      <td>4.0</td>\n",
       "    </tr>\n",
       "  </tbody>\n",
       "</table>\n",
       "<p>3 rows × 265 columns</p>\n",
       "</div>"
      ],
      "text/plain": [
       "   No. Hydrocarbon SMILES  HeatCapacity  Entropy     MW       AMW  nTA  RBF  \\\n",
       "0    1    Ethylene    C=C         42.90   219.18  28.06  4.676667    2  0.0   \n",
       "1    2      Ethane     CC         52.47   229.45  30.08  3.760000    2  0.0   \n",
       "2    3      Allene  C=C=C         59.03   243.70  40.07  5.724286    2  0.0   \n",
       "\n",
       "   nDB  ...  CATS3D_15_LL  CATS3D_18_LL  Unnamed: 257  Unnamed: 258  \\\n",
       "0    1  ...             0             0           NaN           NaN   \n",
       "1    0  ...             0             0           NaN           NaN   \n",
       "2    2  ...             0             0           NaN           NaN   \n",
       "\n",
       "   Unnamed: 259  Unnamed: 260  Unnamed: 261  MW.1  Unnamed: 263    1  \n",
       "0           NaN           NaN           NaN   AMW           NaN  2.0  \n",
       "1           NaN           NaN           NaN   nTA           NaN  3.0  \n",
       "2           NaN           NaN           NaN   RBF           NaN  4.0  \n",
       "\n",
       "[3 rows x 265 columns]"
      ]
     },
     "execution_count": 50,
     "metadata": {},
     "output_type": "execute_result"
    }
   ],
   "source": [
    "df_entropy_heat.head(3)"
   ]
  },
  {
   "cell_type": "code",
   "execution_count": 51,
   "id": "db7aceb8",
   "metadata": {
    "pycharm": {
     "name": "#%%\n"
    }
   },
   "outputs": [
    {
     "data": {
      "text/plain": [
       "'Number of duplicated by smiles rows in entropy/heat_capacity dataset = 1'"
      ]
     },
     "execution_count": 51,
     "metadata": {},
     "output_type": "execute_result"
    }
   ],
   "source": [
    "'Number of duplicated by smiles rows in entropy/heat_capacity dataset = {}'.format(df_entropy_heat.duplicated(subset='SMILES').sum())"
   ]
  },
  {
   "cell_type": "code",
   "execution_count": 52,
   "id": "c80b7f6b",
   "metadata": {
    "pycharm": {
     "name": "#%%\n"
    }
   },
   "outputs": [
    {
     "data": {
      "text/html": [
       "<div>\n",
       "<style scoped>\n",
       "    .dataframe tbody tr th:only-of-type {\n",
       "        vertical-align: middle;\n",
       "    }\n",
       "\n",
       "    .dataframe tbody tr th {\n",
       "        vertical-align: top;\n",
       "    }\n",
       "\n",
       "    .dataframe thead th {\n",
       "        text-align: right;\n",
       "    }\n",
       "</style>\n",
       "<table border=\"1\" class=\"dataframe\">\n",
       "  <thead>\n",
       "    <tr style=\"text-align: right;\">\n",
       "      <th></th>\n",
       "      <th>No.</th>\n",
       "      <th>Hydrocarbon</th>\n",
       "      <th>SMILES</th>\n",
       "      <th>HeatCapacity</th>\n",
       "      <th>Entropy</th>\n",
       "      <th>MW</th>\n",
       "      <th>AMW</th>\n",
       "      <th>nTA</th>\n",
       "      <th>RBF</th>\n",
       "      <th>nDB</th>\n",
       "      <th>...</th>\n",
       "      <th>CATS3D_15_LL</th>\n",
       "      <th>CATS3D_18_LL</th>\n",
       "      <th>Unnamed: 257</th>\n",
       "      <th>Unnamed: 258</th>\n",
       "      <th>Unnamed: 259</th>\n",
       "      <th>Unnamed: 260</th>\n",
       "      <th>Unnamed: 261</th>\n",
       "      <th>MW.1</th>\n",
       "      <th>Unnamed: 263</th>\n",
       "      <th>1</th>\n",
       "    </tr>\n",
       "  </thead>\n",
       "  <tbody>\n",
       "    <tr>\n",
       "      <th>271</th>\n",
       "      <td>272</td>\n",
       "      <td>4-ethylheptane</td>\n",
       "      <td>CCCC(CC)CCC</td>\n",
       "      <td>213.3</td>\n",
       "      <td>495.47</td>\n",
       "      <td>128.29</td>\n",
       "      <td>4.423793</td>\n",
       "      <td>3</td>\n",
       "      <td>0.178571</td>\n",
       "      <td>0</td>\n",
       "      <td>...</td>\n",
       "      <td>0</td>\n",
       "      <td>0</td>\n",
       "      <td>NaN</td>\n",
       "      <td>NaN</td>\n",
       "      <td>NaN</td>\n",
       "      <td>NaN</td>\n",
       "      <td>NaN</td>\n",
       "      <td>NaN</td>\n",
       "      <td>NaN</td>\n",
       "      <td>NaN</td>\n",
       "    </tr>\n",
       "    <tr>\n",
       "      <th>272</th>\n",
       "      <td>273</td>\n",
       "      <td>2,2-dimethylheptane</td>\n",
       "      <td>CCCC(CC)CCC</td>\n",
       "      <td>211.3</td>\n",
       "      <td>472.33</td>\n",
       "      <td>128.29</td>\n",
       "      <td>4.423793</td>\n",
       "      <td>3</td>\n",
       "      <td>0.178571</td>\n",
       "      <td>0</td>\n",
       "      <td>...</td>\n",
       "      <td>0</td>\n",
       "      <td>0</td>\n",
       "      <td>NaN</td>\n",
       "      <td>NaN</td>\n",
       "      <td>NaN</td>\n",
       "      <td>NaN</td>\n",
       "      <td>NaN</td>\n",
       "      <td>NaN</td>\n",
       "      <td>NaN</td>\n",
       "      <td>NaN</td>\n",
       "    </tr>\n",
       "  </tbody>\n",
       "</table>\n",
       "<p>2 rows × 265 columns</p>\n",
       "</div>"
      ],
      "text/plain": [
       "     No.          Hydrocarbon       SMILES  HeatCapacity  Entropy      MW  \\\n",
       "271  272       4-ethylheptane  CCCC(CC)CCC         213.3   495.47  128.29   \n",
       "272  273  2,2-dimethylheptane  CCCC(CC)CCC         211.3   472.33  128.29   \n",
       "\n",
       "          AMW  nTA       RBF  nDB  ...  CATS3D_15_LL  CATS3D_18_LL  \\\n",
       "271  4.423793    3  0.178571    0  ...             0             0   \n",
       "272  4.423793    3  0.178571    0  ...             0             0   \n",
       "\n",
       "     Unnamed: 257  Unnamed: 258  Unnamed: 259  Unnamed: 260  Unnamed: 261  \\\n",
       "271           NaN           NaN           NaN           NaN           NaN   \n",
       "272           NaN           NaN           NaN           NaN           NaN   \n",
       "\n",
       "     MW.1  Unnamed: 263   1  \n",
       "271   NaN           NaN NaN  \n",
       "272   NaN           NaN NaN  \n",
       "\n",
       "[2 rows x 265 columns]"
      ]
     },
     "execution_count": 52,
     "metadata": {},
     "output_type": "execute_result"
    }
   ],
   "source": [
    "### Print the only duplicate in entropy/heat capacity datset\n",
    "df_entropy_heat.loc[df_entropy_heat['SMILES']=='CCCC(CC)CCC']"
   ]
  },
  {
   "cell_type": "code",
   "execution_count": 53,
   "id": "253b6837",
   "metadata": {
    "pycharm": {
     "name": "#%%\n"
    }
   },
   "outputs": [],
   "source": [
    "### entropy of       4-ethylheptane\tCCCC(CC)CCC  = 495.47  (at 298K) https://app.knovel.com/web/view/itable/show.v/rcid:kpYHTPHC09/cid:kt005XWOO5/viewerType:eptble//root_slug:Entropies-of-Gases---Organic-Compounds/url_slug:entropies-gases-organic?b-q=4-Ethylheptane%20entropy&include_synonyms=no&q=4-Ethylheptane%20entropy&sort_on=default&start=0&columns=1,2,3,4,5,6,7,8,9,10,11,12,13,14,15&selected=kr0742EX76\n",
    "### heat capacity of 4-ethylheptane\tCCCC(CC)CCC  = accept what it is   \n",
    "\n",
    "df_entropy_heat = df_entropy_heat.drop(272,axis=0)"
   ]
  },
  {
   "cell_type": "code",
   "execution_count": 54,
   "id": "f676bffb",
   "metadata": {
    "pycharm": {
     "name": "#%%\n"
    }
   },
   "outputs": [
    {
     "data": {
      "text/plain": [
       "0"
      ]
     },
     "execution_count": 54,
     "metadata": {},
     "output_type": "execute_result"
    }
   ],
   "source": [
    "#Final check\n",
    "df_entropy_heat.duplicated(subset='SMILES').sum()"
   ]
  },
  {
   "cell_type": "code",
   "execution_count": 55,
   "id": "57424f4f",
   "metadata": {
    "pycharm": {
     "name": "#%%\n"
    }
   },
   "outputs": [],
   "source": [
    "df_entropy_heat.to_csv(r'C:\\Users\\zcemg08\\PycharmProjects\\biofuels\\cleaned_data\\entropy_heat_capacity.csv')"
   ]
  },
  {
   "cell_type": "markdown",
   "id": "5fab9cc6",
   "metadata": {
    "pycharm": {
     "name": "#%% md\n"
    }
   },
   "source": [
    "### Autoignition temperature "
   ]
  },
  {
   "cell_type": "code",
   "execution_count": 56,
   "id": "3c900b0f",
   "metadata": {
    "pycharm": {
     "name": "#%%\n"
    }
   },
   "outputs": [],
   "source": [
    "#### data source from https://link.springer.com/article/10.1007/s13738-012-0192-2\n",
    "\n",
    "df_auto = pd.read_csv(r'C:\\Users\\zcemg08\\PycharmProjects\\biofuels\\raw_data\\autoignition_temp.csv',encoding='cp1252')"
   ]
  },
  {
   "cell_type": "code",
   "execution_count": 57,
   "id": "95fe5cc8",
   "metadata": {
    "pycharm": {
     "name": "#%%\n"
    }
   },
   "outputs": [
    {
     "data": {
      "text/html": [
       "<div>\n",
       "<style scoped>\n",
       "    .dataframe tbody tr th:only-of-type {\n",
       "        vertical-align: middle;\n",
       "    }\n",
       "\n",
       "    .dataframe tbody tr th {\n",
       "        vertical-align: top;\n",
       "    }\n",
       "\n",
       "    .dataframe thead th {\n",
       "        text-align: right;\n",
       "    }\n",
       "</style>\n",
       "<table border=\"1\" class=\"dataframe\">\n",
       "  <thead>\n",
       "    <tr style=\"text-align: right;\">\n",
       "      <th></th>\n",
       "      <th>Hydrocarbon name</th>\n",
       "      <th>Exp</th>\n",
       "      <th>New</th>\n",
       "      <th>Dev</th>\n",
       "      <th>Albahri</th>\n",
       "      <th>Dev.1</th>\n",
       "      <th>Albahri–George</th>\n",
       "      <th>Dev.2</th>\n",
       "      <th>Chen et al.</th>\n",
       "      <th>Dev.3</th>\n",
       "    </tr>\n",
       "  </thead>\n",
       "  <tbody>\n",
       "    <tr>\n",
       "      <th>0</th>\n",
       "      <td>Methane</td>\n",
       "      <td>868 [23]</td>\n",
       "      <td>859.0</td>\n",
       "      <td>?9</td>\n",
       "      <td>780</td>\n",
       "      <td>?88</td>\n",
       "      <td>730</td>\n",
       "      <td>?138</td>\n",
       "      <td>750</td>\n",
       "      <td>?118</td>\n",
       "    </tr>\n",
       "    <tr>\n",
       "      <th>1</th>\n",
       "      <td>Propane</td>\n",
       "      <td>723 [22]</td>\n",
       "      <td>726.0</td>\n",
       "      <td>3</td>\n",
       "      <td>680</td>\n",
       "      <td>?43</td>\n",
       "      <td>640</td>\n",
       "      <td>?83</td>\n",
       "      <td>673</td>\n",
       "      <td>?50</td>\n",
       "    </tr>\n",
       "    <tr>\n",
       "      <th>2</th>\n",
       "      <td>Butane</td>\n",
       "      <td>645 [4]</td>\n",
       "      <td>660.0</td>\n",
       "      <td>15</td>\n",
       "      <td>632</td>\n",
       "      <td>?13</td>\n",
       "      <td>611</td>\n",
       "      <td>?34</td>\n",
       "      <td>643</td>\n",
       "      <td>?2</td>\n",
       "    </tr>\n",
       "    <tr>\n",
       "      <th>3</th>\n",
       "      <td>2-Methylpropane</td>\n",
       "      <td>733 [22, 23]</td>\n",
       "      <td>734.0</td>\n",
       "      <td>1</td>\n",
       "      <td>701</td>\n",
       "      <td>?32</td>\n",
       "      <td>648</td>\n",
       "      <td>?85</td>\n",
       "      <td>680</td>\n",
       "      <td>?53</td>\n",
       "    </tr>\n",
       "    <tr>\n",
       "      <th>4</th>\n",
       "      <td>Pentane</td>\n",
       "      <td>538 [4]</td>\n",
       "      <td>506.0</td>\n",
       "      <td>?32</td>\n",
       "      <td>586</td>\n",
       "      <td>48</td>\n",
       "      <td>581</td>\n",
       "      <td>43</td>\n",
       "      <td>614</td>\n",
       "      <td>76</td>\n",
       "    </tr>\n",
       "  </tbody>\n",
       "</table>\n",
       "</div>"
      ],
      "text/plain": [
       "  Hydrocarbon name           Exp    New  Dev Albahri Dev.1 Albahri–George  \\\n",
       "0          Methane      868 [23]  859.0   ?9     780   ?88            730   \n",
       "1          Propane      723 [22]  726.0    3     680   ?43            640   \n",
       "2           Butane       645 [4]  660.0   15     632   ?13            611   \n",
       "3  2-Methylpropane  733 [22, 23]  734.0    1     701   ?32            648   \n",
       "4          Pentane       538 [4]  506.0  ?32     586    48            581   \n",
       "\n",
       "  Dev.2 Chen et al. Dev.3  \n",
       "0  ?138         750  ?118  \n",
       "1   ?83         673   ?50  \n",
       "2   ?34         643    ?2  \n",
       "3   ?85         680   ?53  \n",
       "4    43         614    76  "
      ]
     },
     "execution_count": 57,
     "metadata": {},
     "output_type": "execute_result"
    }
   ],
   "source": [
    "df_auto = df_auto.drop(['No.'],axis=1)\n",
    "df_auto = df_auto[df_auto['Exp'].notnull()]\n",
    "df_auto.head(5)"
   ]
  },
  {
   "cell_type": "code",
   "execution_count": 58,
   "id": "41780a7a",
   "metadata": {
    "pycharm": {
     "name": "#%%\n"
    }
   },
   "outputs": [],
   "source": [
    "def CIRconvert(ids):\n",
    "    try:\n",
    "        url = 'http://cactus.nci.nih.gov/chemical/structure/' + quote(ids) + '/smiles'\n",
    "        ans = urlopen(url).read().decode('utf8')\n",
    "        return ans\n",
    "    except:\n",
    "        return 'Did not work'\n",
    "    \n",
    "def prop_ref(row):\n",
    "    val = row['Exp'].split()\n",
    "    \n",
    "    temp = float(val[0])\n",
    "    ref  = int(val[1][1:-1])\n",
    "    \n",
    "    return temp, ref\n",
    "    "
   ]
  },
  {
   "cell_type": "code",
   "execution_count": 59,
   "id": "b6f77f70",
   "metadata": {
    "pycharm": {
     "name": "#%%\n"
    }
   },
   "outputs": [],
   "source": [
    "df_auto[['Temp','Ref']] = df_auto.apply(prop_ref, axis=1, result_type=\"expand\")\n",
    "df_auto['SMILES']       = df_auto['Hydrocarbon name'].apply(CIRconvert)\n",
    "df_auto['Split']        = 'Test'\n",
    "df_auto.iloc[:249,-1]   = 'Train'"
   ]
  },
  {
   "cell_type": "code",
   "execution_count": 62,
   "id": "1d459b3e",
   "metadata": {
    "pycharm": {
     "name": "#%%\n"
    }
   },
   "outputs": [
    {
     "data": {
      "text/html": [
       "<div>\n",
       "<style scoped>\n",
       "    .dataframe tbody tr th:only-of-type {\n",
       "        vertical-align: middle;\n",
       "    }\n",
       "\n",
       "    .dataframe tbody tr th {\n",
       "        vertical-align: top;\n",
       "    }\n",
       "\n",
       "    .dataframe thead th {\n",
       "        text-align: right;\n",
       "    }\n",
       "</style>\n",
       "<table border=\"1\" class=\"dataframe\">\n",
       "  <thead>\n",
       "    <tr style=\"text-align: right;\">\n",
       "      <th></th>\n",
       "      <th>Hydrocarbon name</th>\n",
       "      <th>Exp</th>\n",
       "      <th>New</th>\n",
       "      <th>Dev</th>\n",
       "      <th>Albahri</th>\n",
       "      <th>Dev.1</th>\n",
       "      <th>Albahri–George</th>\n",
       "      <th>Dev.2</th>\n",
       "      <th>Chen et al.</th>\n",
       "      <th>Dev.3</th>\n",
       "      <th>Temp</th>\n",
       "      <th>Ref</th>\n",
       "      <th>SMILES</th>\n",
       "      <th>Split</th>\n",
       "    </tr>\n",
       "  </thead>\n",
       "  <tbody>\n",
       "    <tr>\n",
       "      <th>59</th>\n",
       "      <td>Nonadecae</td>\n",
       "      <td>478 [23]</td>\n",
       "      <td>475.0</td>\n",
       "      <td>?3</td>\n",
       "      <td>383</td>\n",
       "      <td>?95</td>\n",
       "      <td>526</td>\n",
       "      <td>48</td>\n",
       "      <td>660</td>\n",
       "      <td>182</td>\n",
       "      <td>478.0</td>\n",
       "      <td>23.0</td>\n",
       "      <td>Did not work</td>\n",
       "      <td>Train</td>\n",
       "    </tr>\n",
       "    <tr>\n",
       "      <th>112</th>\n",
       "      <td>2-Methylbutadiene(isoprene)</td>\n",
       "      <td>493 [23]</td>\n",
       "      <td>589.0</td>\n",
       "      <td>96</td>\n",
       "      <td>647</td>\n",
       "      <td>154</td>\n",
       "      <td>581</td>\n",
       "      <td>88</td>\n",
       "      <td>601</td>\n",
       "      <td>108</td>\n",
       "      <td>493.0</td>\n",
       "      <td>23.0</td>\n",
       "      <td>Did not work</td>\n",
       "      <td>Train</td>\n",
       "    </tr>\n",
       "    <tr>\n",
       "      <th>133</th>\n",
       "      <td>3,3-Dimethyl L-1-butene</td>\n",
       "      <td>630 [22]</td>\n",
       "      <td>598.0</td>\n",
       "      <td>?33</td>\n",
       "      <td>729</td>\n",
       "      <td>99</td>\n",
       "      <td>672</td>\n",
       "      <td>42</td>\n",
       "      <td>660</td>\n",
       "      <td>30</td>\n",
       "      <td>630.0</td>\n",
       "      <td>22.0</td>\n",
       "      <td>Did not work</td>\n",
       "      <td>Train</td>\n",
       "    </tr>\n",
       "    <tr>\n",
       "      <th>220</th>\n",
       "      <td>1,2,3-Trimethyl-4-ethylbenzne</td>\n",
       "      <td>766 [22]</td>\n",
       "      <td>701.0</td>\n",
       "      <td>?65</td>\n",
       "      <td>771</td>\n",
       "      <td>5</td>\n",
       "      <td>720</td>\n",
       "      <td>?46</td>\n",
       "      <td>705</td>\n",
       "      <td>?61</td>\n",
       "      <td>766.0</td>\n",
       "      <td>22.0</td>\n",
       "      <td>Did not work</td>\n",
       "      <td>Train</td>\n",
       "    </tr>\n",
       "  </tbody>\n",
       "</table>\n",
       "</div>"
      ],
      "text/plain": [
       "                  Hydrocarbon name       Exp    New  Dev Albahri Dev.1  \\\n",
       "59                       Nonadecae  478 [23]  475.0   ?3     383   ?95   \n",
       "112    2-Methylbutadiene(isoprene)  493 [23]  589.0   96     647   154   \n",
       "133        3,3-Dimethyl L-1-butene  630 [22]  598.0  ?33     729    99   \n",
       "220  1,2,3-Trimethyl-4-ethylbenzne  766 [22]  701.0  ?65     771     5   \n",
       "\n",
       "    Albahri–George Dev.2 Chen et al. Dev.3   Temp   Ref        SMILES  Split  \n",
       "59             526    48         660   182  478.0  23.0  Did not work  Train  \n",
       "112            581    88         601   108  493.0  23.0  Did not work  Train  \n",
       "133            672    42         660    30  630.0  22.0  Did not work  Train  \n",
       "220            720   ?46         705   ?61  766.0  22.0  Did not work  Train  "
      ]
     },
     "execution_count": 62,
     "metadata": {},
     "output_type": "execute_result"
    }
   ],
   "source": [
    "df_auto.loc[(df_auto['SMILES']=='Did not work')] "
   ]
  },
  {
   "cell_type": "code",
   "execution_count": 64,
   "id": "e8ebfbe7",
   "metadata": {
    "pycharm": {
     "name": "#%%\n"
    }
   },
   "outputs": [],
   "source": [
    "# Nonadecane                    CCCCCCCCCCCCCCCCCCC     https://pubchem.ncbi.nlm.nih.gov/compound/12401#section=Canonical-SMILES\n",
    "# 2-Methylbutadiene(isoprene)   CC(=C)C=C               https://pubchem.ncbi.nlm.nih.gov/compound/6557#section=InChI-Key\n",
    "# 3,3-Dimethyl L-1-butene       CC(C)(C)C=C             https://pubchem.ncbi.nlm.nih.gov/compound/11210#section=InChI-Key\n",
    "# 1,2,3-Trimethyl-4-ethylbenzne CCC1=C(C(=C(C=C1)C)C)C  https://pubchem.ncbi.nlm.nih.gov/compound/187815\n",
    "\n",
    "\n",
    "df_auto.iloc[(df_auto['SMILES']=='Did not work').values,-2] = ['CCCCCCCCCCCCCCCCCCC','CC(=C)C=C','CC(C)(C)C=C','CCC1=C(C(=C(C=C1)C)C)C']\n"
   ]
  },
  {
   "cell_type": "code",
   "execution_count": 65,
   "id": "b1a84f5a",
   "metadata": {
    "pycharm": {
     "name": "#%%\n"
    }
   },
   "outputs": [],
   "source": [
    "df_auto.to_csv(r'C:\\Users\\zcemg08\\PycharmProjects\\biofuels\\cleaned_data\\autoignition_temp.csv')"
   ]
  }
 ],
 "metadata": {
  "kernelspec": {
   "display_name": "biofuel",
   "language": "python",
   "name": "biofuel"
  },
  "language_info": {
   "codemirror_mode": {
    "name": "ipython",
    "version": 3
   },
   "file_extension": ".py",
   "mimetype": "text/x-python",
   "name": "python",
   "nbconvert_exporter": "python",
   "pygments_lexer": "ipython3",
   "version": "3.6.12"
  }
 },
 "nbformat": 4,
 "nbformat_minor": 5
}
