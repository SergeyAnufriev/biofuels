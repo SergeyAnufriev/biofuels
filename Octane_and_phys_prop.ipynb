{
 "cells": [
  {
   "cell_type": "code",
   "execution_count": 23,
   "id": "79a17fbd",
   "metadata": {},
   "outputs": [],
   "source": [
    "import pandas as pd\n",
    "import matplotlib.pyplot as plt\n",
    "import numpy as np"
   ]
  },
  {
   "cell_type": "code",
   "execution_count": 32,
   "id": "678d1c14",
   "metadata": {},
   "outputs": [
    {
     "name": "stdout",
     "output_type": "stream",
     "text": [
      "(543, 4)\n"
     ]
    }
   ],
   "source": [
    "octane = pd.read_csv(r'C:\\Users\\zcemg08\\PycharmProjects\\biofuels\\cleaned_data\\cleaned_octane_database.csv')\n",
    "comb_h = pd.read_csv(r'C:\\Users\\zcemg08\\PycharmProjects\\biofuels\\cleaned_data\\comb_heat.csv')\n",
    "boil_p = pd.read_csv(r'C:\\Users\\zcemg08\\PycharmProjects\\biofuels\\cleaned_data\\boiling_point.csv')\n",
    "densit = pd.read_csv(r'C:\\Users\\zcemg08\\PycharmProjects\\biofuels\\cleaned_data\\density.csv')\n",
    "entr_h = pd.read_csv(r'C:\\Users\\zcemg08\\PycharmProjects\\biofuels\\raw_data\\entropy_heat_capacity.csv')\n",
    "auto_t = pd.read_csv(r'C:\\Users\\zcemg08\\PycharmProjects\\biofuels\\cleaned_data\\autoignition_temp.csv')\n",
    "\n",
    "comb_h = comb_h.rename(columns={'Smiles':'SMILES'})\n",
    "boil_p = boil_p.rename(columns={'Smiles':'SMILES'})\n",
    "densit = densit.rename(columns={'Smiles':'SMILES'})\n",
    "\n",
    "print(densit.shape)"
   ]
  },
  {
   "cell_type": "code",
   "execution_count": 33,
   "id": "2ff0e61d",
   "metadata": {},
   "outputs": [
    {
     "data": {
      "image/png": "[encoded data removed]",
      "text/plain": [
       "<Figure size 432x288 with 1 Axes>"
      ]
     },
     "metadata": {
      "needs_background": "light"
     },
     "output_type": "display_data"
    }
   ],
   "source": [
    "plt.scatter(octane['SLogP'],octane['y'])\n",
    "plt.xlabel('SLogP')\n",
    "plt.ylabel('Octane number') \n",
    "plt.title('Octane number vs SLogP')\n",
    "plt.show()"
   ]
  },
  {
   "cell_type": "code",
   "execution_count": 35,
   "id": "df6f6e8a",
   "metadata": {},
   "outputs": [
    {
     "data": {
      "text/html": [
       "<div>\n",
       "<style scoped>\n",
       "    .dataframe tbody tr th:only-of-type {\n",
       "        vertical-align: middle;\n",
       "    }\n",
       "\n",
       "    .dataframe tbody tr th {\n",
       "        vertical-align: top;\n",
       "    }\n",
       "\n",
       "    .dataframe thead th {\n",
       "        text-align: right;\n",
       "    }\n",
       "</style>\n",
       "<table border=\"1\" class=\"dataframe\">\n",
       "  <thead>\n",
       "    <tr style=\"text-align: right;\">\n",
       "      <th></th>\n",
       "      <th>SMILES</th>\n",
       "      <th>?Hc°(KJ/kg)</th>\n",
       "    </tr>\n",
       "  </thead>\n",
       "  <tbody>\n",
       "    <tr>\n",
       "      <th>0</th>\n",
       "      <td>C#CC(C)(C)C#C</td>\n",
       "      <td>40674.60867</td>\n",
       "    </tr>\n",
       "    <tr>\n",
       "      <th>1</th>\n",
       "      <td>C#CC(C)(C)CC</td>\n",
       "      <td>43242.50963</td>\n",
       "    </tr>\n",
       "  </tbody>\n",
       "</table>\n",
       "</div>"
      ],
      "text/plain": [
       "          SMILES  ?Hc°(KJ/kg)\n",
       "0  C#CC(C)(C)C#C  40674.60867\n",
       "1   C#CC(C)(C)CC  43242.50963"
      ]
     },
     "execution_count": 35,
     "metadata": {},
     "output_type": "execute_result"
    }
   ],
   "source": [
    "comb_h.head(2)"
   ]
  },
  {
   "cell_type": "code",
   "execution_count": 36,
   "id": "db472b90",
   "metadata": {},
   "outputs": [
    {
     "data": {
      "text/html": [
       "<div>\n",
       "<style scoped>\n",
       "    .dataframe tbody tr th:only-of-type {\n",
       "        vertical-align: middle;\n",
       "    }\n",
       "\n",
       "    .dataframe tbody tr th {\n",
       "        vertical-align: top;\n",
       "    }\n",
       "\n",
       "    .dataframe thead th {\n",
       "        text-align: right;\n",
       "    }\n",
       "</style>\n",
       "<table border=\"1\" class=\"dataframe\">\n",
       "  <thead>\n",
       "    <tr style=\"text-align: right;\">\n",
       "      <th></th>\n",
       "      <th>Unnamed: 0</th>\n",
       "      <th>SMILES</th>\n",
       "      <th>Compound Name</th>\n",
       "      <th>TARGET</th>\n",
       "      <th>PubChem</th>\n",
       "      <th>Source</th>\n",
       "      <th>Literature Source</th>\n",
       "      <th>RON_Molecules_x</th>\n",
       "      <th>Experiment</th>\n",
       "      <th>Data Set</th>\n",
       "      <th>...</th>\n",
       "      <th>AMW</th>\n",
       "      <th>WPath</th>\n",
       "      <th>WPol</th>\n",
       "      <th>Zagreb1</th>\n",
       "      <th>Zagreb2</th>\n",
       "      <th>mZagreb1</th>\n",
       "      <th>mZagreb2</th>\n",
       "      <th>dev</th>\n",
       "      <th>y</th>\n",
       "      <th>ron_choice</th>\n",
       "    </tr>\n",
       "  </thead>\n",
       "  <tbody>\n",
       "    <tr>\n",
       "      <th>0</th>\n",
       "      <td>0</td>\n",
       "      <td>CCCCO</td>\n",
       "      <td>1-Butanol</td>\n",
       "      <td>98.0</td>\n",
       "      <td>263</td>\n",
       "      <td>Sandia, UML</td>\n",
       "      <td>[6]</td>\n",
       "      <td>N-BUTANOL</td>\n",
       "      <td>98.0</td>\n",
       "      <td>Validation</td>\n",
       "      <td>...</td>\n",
       "      <td>4.938211</td>\n",
       "      <td>20</td>\n",
       "      <td>2</td>\n",
       "      <td>14.0</td>\n",
       "      <td>12.0</td>\n",
       "      <td>2.75</td>\n",
       "      <td>1.5</td>\n",
       "      <td>0.0</td>\n",
       "      <td>98.0</td>\n",
       "      <td>abs dev &lt; 0.01</td>\n",
       "    </tr>\n",
       "    <tr>\n",
       "      <th>1</th>\n",
       "      <td>1</td>\n",
       "      <td>CCO</td>\n",
       "      <td>Ethanol</td>\n",
       "      <td>109.0</td>\n",
       "      <td>702</td>\n",
       "      <td>Sandia, UML</td>\n",
       "      <td>[6]</td>\n",
       "      <td>ETHANOL</td>\n",
       "      <td>109.0</td>\n",
       "      <td>Training</td>\n",
       "      <td>...</td>\n",
       "      <td>5.115763</td>\n",
       "      <td>4</td>\n",
       "      <td>0</td>\n",
       "      <td>6.0</td>\n",
       "      <td>4.0</td>\n",
       "      <td>2.25</td>\n",
       "      <td>1.0</td>\n",
       "      <td>0.0</td>\n",
       "      <td>109.0</td>\n",
       "      <td>abs dev &lt; 0.01</td>\n",
       "    </tr>\n",
       "  </tbody>\n",
       "</table>\n",
       "<p>2 rows × 892 columns</p>\n",
       "</div>"
      ],
      "text/plain": [
       "   Unnamed: 0 SMILES Compound Name  TARGET  PubChem       Source  \\\n",
       "0           0  CCCCO     1-Butanol    98.0      263  Sandia, UML   \n",
       "1           1    CCO       Ethanol   109.0      702  Sandia, UML   \n",
       "\n",
       "  Literature Source RON_Molecules_x  Experiment    Data Set  ...       AMW  \\\n",
       "0               [6]       N-BUTANOL        98.0  Validation  ...  4.938211   \n",
       "1               [6]         ETHANOL       109.0    Training  ...  5.115763   \n",
       "\n",
       "   WPath WPol  Zagreb1  Zagreb2  mZagreb1  mZagreb2  dev      y  \\\n",
       "0     20    2     14.0     12.0      2.75       1.5  0.0   98.0   \n",
       "1      4    0      6.0      4.0      2.25       1.0  0.0  109.0   \n",
       "\n",
       "       ron_choice  \n",
       "0  abs dev < 0.01  \n",
       "1  abs dev < 0.01  \n",
       "\n",
       "[2 rows x 892 columns]"
      ]
     },
     "execution_count": 36,
     "metadata": {},
     "output_type": "execute_result"
    }
   ],
   "source": [
    "octane.head(2)"
   ]
  },
  {
   "cell_type": "code",
   "execution_count": 49,
   "id": "7d45bfbd",
   "metadata": {},
   "outputs": [
    {
     "name": "stdout",
     "output_type": "stream",
     "text": [
      "Number of missing values for combustion heat = 443\n",
      "Number of missing values for boiling point = 443\n",
      "Number of missing values for density = 509\n",
      "Number of missing values for entropy = 403\n",
      "Number of missing values for autoig. temp = 396\n"
     ]
    }
   ],
   "source": [
    "for df,name in zip([comb_h,boil_p,densit,entr_h,auto_t],['combustion heat','boiling point','density','entropy','autoig. temp']):\n",
    "    print('Number of missing values for ' + name +' = {}'.format(pd.merge(octane,df,how='left',on='SMILES').iloc[:,-1].isnull().sum()))\n"
   ]
  },
  {
   "cell_type": "code",
   "execution_count": 55,
   "id": "5f85bb8c",
   "metadata": {},
   "outputs": [
    {
     "data": {
      "text/plain": [
       "443"
      ]
     },
     "execution_count": 55,
     "metadata": {},
     "output_type": "execute_result"
    }
   ],
   "source": [
    "len(set(octane['SMILES'].values)-set(comb_h['SMILES'].values))"
   ]
  },
  {
   "cell_type": "code",
   "execution_count": 56,
   "id": "7228ad8e",
   "metadata": {},
   "outputs": [
    {
     "data": {
      "text/plain": [
       "(492, 892)"
      ]
     },
     "execution_count": 56,
     "metadata": {},
     "output_type": "execute_result"
    }
   ],
   "source": [
    "octane.shape"
   ]
  },
  {
   "cell_type": "code",
   "execution_count": null,
   "id": "81ff7f29",
   "metadata": {},
   "outputs": [],
   "source": []
  }
 ],
 "metadata": {
  "kernelspec": {
   "display_name": "biofuel",
   "language": "python",
   "name": "biofuel"
  },
  "language_info": {
   "codemirror_mode": {
    "name": "ipython",
    "version": 3
   },
   "file_extension": ".py",
   "mimetype": "text/x-python",
   "name": "python",
   "nbconvert_exporter": "python",
   "pygments_lexer": "ipython3",
   "version": "3.6.12"
  }
 },
 "nbformat": 4,
 "nbformat_minor": 5
}
