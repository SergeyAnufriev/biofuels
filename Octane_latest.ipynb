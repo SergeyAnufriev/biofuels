{
 "cells": [
  {
   "cell_type": "markdown",
   "id": "6a4d6326",
   "metadata": {
    "pycharm": {
     "name": "#%% md\n"
    }
   },
   "source": [
    "# Octane modelling revisedpip"
   ]
  },
  {
   "cell_type": "code",
   "execution_count": 1,
   "id": "a6f1f77f",
   "metadata": {
    "pycharm": {
     "name": "#%%\n"
    }
   },
   "outputs": [
    {
     "data": {
      "text/plain": "'custom modules'"
     },
     "execution_count": 1,
     "metadata": {},
     "output_type": "execute_result"
    }
   ],
   "source": [
    "import pandas as pd\n",
    "import optuna\n",
    "import numpy as np\n",
    "import matplotlib.pyplot as plt\n",
    "from sklearn.model_selection import train_test_split,cross_val_score\n",
    "from sklearn import preprocessing\n",
    "from sklearn.pipeline import Pipeline\n",
    "from sklearn.base import BaseEstimator, TransformerMixin\n",
    "from sklearn import linear_model\n",
    "from sklearn.metrics import mean_absolute_error as mae\n",
    "from sklearn.metrics import r2_score\n",
    "from sklearn.ensemble import RandomForestRegressor\n",
    "from sklearn.neural_network import MLPRegressor\n",
    "from sklearn.decomposition import PCA\n",
    "from sklearn.svm import SVR\n",
    "from sklearn.feature_selection import SequentialFeatureSelector as sfs\n",
    "from sklearn.metrics import mean_absolute_percentage_error as mape\n",
    "\n",
    "'''custom modules'''\n"
   ]
  },
  {
   "cell_type": "code",
   "execution_count": 2,
   "id": "3fd77b02",
   "metadata": {
    "pycharm": {
     "name": "#%%\n"
    }
   },
   "outputs": [],
   "source": [
    "df = pd.read_csv(r'C:\\Users\\zcemg08\\Desktop\\phys_data\\octane_data.csv')"
   ]
  },
  {
   "cell_type": "code",
   "execution_count": 3,
   "id": "eb458fc2",
   "metadata": {
    "pycharm": {
     "name": "#%%\n"
    }
   },
   "outputs": [
    {
     "data": {
      "text/plain": "         SMILES Compound Name  TARGET  PubChem       Source Literature Source  \\\n0         CCCCO     1-Butanol   98.00      263  Sandia, UML               [6]   \n1           CCO       Ethanol  109.00      702  Sandia, UML               [6]   \n2            CO      Methanol  109.00      887  Sandia, UML              [11]   \n3          CCCO    n-Propanol  104.00     1031  Sandia, UML               [6]   \n4  CC1=CC=CC=C1       Toluene  118.17     1140  Sandia, UML          [1], [3]   \n\n  RON_Molecules_x  Experiment    Data Set  Predicted  ...  Zagreb1 Zagreb2  \\\n0       N-BUTANOL        98.0  Validation      92.76  ...       14      12   \n1         ETHANOL       109.0    Training     107.77  ...        6       4   \n2        METHANOL       122.0    Training     105.38  ...        2       1   \n3      N-PROPANOL       104.0    Training     100.25  ...       10       8   \n4             NaN         NaN         NaN        NaN  ...       30      31   \n\n   mZagreb1  mZagreb2       dev       y       ron_choice  Complexity  XLogP  \\\n0  2.750000  1.500000  0.000000   98.00   abs dev < 0.01          13    0.9   \n1  2.250000  1.000000  0.000000  109.00   abs dev < 0.01           2   -0.1   \n2  2.000000  1.000000  0.059633  109.00  WIKIPEDIA 108.7           2   -0.5   \n3  2.500000  1.250000  0.000000  104.00   abs dev < 0.01           7    0.3   \n4  2.361111  1.666667       NaN  118.17   no alternative          42    2.7   \n\n   boiling_point_K  \n0           390.81  \n1           351.44  \n2           337.85  \n3           370.35  \n4           384.62  \n\n[5 rows x 894 columns]",
      "text/html": "<div>\n<style scoped>\n    .dataframe tbody tr th:only-of-type {\n        vertical-align: middle;\n    }\n\n    .dataframe tbody tr th {\n        vertical-align: top;\n    }\n\n    .dataframe thead th {\n        text-align: right;\n    }\n</style>\n<table border=\"1\" class=\"dataframe\">\n  <thead>\n    <tr style=\"text-align: right;\">\n      <th></th>\n      <th>SMILES</th>\n      <th>Compound Name</th>\n      <th>TARGET</th>\n      <th>PubChem</th>\n      <th>Source</th>\n      <th>Literature Source</th>\n      <th>RON_Molecules_x</th>\n      <th>Experiment</th>\n      <th>Data Set</th>\n      <th>Predicted</th>\n      <th>...</th>\n      <th>Zagreb1</th>\n      <th>Zagreb2</th>\n      <th>mZagreb1</th>\n      <th>mZagreb2</th>\n      <th>dev</th>\n      <th>y</th>\n      <th>ron_choice</th>\n      <th>Complexity</th>\n      <th>XLogP</th>\n      <th>boiling_point_K</th>\n    </tr>\n  </thead>\n  <tbody>\n    <tr>\n      <th>0</th>\n      <td>CCCCO</td>\n      <td>1-Butanol</td>\n      <td>98.00</td>\n      <td>263</td>\n      <td>Sandia, UML</td>\n      <td>[6]</td>\n      <td>N-BUTANOL</td>\n      <td>98.0</td>\n      <td>Validation</td>\n      <td>92.76</td>\n      <td>...</td>\n      <td>14</td>\n      <td>12</td>\n      <td>2.750000</td>\n      <td>1.500000</td>\n      <td>0.000000</td>\n      <td>98.00</td>\n      <td>abs dev &lt; 0.01</td>\n      <td>13</td>\n      <td>0.9</td>\n      <td>390.81</td>\n    </tr>\n    <tr>\n      <th>1</th>\n      <td>CCO</td>\n      <td>Ethanol</td>\n      <td>109.00</td>\n      <td>702</td>\n      <td>Sandia, UML</td>\n      <td>[6]</td>\n      <td>ETHANOL</td>\n      <td>109.0</td>\n      <td>Training</td>\n      <td>107.77</td>\n      <td>...</td>\n      <td>6</td>\n      <td>4</td>\n      <td>2.250000</td>\n      <td>1.000000</td>\n      <td>0.000000</td>\n      <td>109.00</td>\n      <td>abs dev &lt; 0.01</td>\n      <td>2</td>\n      <td>-0.1</td>\n      <td>351.44</td>\n    </tr>\n    <tr>\n      <th>2</th>\n      <td>CO</td>\n      <td>Methanol</td>\n      <td>109.00</td>\n      <td>887</td>\n      <td>Sandia, UML</td>\n      <td>[11]</td>\n      <td>METHANOL</td>\n      <td>122.0</td>\n      <td>Training</td>\n      <td>105.38</td>\n      <td>...</td>\n      <td>2</td>\n      <td>1</td>\n      <td>2.000000</td>\n      <td>1.000000</td>\n      <td>0.059633</td>\n      <td>109.00</td>\n      <td>WIKIPEDIA 108.7</td>\n      <td>2</td>\n      <td>-0.5</td>\n      <td>337.85</td>\n    </tr>\n    <tr>\n      <th>3</th>\n      <td>CCCO</td>\n      <td>n-Propanol</td>\n      <td>104.00</td>\n      <td>1031</td>\n      <td>Sandia, UML</td>\n      <td>[6]</td>\n      <td>N-PROPANOL</td>\n      <td>104.0</td>\n      <td>Training</td>\n      <td>100.25</td>\n      <td>...</td>\n      <td>10</td>\n      <td>8</td>\n      <td>2.500000</td>\n      <td>1.250000</td>\n      <td>0.000000</td>\n      <td>104.00</td>\n      <td>abs dev &lt; 0.01</td>\n      <td>7</td>\n      <td>0.3</td>\n      <td>370.35</td>\n    </tr>\n    <tr>\n      <th>4</th>\n      <td>CC1=CC=CC=C1</td>\n      <td>Toluene</td>\n      <td>118.17</td>\n      <td>1140</td>\n      <td>Sandia, UML</td>\n      <td>[1], [3]</td>\n      <td>NaN</td>\n      <td>NaN</td>\n      <td>NaN</td>\n      <td>NaN</td>\n      <td>...</td>\n      <td>30</td>\n      <td>31</td>\n      <td>2.361111</td>\n      <td>1.666667</td>\n      <td>NaN</td>\n      <td>118.17</td>\n      <td>no alternative</td>\n      <td>42</td>\n      <td>2.7</td>\n      <td>384.62</td>\n    </tr>\n  </tbody>\n</table>\n<p>5 rows × 894 columns</p>\n</div>"
     },
     "execution_count": 3,
     "metadata": {},
     "output_type": "execute_result"
    }
   ],
   "source": [
    "df.head(5)"
   ]
  },
  {
   "cell_type": "markdown",
   "id": "2837adf4",
   "metadata": {
    "pycharm": {
     "name": "#%% md\n"
    }
   },
   "source": [
    "# 1. Data preprocessing"
   ]
  },
  {
   "cell_type": "markdown",
   "id": "43c7efdf",
   "metadata": {
    "pycharm": {
     "name": "#%% md\n"
    }
   },
   "source": [
    "### 1.1 Remove columns with missing values "
   ]
  },
  {
   "cell_type": "code",
   "execution_count": 4,
   "id": "cbceaddb",
   "metadata": {
    "pycharm": {
     "name": "#%%\n"
    }
   },
   "outputs": [
    {
     "name": "stdout",
     "output_type": "stream",
     "text": [
      "Columns with missing values are = ['Compound Name', 'TARGET', 'Source', 'Literature Source', 'RON_Molecules_x', 'Experiment', 'Data Set', 'Predicted', 'Absolute  Error', '#Name', 'RON', 'dev', 'boiling_point_K']\n"
     ]
    }
   ],
   "source": [
    "misssing_val_cols = df.columns[df.isnull().any()]\n",
    "print('Columns with missing values are = {}'.format(list(misssing_val_cols)))"
   ]
  },
  {
   "cell_type": "code",
   "execution_count": 5,
   "id": "98aa32c6",
   "metadata": {
    "pycharm": {
     "name": "#%%\n"
    }
   },
   "outputs": [],
   "source": [
    "df_ = df.drop(misssing_val_cols,axis=1)"
   ]
  },
  {
   "cell_type": "markdown",
   "id": "c3d151d3",
   "metadata": {
    "pycharm": {
     "name": "#%% md\n"
    }
   },
   "source": [
    "### 1.2 Remove columns with irrelevant to modelling values "
   ]
  },
  {
   "cell_type": "code",
   "execution_count": 6,
   "id": "895f9300",
   "metadata": {
    "pycharm": {
     "name": "#%%\n"
    }
   },
   "outputs": [],
   "source": [
    "irrelevant_to_pred_columns = ['PubChem','ron_choice']\n",
    "\n",
    "df_ = df_.drop(irrelevant_to_pred_columns,axis=1)"
   ]
  },
  {
   "cell_type": "code",
   "execution_count": 7,
   "id": "81b2e4f0",
   "metadata": {
    "pycharm": {
     "name": "#%%\n"
    }
   },
   "outputs": [
    {
     "data": {
      "text/plain": "(492, 879)"
     },
     "execution_count": 7,
     "metadata": {},
     "output_type": "execute_result"
    }
   ],
   "source": [
    "df_.shape"
   ]
  },
  {
   "cell_type": "markdown",
   "id": "ce576b4d",
   "metadata": {
    "pycharm": {
     "name": "#%% md\n"
    }
   },
   "source": [
    "### 2.1 Split dataset (standartization must be applied on train set only )"
   ]
  },
  {
   "cell_type": "code",
   "execution_count": 8,
   "id": "4af1d8e6",
   "metadata": {
    "pycharm": {
     "name": "#%%\n"
    }
   },
   "outputs": [],
   "source": [
    "seed = 42 # Fix random seed to make split reproducible (experiment must be reproducible)\n",
    "\n",
    "X_train, X_test, y_train, y_test = train_test_split(df_.drop('y',axis=1), df_['y'], test_size=0.2, random_state=seed)"
   ]
  },
  {
   "cell_type": "code",
   "execution_count": 9,
   "id": "6b681db2",
   "metadata": {
    "pycharm": {
     "name": "#%%\n"
    }
   },
   "outputs": [
    {
     "name": "stdout",
     "output_type": "stream",
     "text": [
      "Train dataset size = (393, 878)\n",
      "Test dataset size = (99, 878)\n"
     ]
    }
   ],
   "source": [
    "print('Train dataset size = {}'.format(X_train.shape))\n",
    "print('Test dataset size = {}'.format(X_test.shape))"
   ]
  },
  {
   "cell_type": "code",
   "execution_count": 10,
   "outputs": [],
   "source": [
    "from filter_data import Select_descriptors\n",
    "from process_data import Scalar"
   ],
   "metadata": {
    "collapsed": false,
    "pycharm": {
     "name": "#%%\n"
    }
   }
  },
  {
   "cell_type": "code",
   "execution_count": 43,
   "outputs": [],
   "source": [
    "sc         = Scalar('minmax')\n",
    "\n",
    "wrapper    = sfs(SVR(gamma='auto'),\n",
    "              n_features_to_select=50,\n",
    "              scoring='neg_mean_squared_error',\n",
    "              cv=5)\n",
    "\n",
    "Filter_    = Select_descriptors(0.01,0.95,None,wrapper)\n",
    "\n",
    "sc.fit(X_train)"
   ],
   "metadata": {
    "collapsed": false,
    "pycharm": {
     "name": "#%%\n"
    }
   }
  },
  {
   "cell_type": "code",
   "execution_count": 44,
   "outputs": [],
   "source": [
    "x_filtr  = Filter_.transform(sc.transform(X_train),y_train)"
   ],
   "metadata": {
    "collapsed": false,
    "pycharm": {
     "name": "#%%\n"
    }
   }
  },
  {
   "cell_type": "code",
   "execution_count": 45,
   "outputs": [
    {
     "data": {
      "text/plain": "                SMILES  nAromAtom     nAtom   AATS1dv    AATS1s    AATS2s  \\\n0        Cc1c(C)cccc1C        1.0  0.517241  0.576389  0.282591  0.282991   \n1         CC1CCCC(C1)C        0.0  0.620690  0.210069  0.047170  0.042662   \n2     CC(c1ccccc1)(C)C        1.0  0.620690  0.513889  0.259434  0.279715   \n3       CC(CC1CCCCC1)C        0.0  0.827586  0.202778  0.040431  0.042318   \n4          CC1CCC(O1)C        0.0  0.448276  0.424342  0.155341  0.268083   \n..                 ...        ...       ...       ...       ...       ...   \n388        CC(C)C(=O)C        0.0  0.344828  0.426389  0.350704  0.389112   \n389  C[C@@H]1C[C@@H]1C        0.0  0.310345  0.241667  0.067984  0.027513   \n390     CCC(C(C)C)(C)C        0.0  0.689655  0.189167  0.109973  0.054944   \n391        CC(CC(C)C)C        0.0  0.586207  0.138258  0.099240  0.055962   \n392       CCCC(C)(C)CC        0.0  0.689655  0.165833  0.094340  0.050891   \n\n      ATSC1dv    ATSC2Z  AATSC1dv   AATSC2v  ...  EState_VSA3  EState_VSA4  \\\n0    0.730492  0.700621  0.740440  0.878198  ...     0.000000     0.000000   \n1    0.230335  0.359969  0.366775  0.521145  ...     0.000000     0.460837   \n2    0.646858  0.675433  0.629969  0.813625  ...     0.290739     0.000000   \n3    0.230335  0.271418  0.349309  0.476476  ...     0.000000     0.460837   \n4    0.511587  0.511983  0.614242  0.524690  ...     0.655463     0.000000   \n..        ...       ...       ...       ...  ...          ...          ...   \n388  0.529771  0.607913  0.721905  0.674332  ...     0.000000     0.000000   \n389  0.253369  0.315694  0.442458  0.397063  ...     0.000000     0.460837   \n390  0.393751  0.663873  0.462411  0.776652  ...     0.290739     0.230419   \n391  0.206039  0.439732  0.357965  0.587151  ...     0.000000     0.460837   \n392  0.301616  0.531046  0.406521  0.664978  ...     0.290739     0.000000   \n\n     EState_VSA5  EState_VSA8    nARing      nRot  RotRatio     JGT10  Radius  \\\n0       0.324926     0.762583  0.000000  0.000000  0.000000  0.578490    0.50   \n1       0.500000     0.270972  0.333333  0.000000  0.000000  0.537208    0.50   \n2       0.108309     1.000000  0.000000  0.000000  0.000000  0.646033    0.50   \n3       0.750000     0.270972  0.333333  0.285714  0.257143  0.457626    0.50   \n4       0.250000     0.270972  0.333333  0.000000  0.000000  0.583679    0.25   \n..           ...          ...       ...       ...       ...       ...     ...   \n388     0.000000     0.000000  0.000000  0.142857  0.257143  0.637146    0.25   \n389     0.125000     0.270972  0.333333  0.000000  0.000000  0.703875    0.25   \n390     0.125000     0.677429  0.000000  0.285714  0.367347  0.820111    0.25   \n391     0.125000     0.541943  0.000000  0.285714  0.428571  0.703413    0.25   \n392     0.375000     0.541943  0.000000  0.428571  0.551020  0.727173    0.50   \n\n        XLogP  \n0    0.640625  \n1    0.671875  \n2    0.718750  \n3    0.828125  \n4    0.265625  \n..        ...  \n388  0.203125  \n389  0.406250  \n390  0.671875  \n391  0.609375  \n392  0.718750  \n\n[393 rows x 51 columns]",
      "text/html": "<div>\n<style scoped>\n    .dataframe tbody tr th:only-of-type {\n        vertical-align: middle;\n    }\n\n    .dataframe tbody tr th {\n        vertical-align: top;\n    }\n\n    .dataframe thead th {\n        text-align: right;\n    }\n</style>\n<table border=\"1\" class=\"dataframe\">\n  <thead>\n    <tr style=\"text-align: right;\">\n      <th></th>\n      <th>SMILES</th>\n      <th>nAromAtom</th>\n      <th>nAtom</th>\n      <th>AATS1dv</th>\n      <th>AATS1s</th>\n      <th>AATS2s</th>\n      <th>ATSC1dv</th>\n      <th>ATSC2Z</th>\n      <th>AATSC1dv</th>\n      <th>AATSC2v</th>\n      <th>...</th>\n      <th>EState_VSA3</th>\n      <th>EState_VSA4</th>\n      <th>EState_VSA5</th>\n      <th>EState_VSA8</th>\n      <th>nARing</th>\n      <th>nRot</th>\n      <th>RotRatio</th>\n      <th>JGT10</th>\n      <th>Radius</th>\n      <th>XLogP</th>\n    </tr>\n  </thead>\n  <tbody>\n    <tr>\n      <th>0</th>\n      <td>Cc1c(C)cccc1C</td>\n      <td>1.0</td>\n      <td>0.517241</td>\n      <td>0.576389</td>\n      <td>0.282591</td>\n      <td>0.282991</td>\n      <td>0.730492</td>\n      <td>0.700621</td>\n      <td>0.740440</td>\n      <td>0.878198</td>\n      <td>...</td>\n      <td>0.000000</td>\n      <td>0.000000</td>\n      <td>0.324926</td>\n      <td>0.762583</td>\n      <td>0.000000</td>\n      <td>0.000000</td>\n      <td>0.000000</td>\n      <td>0.578490</td>\n      <td>0.50</td>\n      <td>0.640625</td>\n    </tr>\n    <tr>\n      <th>1</th>\n      <td>CC1CCCC(C1)C</td>\n      <td>0.0</td>\n      <td>0.620690</td>\n      <td>0.210069</td>\n      <td>0.047170</td>\n      <td>0.042662</td>\n      <td>0.230335</td>\n      <td>0.359969</td>\n      <td>0.366775</td>\n      <td>0.521145</td>\n      <td>...</td>\n      <td>0.000000</td>\n      <td>0.460837</td>\n      <td>0.500000</td>\n      <td>0.270972</td>\n      <td>0.333333</td>\n      <td>0.000000</td>\n      <td>0.000000</td>\n      <td>0.537208</td>\n      <td>0.50</td>\n      <td>0.671875</td>\n    </tr>\n    <tr>\n      <th>2</th>\n      <td>CC(c1ccccc1)(C)C</td>\n      <td>1.0</td>\n      <td>0.620690</td>\n      <td>0.513889</td>\n      <td>0.259434</td>\n      <td>0.279715</td>\n      <td>0.646858</td>\n      <td>0.675433</td>\n      <td>0.629969</td>\n      <td>0.813625</td>\n      <td>...</td>\n      <td>0.290739</td>\n      <td>0.000000</td>\n      <td>0.108309</td>\n      <td>1.000000</td>\n      <td>0.000000</td>\n      <td>0.000000</td>\n      <td>0.000000</td>\n      <td>0.646033</td>\n      <td>0.50</td>\n      <td>0.718750</td>\n    </tr>\n    <tr>\n      <th>3</th>\n      <td>CC(CC1CCCCC1)C</td>\n      <td>0.0</td>\n      <td>0.827586</td>\n      <td>0.202778</td>\n      <td>0.040431</td>\n      <td>0.042318</td>\n      <td>0.230335</td>\n      <td>0.271418</td>\n      <td>0.349309</td>\n      <td>0.476476</td>\n      <td>...</td>\n      <td>0.000000</td>\n      <td>0.460837</td>\n      <td>0.750000</td>\n      <td>0.270972</td>\n      <td>0.333333</td>\n      <td>0.285714</td>\n      <td>0.257143</td>\n      <td>0.457626</td>\n      <td>0.50</td>\n      <td>0.828125</td>\n    </tr>\n    <tr>\n      <th>4</th>\n      <td>CC1CCC(O1)C</td>\n      <td>0.0</td>\n      <td>0.448276</td>\n      <td>0.424342</td>\n      <td>0.155341</td>\n      <td>0.268083</td>\n      <td>0.511587</td>\n      <td>0.511983</td>\n      <td>0.614242</td>\n      <td>0.524690</td>\n      <td>...</td>\n      <td>0.655463</td>\n      <td>0.000000</td>\n      <td>0.250000</td>\n      <td>0.270972</td>\n      <td>0.333333</td>\n      <td>0.000000</td>\n      <td>0.000000</td>\n      <td>0.583679</td>\n      <td>0.25</td>\n      <td>0.265625</td>\n    </tr>\n    <tr>\n      <th>...</th>\n      <td>...</td>\n      <td>...</td>\n      <td>...</td>\n      <td>...</td>\n      <td>...</td>\n      <td>...</td>\n      <td>...</td>\n      <td>...</td>\n      <td>...</td>\n      <td>...</td>\n      <td>...</td>\n      <td>...</td>\n      <td>...</td>\n      <td>...</td>\n      <td>...</td>\n      <td>...</td>\n      <td>...</td>\n      <td>...</td>\n      <td>...</td>\n      <td>...</td>\n      <td>...</td>\n    </tr>\n    <tr>\n      <th>388</th>\n      <td>CC(C)C(=O)C</td>\n      <td>0.0</td>\n      <td>0.344828</td>\n      <td>0.426389</td>\n      <td>0.350704</td>\n      <td>0.389112</td>\n      <td>0.529771</td>\n      <td>0.607913</td>\n      <td>0.721905</td>\n      <td>0.674332</td>\n      <td>...</td>\n      <td>0.000000</td>\n      <td>0.000000</td>\n      <td>0.000000</td>\n      <td>0.000000</td>\n      <td>0.000000</td>\n      <td>0.142857</td>\n      <td>0.257143</td>\n      <td>0.637146</td>\n      <td>0.25</td>\n      <td>0.203125</td>\n    </tr>\n    <tr>\n      <th>389</th>\n      <td>C[C@@H]1C[C@@H]1C</td>\n      <td>0.0</td>\n      <td>0.310345</td>\n      <td>0.241667</td>\n      <td>0.067984</td>\n      <td>0.027513</td>\n      <td>0.253369</td>\n      <td>0.315694</td>\n      <td>0.442458</td>\n      <td>0.397063</td>\n      <td>...</td>\n      <td>0.000000</td>\n      <td>0.460837</td>\n      <td>0.125000</td>\n      <td>0.270972</td>\n      <td>0.333333</td>\n      <td>0.000000</td>\n      <td>0.000000</td>\n      <td>0.703875</td>\n      <td>0.25</td>\n      <td>0.406250</td>\n    </tr>\n    <tr>\n      <th>390</th>\n      <td>CCC(C(C)C)(C)C</td>\n      <td>0.0</td>\n      <td>0.689655</td>\n      <td>0.189167</td>\n      <td>0.109973</td>\n      <td>0.054944</td>\n      <td>0.393751</td>\n      <td>0.663873</td>\n      <td>0.462411</td>\n      <td>0.776652</td>\n      <td>...</td>\n      <td>0.290739</td>\n      <td>0.230419</td>\n      <td>0.125000</td>\n      <td>0.677429</td>\n      <td>0.000000</td>\n      <td>0.285714</td>\n      <td>0.367347</td>\n      <td>0.820111</td>\n      <td>0.25</td>\n      <td>0.671875</td>\n    </tr>\n    <tr>\n      <th>391</th>\n      <td>CC(CC(C)C)C</td>\n      <td>0.0</td>\n      <td>0.586207</td>\n      <td>0.138258</td>\n      <td>0.099240</td>\n      <td>0.055962</td>\n      <td>0.206039</td>\n      <td>0.439732</td>\n      <td>0.357965</td>\n      <td>0.587151</td>\n      <td>...</td>\n      <td>0.000000</td>\n      <td>0.460837</td>\n      <td>0.125000</td>\n      <td>0.541943</td>\n      <td>0.000000</td>\n      <td>0.285714</td>\n      <td>0.428571</td>\n      <td>0.703413</td>\n      <td>0.25</td>\n      <td>0.609375</td>\n    </tr>\n    <tr>\n      <th>392</th>\n      <td>CCCC(C)(C)CC</td>\n      <td>0.0</td>\n      <td>0.689655</td>\n      <td>0.165833</td>\n      <td>0.094340</td>\n      <td>0.050891</td>\n      <td>0.301616</td>\n      <td>0.531046</td>\n      <td>0.406521</td>\n      <td>0.664978</td>\n      <td>...</td>\n      <td>0.290739</td>\n      <td>0.000000</td>\n      <td>0.375000</td>\n      <td>0.541943</td>\n      <td>0.000000</td>\n      <td>0.428571</td>\n      <td>0.551020</td>\n      <td>0.727173</td>\n      <td>0.50</td>\n      <td>0.718750</td>\n    </tr>\n  </tbody>\n</table>\n<p>393 rows × 51 columns</p>\n</div>"
     },
     "execution_count": 45,
     "metadata": {},
     "output_type": "execute_result"
    }
   ],
   "source": [
    "x_filtr"
   ],
   "metadata": {
    "collapsed": false,
    "pycharm": {
     "name": "#%%\n"
    }
   }
  },
  {
   "cell_type": "code",
   "execution_count": 46,
   "outputs": [],
   "source": [
    "def svm_objective(trial):\n",
    "\n",
    "    C       = trial.suggest_float('C', 1e-3, 10**3, log=True)\n",
    "    gamma   = trial.suggest_float('gamma',1e-3,1e-1,log=True)\n",
    "    degree  = trial.suggest_int('degree',2,10)\n",
    "    model   = SVR(C=C,gamma=gamma,degree=degree)\n",
    "    score   = cross_val_score(model,x_filtr[x_filtr.columns[1:]],y_train,cv=5,scoring='neg_mean_absolute_error').mean()\n",
    "\n",
    "    return score"
   ],
   "metadata": {
    "collapsed": false,
    "pycharm": {
     "name": "#%%\n"
    }
   }
  },
  {
   "cell_type": "code",
   "execution_count": 47,
   "outputs": [
    {
     "name": "stderr",
     "output_type": "stream",
     "text": [
      "\u001B[32m[I 2022-04-20 13:29:23,912]\u001B[0m A new study created in memory with name: no-name-ce19b07f-7f73-4109-8aaf-717b28bf1962\u001B[0m\n"
     ]
    }
   ],
   "source": [
    "study = optuna.create_study(direction=\"maximize\")"
   ],
   "metadata": {
    "collapsed": false,
    "pycharm": {
     "name": "#%%\n"
    }
   }
  },
  {
   "cell_type": "code",
   "execution_count": 48,
   "outputs": [
    {
     "name": "stderr",
     "output_type": "stream",
     "text": [
      "\u001B[32m[I 2022-04-20 13:29:26,020]\u001B[0m Trial 0 finished with value: -8.237358875803526 and parameters: {'C': 24.570690537579654, 'gamma': 0.06617984555010822, 'degree': 8}. Best is trial 0 with value: -8.237358875803526.\u001B[0m\n",
      "\u001B[32m[I 2022-04-20 13:29:27,104]\u001B[0m Trial 1 finished with value: -14.912295775965069 and parameters: {'C': 1.0862967066931823, 'gamma': 0.001453096566389399, 'degree': 4}. Best is trial 0 with value: -8.237358875803526.\u001B[0m\n",
      "\u001B[32m[I 2022-04-20 13:29:27,960]\u001B[0m Trial 2 finished with value: -11.034952957952438 and parameters: {'C': 2.782467409570572, 'gamma': 0.021621961615253586, 'degree': 9}. Best is trial 0 with value: -8.237358875803526.\u001B[0m\n",
      "\u001B[32m[I 2022-04-20 13:29:28,414]\u001B[0m Trial 3 finished with value: -9.013879431278934 and parameters: {'C': 8.464658322303432, 'gamma': 0.062611906171181, 'degree': 6}. Best is trial 0 with value: -8.237358875803526.\u001B[0m\n",
      "\u001B[32m[I 2022-04-20 13:29:28,694]\u001B[0m Trial 4 finished with value: -12.739998807926995 and parameters: {'C': 4.972290384715701, 'gamma': 0.003703580748476444, 'degree': 9}. Best is trial 0 with value: -8.237358875803526.\u001B[0m\n",
      "\u001B[32m[I 2022-04-20 13:29:29,002]\u001B[0m Trial 5 finished with value: -15.20173484187151 and parameters: {'C': 0.04899932239821815, 'gamma': 0.001480952276362597, 'degree': 10}. Best is trial 0 with value: -8.237358875803526.\u001B[0m\n",
      "\u001B[32m[I 2022-04-20 13:29:29,207]\u001B[0m Trial 6 finished with value: -11.351872093629414 and parameters: {'C': 8.791196064194517, 'gamma': 0.005082710316059929, 'degree': 10}. Best is trial 0 with value: -8.237358875803526.\u001B[0m\n",
      "\u001B[32m[I 2022-04-20 13:29:29,458]\u001B[0m Trial 7 finished with value: -9.995691427399525 and parameters: {'C': 202.05751067256202, 'gamma': 0.001589487409684274, 'degree': 5}. Best is trial 0 with value: -8.237358875803526.\u001B[0m\n",
      "\u001B[32m[I 2022-04-20 13:29:29,650]\u001B[0m Trial 8 finished with value: -15.203187701349313 and parameters: {'C': 0.013928255448684954, 'gamma': 0.004735810102947299, 'degree': 10}. Best is trial 0 with value: -8.237358875803526.\u001B[0m\n",
      "\u001B[32m[I 2022-04-20 13:29:29,818]\u001B[0m Trial 9 finished with value: -13.610447251406253 and parameters: {'C': 0.1488596744221128, 'gamma': 0.09241597279914564, 'degree': 2}. Best is trial 0 with value: -8.237358875803526.\u001B[0m\n",
      "\u001B[32m[I 2022-04-20 13:29:30,165]\u001B[0m Trial 10 finished with value: -7.784255315607966 and parameters: {'C': 246.48384025857024, 'gamma': 0.026549252695290296, 'degree': 7}. Best is trial 10 with value: -7.784255315607966.\u001B[0m\n",
      "\u001B[32m[I 2022-04-20 13:29:30,461]\u001B[0m Trial 11 finished with value: -7.257333280751295 and parameters: {'C': 832.7114620612869, 'gamma': 0.027456338799176767, 'degree': 7}. Best is trial 11 with value: -7.257333280751295.\u001B[0m\n",
      "\u001B[32m[I 2022-04-20 13:29:30,687]\u001B[0m Trial 12 finished with value: -7.467429191969606 and parameters: {'C': 757.2437152935814, 'gamma': 0.019706949496983723, 'degree': 7}. Best is trial 11 with value: -7.257333280751295.\u001B[0m\n",
      "\u001B[32m[I 2022-04-20 13:29:30,854]\u001B[0m Trial 13 finished with value: -7.626303098398073 and parameters: {'C': 736.7306335278485, 'gamma': 0.0168734931801836, 'degree': 7}. Best is trial 11 with value: -7.257333280751295.\u001B[0m\n",
      "\u001B[32m[I 2022-04-20 13:29:31,002]\u001B[0m Trial 14 finished with value: -9.240452643902278 and parameters: {'C': 67.25625999367065, 'gamma': 0.010654592692424655, 'degree': 5}. Best is trial 11 with value: -7.257333280751295.\u001B[0m\n",
      "\u001B[32m[I 2022-04-20 13:29:31,145]\u001B[0m Trial 15 finished with value: -15.207036328884275 and parameters: {'C': 0.0015337192664810957, 'gamma': 0.033663984194131726, 'degree': 7}. Best is trial 11 with value: -7.257333280751295.\u001B[0m\n",
      "\u001B[32m[I 2022-04-20 13:29:31,395]\u001B[0m Trial 16 finished with value: -7.929409115596419 and parameters: {'C': 934.5151411738927, 'gamma': 0.011449638435819696, 'degree': 3}. Best is trial 11 with value: -7.257333280751295.\u001B[0m\n",
      "\u001B[32m[I 2022-04-20 13:29:31,588]\u001B[0m Trial 17 finished with value: -8.061892957249999 and parameters: {'C': 70.58885868380699, 'gamma': 0.04112204848270157, 'degree': 6}. Best is trial 11 with value: -7.257333280751295.\u001B[0m\n",
      "\u001B[32m[I 2022-04-20 13:29:31,749]\u001B[0m Trial 18 finished with value: -14.442529190105507 and parameters: {'C': 0.2862409440087511, 'gamma': 0.015630745113836067, 'degree': 8}. Best is trial 11 with value: -7.257333280751295.\u001B[0m\n",
      "\u001B[32m[I 2022-04-20 13:29:31,887]\u001B[0m Trial 19 finished with value: -9.051771459970817 and parameters: {'C': 206.56560878226742, 'gamma': 0.006955822836867809, 'degree': 5}. Best is trial 11 with value: -7.257333280751295.\u001B[0m\n",
      "\u001B[32m[I 2022-04-20 13:29:31,994]\u001B[0m Trial 20 finished with value: -8.415545642369146 and parameters: {'C': 32.071486480358374, 'gamma': 0.04708815353297364, 'degree': 8}. Best is trial 11 with value: -7.257333280751295.\u001B[0m\n",
      "\u001B[32m[I 2022-04-20 13:29:32,125]\u001B[0m Trial 21 finished with value: -7.4609612199362685 and parameters: {'C': 968.6253172486687, 'gamma': 0.018134310469762126, 'degree': 7}. Best is trial 11 with value: -7.257333280751295.\u001B[0m\n",
      "\u001B[32m[I 2022-04-20 13:29:32,271]\u001B[0m Trial 22 finished with value: -7.30288064942706 and parameters: {'C': 942.6116038469844, 'gamma': 0.02436349020729642, 'degree': 6}. Best is trial 11 with value: -7.257333280751295.\u001B[0m\n",
      "\u001B[32m[I 2022-04-20 13:29:32,429]\u001B[0m Trial 23 finished with value: -7.616042177677532 and parameters: {'C': 318.8399713203776, 'gamma': 0.027221988235560747, 'degree': 6}. Best is trial 11 with value: -7.257333280751295.\u001B[0m\n",
      "\u001B[32m[I 2022-04-20 13:29:32,554]\u001B[0m Trial 24 finished with value: -8.764789583572343 and parameters: {'C': 114.67051338382733, 'gamma': 0.014998634927781479, 'degree': 4}. Best is trial 11 with value: -7.257333280751295.\u001B[0m\n",
      "\u001B[32m[I 2022-04-20 13:29:32,668]\u001B[0m Trial 25 finished with value: -10.20527610524033 and parameters: {'C': 22.448967849434535, 'gamma': 0.00766227213778622, 'degree': 8}. Best is trial 11 with value: -7.257333280751295.\u001B[0m\n",
      "\u001B[32m[I 2022-04-20 13:29:32,801]\u001B[0m Trial 26 finished with value: -7.273599581875172 and parameters: {'C': 440.79090430733936, 'gamma': 0.03357383503983953, 'degree': 6}. Best is trial 11 with value: -7.257333280751295.\u001B[0m\n",
      "\u001B[32m[I 2022-04-20 13:29:32,960]\u001B[0m Trial 27 finished with value: -7.835058929953337 and parameters: {'C': 70.22468973523519, 'gamma': 0.05015202798989702, 'degree': 4}. Best is trial 11 with value: -7.257333280751295.\u001B[0m\n",
      "\u001B[32m[I 2022-04-20 13:29:33,134]\u001B[0m Trial 28 finished with value: -7.306564995201619 and parameters: {'C': 419.3152172021711, 'gamma': 0.03252997090845603, 'degree': 5}. Best is trial 11 with value: -7.257333280751295.\u001B[0m\n",
      "\u001B[32m[I 2022-04-20 13:29:33,291]\u001B[0m Trial 29 finished with value: -7.807990531770196 and parameters: {'C': 24.574865488877826, 'gamma': 0.09673905721495328, 'degree': 6}. Best is trial 11 with value: -7.257333280751295.\u001B[0m\n",
      "\u001B[32m[I 2022-04-20 13:29:33,429]\u001B[0m Trial 30 finished with value: -7.225811734679238 and parameters: {'C': 100.62697451126782, 'gamma': 0.07252481226276786, 'degree': 6}. Best is trial 30 with value: -7.225811734679238.\u001B[0m\n",
      "\u001B[32m[I 2022-04-20 13:29:33,545]\u001B[0m Trial 31 finished with value: -7.379805804606491 and parameters: {'C': 133.8236973208412, 'gamma': 0.0545725797469922, 'degree': 6}. Best is trial 30 with value: -7.225811734679238.\u001B[0m\n",
      "\u001B[32m[I 2022-04-20 13:29:33,694]\u001B[0m Trial 32 finished with value: -6.830894240958713 and parameters: {'C': 401.6013342624373, 'gamma': 0.07631269583818107, 'degree': 5}. Best is trial 32 with value: -6.830894240958713.\u001B[0m\n",
      "\u001B[32m[I 2022-04-20 13:29:33,799]\u001B[0m Trial 33 finished with value: -7.702995928111392 and parameters: {'C': 48.00717631887592, 'gamma': 0.0743638675663563, 'degree': 5}. Best is trial 32 with value: -6.830894240958713.\u001B[0m\n",
      "\u001B[32m[I 2022-04-20 13:29:33,900]\u001B[0m Trial 34 finished with value: -10.802414777582948 and parameters: {'C': 1.17178551793268, 'gamma': 0.07067304395584895, 'degree': 4}. Best is trial 32 with value: -6.830894240958713.\u001B[0m\n",
      "\u001B[32m[I 2022-04-20 13:29:34,003]\u001B[0m Trial 35 finished with value: -9.301619867768409 and parameters: {'C': 12.32155189193854, 'gamma': 0.03637502132598399, 'degree': 3}. Best is trial 32 with value: -6.830894240958713.\u001B[0m\n",
      "\u001B[32m[I 2022-04-20 13:29:34,131]\u001B[0m Trial 36 finished with value: -6.963478655033791 and parameters: {'C': 337.7122316741772, 'gamma': 0.06839222669459152, 'degree': 9}. Best is trial 32 with value: -6.830894240958713.\u001B[0m\n",
      "\u001B[32m[I 2022-04-20 13:29:34,241]\u001B[0m Trial 37 finished with value: -7.197149788793363 and parameters: {'C': 128.99416026632306, 'gamma': 0.06538903572069435, 'degree': 9}. Best is trial 32 with value: -6.830894240958713.\u001B[0m\n",
      "\u001B[32m[I 2022-04-20 13:29:34,361]\u001B[0m Trial 38 finished with value: -9.933826368492063 and parameters: {'C': 2.7711682061809517, 'gamma': 0.07366398229141556, 'degree': 9}. Best is trial 32 with value: -6.830894240958713.\u001B[0m\n",
      "\u001B[32m[I 2022-04-20 13:29:34,526]\u001B[0m Trial 39 finished with value: -9.904489305448378 and parameters: {'C': 3.8922553071722024, 'gamma': 0.05940377473808962, 'degree': 9}. Best is trial 32 with value: -6.830894240958713.\u001B[0m\n",
      "\u001B[32m[I 2022-04-20 13:29:34,736]\u001B[0m Trial 40 finished with value: -6.924851881667665 and parameters: {'C': 130.5564961557296, 'gamma': 0.0967829585683036, 'degree': 9}. Best is trial 32 with value: -6.830894240958713.\u001B[0m\n",
      "\u001B[32m[I 2022-04-20 13:29:34,895]\u001B[0m Trial 41 finished with value: -6.969678515755476 and parameters: {'C': 147.65321326625252, 'gamma': 0.08748553100021685, 'degree': 9}. Best is trial 32 with value: -6.830894240958713.\u001B[0m\n",
      "\u001B[32m[I 2022-04-20 13:29:35,036]\u001B[0m Trial 42 finished with value: -6.886352311802783 and parameters: {'C': 169.88617830717908, 'gamma': 0.09352067409059474, 'degree': 9}. Best is trial 32 with value: -6.830894240958713.\u001B[0m\n",
      "\u001B[32m[I 2022-04-20 13:29:35,180]\u001B[0m Trial 43 finished with value: -6.640095347345614 and parameters: {'C': 339.6469083324183, 'gamma': 0.09582078551012417, 'degree': 10}. Best is trial 43 with value: -6.640095347345614.\u001B[0m\n",
      "\u001B[32m[I 2022-04-20 13:29:35,321]\u001B[0m Trial 44 finished with value: -6.703718356184998 and parameters: {'C': 381.5174939817361, 'gamma': 0.08746092273435556, 'degree': 10}. Best is trial 43 with value: -6.640095347345614.\u001B[0m\n",
      "\u001B[32m[I 2022-04-20 13:29:35,431]\u001B[0m Trial 45 finished with value: -8.19283888617633 and parameters: {'C': 13.782689618686438, 'gamma': 0.0997775910554532, 'degree': 10}. Best is trial 43 with value: -6.640095347345614.\u001B[0m\n",
      "\u001B[32m[I 2022-04-20 13:29:35,554]\u001B[0m Trial 46 finished with value: -7.129141469942354 and parameters: {'C': 395.6094409564668, 'gamma': 0.0444936206739718, 'degree': 10}. Best is trial 43 with value: -6.640095347345614.\u001B[0m\n",
      "\u001B[32m[I 2022-04-20 13:29:35,650]\u001B[0m Trial 47 finished with value: -10.416663393035032 and parameters: {'C': 36.622061289257395, 'gamma': 0.003139311073567891, 'degree': 10}. Best is trial 43 with value: -6.640095347345614.\u001B[0m\n",
      "\u001B[32m[I 2022-04-20 13:29:35,736]\u001B[0m Trial 48 finished with value: -15.07698490110231 and parameters: {'C': 0.012216207353939367, 'gamma': 0.08173687772439417, 'degree': 10}. Best is trial 43 with value: -6.640095347345614.\u001B[0m\n",
      "\u001B[32m[I 2022-04-20 13:29:35,851]\u001B[0m Trial 49 finished with value: -7.092780249093577 and parameters: {'C': 249.78502092495364, 'gamma': 0.05676540273828939, 'degree': 8}. Best is trial 43 with value: -6.640095347345614.\u001B[0m\n",
      "\u001B[32m[I 2022-04-20 13:29:36,000]\u001B[0m Trial 50 finished with value: -9.62979518504662 and parameters: {'C': 561.8274246599218, 'gamma': 0.001005244425854081, 'degree': 9}. Best is trial 43 with value: -6.640095347345614.\u001B[0m\n",
      "\u001B[32m[I 2022-04-20 13:29:36,225]\u001B[0m Trial 51 finished with value: -7.056545344532606 and parameters: {'C': 225.40265416143308, 'gamma': 0.06421968122591447, 'degree': 10}. Best is trial 43 with value: -6.640095347345614.\u001B[0m\n",
      "\u001B[32m[I 2022-04-20 13:29:36,411]\u001B[0m Trial 52 finished with value: -6.772354861844721 and parameters: {'C': 347.3555551914104, 'gamma': 0.0841926626732704, 'degree': 9}. Best is trial 43 with value: -6.640095347345614.\u001B[0m\n",
      "\u001B[32m[I 2022-04-20 13:29:36,535]\u001B[0m Trial 53 finished with value: -7.171882618317935 and parameters: {'C': 61.105393595293435, 'gamma': 0.09924409929250066, 'degree': 9}. Best is trial 43 with value: -6.640095347345614.\u001B[0m\n",
      "\u001B[32m[I 2022-04-20 13:29:36,743]\u001B[0m Trial 54 finished with value: -6.665396340010952 and parameters: {'C': 481.467017817758, 'gamma': 0.08465559202886563, 'degree': 8}. Best is trial 43 with value: -6.640095347345614.\u001B[0m\n",
      "\u001B[32m[I 2022-04-20 13:29:36,961]\u001B[0m Trial 55 finished with value: -6.666288443373025 and parameters: {'C': 541.0429207273527, 'gamma': 0.0814211161831624, 'degree': 8}. Best is trial 43 with value: -6.640095347345614.\u001B[0m\n",
      "\u001B[32m[I 2022-04-20 13:29:37,202]\u001B[0m Trial 56 finished with value: -6.618379070260358 and parameters: {'C': 616.3263903048714, 'gamma': 0.08038093390783639, 'degree': 8}. Best is trial 56 with value: -6.618379070260358.\u001B[0m\n",
      "\u001B[32m[I 2022-04-20 13:29:37,504]\u001B[0m Trial 57 finished with value: -7.105363173152583 and parameters: {'C': 558.5579712126612, 'gamma': 0.041591972574820286, 'degree': 8}. Best is trial 56 with value: -6.618379070260358.\u001B[0m\n",
      "\u001B[32m[I 2022-04-20 13:29:37,793]\u001B[0m Trial 58 finished with value: -7.044546181011303 and parameters: {'C': 626.0893268906925, 'gamma': 0.052625255227606145, 'degree': 8}. Best is trial 56 with value: -6.618379070260358.\u001B[0m\n",
      "\u001B[32m[I 2022-04-20 13:29:38,024]\u001B[0m Trial 59 finished with value: -6.8595466737821456 and parameters: {'C': 254.89200188946077, 'gamma': 0.08427563308824303, 'degree': 8}. Best is trial 56 with value: -6.618379070260358.\u001B[0m\n",
      "\u001B[32m[I 2022-04-20 13:29:38,285]\u001B[0m Trial 60 finished with value: -6.842514853551931 and parameters: {'C': 947.8964591256818, 'gamma': 0.058464671916483246, 'degree': 10}. Best is trial 56 with value: -6.618379070260358.\u001B[0m\n",
      "\u001B[32m[I 2022-04-20 13:29:38,474]\u001B[0m Trial 61 finished with value: -6.797256585805988 and parameters: {'C': 396.8745872897738, 'gamma': 0.07948463997434535, 'degree': 7}. Best is trial 56 with value: -6.618379070260358.\u001B[0m\n",
      "\u001B[32m[I 2022-04-20 13:29:38,682]\u001B[0m Trial 62 finished with value: -7.061135426103432 and parameters: {'C': 559.6282010411179, 'gamma': 0.048946601621081665, 'degree': 7}. Best is trial 56 with value: -6.618379070260358.\u001B[0m\n",
      "\u001B[32m[I 2022-04-20 13:29:38,915]\u001B[0m Trial 63 finished with value: -7.1632145120828925 and parameters: {'C': 85.96250923439214, 'gamma': 0.08324680109559872, 'degree': 7}. Best is trial 56 with value: -6.618379070260358.\u001B[0m\n",
      "\u001B[32m[I 2022-04-20 13:29:39,110]\u001B[0m Trial 64 finished with value: -9.47777195981411 and parameters: {'C': 282.5902780710403, 'gamma': 0.002336866575757358, 'degree': 8}. Best is trial 56 with value: -6.618379070260358.\u001B[0m\n",
      "\u001B[32m[I 2022-04-20 13:29:39,380]\u001B[0m Trial 65 finished with value: -13.261824617481267 and parameters: {'C': 0.25806866667937556, 'gamma': 0.06151400919654983, 'degree': 7}. Best is trial 56 with value: -6.618379070260358.\u001B[0m\n",
      "\u001B[32m[I 2022-04-20 13:29:39,607]\u001B[0m Trial 66 finished with value: -7.462659289556863 and parameters: {'C': 206.31296211187248, 'gamma': 0.03923054436145963, 'degree': 8}. Best is trial 56 with value: -6.618379070260358.\u001B[0m\n",
      "\u001B[32m[I 2022-04-20 13:29:39,848]\u001B[0m Trial 67 finished with value: -6.537612570171639 and parameters: {'C': 686.1429290387778, 'gamma': 0.08131194764658226, 'degree': 8}. Best is trial 67 with value: -6.537612570171639.\u001B[0m\n",
      "\u001B[32m[I 2022-04-20 13:29:40,109]\u001B[0m Trial 68 finished with value: -7.069296038623456 and parameters: {'C': 962.8828446810229, 'gamma': 0.04630460805530421, 'degree': 10}. Best is trial 67 with value: -6.537612570171639.\u001B[0m\n",
      "\u001B[32m[I 2022-04-20 13:29:40,227]\u001B[0m Trial 69 finished with value: -14.493362444297498 and parameters: {'C': 0.06433082608809644, 'gamma': 0.08401847764006848, 'degree': 8}. Best is trial 67 with value: -6.537612570171639.\u001B[0m\n",
      "\u001B[32m[I 2022-04-20 13:29:40,508]\u001B[0m Trial 70 finished with value: -6.776092334479412 and parameters: {'C': 746.0499706189663, 'gamma': 0.06689762992246598, 'degree': 9}. Best is trial 67 with value: -6.537612570171639.\u001B[0m\n",
      "\u001B[32m[I 2022-04-20 13:29:40,812]\u001B[0m Trial 71 finished with value: -6.829504972255078 and parameters: {'C': 691.1537113922274, 'gamma': 0.06555540554761671, 'degree': 9}. Best is trial 67 with value: -6.537612570171639.\u001B[0m\n",
      "\u001B[32m[I 2022-04-20 13:29:41,086]\u001B[0m Trial 72 finished with value: -6.845350420217805 and parameters: {'C': 499.8287921645769, 'gamma': 0.071252537124535, 'degree': 10}. Best is trial 67 with value: -6.537612570171639.\u001B[0m\n",
      "\u001B[32m[I 2022-04-20 13:29:41,232]\u001B[0m Trial 73 finished with value: -7.076058669774929 and parameters: {'C': 326.7926293483181, 'gamma': 0.05367174177708981, 'degree': 9}. Best is trial 67 with value: -6.537612570171639.\u001B[0m\n",
      "\u001B[32m[I 2022-04-20 13:29:41,378]\u001B[0m Trial 74 finished with value: -7.959322741698436 and parameters: {'C': 682.8029950657218, 'gamma': 0.013127033310427458, 'degree': 8}. Best is trial 67 with value: -6.537612570171639.\u001B[0m\n",
      "\u001B[32m[I 2022-04-20 13:29:41,516]\u001B[0m Trial 75 finished with value: -6.91473131049108 and parameters: {'C': 193.7605724626535, 'gamma': 0.08646730965106886, 'degree': 9}. Best is trial 67 with value: -6.537612570171639.\u001B[0m\n",
      "\u001B[32m[I 2022-04-20 13:29:41,631]\u001B[0m Trial 76 finished with value: -7.32643745428048 and parameters: {'C': 83.50941155467521, 'gamma': 0.07408984763678045, 'degree': 10}. Best is trial 67 with value: -6.537612570171639.\u001B[0m\n",
      "\u001B[32m[I 2022-04-20 13:29:41,781]\u001B[0m Trial 77 finished with value: -6.95566459465366 and parameters: {'C': 438.7073118641007, 'gamma': 0.06461456611313592, 'degree': 8}. Best is trial 67 with value: -6.537612570171639.\u001B[0m\n",
      "\u001B[32m[I 2022-04-20 13:29:41,873]\u001B[0m Trial 78 finished with value: -15.162291670232296 and parameters: {'C': 0.004093759010378825, 'gamma': 0.09999562752369864, 'degree': 9}. Best is trial 67 with value: -6.537612570171639.\u001B[0m\n",
      "\u001B[32m[I 2022-04-20 13:29:41,964]\u001B[0m Trial 79 finished with value: -9.673529479024351 and parameters: {'C': 48.701667586826204, 'gamma': 0.008784057655732133, 'degree': 9}. Best is trial 67 with value: -6.537612570171639.\u001B[0m\n",
      "\u001B[32m[I 2022-04-20 13:29:42,108]\u001B[0m Trial 80 finished with value: -6.917884076998734 and parameters: {'C': 172.33415212130268, 'gamma': 0.08861885683071748, 'degree': 10}. Best is trial 67 with value: -6.537612570171639.\u001B[0m\n",
      "\u001B[32m[I 2022-04-20 13:29:42,311]\u001B[0m Trial 81 finished with value: -6.849312847892863 and parameters: {'C': 329.93480507833095, 'gamma': 0.07890312621767652, 'degree': 7}. Best is trial 67 with value: -6.537612570171639.\u001B[0m\n",
      "\u001B[32m[I 2022-04-20 13:29:42,568]\u001B[0m Trial 82 finished with value: -6.536110810723175 and parameters: {'C': 704.197217986515, 'gamma': 0.08081082129301698, 'degree': 7}. Best is trial 82 with value: -6.536110810723175.\u001B[0m\n",
      "\u001B[32m[I 2022-04-20 13:29:42,816]\u001B[0m Trial 83 finished with value: -6.935831076905541 and parameters: {'C': 832.8817216966146, 'gamma': 0.057003645726854874, 'degree': 8}. Best is trial 82 with value: -6.536110810723175.\u001B[0m\n",
      "\u001B[32m[I 2022-04-20 13:29:43,009]\u001B[0m Trial 84 finished with value: -6.742081232652796 and parameters: {'C': 707.9223685108236, 'gamma': 0.07007036883196537, 'degree': 8}. Best is trial 82 with value: -6.536110810723175.\u001B[0m\n",
      "\u001B[32m[I 2022-04-20 13:29:43,129]\u001B[0m Trial 85 finished with value: -7.1234410461959445 and parameters: {'C': 114.40078549333063, 'gamma': 0.0759433877980772, 'degree': 8}. Best is trial 82 with value: -6.536110810723175.\u001B[0m\n",
      "\u001B[32m[I 2022-04-20 13:29:43,270]\u001B[0m Trial 86 finished with value: -6.770833266665332 and parameters: {'C': 280.21616143614557, 'gamma': 0.0894107643620638, 'degree': 7}. Best is trial 82 with value: -6.536110810723175.\u001B[0m\n",
      "\u001B[32m[I 2022-04-20 13:29:43,432]\u001B[0m Trial 87 finished with value: -6.516195685606196 and parameters: {'C': 506.12496842174346, 'gamma': 0.09106826561759987, 'degree': 7}. Best is trial 87 with value: -6.516195685606196.\u001B[0m\n",
      "\u001B[32m[I 2022-04-20 13:29:43,547]\u001B[0m Trial 88 finished with value: -7.517189018389007 and parameters: {'C': 518.5496154654509, 'gamma': 0.02257422942591937, 'degree': 7}. Best is trial 87 with value: -6.516195685606196.\u001B[0m\n",
      "\u001B[32m[I 2022-04-20 13:29:43,706]\u001B[0m Trial 89 finished with value: -7.137999060482985 and parameters: {'C': 175.00945266198164, 'gamma': 0.06111803575093005, 'degree': 6}. Best is trial 87 with value: -6.516195685606196.\u001B[0m\n",
      "\u001B[32m[I 2022-04-20 13:29:43,864]\u001B[0m Trial 90 finished with value: -8.453506420479066 and parameters: {'C': 999.3889878291754, 'gamma': 0.0057052722605816794, 'degree': 7}. Best is trial 87 with value: -6.516195685606196.\u001B[0m\n",
      "\u001B[32m[I 2022-04-20 13:29:44,085]\u001B[0m Trial 91 finished with value: -6.581892874180545 and parameters: {'C': 470.02622982817525, 'gamma': 0.09019793719090174, 'degree': 7}. Best is trial 87 with value: -6.516195685606196.\u001B[0m\n",
      "\u001B[32m[I 2022-04-20 13:29:44,259]\u001B[0m Trial 92 finished with value: -6.505833435371313 and parameters: {'C': 487.9743338461089, 'gamma': 0.09275350192742007, 'degree': 7}. Best is trial 92 with value: -6.505833435371313.\u001B[0m\n",
      "\u001B[32m[I 2022-04-20 13:29:44,426]\u001B[0m Trial 93 finished with value: -6.546790617286599 and parameters: {'C': 466.57517990209163, 'gamma': 0.09213964125973588, 'degree': 7}. Best is trial 92 with value: -6.505833435371313.\u001B[0m\n",
      "\u001B[32m[I 2022-04-20 13:29:44,582]\u001B[0m Trial 94 finished with value: -6.517631695300414 and parameters: {'C': 474.4268521428211, 'gamma': 0.09298827766250323, 'degree': 7}. Best is trial 92 with value: -6.505833435371313.\u001B[0m\n",
      "\u001B[32m[I 2022-04-20 13:29:44,713]\u001B[0m Trial 95 finished with value: -6.726658315097575 and parameters: {'C': 271.8646233920621, 'gamma': 0.0938895036989949, 'degree': 6}. Best is trial 92 with value: -6.505833435371313.\u001B[0m\n",
      "\u001B[32m[I 2022-04-20 13:29:44,895]\u001B[0m Trial 96 finished with value: -6.467085573747757 and parameters: {'C': 526.2210793199771, 'gamma': 0.09243381169943975, 'degree': 7}. Best is trial 96 with value: -6.467085573747757.\u001B[0m\n",
      "\u001B[32m[I 2022-04-20 13:29:45,008]\u001B[0m Trial 97 finished with value: -11.27185419515552 and parameters: {'C': 0.6436780773405594, 'gamma': 0.09910967436026488, 'degree': 7}. Best is trial 96 with value: -6.467085573747757.\u001B[0m\n",
      "\u001B[32m[I 2022-04-20 13:29:45,187]\u001B[0m Trial 98 finished with value: -6.968201825028554 and parameters: {'C': 227.00978551236284, 'gamma': 0.07550495468195662, 'degree': 7}. Best is trial 96 with value: -6.467085573747757.\u001B[0m\n",
      "\u001B[32m[I 2022-04-20 13:29:45,412]\u001B[0m Trial 99 finished with value: -7.059507535307427 and parameters: {'C': 667.2672690672687, 'gamma': 0.050818127443900296, 'degree': 6}. Best is trial 96 with value: -6.467085573747757.\u001B[0m\n",
      "\u001B[32m[I 2022-04-20 13:29:45,571]\u001B[0m Trial 100 finished with value: -7.168662537145283 and parameters: {'C': 125.40644323886995, 'gamma': 0.06830863870211501, 'degree': 6}. Best is trial 96 with value: -6.467085573747757.\u001B[0m\n",
      "\u001B[32m[I 2022-04-20 13:29:45,737]\u001B[0m Trial 101 finished with value: -6.580349909468917 and parameters: {'C': 471.69153952608815, 'gamma': 0.09016336149684279, 'degree': 7}. Best is trial 96 with value: -6.467085573747757.\u001B[0m\n",
      "\u001B[32m[I 2022-04-20 13:29:45,886]\u001B[0m Trial 102 finished with value: -6.6496638465002675 and parameters: {'C': 391.25783072213517, 'gamma': 0.09157614230641768, 'degree': 7}. Best is trial 96 with value: -6.467085573747757.\u001B[0m\n",
      "\u001B[32m[I 2022-04-20 13:29:46,097]\u001B[0m Trial 103 finished with value: -6.722341838938202 and parameters: {'C': 524.7808971084886, 'gamma': 0.07854763035969904, 'degree': 7}. Best is trial 96 with value: -6.467085573747757.\u001B[0m\n",
      "\u001B[32m[I 2022-04-20 13:29:46,295]\u001B[0m Trial 104 finished with value: -6.685023881680839 and parameters: {'C': 322.2552733869942, 'gamma': 0.09316810697166274, 'degree': 7}. Best is trial 96 with value: -6.467085573747757.\u001B[0m\n",
      "\u001B[32m[I 2022-04-20 13:29:46,539]\u001B[0m Trial 105 finished with value: -6.702513617234983 and parameters: {'C': 724.3936529307387, 'gamma': 0.07161471950187522, 'degree': 7}. Best is trial 96 with value: -6.467085573747757.\u001B[0m\n",
      "\u001B[32m[I 2022-04-20 13:29:46,852]\u001B[0m Trial 106 finished with value: -6.6115860094894385 and parameters: {'C': 429.8716758547875, 'gamma': 0.09136329721467915, 'degree': 7}. Best is trial 96 with value: -6.467085573747757.\u001B[0m\n",
      "\u001B[32m[I 2022-04-20 13:29:47,089]\u001B[0m Trial 107 finished with value: -7.193712739081148 and parameters: {'C': 151.86760006406064, 'gamma': 0.06052568401915526, 'degree': 7}. Best is trial 96 with value: -6.467085573747757.\u001B[0m\n",
      "\u001B[32m[I 2022-04-20 13:29:47,342]\u001B[0m Trial 108 finished with value: -6.7806060891354205 and parameters: {'C': 448.4224728482664, 'gamma': 0.0776949676338393, 'degree': 7}. Best is trial 96 with value: -6.467085573747757.\u001B[0m\n",
      "\u001B[32m[I 2022-04-20 13:29:47,551]\u001B[0m Trial 109 finished with value: -6.860580994615421 and parameters: {'C': 235.0223071731416, 'gamma': 0.08633670111232561, 'degree': 6}. Best is trial 96 with value: -6.467085573747757.\u001B[0m\n",
      "\u001B[32m[I 2022-04-20 13:29:47,813]\u001B[0m Trial 110 finished with value: -6.660838347887418 and parameters: {'C': 994.3753515154821, 'gamma': 0.06590846900568341, 'degree': 7}. Best is trial 96 with value: -6.467085573747757.\u001B[0m\n",
      "\u001B[32m[I 2022-04-20 13:29:48,059]\u001B[0m Trial 111 finished with value: -6.388243053066992 and parameters: {'C': 574.0448799650175, 'gamma': 0.09989065367080992, 'degree': 7}. Best is trial 111 with value: -6.388243053066992.\u001B[0m\n",
      "\u001B[32m[I 2022-04-20 13:29:48,440]\u001B[0m Trial 112 finished with value: -6.462255580590987 and parameters: {'C': 609.7460761703655, 'gamma': 0.09130952138819454, 'degree': 7}. Best is trial 111 with value: -6.388243053066992.\u001B[0m\n",
      "\u001B[32m[I 2022-04-20 13:29:48,880]\u001B[0m Trial 113 finished with value: -6.392332268141628 and parameters: {'C': 782.9637268589587, 'gamma': 0.09160068073773338, 'degree': 6}. Best is trial 111 with value: -6.388243053066992.\u001B[0m\n",
      "\u001B[32m[I 2022-04-20 13:29:49,234]\u001B[0m Trial 114 finished with value: -6.325184707877888 and parameters: {'C': 772.8840370405935, 'gamma': 0.09948521850054066, 'degree': 6}. Best is trial 114 with value: -6.325184707877888.\u001B[0m\n",
      "\u001B[32m[I 2022-04-20 13:29:49,568]\u001B[0m Trial 115 finished with value: -6.328008546298949 and parameters: {'C': 784.4225762714457, 'gamma': 0.09876621840193137, 'degree': 6}. Best is trial 114 with value: -6.325184707877888.\u001B[0m\n",
      "\u001B[32m[I 2022-04-20 13:29:49,964]\u001B[0m Trial 116 finished with value: -6.323231805538253 and parameters: {'C': 845.8220805287493, 'gamma': 0.09739198887718051, 'degree': 5}. Best is trial 116 with value: -6.323231805538253.\u001B[0m\n",
      "\u001B[32m[I 2022-04-20 13:29:50,379]\u001B[0m Trial 117 finished with value: -6.316728510455652 and parameters: {'C': 795.592993933026, 'gamma': 0.09963289864242185, 'degree': 5}. Best is trial 117 with value: -6.316728510455652.\u001B[0m\n",
      "\u001B[32m[I 2022-04-20 13:29:50,620]\u001B[0m Trial 118 finished with value: -6.309942775482058 and parameters: {'C': 941.0341560923013, 'gamma': 0.09668548392668658, 'degree': 5}. Best is trial 118 with value: -6.309942775482058.\u001B[0m\n",
      "\u001B[32m[I 2022-04-20 13:29:50,823]\u001B[0m Trial 119 finished with value: -6.557022350104941 and parameters: {'C': 997.119848153901, 'gamma': 0.07266494287222314, 'degree': 5}. Best is trial 118 with value: -6.309942775482058.\u001B[0m\n",
      "\u001B[32m[I 2022-04-20 13:29:51,047]\u001B[0m Trial 120 finished with value: -6.314872456715173 and parameters: {'C': 840.0116051991407, 'gamma': 0.09844879016088662, 'degree': 5}. Best is trial 118 with value: -6.309942775482058.\u001B[0m\n",
      "\u001B[32m[I 2022-04-20 13:29:51,263]\u001B[0m Trial 121 finished with value: -6.312464347696507 and parameters: {'C': 864.4286729476453, 'gamma': 0.09814748161409176, 'degree': 5}. Best is trial 118 with value: -6.309942775482058.\u001B[0m\n",
      "\u001B[32m[I 2022-04-20 13:29:51,541]\u001B[0m Trial 122 finished with value: -6.31459680779175 and parameters: {'C': 799.626869800934, 'gamma': 0.09979384188020315, 'degree': 5}. Best is trial 118 with value: -6.309942775482058.\u001B[0m\n",
      "\u001B[32m[I 2022-04-20 13:29:51,857]\u001B[0m Trial 123 finished with value: -6.323974632097422 and parameters: {'C': 794.7129041569063, 'gamma': 0.09883868227284676, 'degree': 5}. Best is trial 118 with value: -6.309942775482058.\u001B[0m\n",
      "\u001B[32m[I 2022-04-20 13:29:52,092]\u001B[0m Trial 124 finished with value: -6.323043162399449 and parameters: {'C': 797.2170946432324, 'gamma': 0.09886323603749071, 'degree': 5}. Best is trial 118 with value: -6.309942775482058.\u001B[0m\n",
      "\u001B[32m[I 2022-04-20 13:29:52,304]\u001B[0m Trial 125 finished with value: -6.312476021619287 and parameters: {'C': 810.9710856089386, 'gamma': 0.09968379330131961, 'degree': 5}. Best is trial 118 with value: -6.309942775482058.\u001B[0m\n",
      "\u001B[32m[I 2022-04-20 13:29:52,514]\u001B[0m Trial 126 finished with value: -6.327793629423669 and parameters: {'C': 769.2860717154632, 'gamma': 0.09934016181656313, 'degree': 5}. Best is trial 118 with value: -6.309942775482058.\u001B[0m\n",
      "\u001B[32m[I 2022-04-20 13:29:52,764]\u001B[0m Trial 127 finished with value: -6.310947078953499 and parameters: {'C': 901.8329949492238, 'gamma': 0.09754789228919311, 'degree': 5}. Best is trial 118 with value: -6.309942775482058.\u001B[0m\n",
      "\u001B[32m[I 2022-04-20 13:29:53,100]\u001B[0m Trial 128 finished with value: -6.484006110335055 and parameters: {'C': 828.0669395592636, 'gamma': 0.08208614311629674, 'degree': 5}. Best is trial 118 with value: -6.309942775482058.\u001B[0m\n",
      "\u001B[32m[I 2022-04-20 13:29:53,383]\u001B[0m Trial 129 finished with value: -6.50861756536604 and parameters: {'C': 993.6941102631938, 'gamma': 0.07577749468862076, 'degree': 4}. Best is trial 118 with value: -6.309942775482058.\u001B[0m\n",
      "\u001B[32m[I 2022-04-20 13:29:53,592]\u001B[0m Trial 130 finished with value: -6.3333763458848535 and parameters: {'C': 782.8362903679157, 'gamma': 0.09824334439610229, 'degree': 5}. Best is trial 118 with value: -6.309942775482058.\u001B[0m\n",
      "\u001B[32m[I 2022-04-20 13:29:53,822]\u001B[0m Trial 131 finished with value: -6.322430335165618 and parameters: {'C': 798.3769288692368, 'gamma': 0.09889540480431368, 'degree': 5}. Best is trial 118 with value: -6.309942775482058.\u001B[0m\n",
      "\u001B[32m[I 2022-04-20 13:29:54,055]\u001B[0m Trial 132 finished with value: -6.289955828960521 and parameters: {'C': 995.098426928318, 'gamma': 0.09822222742342736, 'degree': 5}. Best is trial 132 with value: -6.289955828960521.\u001B[0m\n",
      "\u001B[32m[I 2022-04-20 13:29:54,203]\u001B[0m Trial 133 finished with value: -6.598200401805977 and parameters: {'C': 332.6286984410986, 'gamma': 0.09992692687270827, 'degree': 5}. Best is trial 132 with value: -6.289955828960521.\u001B[0m\n",
      "\u001B[32m[I 2022-04-20 13:29:54,461]\u001B[0m Trial 134 finished with value: -6.495929988885163 and parameters: {'C': 788.3996978938673, 'gamma': 0.08237236019443657, 'degree': 5}. Best is trial 132 with value: -6.289955828960521.\u001B[0m\n",
      "\u001B[32m[I 2022-04-20 13:29:54,715]\u001B[0m Trial 135 finished with value: -6.500953597849407 and parameters: {'C': 662.2176463647065, 'gamma': 0.08472594825419115, 'degree': 5}. Best is trial 132 with value: -6.289955828960521.\u001B[0m\n",
      "\u001B[32m[I 2022-04-20 13:29:54,873]\u001B[0m Trial 136 finished with value: -7.179333996365952 and parameters: {'C': 983.0379620149623, 'gamma': 0.030213092681147642, 'degree': 4}. Best is trial 132 with value: -6.289955828960521.\u001B[0m\n",
      "\u001B[32m[I 2022-04-20 13:29:55,015]\u001B[0m Trial 137 finished with value: -6.908656433615602 and parameters: {'C': 374.0176813488507, 'gamma': 0.07102518881283963, 'degree': 5}. Best is trial 132 with value: -6.289955828960521.\u001B[0m\n",
      "\u001B[32m[I 2022-04-20 13:29:55,104]\u001B[0m Trial 138 finished with value: -8.971763222157069 and parameters: {'C': 6.886321363342314, 'gamma': 0.0772999568423164, 'degree': 4}. Best is trial 132 with value: -6.289955828960521.\u001B[0m\n",
      "\u001B[32m[I 2022-04-20 13:29:55,291]\u001B[0m Trial 139 finished with value: -6.503483631344643 and parameters: {'C': 632.8933187900562, 'gamma': 0.08550263749396007, 'degree': 5}. Best is trial 132 with value: -6.289955828960521.\u001B[0m\n",
      "\u001B[32m[I 2022-04-20 13:29:55,597]\u001B[0m Trial 140 finished with value: -6.2791555539680575 and parameters: {'C': 982.4994846260211, 'gamma': 0.09995278825013995, 'degree': 5}. Best is trial 140 with value: -6.2791555539680575.\u001B[0m\n",
      "\u001B[32m[I 2022-04-20 13:29:56,024]\u001B[0m Trial 141 finished with value: -6.338243078112346 and parameters: {'C': 734.8889805849262, 'gamma': 0.09922868329417635, 'degree': 5}. Best is trial 140 with value: -6.2791555539680575.\u001B[0m\n",
      "\u001B[32m[I 2022-04-20 13:29:56,533]\u001B[0m Trial 142 finished with value: -6.294353766284613 and parameters: {'C': 897.3229881567258, 'gamma': 0.09988703313937837, 'degree': 5}. Best is trial 140 with value: -6.2791555539680575.\u001B[0m\n",
      "\u001B[32m[I 2022-04-20 13:29:56,888]\u001B[0m Trial 143 finished with value: -6.427578339097023 and parameters: {'C': 954.2993280532696, 'gamma': 0.08355204444114954, 'degree': 5}. Best is trial 140 with value: -6.2791555539680575.\u001B[0m\n",
      "\u001B[32m[I 2022-04-20 13:29:57,197]\u001B[0m Trial 144 finished with value: -6.279542565323285 and parameters: {'C': 980.6442487669473, 'gamma': 0.0998885761582133, 'degree': 5}. Best is trial 140 with value: -6.2791555539680575.\u001B[0m\n",
      "\u001B[32m[I 2022-04-20 13:29:57,539]\u001B[0m Trial 145 finished with value: -6.498951969312364 and parameters: {'C': 978.7028916452144, 'gamma': 0.07680607336789723, 'degree': 5}. Best is trial 140 with value: -6.2791555539680575.\u001B[0m\n",
      "\u001B[32m[I 2022-04-20 13:29:58,003]\u001B[0m Trial 146 finished with value: -6.553846583665845 and parameters: {'C': 574.1719333559387, 'gamma': 0.08552330466090068, 'degree': 5}. Best is trial 140 with value: -6.2791555539680575.\u001B[0m\n",
      "\u001B[32m[I 2022-04-20 13:29:58,278]\u001B[0m Trial 147 finished with value: -6.958524821436223 and parameters: {'C': 359.4824515386676, 'gamma': 0.06756649729235147, 'degree': 4}. Best is trial 140 with value: -6.2791555539680575.\u001B[0m\n",
      "\u001B[32m[I 2022-04-20 13:29:58,491]\u001B[0m Trial 148 finished with value: -6.516446401783621 and parameters: {'C': 607.8221857582024, 'gamma': 0.0856674542661499, 'degree': 5}. Best is trial 140 with value: -6.2791555539680575.\u001B[0m\n",
      "\u001B[32m[I 2022-04-20 13:29:58,695]\u001B[0m Trial 149 finished with value: -6.906076172015479 and parameters: {'C': 306.6670414541053, 'gamma': 0.07564683493947957, 'degree': 5}. Best is trial 140 with value: -6.2791555539680575.\u001B[0m\n",
      "\u001B[32m[I 2022-04-20 13:29:58,943]\u001B[0m Trial 150 finished with value: -6.383434849484033 and parameters: {'C': 582.9874832590925, 'gamma': 0.09984533988900053, 'degree': 5}. Best is trial 140 with value: -6.2791555539680575.\u001B[0m\n",
      "\u001B[32m[I 2022-04-20 13:29:59,243]\u001B[0m Trial 151 finished with value: -6.44789911371412 and parameters: {'C': 748.860517523251, 'gamma': 0.08740245062433867, 'degree': 5}. Best is trial 140 with value: -6.2791555539680575.\u001B[0m\n",
      "\u001B[32m[I 2022-04-20 13:29:59,696]\u001B[0m Trial 152 finished with value: -6.362735865861087 and parameters: {'C': 987.4953440663253, 'gamma': 0.08901981951103882, 'degree': 5}. Best is trial 140 with value: -6.2791555539680575.\u001B[0m\n",
      "\u001B[32m[I 2022-04-20 13:29:59,883]\u001B[0m Trial 153 finished with value: -6.623657998113492 and parameters: {'C': 624.9716344883486, 'gamma': 0.07974601453535626, 'degree': 5}. Best is trial 140 with value: -6.2791555539680575.\u001B[0m\n",
      "\u001B[32m[I 2022-04-20 13:29:59,981]\u001B[0m Trial 154 finished with value: -9.221820296443727 and parameters: {'C': 408.69414954451025, 'gamma': 0.003056925982755356, 'degree': 4}. Best is trial 140 with value: -6.2791555539680575.\u001B[0m\n",
      "\u001B[32m[I 2022-04-20 13:30:00,222]\u001B[0m Trial 155 finished with value: -6.279658091630124 and parameters: {'C': 989.0838246660019, 'gamma': 0.09981346602277763, 'degree': 5}. Best is trial 140 with value: -6.2791555539680575.\u001B[0m\n",
      "\u001B[32m[I 2022-04-20 13:30:00,311]\u001B[0m Trial 156 finished with value: -14.740448764631248 and parameters: {'C': 0.04619490710253062, 'gamma': 0.07078712578489568, 'degree': 5}. Best is trial 140 with value: -6.2791555539680575.\u001B[0m\n",
      "\u001B[32m[I 2022-04-20 13:30:00,539]\u001B[0m Trial 157 finished with value: -6.354678319719333 and parameters: {'C': 995.7182684449745, 'gamma': 0.08974519545163644, 'degree': 5}. Best is trial 140 with value: -6.2791555539680575.\u001B[0m\n",
      "\u001B[32m[I 2022-04-20 13:30:00,732]\u001B[0m Trial 158 finished with value: -6.389939389421104 and parameters: {'C': 571.3763949005393, 'gamma': 0.09988409797467142, 'degree': 5}. Best is trial 140 with value: -6.2791555539680575.\u001B[0m\n",
      "\u001B[32m[I 2022-04-20 13:30:00,859]\u001B[0m Trial 159 finished with value: -10.316794596566586 and parameters: {'C': 1.57812678105531, 'gamma': 0.08083631636382894, 'degree': 5}. Best is trial 140 with value: -6.2791555539680575.\u001B[0m\n",
      "\u001B[32m[I 2022-04-20 13:30:01,140]\u001B[0m Trial 160 finished with value: -6.4063862041689585 and parameters: {'C': 776.5605279797794, 'gamma': 0.09051281818394995, 'degree': 4}. Best is trial 140 with value: -6.2791555539680575.\u001B[0m\n",
      "\u001B[32m[I 2022-04-20 13:30:01,376]\u001B[0m Trial 161 finished with value: -6.332634493386285 and parameters: {'C': 745.5485980634096, 'gamma': 0.09963457349350828, 'degree': 5}. Best is trial 140 with value: -6.2791555539680575.\u001B[0m\n",
      "\u001B[32m[I 2022-04-20 13:30:01,544]\u001B[0m Trial 162 finished with value: -6.479234304094786 and parameters: {'C': 412.3226379382703, 'gamma': 0.09990514336287377, 'degree': 5}. Best is trial 140 with value: -6.2791555539680575.\u001B[0m\n",
      "\u001B[32m[I 2022-04-20 13:30:01,762]\u001B[0m Trial 163 finished with value: -6.406397660969459 and parameters: {'C': 995.3952631096065, 'gamma': 0.08420325949011777, 'degree': 5}. Best is trial 140 with value: -6.2791555539680575.\u001B[0m\n",
      "\u001B[32m[I 2022-04-20 13:30:01,935]\u001B[0m Trial 164 finished with value: -6.458671481552152 and parameters: {'C': 622.5826611884212, 'gamma': 0.0910933265341101, 'degree': 5}. Best is trial 140 with value: -6.2791555539680575.\u001B[0m\n",
      "\u001B[32m[I 2022-04-20 13:30:02,158]\u001B[0m Trial 165 finished with value: -6.522637903841527 and parameters: {'C': 771.6421421635098, 'gamma': 0.08039222708685505, 'degree': 5}. Best is trial 140 with value: -6.2791555539680575.\u001B[0m\n",
      "\u001B[32m[I 2022-04-20 13:30:02,438]\u001B[0m Trial 166 finished with value: -6.418161722720564 and parameters: {'C': 486.202470442758, 'gamma': 0.09987966508152939, 'degree': 4}. Best is trial 140 with value: -6.2791555539680575.\u001B[0m\n",
      "\u001B[32m[I 2022-04-20 13:30:02,595]\u001B[0m Trial 167 finished with value: -8.07816796080144 and parameters: {'C': 262.17971412728167, 'gamma': 0.019065905318847744, 'degree': 5}. Best is trial 140 with value: -6.2791555539680575.\u001B[0m\n",
      "\u001B[32m[I 2022-04-20 13:30:02,717]\u001B[0m Trial 168 finished with value: -15.200448470824393 and parameters: {'C': 0.0014280330695995705, 'gamma': 0.07452806694715117, 'degree': 5}. Best is trial 140 with value: -6.2791555539680575.\u001B[0m\n",
      "\u001B[32m[I 2022-04-20 13:30:02,930]\u001B[0m Trial 169 finished with value: -6.427520426042955 and parameters: {'C': 800.4650855850576, 'gamma': 0.08752307085313463, 'degree': 6}. Best is trial 140 with value: -6.2791555539680575.\u001B[0m\n",
      "\u001B[32m[I 2022-04-20 13:30:03,129]\u001B[0m Trial 170 finished with value: -6.46362616338123 and parameters: {'C': 556.0762622904862, 'gamma': 0.09177537842081485, 'degree': 5}. Best is trial 140 with value: -6.2791555539680575.\u001B[0m\n",
      "\u001B[32m[I 2022-04-20 13:30:03,474]\u001B[0m Trial 171 finished with value: -6.3301917680262285 and parameters: {'C': 766.614231398077, 'gamma': 0.09917003044151627, 'degree': 5}. Best is trial 140 with value: -6.2791555539680575.\u001B[0m\n",
      "\u001B[32m[I 2022-04-20 13:30:03,813]\u001B[0m Trial 172 finished with value: -6.408008001907476 and parameters: {'C': 770.4122931431627, 'gamma': 0.0905475721000271, 'degree': 5}. Best is trial 140 with value: -6.2791555539680575.\u001B[0m\n",
      "\u001B[32m[I 2022-04-20 13:30:04,051]\u001B[0m Trial 173 finished with value: -6.722174463515256 and parameters: {'C': 446.78803450510554, 'gamma': 0.08246382516337386, 'degree': 5}. Best is trial 140 with value: -6.2791555539680575.\u001B[0m\n",
      "\u001B[32m[I 2022-04-20 13:30:04,223]\u001B[0m Trial 174 finished with value: -9.149813555030274 and parameters: {'C': 981.6617354415346, 'gamma': 0.0017967171865428742, 'degree': 5}. Best is trial 140 with value: -6.2791555539680575.\u001B[0m\n",
      "\u001B[32m[I 2022-04-20 13:30:04,442]\u001B[0m Trial 175 finished with value: -6.367424152389945 and parameters: {'C': 642.1123424726837, 'gamma': 0.09949162328942339, 'degree': 6}. Best is trial 140 with value: -6.2791555539680575.\u001B[0m\n",
      "\u001B[32m[I 2022-04-20 13:30:04,591]\u001B[0m Trial 176 finished with value: -6.621178342079638 and parameters: {'C': 402.79375175509716, 'gamma': 0.09271922842718484, 'degree': 5}. Best is trial 140 with value: -6.2791555539680575.\u001B[0m\n",
      "\u001B[32m[I 2022-04-20 13:30:04,784]\u001B[0m Trial 177 finished with value: -6.703562171735197 and parameters: {'C': 583.963569116584, 'gamma': 0.07711548199658531, 'degree': 5}. Best is trial 140 with value: -6.2791555539680575.\u001B[0m\n",
      "\u001B[32m[I 2022-04-20 13:30:05,028]\u001B[0m Trial 178 finished with value: -6.4735858247206455 and parameters: {'C': 766.3134277521442, 'gamma': 0.08484126451667291, 'degree': 4}. Best is trial 140 with value: -6.2791555539680575.\u001B[0m\n",
      "\u001B[32m[I 2022-04-20 13:30:05,312]\u001B[0m Trial 179 finished with value: -6.463950528203929 and parameters: {'C': 543.6182631582839, 'gamma': 0.09197563630893325, 'degree': 5}. Best is trial 140 with value: -6.2791555539680575.\u001B[0m\n",
      "\u001B[32m[I 2022-04-20 13:30:05,752]\u001B[0m Trial 180 finished with value: -6.280971765146202 and parameters: {'C': 982.7583123599294, 'gamma': 0.09959927856725646, 'degree': 5}. Best is trial 140 with value: -6.2791555539680575.\u001B[0m\n",
      "\u001B[32m[I 2022-04-20 13:30:06,130]\u001B[0m Trial 181 finished with value: -6.282549516000991 and parameters: {'C': 972.7267094669628, 'gamma': 0.09959399007215883, 'degree': 5}. Best is trial 140 with value: -6.2791555539680575.\u001B[0m\n",
      "\u001B[32m[I 2022-04-20 13:30:06,573]\u001B[0m Trial 182 finished with value: -6.342671786133701 and parameters: {'C': 969.768427665494, 'gamma': 0.09170396960923673, 'degree': 5}. Best is trial 140 with value: -6.2791555539680575.\u001B[0m\n",
      "\u001B[32m[I 2022-04-20 13:30:06,978]\u001B[0m Trial 183 finished with value: -6.51551425741972 and parameters: {'C': 763.5831730519074, 'gamma': 0.08138890709709419, 'degree': 5}. Best is trial 140 with value: -6.2791555539680575.\u001B[0m\n",
      "\u001B[32m[I 2022-04-20 13:30:07,510]\u001B[0m Trial 184 finished with value: -6.282811609719353 and parameters: {'C': 996.4899629153216, 'gamma': 0.09915676783115979, 'degree': 5}. Best is trial 140 with value: -6.2791555539680575.\u001B[0m\n",
      "\u001B[32m[I 2022-04-20 13:30:07,977]\u001B[0m Trial 185 finished with value: -6.381519716307279 and parameters: {'C': 973.3392619911799, 'gamma': 0.08710366583362551, 'degree': 5}. Best is trial 140 with value: -6.2791555539680575.\u001B[0m\n",
      "\u001B[32m[I 2022-04-20 13:30:08,279]\u001B[0m Trial 186 finished with value: -6.74391579591641 and parameters: {'C': 596.5381249364177, 'gamma': 0.07411844471379202, 'degree': 5}. Best is trial 140 with value: -6.2791555539680575.\u001B[0m\n",
      "\u001B[32m[I 2022-04-20 13:30:08,605]\u001B[0m Trial 187 finished with value: -6.547193258676428 and parameters: {'C': 485.5576128355755, 'gamma': 0.09079454161789778, 'degree': 5}. Best is trial 140 with value: -6.2791555539680575.\u001B[0m\n",
      "\u001B[32m[I 2022-04-20 13:30:09,137]\u001B[0m Trial 188 finished with value: -6.369827437896218 and parameters: {'C': 642.8992110677395, 'gamma': 0.09917922616817858, 'degree': 5}. Best is trial 140 with value: -6.2791555539680575.\u001B[0m\n",
      "\u001B[32m[I 2022-04-20 13:30:09,493]\u001B[0m Trial 189 finished with value: -6.433232125481288 and parameters: {'C': 985.3494124718263, 'gamma': 0.08229304578037591, 'degree': 5}. Best is trial 140 with value: -6.2791555539680575.\u001B[0m\n",
      "\u001B[32m[I 2022-04-20 13:30:09,659]\u001B[0m Trial 190 finished with value: -6.956837399299514 and parameters: {'C': 346.196220037901, 'gamma': 0.06836247437066324, 'degree': 4}. Best is trial 140 with value: -6.2791555539680575.\u001B[0m\n",
      "\u001B[32m[I 2022-04-20 13:30:09,922]\u001B[0m Trial 191 finished with value: -6.327123129404119 and parameters: {'C': 995.6634720559138, 'gamma': 0.0930685504747539, 'degree': 5}. Best is trial 140 with value: -6.2791555539680575.\u001B[0m\n",
      "\u001B[32m[I 2022-04-20 13:30:10,144]\u001B[0m Trial 192 finished with value: -6.351035526459744 and parameters: {'C': 692.1046985682841, 'gamma': 0.09920002719863824, 'degree': 5}. Best is trial 140 with value: -6.2791555539680575.\u001B[0m\n",
      "\u001B[32m[I 2022-04-20 13:30:10,466]\u001B[0m Trial 193 finished with value: -6.331508190558727 and parameters: {'C': 744.7120713026729, 'gamma': 0.09978843723915701, 'degree': 5}. Best is trial 140 with value: -6.2791555539680575.\u001B[0m\n",
      "\u001B[32m[I 2022-04-20 13:30:10,670]\u001B[0m Trial 194 finished with value: -6.62810642338152 and parameters: {'C': 502.0411531840492, 'gamma': 0.0857617880410397, 'degree': 5}. Best is trial 140 with value: -6.2791555539680575.\u001B[0m\n",
      "\u001B[32m[I 2022-04-20 13:30:10,909]\u001B[0m Trial 195 finished with value: -6.349355975188495 and parameters: {'C': 987.0204727400413, 'gamma': 0.09055326226143592, 'degree': 6}. Best is trial 140 with value: -6.2791555539680575.\u001B[0m\n",
      "\u001B[32m[I 2022-04-20 13:30:11,104]\u001B[0m Trial 196 finished with value: -6.5411837826898225 and parameters: {'C': 750.6397304084336, 'gamma': 0.07913751501084981, 'degree': 5}. Best is trial 140 with value: -6.2791555539680575.\u001B[0m\n",
      "\u001B[32m[I 2022-04-20 13:30:11,295]\u001B[0m Trial 197 finished with value: -6.374267611459729 and parameters: {'C': 616.5485636552481, 'gamma': 0.09938556764957415, 'degree': 5}. Best is trial 140 with value: -6.2791555539680575.\u001B[0m\n",
      "\u001B[32m[I 2022-04-20 13:30:11,454]\u001B[0m Trial 198 finished with value: -6.709219574930297 and parameters: {'C': 413.81857569416985, 'gamma': 0.08532720652790204, 'degree': 5}. Best is trial 140 with value: -6.2791555539680575.\u001B[0m\n",
      "\u001B[32m[I 2022-04-20 13:30:11,577]\u001B[0m Trial 199 finished with value: -8.090812643176085 and parameters: {'C': 16.14038346533012, 'gamma': 0.09993508455557348, 'degree': 5}. Best is trial 140 with value: -6.2791555539680575.\u001B[0m\n",
      "\u001B[32m[I 2022-04-20 13:30:11,841]\u001B[0m Trial 200 finished with value: -6.425655831128755 and parameters: {'C': 770.1303700531884, 'gamma': 0.08855747130460474, 'degree': 4}. Best is trial 140 with value: -6.2791555539680575.\u001B[0m\n",
      "\u001B[32m[I 2022-04-20 13:30:12,160]\u001B[0m Trial 201 finished with value: -6.351776594977719 and parameters: {'C': 973.594235557075, 'gamma': 0.09056951377061793, 'degree': 5}. Best is trial 140 with value: -6.2791555539680575.\u001B[0m\n",
      "\u001B[32m[I 2022-04-20 13:30:12,382]\u001B[0m Trial 202 finished with value: -6.388847317948003 and parameters: {'C': 801.3535861770687, 'gamma': 0.0913735475128221, 'degree': 5}. Best is trial 140 with value: -6.2791555539680575.\u001B[0m\n",
      "\u001B[32m[I 2022-04-20 13:30:12,567]\u001B[0m Trial 203 finished with value: -6.4595046788038015 and parameters: {'C': 580.5266809029724, 'gamma': 0.0922901650913624, 'degree': 5}. Best is trial 140 with value: -6.2791555539680575.\u001B[0m\n",
      "\u001B[32m[I 2022-04-20 13:30:12,806]\u001B[0m Trial 204 finished with value: -6.280266044964806 and parameters: {'C': 985.649287373795, 'gamma': 0.09971577576914281, 'degree': 5}. Best is trial 140 with value: -6.2791555539680575.\u001B[0m\n",
      "\u001B[32m[I 2022-04-20 13:30:13,076]\u001B[0m Trial 205 finished with value: -6.325499851729015 and parameters: {'C': 758.7072060289812, 'gamma': 0.09997957353103114, 'degree': 2}. Best is trial 140 with value: -6.2791555539680575.\u001B[0m\n",
      "\u001B[32m[I 2022-04-20 13:30:13,323]\u001B[0m Trial 206 finished with value: -6.670984115408677 and parameters: {'C': 586.0654430828604, 'gamma': 0.07896346507152303, 'degree': 6}. Best is trial 140 with value: -6.2791555539680575.\u001B[0m\n",
      "\u001B[32m[I 2022-04-20 13:30:13,689]\u001B[0m Trial 207 finished with value: -6.42169202878471 and parameters: {'C': 982.1446761202697, 'gamma': 0.08339811419550487, 'degree': 5}. Best is trial 140 with value: -6.2791555539680575.\u001B[0m\n",
      "\u001B[32m[I 2022-04-20 13:30:13,903]\u001B[0m Trial 208 finished with value: -6.419044604407489 and parameters: {'C': 492.9524685301169, 'gamma': 0.09963178214014563, 'degree': 5}. Best is trial 140 with value: -6.2791555539680575.\u001B[0m\n",
      "\u001B[32m[I 2022-04-20 13:30:14,103]\u001B[0m Trial 209 finished with value: -6.67889912768713 and parameters: {'C': 714.8042635523482, 'gamma': 0.07329477848715729, 'degree': 5}. Best is trial 140 with value: -6.2791555539680575.\u001B[0m\n",
      "\u001B[32m[I 2022-04-20 13:30:14,358]\u001B[0m Trial 210 finished with value: -6.4616851249424965 and parameters: {'C': 799.8065785100907, 'gamma': 0.08454888913374298, 'degree': 5}. Best is trial 140 with value: -6.2791555539680575.\u001B[0m\n",
      "\u001B[32m[I 2022-04-20 13:30:14,639]\u001B[0m Trial 211 finished with value: -6.3338965690927616 and parameters: {'C': 744.1648179199129, 'gamma': 0.09953868281690398, 'degree': 3}. Best is trial 140 with value: -6.2791555539680575.\u001B[0m\n",
      "\u001B[32m[I 2022-04-20 13:30:15,210]\u001B[0m Trial 212 finished with value: -6.3404306834864315 and parameters: {'C': 990.3911103027415, 'gamma': 0.0914823866294458, 'degree': 3}. Best is trial 140 with value: -6.2791555539680575.\u001B[0m\n",
      "\u001B[32m[I 2022-04-20 13:30:15,526]\u001B[0m Trial 213 finished with value: -6.372762064817015 and parameters: {'C': 616.9946859313388, 'gamma': 0.09957610433836792, 'degree': 2}. Best is trial 140 with value: -6.2791555539680575.\u001B[0m\n",
      "\u001B[32m[I 2022-04-20 13:30:15,833]\u001B[0m Trial 214 finished with value: -6.403147796792895 and parameters: {'C': 767.602835183325, 'gamma': 0.09111629461489452, 'degree': 5}. Best is trial 140 with value: -6.2791555539680575.\u001B[0m\n",
      "\u001B[32m[I 2022-04-20 13:30:16,070]\u001B[0m Trial 215 finished with value: -6.652816547563056 and parameters: {'C': 481.92213743319707, 'gamma': 0.0854274662784439, 'degree': 5}. Best is trial 140 with value: -6.2791555539680575.\u001B[0m\n",
      "\u001B[32m[I 2022-04-20 13:30:16,403]\u001B[0m Trial 216 finished with value: -6.452977361847919 and parameters: {'C': 634.4510510042484, 'gamma': 0.09119534614703051, 'degree': 5}. Best is trial 140 with value: -6.2791555539680575.\u001B[0m\n",
      "\u001B[32m[I 2022-04-20 13:30:16,870]\u001B[0m Trial 217 finished with value: -6.280391073252291 and parameters: {'C': 987.8574149504663, 'gamma': 0.0996782352999624, 'degree': 5}. Best is trial 140 with value: -6.2791555539680575.\u001B[0m\n",
      "\u001B[32m[I 2022-04-20 13:30:17,246]\u001B[0m Trial 218 finished with value: -6.461502522431632 and parameters: {'C': 994.9586195644647, 'gamma': 0.07930204134934439, 'degree': 5}. Best is trial 140 with value: -6.2791555539680575.\u001B[0m\n",
      "\u001B[32m[I 2022-04-20 13:30:17,453]\u001B[0m Trial 219 finished with value: -6.619662406771106 and parameters: {'C': 421.49621058566305, 'gamma': 0.09139624215162274, 'degree': 5}. Best is trial 140 with value: -6.2791555539680575.\u001B[0m\n",
      "\u001B[32m[I 2022-04-20 13:30:17,596]\u001B[0m Trial 220 finished with value: -9.530404867234298 and parameters: {'C': 610.7220667504864, 'gamma': 0.0010587763003106238, 'degree': 5}. Best is trial 140 with value: -6.2791555539680575.\u001B[0m\n",
      "\u001B[32m[I 2022-04-20 13:30:18,141]\u001B[0m Trial 221 finished with value: -6.283066273866593 and parameters: {'C': 993.9894739607606, 'gamma': 0.09912043256216192, 'degree': 2}. Best is trial 140 with value: -6.2791555539680575.\u001B[0m\n",
      "\u001B[32m[I 2022-04-20 13:30:18,460]\u001B[0m Trial 222 finished with value: -7.8885169623389215 and parameters: {'C': 979.9928609052315, 'gamma': 0.011562385051763914, 'degree': 5}. Best is trial 140 with value: -6.2791555539680575.\u001B[0m\n",
      "\u001B[32m[I 2022-04-20 13:30:18,760]\u001B[0m Trial 223 finished with value: -6.31325865358742 and parameters: {'C': 804.027237179583, 'gamma': 0.09983264736115013, 'degree': 5}. Best is trial 140 with value: -6.2791555539680575.\u001B[0m\n",
      "\u001B[32m[I 2022-04-20 13:30:19,081]\u001B[0m Trial 224 finished with value: -6.4395318983218655 and parameters: {'C': 807.7245001473559, 'gamma': 0.08606564440632, 'degree': 5}. Best is trial 140 with value: -6.2791555539680575.\u001B[0m\n",
      "\u001B[32m[I 2022-04-20 13:30:19,374]\u001B[0m Trial 225 finished with value: -6.341730644046729 and parameters: {'C': 989.2065989378161, 'gamma': 0.09135466209217283, 'degree': 5}. Best is trial 140 with value: -6.2791555539680575.\u001B[0m\n",
      "\u001B[32m[I 2022-04-20 13:30:19,672]\u001B[0m Trial 226 finished with value: -6.425622272173659 and parameters: {'C': 645.0512143242308, 'gamma': 0.09319768830456365, 'degree': 5}. Best is trial 140 with value: -6.2791555539680575.\u001B[0m\n",
      "\u001B[32m[I 2022-04-20 13:30:19,990]\u001B[0m Trial 227 finished with value: -6.322733103194702 and parameters: {'C': 768.4179342849859, 'gamma': 0.09991242044064673, 'degree': 5}. Best is trial 140 with value: -6.2791555539680575.\u001B[0m\n",
      "\u001B[32m[I 2022-04-20 13:30:20,165]\u001B[0m Trial 228 finished with value: -6.416886237581316 and parameters: {'C': 511.7543527015612, 'gamma': 0.09985633209070924, 'degree': 5}. Best is trial 140 with value: -6.2791555539680575.\u001B[0m\n",
      "\u001B[32m[I 2022-04-20 13:30:20,373]\u001B[0m Trial 229 finished with value: -6.507809789233924 and parameters: {'C': 771.910414203473, 'gamma': 0.0818220603920681, 'degree': 5}. Best is trial 140 with value: -6.2791555539680575.\u001B[0m\n",
      "\u001B[32m[I 2022-04-20 13:30:20,492]\u001B[0m Trial 230 finished with value: -8.562102955974755 and parameters: {'C': 580.6304918412993, 'gamma': 0.006876127713033583, 'degree': 5}. Best is trial 140 with value: -6.2791555539680575.\u001B[0m\n",
      "\u001B[32m[I 2022-04-20 13:30:20,704]\u001B[0m Trial 231 finished with value: -6.371900581190603 and parameters: {'C': 795.1348631499301, 'gamma': 0.09329689776905936, 'degree': 5}. Best is trial 140 with value: -6.2791555539680575.\u001B[0m\n",
      "\u001B[32m[I 2022-04-20 13:30:20,797]\u001B[0m Trial 232 finished with value: -15.17148589930903 and parameters: {'C': 0.003402973034914687, 'gamma': 0.09939548897710487, 'degree': 5}. Best is trial 140 with value: -6.2791555539680575.\u001B[0m\n",
      "\u001B[32m[I 2022-04-20 13:30:21,059]\u001B[0m Trial 233 finished with value: -6.458817641444976 and parameters: {'C': 760.5493126930146, 'gamma': 0.08619897714711434, 'degree': 5}. Best is trial 140 with value: -6.2791555539680575.\u001B[0m\n",
      "\u001B[32m[I 2022-04-20 13:30:21,236]\u001B[0m Trial 234 finished with value: -8.664062426819902 and parameters: {'C': 981.4785541010837, 'gamma': 0.004366858000041905, 'degree': 5}. Best is trial 140 with value: -6.2791555539680575.\u001B[0m\n",
      "\u001B[32m[I 2022-04-20 13:30:21,473]\u001B[0m Trial 235 finished with value: -6.370282944467514 and parameters: {'C': 623.9905811421669, 'gamma': 0.09968421571690964, 'degree': 5}. Best is trial 140 with value: -6.2791555539680575.\u001B[0m\n",
      "\u001B[32m[I 2022-04-20 13:30:21,726]\u001B[0m Trial 236 finished with value: -6.315332595927004 and parameters: {'C': 789.4182668752729, 'gamma': 0.09999378808428051, 'degree': 5}. Best is trial 140 with value: -6.2791555539680575.\u001B[0m\n",
      "\u001B[32m[I 2022-04-20 13:30:21,955]\u001B[0m Trial 237 finished with value: -6.389883375243862 and parameters: {'C': 962.0576621472334, 'gamma': 0.08646728117637933, 'degree': 5}. Best is trial 140 with value: -6.2791555539680575.\u001B[0m\n",
      "\u001B[32m[I 2022-04-20 13:30:22,199]\u001B[0m Trial 238 finished with value: -6.332760672048087 and parameters: {'C': 992.8850196060937, 'gamma': 0.09236681771346972, 'degree': 5}. Best is trial 140 with value: -6.2791555539680575.\u001B[0m\n",
      "\u001B[32m[I 2022-04-20 13:30:22,356]\u001B[0m Trial 239 finished with value: -6.739010596589021 and parameters: {'C': 485.18438306676734, 'gamma': 0.07925273905319408, 'degree': 5}. Best is trial 140 with value: -6.2791555539680575.\u001B[0m\n",
      "\u001B[32m[I 2022-04-20 13:30:22,677]\u001B[0m Trial 240 finished with value: -6.435975627488787 and parameters: {'C': 660.9805992030009, 'gamma': 0.09164513043788351, 'degree': 4}. Best is trial 140 with value: -6.2791555539680575.\u001B[0m\n",
      "\u001B[32m[I 2022-04-20 13:30:22,956]\u001B[0m Trial 241 finished with value: -6.334928139906834 and parameters: {'C': 746.8722314223911, 'gamma': 0.0993114500095393, 'degree': 5}. Best is trial 140 with value: -6.2791555539680575.\u001B[0m\n",
      "\u001B[32m[I 2022-04-20 13:30:23,156]\u001B[0m Trial 242 finished with value: -6.407117662035449 and parameters: {'C': 714.0925119126871, 'gamma': 0.09223576784479105, 'degree': 5}. Best is trial 140 with value: -6.2791555539680575.\u001B[0m\n",
      "\u001B[32m[I 2022-04-20 13:30:23,382]\u001B[0m Trial 243 finished with value: -6.28561348395908 and parameters: {'C': 974.4070804745787, 'gamma': 0.099202895659675, 'degree': 5}. Best is trial 140 with value: -6.2791555539680575.\u001B[0m\n",
      "\u001B[32m[I 2022-04-20 13:30:23,620]\u001B[0m Trial 244 finished with value: -6.396326826759731 and parameters: {'C': 995.3468858477387, 'gamma': 0.08496708023201473, 'degree': 5}. Best is trial 140 with value: -6.2791555539680575.\u001B[0m\n",
      "\u001B[32m[I 2022-04-20 13:30:23,846]\u001B[0m Trial 245 finished with value: -6.397417571146128 and parameters: {'C': 566.0002775653887, 'gamma': 0.09949441523898438, 'degree': 5}. Best is trial 140 with value: -6.2791555539680575.\u001B[0m\n",
      "\u001B[32m[I 2022-04-20 13:30:24,212]\u001B[0m Trial 246 finished with value: -6.279765607010161 and parameters: {'C': 986.0996432687567, 'gamma': 0.09981299684325642, 'degree': 5}. Best is trial 140 with value: -6.2791555539680575.\u001B[0m\n",
      "\u001B[32m[I 2022-04-20 13:30:24,544]\u001B[0m Trial 247 finished with value: -6.404207078864729 and parameters: {'C': 797.0808771081994, 'gamma': 0.09003899433571762, 'degree': 5}. Best is trial 140 with value: -6.2791555539680575.\u001B[0m\n",
      "\u001B[32m[I 2022-04-20 13:30:24,934]\u001B[0m Trial 248 finished with value: -6.2791050251561895 and parameters: {'C': 999.834252706849, 'gamma': 0.09986407725685426, 'degree': 5}. Best is trial 248 with value: -6.2791050251561895.\u001B[0m\n",
      "\u001B[32m[I 2022-04-20 13:30:25,254]\u001B[0m Trial 249 finished with value: -6.383785853800857 and parameters: {'C': 989.9707323980217, 'gamma': 0.08645876237161705, 'degree': 5}. Best is trial 248 with value: -6.2791050251561895.\u001B[0m\n",
      "\u001B[32m[I 2022-04-20 13:30:25,752]\u001B[0m Trial 250 finished with value: -6.449347001828538 and parameters: {'C': 633.0693019597518, 'gamma': 0.0916010889661607, 'degree': 5}. Best is trial 248 with value: -6.2791050251561895.\u001B[0m\n",
      "\u001B[32m[I 2022-04-20 13:30:26,307]\u001B[0m Trial 251 finished with value: -6.28167998393282 and parameters: {'C': 984.743265779377, 'gamma': 0.09945853700377826, 'degree': 5}. Best is trial 248 with value: -6.2791050251561895.\u001B[0m\n",
      "\u001B[32m[I 2022-04-20 13:30:26,483]\u001B[0m Trial 252 finished with value: -7.562988604126801 and parameters: {'C': 986.8294654472966, 'gamma': 0.015388005298405016, 'degree': 3}. Best is trial 248 with value: -6.2791050251561895.\u001B[0m\n",
      "\u001B[32m[I 2022-04-20 13:30:26,669]\u001B[0m Trial 253 finished with value: -14.163445919373098 and parameters: {'C': 0.10235504479878403, 'gamma': 0.08013766982516975, 'degree': 5}. Best is trial 248 with value: -6.2791050251561895.\u001B[0m\n",
      "\u001B[32m[I 2022-04-20 13:30:27,048]\u001B[0m Trial 254 finished with value: -6.2790415599165845 and parameters: {'C': 999.2668872746879, 'gamma': 0.09986750246155025, 'degree': 5}. Best is trial 254 with value: -6.2790415599165845.\u001B[0m\n",
      "\u001B[32m[I 2022-04-20 13:30:27,408]\u001B[0m Trial 255 finished with value: -6.604211297546348 and parameters: {'C': 542.3645479768309, 'gamma': 0.08462724627728158, 'degree': 5}. Best is trial 254 with value: -6.2790415599165845.\u001B[0m\n",
      "\u001B[32m[I 2022-04-20 13:30:28,228]\u001B[0m Trial 256 finished with value: -6.33915111585371 and parameters: {'C': 997.8907952570667, 'gamma': 0.09146171273906444, 'degree': 4}. Best is trial 254 with value: -6.2790415599165845.\u001B[0m\n",
      "\u001B[32m[I 2022-04-20 13:30:28,999]\u001B[0m Trial 257 finished with value: -6.3425295250949105 and parameters: {'C': 990.9985022654464, 'gamma': 0.09121356842973219, 'degree': 6}. Best is trial 254 with value: -6.2790415599165845.\u001B[0m\n",
      "\u001B[32m[I 2022-04-20 13:30:29,631]\u001B[0m Trial 258 finished with value: -6.646015725600205 and parameters: {'C': 664.6453523773952, 'gamma': 0.07694166625205544, 'degree': 5}. Best is trial 254 with value: -6.2790415599165845.\u001B[0m\n",
      "\u001B[32m[I 2022-04-20 13:30:30,029]\u001B[0m Trial 259 finished with value: -6.483882422148573 and parameters: {'C': 734.2049591487498, 'gamma': 0.08499233649061974, 'degree': 5}. Best is trial 254 with value: -6.2790415599165845.\u001B[0m\n",
      "\u001B[32m[I 2022-04-20 13:30:30,204]\u001B[0m Trial 260 finished with value: -6.565144165963486 and parameters: {'C': 464.00896130498376, 'gamma': 0.09142708701787897, 'degree': 5}. Best is trial 254 with value: -6.2790415599165845.\u001B[0m\n",
      "\u001B[32m[I 2022-04-20 13:30:30,446]\u001B[0m Trial 261 finished with value: -6.334196781125242 and parameters: {'C': 994.6825965789046, 'gamma': 0.09214150922632129, 'degree': 5}. Best is trial 254 with value: -6.2790415599165845.\u001B[0m\n",
      "\u001B[32m[I 2022-04-20 13:30:30,655]\u001B[0m Trial 262 finished with value: -6.379535921729408 and parameters: {'C': 588.97340328269, 'gamma': 0.09992133962723015, 'degree': 5}. Best is trial 254 with value: -6.2790415599165845.\u001B[0m\n",
      "\u001B[32m[I 2022-04-20 13:30:30,971]\u001B[0m Trial 263 finished with value: -6.324325117460035 and parameters: {'C': 772.5346208011222, 'gamma': 0.09958900343352443, 'degree': 5}. Best is trial 254 with value: -6.2790415599165845.\u001B[0m\n",
      "\u001B[32m[I 2022-04-20 13:30:31,216]\u001B[0m Trial 264 finished with value: -6.434681694961052 and parameters: {'C': 991.9455579869323, 'gamma': 0.08197804556741564, 'degree': 5}. Best is trial 254 with value: -6.2790415599165845.\u001B[0m\n",
      "\u001B[32m[I 2022-04-20 13:30:31,408]\u001B[0m Trial 265 finished with value: -6.366476361393045 and parameters: {'C': 635.5234393559537, 'gamma': 0.09985414223658669, 'degree': 5}. Best is trial 254 with value: -6.2790415599165845.\u001B[0m\n",
      "\u001B[32m[I 2022-04-20 13:30:31,558]\u001B[0m Trial 266 finished with value: -6.7196965713201 and parameters: {'C': 386.23366969979674, 'gamma': 0.08555644570291826, 'degree': 5}. Best is trial 254 with value: -6.2790415599165845.\u001B[0m\n",
      "\u001B[32m[I 2022-04-20 13:30:31,737]\u001B[0m Trial 267 finished with value: -6.610200515066381 and parameters: {'C': 755.8353370708681, 'gamma': 0.07529393695650564, 'degree': 5}. Best is trial 254 with value: -6.2790415599165845.\u001B[0m\n",
      "\u001B[32m[I 2022-04-20 13:30:31,900]\u001B[0m Trial 268 finished with value: -6.521398724042416 and parameters: {'C': 504.6626885251131, 'gamma': 0.09087216737359924, 'degree': 2}. Best is trial 254 with value: -6.2790415599165845.\u001B[0m\n",
      "\u001B[32m[I 2022-04-20 13:30:31,997]\u001B[0m Trial 269 finished with value: -15.015892015021189 and parameters: {'C': 0.017276021748206825, 'gamma': 0.0843296573599106, 'degree': 6}. Best is trial 254 with value: -6.2790415599165845.\u001B[0m\n",
      "\u001B[32m[I 2022-04-20 13:30:32,135]\u001B[0m Trial 270 finished with value: -12.07508942426818 and parameters: {'C': 0.4206582215156468, 'gamma': 0.09159490873040844, 'degree': 4}. Best is trial 254 with value: -6.2790415599165845.\u001B[0m\n",
      "\u001B[32m[I 2022-04-20 13:30:32,419]\u001B[0m Trial 271 finished with value: -6.325663645072868 and parameters: {'C': 761.9650830052161, 'gamma': 0.09983560530005718, 'degree': 5}. Best is trial 254 with value: -6.2790415599165845.\u001B[0m\n",
      "\u001B[32m[I 2022-04-20 13:30:32,657]\u001B[0m Trial 272 finished with value: -6.699775363146378 and parameters: {'C': 583.8630842453063, 'gamma': 0.07733676577361967, 'degree': 5}. Best is trial 254 with value: -6.2790415599165845.\u001B[0m\n",
      "\u001B[32m[I 2022-04-20 13:30:32,950]\u001B[0m Trial 273 finished with value: -6.3182902170435 and parameters: {'C': 782.5792183103471, 'gamma': 0.09988381604260321, 'degree': 5}. Best is trial 254 with value: -6.2790415599165845.\u001B[0m\n",
      "\u001B[32m[I 2022-04-20 13:30:33,157]\u001B[0m Trial 274 finished with value: -6.472806941482989 and parameters: {'C': 745.6683217704199, 'gamma': 0.08557426623018322, 'degree': 5}. Best is trial 254 with value: -6.2790415599165845.\u001B[0m\n",
      "\u001B[32m[I 2022-04-20 13:30:33,389]\u001B[0m Trial 275 finished with value: -6.347614648911106 and parameters: {'C': 982.1188237531641, 'gamma': 0.09087231032083279, 'degree': 5}. Best is trial 254 with value: -6.2790415599165845.\u001B[0m\n",
      "\u001B[32m[I 2022-04-20 13:30:33,583]\u001B[0m Trial 276 finished with value: -6.541428714871873 and parameters: {'C': 464.874545927352, 'gamma': 0.09252723823259856, 'degree': 5}. Best is trial 254 with value: -6.2790415599165845.\u001B[0m\n",
      "\u001B[32m[I 2022-04-20 13:30:33,945]\u001B[0m Trial 277 finished with value: -6.43059757500141 and parameters: {'C': 993.8180162132925, 'gamma': 0.0823578833216625, 'degree': 5}. Best is trial 254 with value: -6.2790415599165845.\u001B[0m\n",
      "\u001B[32m[I 2022-04-20 13:30:34,128]\u001B[0m Trial 278 finished with value: -9.5984099690113 and parameters: {'C': 3.4365466152962725, 'gamma': 0.08893780993163275, 'degree': 5}. Best is trial 254 with value: -6.2790415599165845.\u001B[0m\n",
      "\u001B[32m[I 2022-04-20 13:30:34,356]\u001B[0m Trial 279 finished with value: -6.792210717118481 and parameters: {'C': 591.7249239826838, 'gamma': 0.07110683200978643, 'degree': 6}. Best is trial 254 with value: -6.2790415599165845.\u001B[0m\n",
      "\u001B[32m[I 2022-04-20 13:30:34,593]\u001B[0m Trial 280 finished with value: -6.334872058688712 and parameters: {'C': 732.2668938069836, 'gamma': 0.09978742746514598, 'degree': 5}. Best is trial 254 with value: -6.2790415599165845.\u001B[0m\n",
      "\u001B[32m[I 2022-04-20 13:30:34,776]\u001B[0m Trial 281 finished with value: -6.4741601113272935 and parameters: {'C': 415.9592836437631, 'gamma': 0.0998376667205362, 'degree': 4}. Best is trial 254 with value: -6.2790415599165845.\u001B[0m\n",
      "\u001B[32m[I 2022-04-20 13:30:34,958]\u001B[0m Trial 282 finished with value: -6.688686551612987 and parameters: {'C': 599.9084559362175, 'gamma': 0.07725210931328658, 'degree': 5}. Best is trial 254 with value: -6.2790415599165845.\u001B[0m\n",
      "\u001B[32m[I 2022-04-20 13:30:35,436]\u001B[0m Trial 283 finished with value: -6.331969704708276 and parameters: {'C': 989.7396313184289, 'gamma': 0.09254243044548893, 'degree': 5}. Best is trial 254 with value: -6.2790415599165845.\u001B[0m\n",
      "\u001B[32m[I 2022-04-20 13:30:35,770]\u001B[0m Trial 284 finished with value: -6.489172692058536 and parameters: {'C': 768.6730559029111, 'gamma': 0.08353657754191243, 'degree': 5}. Best is trial 254 with value: -6.2790415599165845.\u001B[0m\n",
      "\u001B[32m[I 2022-04-20 13:30:36,007]\u001B[0m Trial 285 finished with value: -6.5095013074006145 and parameters: {'C': 504.935402200739, 'gamma': 0.09151107734593669, 'degree': 5}. Best is trial 254 with value: -6.2790415599165845.\u001B[0m\n",
      "\u001B[32m[I 2022-04-20 13:30:36,292]\u001B[0m Trial 286 finished with value: -6.4703894083813385 and parameters: {'C': 783.1052277671996, 'gamma': 0.08453874271867584, 'degree': 5}. Best is trial 254 with value: -6.2790415599165845.\u001B[0m\n",
      "\u001B[32m[I 2022-04-20 13:30:36,514]\u001B[0m Trial 287 finished with value: -6.57292765195089 and parameters: {'C': 357.7829983735033, 'gamma': 0.09982030092109892, 'degree': 5}. Best is trial 254 with value: -6.2790415599165845.\u001B[0m\n",
      "\u001B[32m[I 2022-04-20 13:30:36,875]\u001B[0m Trial 288 finished with value: -6.449310096792196 and parameters: {'C': 626.6625025734712, 'gamma': 0.09183962087615476, 'degree': 3}. Best is trial 254 with value: -6.2790415599165845.\u001B[0m\n",
      "\u001B[32m[I 2022-04-20 13:30:37,310]\u001B[0m Trial 289 finished with value: -6.468888551290218 and parameters: {'C': 984.1046723043711, 'gamma': 0.0788253791414792, 'degree': 5}. Best is trial 254 with value: -6.2790415599165845.\u001B[0m\n",
      "\u001B[32m[I 2022-04-20 13:30:37,535]\u001B[0m Trial 290 finished with value: -7.291998671775595 and parameters: {'C': 767.6641346219998, 'gamma': 0.02648337175994141, 'degree': 5}. Best is trial 254 with value: -6.2790415599165845.\u001B[0m\n",
      "\u001B[32m[I 2022-04-20 13:30:37,789]\u001B[0m Trial 291 finished with value: -6.483176490481964 and parameters: {'C': 547.363821851083, 'gamma': 0.09036293783135914, 'degree': 6}. Best is trial 254 with value: -6.2790415599165845.\u001B[0m\n",
      "\u001B[32m[I 2022-04-20 13:30:38,184]\u001B[0m Trial 292 finished with value: -6.280341585367559 and parameters: {'C': 987.873908783552, 'gamma': 0.09968600725079442, 'degree': 4}. Best is trial 254 with value: -6.2790415599165845.\u001B[0m\n",
      "\u001B[32m[I 2022-04-20 13:30:38,697]\u001B[0m Trial 293 finished with value: -6.3149427592491225 and parameters: {'C': 797.6477971017484, 'gamma': 0.0997978141182043, 'degree': 4}. Best is trial 254 with value: -6.2790415599165845.\u001B[0m\n",
      "\u001B[32m[I 2022-04-20 13:30:38,862]\u001B[0m Trial 294 finished with value: -10.051370575444711 and parameters: {'C': 2.0891766530490705, 'gamma': 0.08696691974601266, 'degree': 4}. Best is trial 254 with value: -6.2790415599165845.\u001B[0m\n",
      "\u001B[32m[I 2022-04-20 13:30:39,162]\u001B[0m Trial 295 finished with value: -6.55009112928912 and parameters: {'C': 969.9052916228047, 'gamma': 0.07375882590187358, 'degree': 4}. Best is trial 254 with value: -6.2790415599165845.\u001B[0m\n",
      "\u001B[32m[I 2022-04-20 13:30:39,415]\u001B[0m Trial 296 finished with value: -6.586991251641325 and parameters: {'C': 629.4070716823469, 'gamma': 0.08138738242578125, 'degree': 2}. Best is trial 254 with value: -6.2790415599165845.\u001B[0m\n",
      "\u001B[32m[I 2022-04-20 13:30:39,567]\u001B[0m Trial 297 finished with value: -7.820444278967635 and parameters: {'C': 26.291170330160938, 'gamma': 0.09159405170311091, 'degree': 4}. Best is trial 254 with value: -6.2790415599165845.\u001B[0m\n",
      "\u001B[32m[I 2022-04-20 13:30:39,879]\u001B[0m Trial 298 finished with value: -6.279412864481962 and parameters: {'C': 984.8768158539685, 'gamma': 0.09988431044047952, 'degree': 4}. Best is trial 254 with value: -6.2790415599165845.\u001B[0m\n",
      "\u001B[32m[I 2022-04-20 13:30:40,188]\u001B[0m Trial 299 finished with value: -6.3421672319864 and parameters: {'C': 970.6161402680076, 'gamma': 0.09174107769166834, 'degree': 6}. Best is trial 254 with value: -6.2790415599165845.\u001B[0m\n",
      "\u001B[32m[I 2022-04-20 13:30:40,369]\u001B[0m Trial 300 finished with value: -6.520856825750558 and parameters: {'C': 637.4391865857012, 'gamma': 0.08413335028544192, 'degree': 3}. Best is trial 254 with value: -6.2790415599165845.\u001B[0m\n",
      "\u001B[32m[I 2022-04-20 13:30:40,529]\u001B[0m Trial 301 finished with value: -6.429301044453477 and parameters: {'C': 455.2665951327628, 'gamma': 0.099640754755112, 'degree': 3}. Best is trial 254 with value: -6.2790415599165845.\u001B[0m\n",
      "\u001B[32m[I 2022-04-20 13:30:40,747]\u001B[0m Trial 302 finished with value: -6.353994881283688 and parameters: {'C': 982.8531622861285, 'gamma': 0.09011335131931116, 'degree': 5}. Best is trial 254 with value: -6.2790415599165845.\u001B[0m\n",
      "\u001B[32m[I 2022-04-20 13:30:40,921]\u001B[0m Trial 303 finished with value: -6.535738180785851 and parameters: {'C': 759.9966288658057, 'gamma': 0.07930775541283189, 'degree': 5}. Best is trial 254 with value: -6.2790415599165845.\u001B[0m\n",
      "\u001B[32m[I 2022-04-20 13:30:41,105]\u001B[0m Trial 304 finished with value: -6.452130388258743 and parameters: {'C': 619.437262005999, 'gamma': 0.09183071899453771, 'degree': 4}. Best is trial 254 with value: -6.2790415599165845.\u001B[0m\n",
      "\u001B[32m[I 2022-04-20 13:30:41,258]\u001B[0m Trial 305 finished with value: -7.537320394123965 and parameters: {'C': 792.6115491873708, 'gamma': 0.017537926483091822, 'degree': 5}. Best is trial 254 with value: -6.2790415599165845.\u001B[0m\n",
      "\u001B[32m[I 2022-04-20 13:30:41,554]\u001B[0m Trial 306 finished with value: -6.409282786424512 and parameters: {'C': 971.3443926760203, 'gamma': 0.08468815747658313, 'degree': 5}. Best is trial 254 with value: -6.2790415599165845.\u001B[0m\n",
      "\u001B[32m[I 2022-04-20 13:30:41,738]\u001B[0m Trial 307 finished with value: -6.483653086180011 and parameters: {'C': 505.21260136480583, 'gamma': 0.09285291150555786, 'degree': 5}. Best is trial 254 with value: -6.2790415599165845.\u001B[0m\n",
      "\u001B[32m[I 2022-04-20 13:30:41,873]\u001B[0m Trial 308 finished with value: -6.9409209483793415 and parameters: {'C': 320.88092474647095, 'gamma': 0.07133229262969205, 'degree': 5}. Best is trial 254 with value: -6.2790415599165845.\u001B[0m\n",
      "\u001B[32m[I 2022-04-20 13:30:42,089]\u001B[0m Trial 309 finished with value: -6.328667997212863 and parameters: {'C': 747.7892750676147, 'gamma': 0.0999960974205707, 'degree': 6}. Best is trial 254 with value: -6.2790415599165845.\u001B[0m\n",
      "\u001B[32m[I 2022-04-20 13:30:42,323]\u001B[0m Trial 310 finished with value: -6.395186394918214 and parameters: {'C': 994.2345430475808, 'gamma': 0.08510044558214419, 'degree': 5}. Best is trial 254 with value: -6.2790415599165845.\u001B[0m\n",
      "\u001B[32m[I 2022-04-20 13:30:42,489]\u001B[0m Trial 311 finished with value: -6.445554959551084 and parameters: {'C': 619.4629597380791, 'gamma': 0.09247905357743595, 'degree': 5}. Best is trial 254 with value: -6.2790415599165845.\u001B[0m\n",
      "\u001B[32m[I 2022-04-20 13:30:42,778]\u001B[0m Trial 312 finished with value: -6.479302828925403 and parameters: {'C': 990.0208674867963, 'gamma': 0.07793115174461088, 'degree': 5}. Best is trial 254 with value: -6.2790415599165845.\u001B[0m\n",
      "\u001B[32m[I 2022-04-20 13:30:43,012]\u001B[0m Trial 313 finished with value: -6.553734511225312 and parameters: {'C': 455.38917605893454, 'gamma': 0.09262112064574891, 'degree': 5}. Best is trial 254 with value: -6.2790415599165845.\u001B[0m\n",
      "\u001B[32m[I 2022-04-20 13:30:43,118]\u001B[0m Trial 314 finished with value: -8.435350871540225 and parameters: {'C': 9.483550970891676, 'gamma': 0.09949804706663862, 'degree': 4}. Best is trial 254 with value: -6.2790415599165845.\u001B[0m\n",
      "\u001B[32m[I 2022-04-20 13:30:43,237]\u001B[0m Trial 315 finished with value: -8.292941806335973 and parameters: {'C': 659.1620271625326, 'gamma': 0.009320716739787075, 'degree': 5}. Best is trial 254 with value: -6.2790415599165845.\u001B[0m\n",
      "\u001B[32m[I 2022-04-20 13:30:43,449]\u001B[0m Trial 316 finished with value: -6.325329182552755 and parameters: {'C': 759.1107283757863, 'gamma': 0.09997855784472803, 'degree': 5}. Best is trial 254 with value: -6.2790415599165845.\u001B[0m\n",
      "\u001B[32m[I 2022-04-20 13:30:43,622]\u001B[0m Trial 317 finished with value: -6.613421289828679 and parameters: {'C': 555.946448912809, 'gamma': 0.08343162711353419, 'degree': 5}. Best is trial 254 with value: -6.2790415599165845.\u001B[0m\n",
      "\u001B[32m[I 2022-04-20 13:30:43,872]\u001B[0m Trial 318 finished with value: -6.439208177259054 and parameters: {'C': 791.9665176077658, 'gamma': 0.08659704446376658, 'degree': 5}. Best is trial 254 with value: -6.2790415599165845.\u001B[0m\n",
      "\u001B[32m[I 2022-04-20 13:30:44,050]\u001B[0m Trial 319 finished with value: -6.4994996690858216 and parameters: {'C': 399.9973089380822, 'gamma': 0.09997197304380939, 'degree': 5}. Best is trial 254 with value: -6.2790415599165845.\u001B[0m\n",
      "\u001B[32m[I 2022-04-20 13:30:44,190]\u001B[0m Trial 320 finished with value: -11.393816980728024 and parameters: {'C': 0.7985399744006735, 'gamma': 0.0658312832584548, 'degree': 5}. Best is trial 254 with value: -6.2790415599165845.\u001B[0m\n",
      "\u001B[32m[I 2022-04-20 13:30:44,550]\u001B[0m Trial 321 finished with value: -6.486866193591051 and parameters: {'C': 989.6272968139981, 'gamma': 0.07736238246064277, 'degree': 3}. Best is trial 254 with value: -6.2790415599165845.\u001B[0m\n",
      "\u001B[32m[I 2022-04-20 13:30:44,841]\u001B[0m Trial 322 finished with value: -6.441077609256441 and parameters: {'C': 662.8998244026714, 'gamma': 0.09115226104394165, 'degree': 6}. Best is trial 254 with value: -6.2790415599165845.\u001B[0m\n",
      "\u001B[32m[I 2022-04-20 13:30:45,164]\u001B[0m Trial 323 finished with value: -6.400330989220838 and parameters: {'C': 998.3123585049218, 'gamma': 0.08456351188853872, 'degree': 4}. Best is trial 254 with value: -6.2790415599165845.\u001B[0m\n",
      "\u001B[32m[I 2022-04-20 13:30:45,402]\u001B[0m Trial 324 finished with value: -6.49943630717973 and parameters: {'C': 535.1378780624783, 'gamma': 0.09023454720695219, 'degree': 5}. Best is trial 254 with value: -6.2790415599165845.\u001B[0m\n",
      "\u001B[32m[I 2022-04-20 13:30:45,874]\u001B[0m Trial 325 finished with value: -6.387391660802519 and parameters: {'C': 763.2320377608607, 'gamma': 0.09276098019929788, 'degree': 5}. Best is trial 254 with value: -6.2790415599165845.\u001B[0m\n",
      "\u001B[32m[I 2022-04-20 13:30:46,101]\u001B[0m Trial 326 finished with value: -7.8734319842406295 and parameters: {'C': 768.6647234834401, 'gamma': 0.01336941114580797, 'degree': 2}. Best is trial 254 with value: -6.2790415599165845.\u001B[0m\n",
      "\u001B[32m[I 2022-04-20 13:30:46,400]\u001B[0m Trial 327 finished with value: -6.756551722656927 and parameters: {'C': 551.7065470310843, 'gamma': 0.07501340201777579, 'degree': 5}. Best is trial 254 with value: -6.2790415599165845.\u001B[0m\n",
      "\u001B[32m[I 2022-04-20 13:30:46,684]\u001B[0m Trial 328 finished with value: -6.470510790140073 and parameters: {'C': 763.5008400270792, 'gamma': 0.08518240120061198, 'degree': 5}. Best is trial 254 with value: -6.2790415599165845.\u001B[0m\n",
      "\u001B[32m[I 2022-04-20 13:30:46,804]\u001B[0m Trial 329 finished with value: -15.202244996796434 and parameters: {'C': 0.0010418483711190669, 'gamma': 0.09923434667007874, 'degree': 5}. Best is trial 254 with value: -6.2790415599165845.\u001B[0m\n",
      "\u001B[32m[I 2022-04-20 13:30:47,313]\u001B[0m Trial 330 finished with value: -6.280227633529849 and parameters: {'C': 998.1332553501908, 'gamma': 0.09967576219051055, 'degree': 5}. Best is trial 254 with value: -6.2790415599165845.\u001B[0m\n",
      "\u001B[32m[I 2022-04-20 13:30:47,572]\u001B[0m Trial 331 finished with value: -7.439705797744989 and parameters: {'C': 635.0803300219621, 'gamma': 0.022132054226965184, 'degree': 5}. Best is trial 254 with value: -6.2790415599165845.\u001B[0m\n",
      "\u001B[32m[I 2022-04-20 13:30:47,870]\u001B[0m Trial 332 finished with value: -6.388631508881461 and parameters: {'C': 796.6920746025081, 'gamma': 0.0915320840651792, 'degree': 5}. Best is trial 254 with value: -6.2790415599165845.\u001B[0m\n",
      "\u001B[32m[I 2022-04-20 13:30:48,161]\u001B[0m Trial 333 finished with value: -6.460388930928437 and parameters: {'C': 976.4080576225274, 'gamma': 0.07977427272866144, 'degree': 4}. Best is trial 254 with value: -6.2790415599165845.\u001B[0m\n",
      "\u001B[32m[I 2022-04-20 13:30:48,537]\u001B[0m Trial 334 finished with value: -6.279040572107446 and parameters: {'C': 997.375276946956, 'gamma': 0.09989641234683114, 'degree': 5}. Best is trial 334 with value: -6.279040572107446.\u001B[0m\n",
      "\u001B[32m[I 2022-04-20 13:30:48,907]\u001B[0m Trial 335 finished with value: -6.421170025255874 and parameters: {'C': 476.61466632162893, 'gamma': 0.09975164432149712, 'degree': 6}. Best is trial 334 with value: -6.279040572107446.\u001B[0m\n",
      "\u001B[32m[I 2022-04-20 13:30:49,294]\u001B[0m Trial 336 finished with value: -6.381973148541048 and parameters: {'C': 981.973820873676, 'gamma': 0.08686106915030362, 'degree': 5}. Best is trial 334 with value: -6.279040572107446.\u001B[0m\n",
      "\u001B[32m[I 2022-04-20 13:30:49,532]\u001B[0m Trial 337 finished with value: -6.341525125150724 and parameters: {'C': 992.6834814042204, 'gamma': 0.09130351365091842, 'degree': 5}. Best is trial 334 with value: -6.279040572107446.\u001B[0m\n",
      "\u001B[32m[I 2022-04-20 13:30:49,669]\u001B[0m Trial 338 finished with value: -7.1494954997539555 and parameters: {'C': 647.3849385042485, 'gamma': 0.03619543855450976, 'degree': 5}. Best is trial 334 with value: -6.279040572107446.\u001B[0m\n",
      "\u001B[32m[I 2022-04-20 13:30:49,877]\u001B[0m Trial 339 finished with value: -6.327838996281036 and parameters: {'C': 759.082875416389, 'gamma': 0.0997030239917608, 'degree': 5}. Best is trial 334 with value: -6.279040572107446.\u001B[0m\n",
      "\u001B[32m[I 2022-04-20 13:30:49,981]\u001B[0m Trial 340 finished with value: -8.902628528653194 and parameters: {'C': 982.4833076662655, 'gamma': 0.003070377103855462, 'degree': 5}. Best is trial 334 with value: -6.279040572107446.\u001B[0m\n",
      "\u001B[32m[I 2022-04-20 13:30:50,128]\u001B[0m Trial 341 finished with value: -6.908665892213712 and parameters: {'C': 365.87098518076033, 'gamma': 0.07142864156775056, 'degree': 4}. Best is trial 334 with value: -6.279040572107446.\u001B[0m\n",
      "\u001B[32m[I 2022-04-20 13:30:50,389]\u001B[0m Trial 342 finished with value: -6.626753478622332 and parameters: {'C': 585.2418357218331, 'gamma': 0.08127408058669369, 'degree': 5}. Best is trial 334 with value: -6.279040572107446.\u001B[0m\n",
      "\u001B[32m[I 2022-04-20 13:30:50,628]\u001B[0m Trial 343 finished with value: -6.4090621936912555 and parameters: {'C': 751.8589377756056, 'gamma': 0.09097326639287025, 'degree': 5}. Best is trial 334 with value: -6.279040572107446.\u001B[0m\n",
      "\u001B[32m[I 2022-04-20 13:30:50,746]\u001B[0m Trial 344 finished with value: -7.601173563352196 and parameters: {'C': 44.04720562850064, 'gamma': 0.08633854793049998, 'degree': 5}. Best is trial 334 with value: -6.279040572107446.\u001B[0m\n",
      "\u001B[32m[I 2022-04-20 13:30:50,913]\u001B[0m Trial 345 finished with value: -6.488288957575176 and parameters: {'C': 532.8530218965889, 'gamma': 0.0909385777922953, 'degree': 6}. Best is trial 334 with value: -6.279040572107446.\u001B[0m\n",
      "\u001B[32m[I 2022-04-20 13:30:51,139]\u001B[0m Trial 346 finished with value: -6.282036695193616 and parameters: {'C': 974.3438265628158, 'gamma': 0.09961949037890508, 'degree': 3}. Best is trial 334 with value: -6.279040572107446.\u001B[0m\n",
      "\u001B[32m[I 2022-04-20 13:30:51,323]\u001B[0m Trial 347 finished with value: -6.521226199713766 and parameters: {'C': 789.2879460082584, 'gamma': 0.08027842054508676, 'degree': 3}. Best is trial 334 with value: -6.279040572107446.\u001B[0m\n",
      "\u001B[32m[I 2022-04-20 13:30:51,430]\u001B[0m Trial 348 finished with value: -9.054912313826302 and parameters: {'C': 987.2233210694745, 'gamma': 0.002243206385643999, 'degree': 2}. Best is trial 334 with value: -6.279040572107446.\u001B[0m\n",
      "\u001B[32m[I 2022-04-20 13:30:51,652]\u001B[0m Trial 349 finished with value: -6.444167231026294 and parameters: {'C': 617.7946478280797, 'gamma': 0.0926736719386001, 'degree': 2}. Best is trial 334 with value: -6.279040572107446.\u001B[0m\n",
      "\u001B[32m[I 2022-04-20 13:30:51,863]\u001B[0m Trial 350 finished with value: -6.458882999242026 and parameters: {'C': 426.764507391835, 'gamma': 0.09983181070321993, 'degree': 3}. Best is trial 334 with value: -6.279040572107446.\u001B[0m\n",
      "\u001B[32m[I 2022-04-20 13:30:52,115]\u001B[0m Trial 351 finished with value: -6.400056079762686 and parameters: {'C': 999.2990636434824, 'gamma': 0.08455291952964586, 'degree': 4}. Best is trial 334 with value: -6.279040572107446.\u001B[0m\n",
      "\u001B[32m[I 2022-04-20 13:30:52,309]\u001B[0m Trial 352 finished with value: -6.3539768979762865 and parameters: {'C': 666.4279262094575, 'gamma': 0.09981303652644208, 'degree': 2}. Best is trial 334 with value: -6.279040572107446.\u001B[0m\n",
      "\u001B[32m[I 2022-04-20 13:30:52,515]\u001B[0m Trial 353 finished with value: -6.547599152117615 and parameters: {'C': 991.781782299519, 'gamma': 0.07336462681754644, 'degree': 3}. Best is trial 334 with value: -6.279040572107446.\u001B[0m\n",
      "\u001B[32m[I 2022-04-20 13:30:52,735]\u001B[0m Trial 354 finished with value: -6.402383329729837 and parameters: {'C': 748.8133648213948, 'gamma': 0.09181362940869861, 'degree': 3}. Best is trial 334 with value: -6.279040572107446.\u001B[0m\n",
      "\u001B[32m[I 2022-04-20 13:30:52,834]\u001B[0m Trial 355 finished with value: -14.962292925305107 and parameters: {'C': 0.021721011765522307, 'gamma': 0.08508801060436323, 'degree': 5}. Best is trial 334 with value: -6.279040572107446.\u001B[0m\n",
      "\u001B[32m[I 2022-04-20 13:30:53,131]\u001B[0m Trial 356 finished with value: -6.33366121378687 and parameters: {'C': 997.0464143093941, 'gamma': 0.09216038369189031, 'degree': 4}. Best is trial 334 with value: -6.279040572107446.\u001B[0m\n",
      "\u001B[32m[I 2022-04-20 13:30:53,361]\u001B[0m Trial 357 finished with value: -6.413476148502019 and parameters: {'C': 517.5931327815316, 'gamma': 0.09994786487433238, 'degree': 5}. Best is trial 334 with value: -6.279040572107446.\u001B[0m\n",
      "\u001B[32m[I 2022-04-20 13:30:53,544]\u001B[0m Trial 358 finished with value: -6.5768552975248324 and parameters: {'C': 679.863021461287, 'gamma': 0.0796176482857463, 'degree': 4}. Best is trial 334 with value: -6.279040572107446.\u001B[0m\n",
      "\u001B[32m[I 2022-04-20 13:30:53,739]\u001B[0m Trial 359 finished with value: -6.459390907302625 and parameters: {'C': 755.5120708869167, 'gamma': 0.08633922078827756, 'degree': 5}. Best is trial 334 with value: -6.279040572107446.\u001B[0m\n",
      "\u001B[32m[I 2022-04-20 13:30:53,832]\u001B[0m Trial 360 finished with value: -12.899001437499043 and parameters: {'C': 0.25258632025911004, 'gamma': 0.09200607070140128, 'degree': 5}. Best is trial 334 with value: -6.279040572107446.\u001B[0m\n",
      "\u001B[32m[I 2022-04-20 13:30:54,048]\u001B[0m Trial 361 finished with value: -6.471959291969827 and parameters: {'C': 995.9181042826732, 'gamma': 0.07833427865985494, 'degree': 5}. Best is trial 334 with value: -6.279040572107446.\u001B[0m\n",
      "\u001B[32m[I 2022-04-20 13:30:54,255]\u001B[0m Trial 362 finished with value: -6.732162094815209 and parameters: {'C': 293.47885537704605, 'gamma': 0.09140336816863438, 'degree': 5}. Best is trial 334 with value: -6.279040572107446.\u001B[0m\n",
      "\u001B[32m[I 2022-04-20 13:30:54,560]\u001B[0m Trial 363 finished with value: -6.489388357153383 and parameters: {'C': 510.221353465105, 'gamma': 0.09223606759394702, 'degree': 5}. Best is trial 334 with value: -6.279040572107446.\u001B[0m\n",
      "\u001B[32m[I 2022-04-20 13:30:55,082]\u001B[0m Trial 364 finished with value: -6.510203288322833 and parameters: {'C': 644.7448821386575, 'gamma': 0.08457504202434736, 'degree': 3}. Best is trial 334 with value: -6.279040572107446.\u001B[0m\n",
      "\u001B[32m[I 2022-04-20 13:30:55,481]\u001B[0m Trial 365 finished with value: -6.3141821573677985 and parameters: {'C': 799.2229557133005, 'gamma': 0.0998617005408914, 'degree': 5}. Best is trial 334 with value: -6.279040572107446.\u001B[0m\n",
      "\u001B[32m[I 2022-04-20 13:30:55,783]\u001B[0m Trial 366 finished with value: -6.3231700364122805 and parameters: {'C': 765.811508391428, 'gamma': 0.09995956741052898, 'degree': 5}. Best is trial 334 with value: -6.279040572107446.\u001B[0m\n",
      "\u001B[32m[I 2022-04-20 13:30:56,008]\u001B[0m Trial 367 finished with value: -6.843580302788486 and parameters: {'C': 406.39485128474894, 'gamma': 0.07508772127548352, 'degree': 5}. Best is trial 334 with value: -6.279040572107446.\u001B[0m\n",
      "\u001B[32m[I 2022-04-20 13:30:56,384]\u001B[0m Trial 368 finished with value: -6.6197010879108875 and parameters: {'C': 557.0569035277097, 'gamma': 0.08306061772338254, 'degree': 5}. Best is trial 334 with value: -6.279040572107446.\u001B[0m\n",
      "\u001B[32m[I 2022-04-20 13:30:56,563]\u001B[0m Trial 369 finished with value: -15.121967546430605 and parameters: {'C': 0.007548823340243695, 'gamma': 0.09253169611103139, 'degree': 5}. Best is trial 334 with value: -6.279040572107446.\u001B[0m\n",
      "\u001B[32m[I 2022-04-20 13:30:56,887]\u001B[0m Trial 370 finished with value: -6.393600195303042 and parameters: {'C': 988.6296044999424, 'gamma': 0.08539568970458516, 'degree': 4}. Best is trial 334 with value: -6.279040572107446.\u001B[0m\n",
      "\u001B[32m[I 2022-04-20 13:30:57,170]\u001B[0m Trial 371 finished with value: -6.362751730996072 and parameters: {'C': 646.1061310705968, 'gamma': 0.09985600888853352, 'degree': 5}. Best is trial 334 with value: -6.279040572107446.\u001B[0m\n",
      "\u001B[32m[I 2022-04-20 13:30:57,425]\u001B[0m Trial 372 finished with value: -6.792305888922958 and parameters: {'C': 789.7362847879147, 'gamma': 0.06469343837824676, 'degree': 6}. Best is trial 334 with value: -6.279040572107446.\u001B[0m\n",
      "\u001B[32m[I 2022-04-20 13:30:57,785]\u001B[0m Trial 373 finished with value: -6.5247533505089335 and parameters: {'C': 496.6489353516756, 'gamma': 0.09118787423421817, 'degree': 2}. Best is trial 334 with value: -6.279040572107446.\u001B[0m\n",
      "\u001B[32m[I 2022-04-20 13:30:58,239]\u001B[0m Trial 374 finished with value: -6.458324170798797 and parameters: {'C': 997.0496099404988, 'gamma': 0.07953875109309366, 'degree': 5}. Best is trial 334 with value: -6.279040572107446.\u001B[0m\n",
      "\u001B[32m[I 2022-04-20 13:30:58,529]\u001B[0m Trial 375 finished with value: -6.392648340986421 and parameters: {'C': 776.8325862230474, 'gamma': 0.09177240542074065, 'degree': 5}. Best is trial 334 with value: -6.279040572107446.\u001B[0m\n",
      "\u001B[32m[I 2022-04-20 13:30:58,771]\u001B[0m Trial 376 finished with value: -6.5870139104342815 and parameters: {'C': 998.2828741401606, 'gamma': 0.07051501302211238, 'degree': 4}. Best is trial 334 with value: -6.279040572107446.\u001B[0m\n",
      "\u001B[32m[I 2022-04-20 13:30:58,967]\u001B[0m Trial 377 finished with value: -6.370493461669783 and parameters: {'C': 614.7477053000557, 'gamma': 0.09995734648588912, 'degree': 5}. Best is trial 334 with value: -6.279040572107446.\u001B[0m\n",
      "\u001B[32m[I 2022-04-20 13:30:59,164]\u001B[0m Trial 378 finished with value: -6.473434458317385 and parameters: {'C': 753.9592882305456, 'gamma': 0.08524707722036377, 'degree': 5}. Best is trial 334 with value: -6.279040572107446.\u001B[0m\n",
      "\u001B[32m[I 2022-04-20 13:30:59,383]\u001B[0m Trial 379 finished with value: -6.637378537416886 and parameters: {'C': 392.99775427117015, 'gamma': 0.09246641567033871, 'degree': 5}. Best is trial 334 with value: -6.279040572107446.\u001B[0m\n",
      "\u001B[32m[I 2022-04-20 13:30:59,616]\u001B[0m Trial 380 finished with value: -6.456972840553499 and parameters: {'C': 598.5238363671531, 'gamma': 0.09227777326319059, 'degree': 5}. Best is trial 334 with value: -6.279040572107446.\u001B[0m\n",
      "\u001B[32m[I 2022-04-20 13:30:59,735]\u001B[0m Trial 381 finished with value: -8.50722598127266 and parameters: {'C': 996.3218566393782, 'gamma': 0.0052641697504514535, 'degree': 5}. Best is trial 334 with value: -6.279040572107446.\u001B[0m\n",
      "\u001B[32m[I 2022-04-20 13:30:59,916]\u001B[0m Trial 382 finished with value: -6.562267220426745 and parameters: {'C': 767.8478662925846, 'gamma': 0.07716604701733232, 'degree': 6}. Best is trial 334 with value: -6.279040572107446.\u001B[0m\n",
      "\u001B[32m[I 2022-04-20 13:31:00,036]\u001B[0m Trial 383 finished with value: -9.051225344143532 and parameters: {'C': 497.74412564790924, 'gamma': 0.003761012605820408, 'degree': 4}. Best is trial 334 with value: -6.279040572107446.\u001B[0m\n",
      "\u001B[32m[I 2022-04-20 13:31:00,164]\u001B[0m Trial 384 finished with value: -8.423221820332014 and parameters: {'C': 764.9476617015022, 'gamma': 0.007074343413889248, 'degree': 5}. Best is trial 334 with value: -6.279040572107446.\u001B[0m\n",
      "\u001B[32m[I 2022-04-20 13:31:00,304]\u001B[0m Trial 385 finished with value: -7.1055123301502405 and parameters: {'C': 582.9878369266575, 'gamma': 0.04264211831067293, 'degree': 5}. Best is trial 334 with value: -6.279040572107446.\u001B[0m\n",
      "\u001B[32m[I 2022-04-20 13:31:00,532]\u001B[0m Trial 386 finished with value: -6.397773546359732 and parameters: {'C': 993.5086990098765, 'gamma': 0.08488966019873045, 'degree': 5}. Best is trial 334 with value: -6.279040572107446.\u001B[0m\n",
      "\u001B[32m[I 2022-04-20 13:31:00,653]\u001B[0m Trial 387 finished with value: -8.89614282967935 and parameters: {'C': 6.1698862144459365, 'gamma': 0.09252470417609505, 'degree': 3}. Best is trial 334 with value: -6.279040572107446.\u001B[0m\n",
      "\u001B[32m[I 2022-04-20 13:31:00,967]\u001B[0m Trial 388 finished with value: -6.331718006837762 and parameters: {'C': 745.5742923928875, 'gamma': 0.09973105736600132, 'degree': 5}. Best is trial 334 with value: -6.279040572107446.\u001B[0m\n",
      "\u001B[32m[I 2022-04-20 13:31:01,237]\u001B[0m Trial 389 finished with value: -6.385625254862561 and parameters: {'C': 992.1885733996037, 'gamma': 0.08617484984722935, 'degree': 5}. Best is trial 334 with value: -6.279040572107446.\u001B[0m\n",
      "\u001B[32m[I 2022-04-20 13:31:01,424]\u001B[0m Trial 390 finished with value: -6.441643871334968 and parameters: {'C': 636.6966758077315, 'gamma': 0.0921643384870228, 'degree': 5}. Best is trial 334 with value: -6.279040572107446.\u001B[0m\n",
      "\u001B[32m[I 2022-04-20 13:31:01,600]\u001B[0m Trial 391 finished with value: -6.418102758016704 and parameters: {'C': 490.5970749650034, 'gamma': 0.09981089448288276, 'degree': 5}. Best is trial 334 with value: -6.279040572107446.\u001B[0m\n",
      "\u001B[32m[I 2022-04-20 13:31:01,789]\u001B[0m Trial 392 finished with value: -6.537854078835524 and parameters: {'C': 768.9930094541138, 'gamma': 0.07892069742311081, 'degree': 5}. Best is trial 334 with value: -6.279040572107446.\u001B[0m\n",
      "\u001B[32m[I 2022-04-20 13:31:01,981]\u001B[0m Trial 393 finished with value: -6.571908266597427 and parameters: {'C': 360.7632352638325, 'gamma': 0.09959096930962005, 'degree': 5}. Best is trial 334 with value: -6.279040572107446.\u001B[0m\n",
      "\u001B[32m[I 2022-04-20 13:31:02,419]\u001B[0m Trial 394 finished with value: -6.431894288400494 and parameters: {'C': 774.3852944434119, 'gamma': 0.0878087012251994, 'degree': 6}. Best is trial 334 with value: -6.279040572107446.\u001B[0m\n",
      "\u001B[32m[I 2022-04-20 13:31:02,661]\u001B[0m Trial 395 finished with value: -6.5633950097455465 and parameters: {'C': 598.7462417174155, 'gamma': 0.0838662103194095, 'degree': 5}. Best is trial 334 with value: -6.279040572107446.\u001B[0m\n",
      "\u001B[32m[I 2022-04-20 13:31:02,781]\u001B[0m Trial 396 finished with value: -9.28870983098138 and parameters: {'C': 989.7822143872052, 'gamma': 0.001288999185472861, 'degree': 4}. Best is trial 334 with value: -6.279040572107446.\u001B[0m\n",
      "\u001B[32m[I 2022-04-20 13:31:02,946]\u001B[0m Trial 397 finished with value: -6.823687568893504 and parameters: {'C': 457.75974034461547, 'gamma': 0.07438583020518846, 'degree': 2}. Best is trial 334 with value: -6.279040572107446.\u001B[0m\n",
      "\u001B[32m[I 2022-04-20 13:31:03,157]\u001B[0m Trial 398 finished with value: -6.393734576270438 and parameters: {'C': 774.5213626681274, 'gamma': 0.09175655596534482, 'degree': 5}. Best is trial 334 with value: -6.279040572107446.\u001B[0m\n",
      "\u001B[32m[I 2022-04-20 13:31:03,403]\u001B[0m Trial 399 finished with value: -6.279327140789169 and parameters: {'C': 999.3030801126619, 'gamma': 0.09982286004095269, 'degree': 5}. Best is trial 334 with value: -6.279040572107446.\u001B[0m\n",
      "\u001B[32m[I 2022-04-20 13:31:03,606]\u001B[0m Trial 400 finished with value: -6.491846283752537 and parameters: {'C': 674.0772981370152, 'gamma': 0.08599832122382146, 'degree': 5}. Best is trial 334 with value: -6.279040572107446.\u001B[0m\n",
      "\u001B[32m[I 2022-04-20 13:31:04,034]\u001B[0m Trial 401 finished with value: -6.31530827069283 and parameters: {'C': 803.6778733358343, 'gamma': 0.09959509529911033, 'degree': 5}. Best is trial 334 with value: -6.279040572107446.\u001B[0m\n",
      "\u001B[32m[I 2022-04-20 13:31:04,299]\u001B[0m Trial 402 finished with value: -7.267853366253247 and parameters: {'C': 604.9043622877232, 'gamma': 0.029989261584833712, 'degree': 3}. Best is trial 334 with value: -6.279040572107446.\u001B[0m\n",
      "\u001B[32m[I 2022-04-20 13:31:04,635]\u001B[0m Trial 403 finished with value: -6.280142674465067 and parameters: {'C': 982.7558518041483, 'gamma': 0.09975021982922297, 'degree': 5}. Best is trial 334 with value: -6.279040572107446.\u001B[0m\n",
      "\u001B[32m[I 2022-04-20 13:31:05,005]\u001B[0m Trial 404 finished with value: -6.348739224394064 and parameters: {'C': 967.4911504707783, 'gamma': 0.09110218862611953, 'degree': 5}. Best is trial 334 with value: -6.279040572107446.\u001B[0m\n",
      "\u001B[32m[I 2022-04-20 13:31:05,445]\u001B[0m Trial 405 finished with value: -6.278662499271 and parameters: {'C': 994.4850407468983, 'gamma': 0.09999255025891654, 'degree': 4}. Best is trial 405 with value: -6.278662499271.\u001B[0m\n",
      "\u001B[32m[I 2022-04-20 13:31:05,835]\u001B[0m Trial 406 finished with value: -6.440052842545006 and parameters: {'C': 984.0474437669264, 'gamma': 0.08147748629261022, 'degree': 4}. Best is trial 405 with value: -6.278662499271.\u001B[0m\n",
      "\u001B[32m[I 2022-04-20 13:31:06,098]\u001B[0m Trial 407 finished with value: -6.444343217234698 and parameters: {'C': 632.0747281824997, 'gamma': 0.09210455541007954, 'degree': 4}. Best is trial 405 with value: -6.278662499271.\u001B[0m\n",
      "\u001B[32m[I 2022-04-20 13:31:06,382]\u001B[0m Trial 408 finished with value: -6.393884310896115 and parameters: {'C': 777.2456177607941, 'gamma': 0.09164698099865566, 'degree': 4}. Best is trial 405 with value: -6.278662499271.\u001B[0m\n",
      "\u001B[32m[I 2022-04-20 13:31:06,600]\u001B[0m Trial 409 finished with value: -6.720279836913262 and parameters: {'C': 488.7444070322555, 'gamma': 0.08035569625363975, 'degree': 4}. Best is trial 405 with value: -6.278662499271.\u001B[0m\n",
      "\u001B[32m[I 2022-04-20 13:31:06,901]\u001B[0m Trial 410 finished with value: -6.75699888707654 and parameters: {'C': 753.137951304087, 'gamma': 0.06781578243513195, 'degree': 4}. Best is trial 405 with value: -6.278662499271.\u001B[0m\n",
      "\u001B[32m[I 2022-04-20 13:31:07,343]\u001B[0m Trial 411 finished with value: -6.379535702206265 and parameters: {'C': 792.5415529199473, 'gamma': 0.09260930778553622, 'degree': 4}. Best is trial 405 with value: -6.278662499271.\u001B[0m\n",
      "\u001B[32m[I 2022-04-20 13:31:07,636]\u001B[0m Trial 412 finished with value: -6.492868879093803 and parameters: {'C': 621.6334961198355, 'gamma': 0.08668045407495172, 'degree': 4}. Best is trial 405 with value: -6.278662499271.\u001B[0m\n",
      "\u001B[32m[I 2022-04-20 13:31:07,946]\u001B[0m Trial 413 finished with value: -6.280435538190986 and parameters: {'C': 996.4852913999704, 'gamma': 0.09962781960596859, 'degree': 6}. Best is trial 405 with value: -6.278662499271.\u001B[0m\n",
      "\u001B[32m[I 2022-04-20 13:31:08,186]\u001B[0m Trial 414 finished with value: -6.2866276976253115 and parameters: {'C': 988.134168575764, 'gamma': 0.09876232736328688, 'degree': 6}. Best is trial 405 with value: -6.278662499271.\u001B[0m\n",
      "\u001B[32m[I 2022-04-20 13:31:08,312]\u001B[0m Trial 415 finished with value: -6.938428628073761 and parameters: {'C': 283.71788580202235, 'gamma': 0.0745610814565863, 'degree': 6}. Best is trial 405 with value: -6.278662499271.\u001B[0m\n",
      "\u001B[32m[I 2022-04-20 13:31:08,633]\u001B[0m Trial 416 finished with value: -6.405496157747703 and parameters: {'C': 960.5455065061483, 'gamma': 0.08529680775006114, 'degree': 6}. Best is trial 405 with value: -6.278662499271.\u001B[0m\n",
      "\u001B[32m[I 2022-04-20 13:31:08,929]\u001B[0m Trial 417 finished with value: -6.281653173774553 and parameters: {'C': 994.5506044696473, 'gamma': 0.09939040284606422, 'degree': 6}. Best is trial 405 with value: -6.278662499271.\u001B[0m\n",
      "\u001B[32m[I 2022-04-20 13:31:09,096]\u001B[0m Trial 418 finished with value: -6.547110659350762 and parameters: {'C': 466.7069723767316, 'gamma': 0.09211450600092075, 'degree': 6}. Best is trial 405 with value: -6.278662499271.\u001B[0m\n",
      "\u001B[32m[I 2022-04-20 13:31:09,335]\u001B[0m Trial 419 finished with value: -6.28539157331454 and parameters: {'C': 996.514755117669, 'gamma': 0.09873859451464558, 'degree': 6}. Best is trial 405 with value: -6.278662499271.\u001B[0m\n",
      "\u001B[32m[I 2022-04-20 13:31:09,449]\u001B[0m Trial 420 finished with value: -7.143358002308243 and parameters: {'C': 63.98434439507605, 'gamma': 0.09933149225985567, 'degree': 6}. Best is trial 405 with value: -6.278662499271.\u001B[0m\n",
      "\u001B[32m[I 2022-04-20 13:31:09,668]\u001B[0m Trial 421 finished with value: -6.440538332486372 and parameters: {'C': 998.335257608805, 'gamma': 0.08116559405030914, 'degree': 6}. Best is trial 405 with value: -6.278662499271.\u001B[0m\n",
      "\u001B[32m[I 2022-04-20 13:31:09,883]\u001B[0m Trial 422 finished with value: -6.3742176068466385 and parameters: {'C': 606.6948068319118, 'gamma': 0.09972539549116727, 'degree': 6}. Best is trial 405 with value: -6.278662499271.\u001B[0m\n",
      "\u001B[32m[I 2022-04-20 13:31:10,177]\u001B[0m Trial 423 finished with value: -6.387354834399571 and parameters: {'C': 988.9529903560149, 'gamma': 0.08603398004428227, 'degree': 6}. Best is trial 405 with value: -6.278662499271.\u001B[0m\n",
      "\u001B[32m[I 2022-04-20 13:31:10,418]\u001B[0m Trial 424 finished with value: -6.36038308960985 and parameters: {'C': 998.9425819581394, 'gamma': 0.08898168585781237, 'degree': 6}. Best is trial 405 with value: -6.278662499271.\u001B[0m\n",
      "\u001B[32m[I 2022-04-20 13:31:10,592]\u001B[0m Trial 425 finished with value: -6.630858712157743 and parameters: {'C': 661.3887614748184, 'gamma': 0.07786646851985966, 'degree': 6}. Best is trial 405 with value: -6.278662499271.\u001B[0m\n",
      "\u001B[32m[I 2022-04-20 13:31:10,784]\u001B[0m Trial 426 finished with value: -6.4180753085693 and parameters: {'C': 712.1343547672005, 'gamma': 0.09117849580914295, 'degree': 6}. Best is trial 405 with value: -6.278662499271.\u001B[0m\n",
      "\u001B[32m[I 2022-04-20 13:31:10,885]\u001B[0m Trial 427 finished with value: -14.58096440956902 and parameters: {'C': 0.04989582944161958, 'gamma': 0.09999278317109558, 'degree': 6}. Best is trial 405 with value: -6.278662499271.\u001B[0m\n",
      "\u001B[32m[I 2022-04-20 13:31:10,984]\u001B[0m Trial 428 finished with value: -8.210370054822183 and parameters: {'C': 16.74375186766268, 'gamma': 0.08619803864530706, 'degree': 6}. Best is trial 405 with value: -6.278662499271.\u001B[0m\n",
      "\u001B[32m[I 2022-04-20 13:31:11,139]\u001B[0m Trial 429 finished with value: -6.543319301804102 and parameters: {'C': 374.2748595963008, 'gamma': 0.09998467674166954, 'degree': 6}. Best is trial 405 with value: -6.278662499271.\u001B[0m\n",
      "\u001B[32m[I 2022-04-20 13:31:11,365]\u001B[0m Trial 430 finished with value: -6.499252432087543 and parameters: {'C': 516.0467813841511, 'gamma': 0.09134837089909212, 'degree': 6}. Best is trial 405 with value: -6.278662499271.\u001B[0m\n",
      "\u001B[32m[I 2022-04-20 13:31:11,603]\u001B[0m Trial 431 finished with value: -6.6842218746060125 and parameters: {'C': 752.1867133915315, 'gamma': 0.07179159288116727, 'degree': 4}. Best is trial 405 with value: -6.278662499271.\u001B[0m\n",
      "\u001B[32m[I 2022-04-20 13:31:11,836]\u001B[0m Trial 432 finished with value: -6.446981671709649 and parameters: {'C': 997.297433268283, 'gamma': 0.08055845793868381, 'degree': 3}. Best is trial 405 with value: -6.278662499271.\u001B[0m\n",
      "\u001B[32m[I 2022-04-20 13:31:12,011]\u001B[0m Trial 433 finished with value: -6.456749350360805 and parameters: {'C': 629.2581656724385, 'gamma': 0.0910062829208104, 'degree': 6}. Best is trial 405 with value: -6.278662499271.\u001B[0m\n",
      "\u001B[32m[I 2022-04-20 13:31:12,218]\u001B[0m Trial 434 finished with value: -6.384474268928736 and parameters: {'C': 774.158057858516, 'gamma': 0.09267897232671049, 'degree': 2}. Best is trial 405 with value: -6.278662499271.\u001B[0m\n",
      "\u001B[32m[I 2022-04-20 13:31:12,383]\u001B[0m Trial 435 finished with value: -6.418517521053488 and parameters: {'C': 505.3096795375145, 'gamma': 0.09976728188558025, 'degree': 4}. Best is trial 405 with value: -6.278662499271.\u001B[0m\n",
      "\u001B[32m[I 2022-04-20 13:31:12,599]\u001B[0m Trial 436 finished with value: -6.492101176997953 and parameters: {'C': 755.8361086697549, 'gamma': 0.08361702012785245, 'degree': 6}. Best is trial 405 with value: -6.278662499271.\u001B[0m\n",
      "\u001B[32m[I 2022-04-20 13:31:12,869]\u001B[0m Trial 437 finished with value: -6.398580712614463 and parameters: {'C': 754.3396218768361, 'gamma': 0.09200341549120462, 'degree': 4}. Best is trial 405 with value: -6.278662499271.\u001B[0m\n",
      "\u001B[32m[I 2022-04-20 13:31:13,169]\u001B[0m Trial 438 finished with value: -6.651638268275623 and parameters: {'C': 562.2953701915983, 'gamma': 0.08114578680536653, 'degree': 3}. Best is trial 405 with value: -6.278662499271.\u001B[0m\n",
      "\u001B[32m[I 2022-04-20 13:31:13,501]\u001B[0m Trial 439 finished with value: -6.3914941561706335 and parameters: {'C': 770.7995228495242, 'gamma': 0.09209448901037236, 'degree': 6}. Best is trial 405 with value: -6.278662499271.\u001B[0m\n",
      "\u001B[32m[I 2022-04-20 13:31:13,948]\u001B[0m Trial 440 finished with value: -6.279703808869188 and parameters: {'C': 987.8337828220821, 'gamma': 0.09982457016358481, 'degree': 6}. Best is trial 405 with value: -6.278662499271.\u001B[0m\n",
      "\u001B[32m[I 2022-04-20 13:31:14,224]\u001B[0m Trial 441 finished with value: -6.853432536617802 and parameters: {'C': 411.7005429441992, 'gamma': 0.07407708244142973, 'degree': 6}. Best is trial 405 with value: -6.278662499271.\u001B[0m\n",
      "\u001B[32m[I 2022-04-20 13:31:14,670]\u001B[0m Trial 442 finished with value: -6.279428487600345 and parameters: {'C': 998.818866938875, 'gamma': 0.09981052112542198, 'degree': 6}. Best is trial 405 with value: -6.278662499271.\u001B[0m\n",
      "\u001B[32m[I 2022-04-20 13:31:14,910]\u001B[0m Trial 443 finished with value: -6.493650953207964 and parameters: {'C': 607.6433563969026, 'gamma': 0.08716150588236071, 'degree': 6}. Best is trial 405 with value: -6.278662499271.\u001B[0m\n",
      "\u001B[32m[I 2022-04-20 13:31:15,209]\u001B[0m Trial 444 finished with value: -6.476151362911222 and parameters: {'C': 764.7325860939969, 'gamma': 0.08469394432930495, 'degree': 6}. Best is trial 405 with value: -6.278662499271.\u001B[0m\n",
      "\u001B[32m[I 2022-04-20 13:31:15,610]\u001B[0m Trial 445 finished with value: -6.279927448812657 and parameters: {'C': 996.5801460275723, 'gamma': 0.09973920688012698, 'degree': 6}. Best is trial 405 with value: -6.278662499271.\u001B[0m\n",
      "\u001B[32m[I 2022-04-20 13:31:16,076]\u001B[0m Trial 446 finished with value: -6.281556139357367 and parameters: {'C': 989.3404546751698, 'gamma': 0.09943035846535717, 'degree': 6}. Best is trial 405 with value: -6.278662499271.\u001B[0m\n",
      "\u001B[32m[I 2022-04-20 13:31:16,391]\u001B[0m Trial 447 finished with value: -6.461928565796515 and parameters: {'C': 587.3870757871742, 'gamma': 0.09197881751330093, 'degree': 6}. Best is trial 405 with value: -6.278662499271.\u001B[0m\n",
      "\u001B[32m[I 2022-04-20 13:31:16,707]\u001B[0m Trial 448 finished with value: -6.328021534815296 and parameters: {'C': 756.3155694063616, 'gamma': 0.09977944029074282, 'degree': 6}. Best is trial 405 with value: -6.278662499271.\u001B[0m\n",
      "\u001B[32m[I 2022-04-20 13:31:17,019]\u001B[0m Trial 449 finished with value: -6.496241558943891 and parameters: {'C': 997.4785103625727, 'gamma': 0.07649946949124205, 'degree': 6}. Best is trial 405 with value: -6.278662499271.\u001B[0m\n",
      "\u001B[32m[I 2022-04-20 13:31:17,185]\u001B[0m Trial 450 finished with value: -7.0050470480564995 and parameters: {'C': 91.21436376321431, 'gamma': 0.09994171256684645, 'degree': 6}. Best is trial 405 with value: -6.278662499271.\u001B[0m\n",
      "\u001B[32m[I 2022-04-20 13:31:17,411]\u001B[0m Trial 451 finished with value: -6.627355100229917 and parameters: {'C': 483.7669199159532, 'gamma': 0.08691214874679809, 'degree': 6}. Best is trial 405 with value: -6.278662499271.\u001B[0m\n",
      "\u001B[32m[I 2022-04-20 13:31:17,789]\u001B[0m Trial 452 finished with value: -6.328037951511684 and parameters: {'C': 754.6111720021256, 'gamma': 0.09983895080574484, 'degree': 6}. Best is trial 405 with value: -6.278662499271.\u001B[0m\n",
      "\u001B[32m[I 2022-04-20 13:31:18,054]\u001B[0m Trial 453 finished with value: -6.431225154119581 and parameters: {'C': 990.587514085039, 'gamma': 0.08239134305122954, 'degree': 6}. Best is trial 405 with value: -6.278662499271.\u001B[0m\n",
      "\u001B[32m[I 2022-04-20 13:31:18,258]\u001B[0m Trial 454 finished with value: -6.45462244381582 and parameters: {'C': 649.6138444003612, 'gamma': 0.09048097786703035, 'degree': 6}. Best is trial 405 with value: -6.278662499271.\u001B[0m\n",
      "\u001B[32m[I 2022-04-20 13:31:18,410]\u001B[0m Trial 455 finished with value: -6.651280108180215 and parameters: {'C': 391.99348029445713, 'gamma': 0.0913648962759925, 'degree': 6}. Best is trial 405 with value: -6.278662499271.\u001B[0m\n",
      "\u001B[32m[I 2022-04-20 13:31:18,617]\u001B[0m Trial 456 finished with value: -6.472269368814558 and parameters: {'C': 999.0465021962553, 'gamma': 0.07824033926275209, 'degree': 6}. Best is trial 405 with value: -6.278662499271.\u001B[0m\n",
      "\u001B[32m[I 2022-04-20 13:31:18,747]\u001B[0m Trial 457 finished with value: -15.18279182495751 and parameters: {'C': 0.002526198693106783, 'gamma': 0.09993748068444001, 'degree': 6}. Best is trial 405 with value: -6.278662499271.\u001B[0m\n",
      "\u001B[32m[I 2022-04-20 13:31:18,918]\u001B[0m Trial 458 finished with value: -8.440844993711435 and parameters: {'C': 573.7526944212826, 'gamma': 0.008292565094014513, 'degree': 6}. Best is trial 405 with value: -6.278662499271.\u001B[0m\n",
      "\u001B[32m[I 2022-04-20 13:31:19,206]\u001B[0m Trial 459 finished with value: -6.485683507104743 and parameters: {'C': 729.1465314489893, 'gamma': 0.08495762186104366, 'degree': 6}. Best is trial 405 with value: -6.278662499271.\u001B[0m\n",
      "\u001B[32m[I 2022-04-20 13:31:19,320]\u001B[0m Trial 460 finished with value: -13.829665202878129 and parameters: {'C': 0.1270589729192776, 'gamma': 0.09181221338249425, 'degree': 6}. Best is trial 405 with value: -6.278662499271.\u001B[0m\n",
      "\u001B[32m[I 2022-04-20 13:31:19,588]\u001B[0m Trial 461 finished with value: -6.868878378275369 and parameters: {'C': 778.841141373451, 'gamma': 0.06128447804141581, 'degree': 6}. Best is trial 405 with value: -6.278662499271.\u001B[0m\n",
      "\u001B[32m[I 2022-04-20 13:31:19,760]\u001B[0m Trial 462 finished with value: -8.221159885986994 and parameters: {'C': 545.2100729783373, 'gamma': 0.011212375124158458, 'degree': 6}. Best is trial 405 with value: -6.278662499271.\u001B[0m\n",
      "\u001B[32m[I 2022-04-20 13:31:20,023]\u001B[0m Trial 463 finished with value: -6.320183247923504 and parameters: {'C': 773.9316300326286, 'gamma': 0.09998170030931657, 'degree': 6}. Best is trial 405 with value: -6.278662499271.\u001B[0m\n",
      "\u001B[32m[I 2022-04-20 13:31:20,276]\u001B[0m Trial 464 finished with value: -6.76101484813133 and parameters: {'C': 332.4675050494454, 'gamma': 0.08611271944920952, 'degree': 6}. Best is trial 405 with value: -6.278662499271.\u001B[0m\n",
      "\u001B[32m[I 2022-04-20 13:31:20,423]\u001B[0m Trial 465 finished with value: -10.806677671534988 and parameters: {'C': 1.183766650788137, 'gamma': 0.06954010615522943, 'degree': 6}. Best is trial 405 with value: -6.278662499271.\u001B[0m\n",
      "\u001B[32m[I 2022-04-20 13:31:20,637]\u001B[0m Trial 466 finished with value: -6.7918945755291515 and parameters: {'C': 242.19249253115822, 'gamma': 0.09173060222767121, 'degree': 4}. Best is trial 405 with value: -6.278662499271.\u001B[0m\n",
      "\u001B[32m[I 2022-04-20 13:31:20,919]\u001B[0m Trial 467 finished with value: -6.471869655246647 and parameters: {'C': 983.6247381860786, 'gamma': 0.07862059871808168, 'degree': 6}. Best is trial 405 with value: -6.278662499271.\u001B[0m\n",
      "\u001B[32m[I 2022-04-20 13:31:21,090]\u001B[0m Trial 468 finished with value: -6.4257655343563345 and parameters: {'C': 459.0869518483179, 'gamma': 0.09982117508894671, 'degree': 7}. Best is trial 405 with value: -6.278662499271.\u001B[0m\n",
      "\u001B[32m[I 2022-04-20 13:31:21,222]\u001B[0m Trial 469 finished with value: -7.510963985274574 and parameters: {'C': 613.9125818648456, 'gamma': 0.020592097831128902, 'degree': 6}. Best is trial 405 with value: -6.278662499271.\u001B[0m\n",
      "\u001B[32m[I 2022-04-20 13:31:21,417]\u001B[0m Trial 470 finished with value: -6.473296065187067 and parameters: {'C': 770.1096165423894, 'gamma': 0.08474604819005536, 'degree': 4}. Best is trial 405 with value: -6.278662499271.\u001B[0m\n",
      "\u001B[32m[I 2022-04-20 13:31:21,623]\u001B[0m Trial 471 finished with value: -6.403276797729511 and parameters: {'C': 788.1952391605024, 'gamma': 0.09041319230063158, 'degree': 5}. Best is trial 405 with value: -6.278662499271.\u001B[0m\n",
      "\u001B[32m[I 2022-04-20 13:31:21,956]\u001B[0m Trial 472 finished with value: -6.339331351161175 and parameters: {'C': 988.3359298055454, 'gamma': 0.09166737800287232, 'degree': 4}. Best is trial 405 with value: -6.278662499271.\u001B[0m\n",
      "\u001B[32m[I 2022-04-20 13:31:22,239]\u001B[0m Trial 473 finished with value: -6.454274393495813 and parameters: {'C': 995.1330165522727, 'gamma': 0.07995313077772864, 'degree': 6}. Best is trial 405 with value: -6.278662499271.\u001B[0m\n",
      "\u001B[32m[I 2022-04-20 13:31:22,482]\u001B[0m Trial 474 finished with value: -6.399840202557305 and parameters: {'C': 555.8982308923013, 'gamma': 0.09977104916416922, 'degree': 5}. Best is trial 405 with value: -6.278662499271.\u001B[0m\n",
      "\u001B[32m[I 2022-04-20 13:31:22,834]\u001B[0m Trial 475 finished with value: -6.491095148773169 and parameters: {'C': 646.8642991304677, 'gamma': 0.08638745871921671, 'degree': 5}. Best is trial 405 with value: -6.278662499271.\u001B[0m\n",
      "\u001B[32m[I 2022-04-20 13:31:23,350]\u001B[0m Trial 476 finished with value: -6.395636942851267 and parameters: {'C': 769.4454162554515, 'gamma': 0.09175695493248298, 'degree': 6}. Best is trial 405 with value: -6.278662499271.\u001B[0m\n",
      "\u001B[32m[I 2022-04-20 13:31:23,734]\u001B[0m Trial 477 finished with value: -6.560506992785578 and parameters: {'C': 994.3798370299211, 'gamma': 0.07249796170296179, 'degree': 5}. Best is trial 405 with value: -6.278662499271.\u001B[0m\n",
      "\u001B[32m[I 2022-04-20 13:31:23,890]\u001B[0m Trial 478 finished with value: -9.320681225307833 and parameters: {'C': 435.97945590104814, 'gamma': 0.0023119730316922722, 'degree': 5}. Best is trial 405 with value: -6.278662499271.\u001B[0m\n",
      "\u001B[32m[I 2022-04-20 13:31:24,151]\u001B[0m Trial 479 finished with value: -6.443993215096351 and parameters: {'C': 621.851733285396, 'gamma': 0.09254149891653858, 'degree': 6}. Best is trial 405 with value: -6.278662499271.\u001B[0m\n",
      "\u001B[32m[I 2022-04-20 13:31:24,485]\u001B[0m Trial 480 finished with value: -6.322518472329021 and parameters: {'C': 767.2451899936158, 'gamma': 0.09997697599338289, 'degree': 5}. Best is trial 405 with value: -6.278662499271.\u001B[0m\n",
      "\u001B[32m[I 2022-04-20 13:31:24,787]\u001B[0m Trial 481 finished with value: -6.679500537128672 and parameters: {'C': 507.20684248036184, 'gamma': 0.0823366734814076, 'degree': 4}. Best is trial 405 with value: -6.278662499271.\u001B[0m\n",
      "\u001B[32m[I 2022-04-20 13:31:25,116]\u001B[0m Trial 482 finished with value: -7.07848685735961 and parameters: {'C': 758.7630642443187, 'gamma': 0.04827719135737245, 'degree': 5}. Best is trial 405 with value: -6.278662499271.\u001B[0m\n",
      "\u001B[32m[I 2022-04-20 13:31:25,480]\u001B[0m Trial 483 finished with value: -6.450164308735792 and parameters: {'C': 616.9253691149793, 'gamma': 0.09211558174086949, 'degree': 5}. Best is trial 405 with value: -6.278662499271.\u001B[0m\n",
      "\u001B[32m[I 2022-04-20 13:31:25,887]\u001B[0m Trial 484 finished with value: -6.469938369357974 and parameters: {'C': 991.2881918275726, 'gamma': 0.07858687232950332, 'degree': 6}. Best is trial 405 with value: -6.278662499271.\u001B[0m\n",
      "\u001B[32m[I 2022-04-20 13:31:26,317]\u001B[0m Trial 485 finished with value: -6.280223878460302 and parameters: {'C': 994.8579957367459, 'gamma': 0.09968874047438042, 'degree': 5}. Best is trial 405 with value: -6.278662499271.\u001B[0m\n",
      "\u001B[32m[I 2022-04-20 13:31:26,735]\u001B[0m Trial 486 finished with value: -6.478766288004183 and parameters: {'C': 723.6355841703696, 'gamma': 0.0858170813391011, 'degree': 4}. Best is trial 405 with value: -6.278662499271.\u001B[0m\n",
      "\u001B[32m[I 2022-04-20 13:31:27,104]\u001B[0m Trial 487 finished with value: -6.33492866958031 and parameters: {'C': 998.5619623466766, 'gamma': 0.09196449208680513, 'degree': 5}. Best is trial 405 with value: -6.278662499271.\u001B[0m\n",
      "\u001B[32m[I 2022-04-20 13:31:27,401]\u001B[0m Trial 488 finished with value: -6.280444393089444 and parameters: {'C': 997.8557184569927, 'gamma': 0.09963771710033331, 'degree': 5}. Best is trial 405 with value: -6.278662499271.\u001B[0m\n",
      "\u001B[32m[I 2022-04-20 13:31:27,567]\u001B[0m Trial 489 finished with value: -6.68220573881989 and parameters: {'C': 443.26406688571586, 'gamma': 0.08574520331351311, 'degree': 4}. Best is trial 405 with value: -6.278662499271.\u001B[0m\n",
      "\u001B[32m[I 2022-04-20 13:31:27,784]\u001B[0m Trial 490 finished with value: -6.449235508910408 and parameters: {'C': 634.9603892038882, 'gamma': 0.09153913423044982, 'degree': 5}. Best is trial 405 with value: -6.278662499271.\u001B[0m\n",
      "\u001B[32m[I 2022-04-20 13:31:28,058]\u001B[0m Trial 491 finished with value: -6.31714814942527 and parameters: {'C': 782.8205823080687, 'gamma': 0.09999814715859903, 'degree': 5}. Best is trial 405 with value: -6.278662499271.\u001B[0m\n",
      "\u001B[32m[I 2022-04-20 13:31:28,313]\u001B[0m Trial 492 finished with value: -6.729833665383744 and parameters: {'C': 545.3458052799238, 'gamma': 0.07711425551994999, 'degree': 5}. Best is trial 405 with value: -6.278662499271.\u001B[0m\n",
      "\u001B[32m[I 2022-04-20 13:31:28,583]\u001B[0m Trial 493 finished with value: -6.449960088891527 and parameters: {'C': 780.8141254338669, 'gamma': 0.0860461174930675, 'degree': 5}. Best is trial 405 with value: -6.278662499271.\u001B[0m\n",
      "\u001B[32m[I 2022-04-20 13:31:28,758]\u001B[0m Trial 494 finished with value: -6.673614007749475 and parameters: {'C': 350.923486541164, 'gamma': 0.0920990205658015, 'degree': 4}. Best is trial 405 with value: -6.278662499271.\u001B[0m\n",
      "\u001B[32m[I 2022-04-20 13:31:28,979]\u001B[0m Trial 495 finished with value: -6.620269978196975 and parameters: {'C': 990.4053957909363, 'gamma': 0.06791336489399429, 'degree': 5}. Best is trial 405 with value: -6.278662499271.\u001B[0m\n",
      "\u001B[32m[I 2022-04-20 13:31:29,184]\u001B[0m Trial 496 finished with value: -6.363368512048042 and parameters: {'C': 647.3006525756322, 'gamma': 0.09973952424322766, 'degree': 5}. Best is trial 405 with value: -6.278662499271.\u001B[0m\n",
      "\u001B[32m[I 2022-04-20 13:31:29,323]\u001B[0m Trial 497 finished with value: -9.100680057238119 and parameters: {'C': 996.6635248631688, 'gamma': 0.002002721739122175, 'degree': 6}. Best is trial 405 with value: -6.278662499271.\u001B[0m\n",
      "\u001B[32m[I 2022-04-20 13:31:29,426]\u001B[0m Trial 498 finished with value: -12.274424908257602 and parameters: {'C': 0.4021292206884425, 'gamma': 0.08308745760414857, 'degree': 4}. Best is trial 405 with value: -6.278662499271.\u001B[0m\n",
      "\u001B[32m[I 2022-04-20 13:31:29,736]\u001B[0m Trial 499 finished with value: -6.4013160038753085 and parameters: {'C': 765.9929863398748, 'gamma': 0.091343188133852, 'degree': 5}. Best is trial 405 with value: -6.278662499271.\u001B[0m\n"
     ]
    }
   ],
   "source": [
    "study.optimize(svm_objective, n_trials=500)"
   ],
   "metadata": {
    "collapsed": false,
    "pycharm": {
     "name": "#%%\n"
    }
   }
  },
  {
   "cell_type": "code",
   "execution_count": 49,
   "outputs": [],
   "source": [
    "model   = SVR()"
   ],
   "metadata": {
    "collapsed": false,
    "pycharm": {
     "name": "#%%\n"
    }
   }
  },
  {
   "cell_type": "code",
   "execution_count": 50,
   "outputs": [
    {
     "data": {
      "text/plain": "SVR(C=994.4850407468983, degree=4, gamma=0.09999255025891654)"
     },
     "execution_count": 50,
     "metadata": {},
     "output_type": "execute_result"
    }
   ],
   "source": [
    "model.set_params(**study.best_params)"
   ],
   "metadata": {
    "collapsed": false,
    "pycharm": {
     "name": "#%%\n"
    }
   }
  },
  {
   "cell_type": "code",
   "execution_count": 51,
   "outputs": [
    {
     "data": {
      "text/plain": "SVR(C=994.4850407468983, degree=4, gamma=0.09999255025891654)"
     },
     "execution_count": 51,
     "metadata": {},
     "output_type": "execute_result"
    }
   ],
   "source": [
    "model.fit(x_filtr[x_filtr.columns[1:]],y_train)"
   ],
   "metadata": {
    "collapsed": false,
    "pycharm": {
     "name": "#%%\n"
    }
   }
  },
  {
   "cell_type": "code",
   "execution_count": 52,
   "outputs": [],
   "source": [
    "y_test_pred = model.predict(sc.transform(X_test)[Filter_.variables])"
   ],
   "metadata": {
    "collapsed": false,
    "pycharm": {
     "name": "#%%\n"
    }
   }
  },
  {
   "cell_type": "code",
   "execution_count": 56,
   "outputs": [],
   "source": [
    "y_train_pred =  model.predict(sc.transform(X_train)[Filter_.variables])"
   ],
   "metadata": {
    "collapsed": false,
    "pycharm": {
     "name": "#%%\n"
    }
   }
  },
  {
   "cell_type": "code",
   "execution_count": 53,
   "outputs": [
    {
     "data": {
      "text/plain": "6.023152811230787"
     },
     "execution_count": 53,
     "metadata": {},
     "output_type": "execute_result"
    }
   ],
   "source": [
    "mae(y_test_pred,y_test)"
   ],
   "metadata": {
    "collapsed": false,
    "pycharm": {
     "name": "#%%\n"
    }
   }
  },
  {
   "cell_type": "code",
   "execution_count": 57,
   "outputs": [
    {
     "data": {
      "text/plain": "2.5992473559942706"
     },
     "execution_count": 57,
     "metadata": {},
     "output_type": "execute_result"
    }
   ],
   "source": [
    "mae(y_train,y_train_pred)"
   ],
   "metadata": {
    "collapsed": false,
    "pycharm": {
     "name": "#%%\n"
    }
   }
  },
  {
   "cell_type": "code",
   "execution_count": 59,
   "outputs": [
    {
     "data": {
      "text/plain": "[<matplotlib.lines.Line2D at 0x1b703250780>]"
     },
     "execution_count": 59,
     "metadata": {},
     "output_type": "execute_result"
    },
    {
     "data": {
      "text/plain": "<Figure size 432x288 with 1 Axes>",
      "image/png": "[encoded data removed]"
     },
     "metadata": {
      "needs_background": "light"
     },
     "output_type": "display_data"
    }
   ],
   "source": [
    "plt.scatter(y_train_pred,y_train)\n",
    "plt.plot(np.linspace(0,130,10),np.linspace(0,130,10))"
   ],
   "metadata": {
    "collapsed": false,
    "pycharm": {
     "name": "#%%\n"
    }
   }
  },
  {
   "cell_type": "code",
   "execution_count": 54,
   "outputs": [
    {
     "data": {
      "text/plain": "[<matplotlib.lines.Line2D at 0x1b703188630>]"
     },
     "execution_count": 54,
     "metadata": {},
     "output_type": "execute_result"
    },
    {
     "data": {
      "text/plain": "<Figure size 432x288 with 1 Axes>",
      "image/png": "[encoded data removed]"
     },
     "metadata": {
      "needs_background": "light"
     },
     "output_type": "display_data"
    }
   ],
   "source": [
    "plt.scatter(y_test_pred,y_test)\n",
    "plt.plot(np.linspace(0,130,10),np.linspace(0,130,10))"
   ],
   "metadata": {
    "collapsed": false,
    "pycharm": {
     "name": "#%%\n"
    }
   }
  },
  {
   "cell_type": "code",
   "execution_count": null,
   "outputs": [],
   "source": [],
   "metadata": {
    "collapsed": false,
    "pycharm": {
     "name": "#%%\n"
    }
   }
  }
 ],
 "metadata": {
  "kernelspec": {
   "display_name": "biofuel",
   "language": "python",
   "name": "biofuel"
  },
  "language_info": {
   "codemirror_mode": {
    "name": "ipython",
    "version": 3
   },
   "file_extension": ".py",
   "mimetype": "text/x-python",
   "name": "python",
   "nbconvert_exporter": "python",
   "pygments_lexer": "ipython3",
   "version": "3.6.12"
  }
 },
 "nbformat": 4,
 "nbformat_minor": 5
}