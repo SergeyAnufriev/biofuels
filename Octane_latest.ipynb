{
 "cells": [
  {
   "cell_type": "markdown",
   "id": "6a4d6326",
   "metadata": {
    "pycharm": {
     "name": "#%% md\n"
    }
   },
   "source": [
    "# Octane modelling"
   ]
  },
  {
   "cell_type": "code",
   "execution_count": 1,
   "id": "a6f1f77f",
   "metadata": {
    "pycharm": {
     "name": "#%%\n"
    }
   },
   "outputs": [],
   "source": [
    "import pandas as pd\n",
    "import numpy as np\n",
    "import matplotlib.pyplot as plt\n",
    "from sklearn.model_selection import train_test_split\n",
    "from sklearn.svm import SVR\n",
    "from sklearn.feature_selection import SequentialFeatureSelector as sfs\n",
    "from sklearn.svm import OneClassSVM\n",
    "\n",
    "'''custom modules'''\n",
    "from filter_data import Select_descriptors\n",
    "from process_data import Scalar\n",
    "from simmilarity import mean_tanimato,Leverage\n",
    "from train import Model"
   ]
  },
  {
   "cell_type": "code",
   "execution_count": 2,
   "id": "3fd77b02",
   "metadata": {
    "pycharm": {
     "name": "#%%\n"
    }
   },
   "outputs": [],
   "source": [
    "df = pd.read_csv(r'C:\\Users\\zcemg08\\Desktop\\phys_data\\octane_data.csv')"
   ]
  },
  {
   "cell_type": "code",
   "execution_count": 3,
   "id": "eb458fc2",
   "metadata": {
    "pycharm": {
     "name": "#%%\n"
    }
   },
   "outputs": [
    {
     "data": {
      "text/plain": "         SMILES Compound Name  TARGET  PubChem       Source Literature Source  \\\n0         CCCCO     1-Butanol   98.00      263  Sandia, UML               [6]   \n1           CCO       Ethanol  109.00      702  Sandia, UML               [6]   \n2            CO      Methanol  109.00      887  Sandia, UML              [11]   \n3          CCCO    n-Propanol  104.00     1031  Sandia, UML               [6]   \n4  CC1=CC=CC=C1       Toluene  118.17     1140  Sandia, UML          [1], [3]   \n\n  RON_Molecules_x  Experiment    Data Set  Predicted  ...  Zagreb1 Zagreb2  \\\n0       N-BUTANOL        98.0  Validation      92.76  ...       14      12   \n1         ETHANOL       109.0    Training     107.77  ...        6       4   \n2        METHANOL       122.0    Training     105.38  ...        2       1   \n3      N-PROPANOL       104.0    Training     100.25  ...       10       8   \n4             NaN         NaN         NaN        NaN  ...       30      31   \n\n   mZagreb1  mZagreb2       dev       y       ron_choice  Complexity  XLogP  \\\n0  2.750000  1.500000  0.000000   98.00   abs dev < 0.01          13    0.9   \n1  2.250000  1.000000  0.000000  109.00   abs dev < 0.01           2   -0.1   \n2  2.000000  1.000000  0.059633  109.00  WIKIPEDIA 108.7           2   -0.5   \n3  2.500000  1.250000  0.000000  104.00   abs dev < 0.01           7    0.3   \n4  2.361111  1.666667       NaN  118.17   no alternative          42    2.7   \n\n   boiling_point_K  \n0           390.81  \n1           351.44  \n2           337.85  \n3           370.35  \n4           384.62  \n\n[5 rows x 894 columns]",
      "text/html": "<div>\n<style scoped>\n    .dataframe tbody tr th:only-of-type {\n        vertical-align: middle;\n    }\n\n    .dataframe tbody tr th {\n        vertical-align: top;\n    }\n\n    .dataframe thead th {\n        text-align: right;\n    }\n</style>\n<table border=\"1\" class=\"dataframe\">\n  <thead>\n    <tr style=\"text-align: right;\">\n      <th></th>\n      <th>SMILES</th>\n      <th>Compound Name</th>\n      <th>TARGET</th>\n      <th>PubChem</th>\n      <th>Source</th>\n      <th>Literature Source</th>\n      <th>RON_Molecules_x</th>\n      <th>Experiment</th>\n      <th>Data Set</th>\n      <th>Predicted</th>\n      <th>...</th>\n      <th>Zagreb1</th>\n      <th>Zagreb2</th>\n      <th>mZagreb1</th>\n      <th>mZagreb2</th>\n      <th>dev</th>\n      <th>y</th>\n      <th>ron_choice</th>\n      <th>Complexity</th>\n      <th>XLogP</th>\n      <th>boiling_point_K</th>\n    </tr>\n  </thead>\n  <tbody>\n    <tr>\n      <th>0</th>\n      <td>CCCCO</td>\n      <td>1-Butanol</td>\n      <td>98.00</td>\n      <td>263</td>\n      <td>Sandia, UML</td>\n      <td>[6]</td>\n      <td>N-BUTANOL</td>\n      <td>98.0</td>\n      <td>Validation</td>\n      <td>92.76</td>\n      <td>...</td>\n      <td>14</td>\n      <td>12</td>\n      <td>2.750000</td>\n      <td>1.500000</td>\n      <td>0.000000</td>\n      <td>98.00</td>\n      <td>abs dev &lt; 0.01</td>\n      <td>13</td>\n      <td>0.9</td>\n      <td>390.81</td>\n    </tr>\n    <tr>\n      <th>1</th>\n      <td>CCO</td>\n      <td>Ethanol</td>\n      <td>109.00</td>\n      <td>702</td>\n      <td>Sandia, UML</td>\n      <td>[6]</td>\n      <td>ETHANOL</td>\n      <td>109.0</td>\n      <td>Training</td>\n      <td>107.77</td>\n      <td>...</td>\n      <td>6</td>\n      <td>4</td>\n      <td>2.250000</td>\n      <td>1.000000</td>\n      <td>0.000000</td>\n      <td>109.00</td>\n      <td>abs dev &lt; 0.01</td>\n      <td>2</td>\n      <td>-0.1</td>\n      <td>351.44</td>\n    </tr>\n    <tr>\n      <th>2</th>\n      <td>CO</td>\n      <td>Methanol</td>\n      <td>109.00</td>\n      <td>887</td>\n      <td>Sandia, UML</td>\n      <td>[11]</td>\n      <td>METHANOL</td>\n      <td>122.0</td>\n      <td>Training</td>\n      <td>105.38</td>\n      <td>...</td>\n      <td>2</td>\n      <td>1</td>\n      <td>2.000000</td>\n      <td>1.000000</td>\n      <td>0.059633</td>\n      <td>109.00</td>\n      <td>WIKIPEDIA 108.7</td>\n      <td>2</td>\n      <td>-0.5</td>\n      <td>337.85</td>\n    </tr>\n    <tr>\n      <th>3</th>\n      <td>CCCO</td>\n      <td>n-Propanol</td>\n      <td>104.00</td>\n      <td>1031</td>\n      <td>Sandia, UML</td>\n      <td>[6]</td>\n      <td>N-PROPANOL</td>\n      <td>104.0</td>\n      <td>Training</td>\n      <td>100.25</td>\n      <td>...</td>\n      <td>10</td>\n      <td>8</td>\n      <td>2.500000</td>\n      <td>1.250000</td>\n      <td>0.000000</td>\n      <td>104.00</td>\n      <td>abs dev &lt; 0.01</td>\n      <td>7</td>\n      <td>0.3</td>\n      <td>370.35</td>\n    </tr>\n    <tr>\n      <th>4</th>\n      <td>CC1=CC=CC=C1</td>\n      <td>Toluene</td>\n      <td>118.17</td>\n      <td>1140</td>\n      <td>Sandia, UML</td>\n      <td>[1], [3]</td>\n      <td>NaN</td>\n      <td>NaN</td>\n      <td>NaN</td>\n      <td>NaN</td>\n      <td>...</td>\n      <td>30</td>\n      <td>31</td>\n      <td>2.361111</td>\n      <td>1.666667</td>\n      <td>NaN</td>\n      <td>118.17</td>\n      <td>no alternative</td>\n      <td>42</td>\n      <td>2.7</td>\n      <td>384.62</td>\n    </tr>\n  </tbody>\n</table>\n<p>5 rows × 894 columns</p>\n</div>"
     },
     "execution_count": 3,
     "metadata": {},
     "output_type": "execute_result"
    }
   ],
   "source": [
    "df.head(5)"
   ]
  },
  {
   "cell_type": "markdown",
   "id": "2837adf4",
   "metadata": {
    "pycharm": {
     "name": "#%% md\n"
    }
   },
   "source": [
    "### 1. Data preprocessing"
   ]
  },
  {
   "cell_type": "code",
   "execution_count": 4,
   "id": "cbceaddb",
   "metadata": {
    "pycharm": {
     "name": "#%%\n"
    }
   },
   "outputs": [
    {
     "name": "stdout",
     "output_type": "stream",
     "text": [
      "Columns with missing values are = ['Compound Name', 'TARGET', 'Source', 'Literature Source', 'RON_Molecules_x', 'Experiment', 'Data Set', 'Predicted', 'Absolute  Error', '#Name', 'RON', 'dev', 'boiling_point_K']\n"
     ]
    }
   ],
   "source": [
    "### 1.1 Remove columns with missing values\n",
    "misssing_val_cols = df.columns[df.isnull().any()]\n",
    "print('Columns with missing values are = {}'.format(list(misssing_val_cols)))"
   ]
  },
  {
   "cell_type": "code",
   "execution_count": 5,
   "id": "98aa32c6",
   "metadata": {
    "pycharm": {
     "name": "#%%\n"
    }
   },
   "outputs": [],
   "source": [
    "### 1.2 Remove columns with irrelevant to modelling values\n",
    "df_ = df.drop(misssing_val_cols,axis=1)\n",
    "\n",
    "irrelevant_to_pred_columns = ['PubChem','ron_choice']\n",
    "\n",
    "df_ = df_.drop(irrelevant_to_pred_columns,axis=1)"
   ]
  },
  {
   "cell_type": "code",
   "execution_count": 6,
   "id": "81b2e4f0",
   "metadata": {
    "pycharm": {
     "name": "#%%\n"
    }
   },
   "outputs": [
    {
     "name": "stdout",
     "output_type": "stream",
     "text": [
      "final dataset sie = (492, 879)\n"
     ]
    }
   ],
   "source": [
    "print('final dataset sie = {}'.format(df_.shape))"
   ]
  },
  {
   "cell_type": "markdown",
   "id": "ce576b4d",
   "metadata": {
    "pycharm": {
     "name": "#%% md\n"
    }
   },
   "source": [
    "### 2. Split dataset (standartization must be applied on train set only )"
   ]
  },
  {
   "cell_type": "code",
   "execution_count": 11,
   "id": "4af1d8e6",
   "metadata": {
    "pycharm": {
     "name": "#%%\n"
    }
   },
   "outputs": [],
   "source": [
    "seed = 42 # Fix random seed to make split reproducible (experiment must be reproducible)\n",
    "\n",
    "X_train, X_test, y_train, y_test = train_test_split(df_.drop('y',axis=1), df_['y'], test_size=0.2, random_state=seed)"
   ]
  },
  {
   "cell_type": "code",
   "execution_count": 12,
   "id": "6b681db2",
   "metadata": {
    "pycharm": {
     "name": "#%%\n"
    }
   },
   "outputs": [
    {
     "name": "stdout",
     "output_type": "stream",
     "text": [
      "Train dataset size = (393, 878)\n",
      "Test dataset size = (99, 878)\n"
     ]
    }
   ],
   "source": [
    "print('Train dataset size = {}'.format(X_train.shape))\n",
    "print('Test dataset size = {}'.format(X_test.shape))"
   ]
  },
  {
   "cell_type": "code",
   "execution_count": 13,
   "outputs": [],
   "source": [
    "# Normilise features, so varince threshold can be applied\n",
    "sc         = Scalar('minmax')\n",
    "\n",
    "# Wrapper feature selector\n",
    "wrapper    = sfs(SVR(gamma='auto'),\n",
    "              n_features_to_select=50,\n",
    "              scoring='neg_mean_squared_error',\n",
    "              cv=5)\n",
    "\n",
    "# Applies varience threshold, removes high correlated features, removes higly skewed vars and applies wrapper in the end.\n",
    "\n",
    "Filter_    = Select_descriptors(0.01,0.95,None,wrapper)\n",
    "\n",
    "sc.fit(X_train)"
   ],
   "metadata": {
    "collapsed": false,
    "pycharm": {
     "name": "#%%\n"
    }
   }
  },
  {
   "cell_type": "code",
   "execution_count": 14,
   "outputs": [],
   "source": [
    "X_train  = Filter_.transform(sc.transform(X_train),y_train)"
   ],
   "metadata": {
    "collapsed": false,
    "pycharm": {
     "name": "#%%\n"
    }
   }
  },
  {
   "cell_type": "code",
   "execution_count": 15,
   "outputs": [
    {
     "data": {
      "text/plain": "                SMILES  nAromAtom     nAtom   AATS1dv    AATS1s    AATS2s  \\\n0        Cc1c(C)cccc1C        1.0  0.517241  0.576389  0.282591  0.282991   \n1         CC1CCCC(C1)C        0.0  0.620690  0.210069  0.047170  0.042662   \n2     CC(c1ccccc1)(C)C        1.0  0.620690  0.513889  0.259434  0.279715   \n3       CC(CC1CCCCC1)C        0.0  0.827586  0.202778  0.040431  0.042318   \n4          CC1CCC(O1)C        0.0  0.448276  0.424342  0.155341  0.268083   \n..                 ...        ...       ...       ...       ...       ...   \n388        CC(C)C(=O)C        0.0  0.344828  0.426389  0.350704  0.389112   \n389  C[C@@H]1C[C@@H]1C        0.0  0.310345  0.241667  0.067984  0.027513   \n390     CCC(C(C)C)(C)C        0.0  0.689655  0.189167  0.109973  0.054944   \n391        CC(CC(C)C)C        0.0  0.586207  0.138258  0.099240  0.055962   \n392       CCCC(C)(C)CC        0.0  0.689655  0.165833  0.094340  0.050891   \n\n      ATSC1dv    ATSC2Z  AATSC1dv   AATSC2v  ...  EState_VSA3  EState_VSA4  \\\n0    0.730492  0.700621  0.740440  0.878198  ...     0.000000     0.000000   \n1    0.230335  0.359969  0.366775  0.521145  ...     0.000000     0.460837   \n2    0.646858  0.675433  0.629969  0.813625  ...     0.290739     0.000000   \n3    0.230335  0.271418  0.349309  0.476476  ...     0.000000     0.460837   \n4    0.511587  0.511983  0.614242  0.524690  ...     0.655463     0.000000   \n..        ...       ...       ...       ...  ...          ...          ...   \n388  0.529771  0.607913  0.721905  0.674332  ...     0.000000     0.000000   \n389  0.253369  0.315694  0.442458  0.397063  ...     0.000000     0.460837   \n390  0.393751  0.663873  0.462411  0.776652  ...     0.290739     0.230419   \n391  0.206039  0.439732  0.357965  0.587151  ...     0.000000     0.460837   \n392  0.301616  0.531046  0.406521  0.664978  ...     0.290739     0.000000   \n\n     EState_VSA5  EState_VSA8    nARing      nRot  RotRatio     JGT10  Radius  \\\n0       0.324926     0.762583  0.000000  0.000000  0.000000  0.578490    0.50   \n1       0.500000     0.270972  0.333333  0.000000  0.000000  0.537208    0.50   \n2       0.108309     1.000000  0.000000  0.000000  0.000000  0.646033    0.50   \n3       0.750000     0.270972  0.333333  0.285714  0.257143  0.457626    0.50   \n4       0.250000     0.270972  0.333333  0.000000  0.000000  0.583679    0.25   \n..           ...          ...       ...       ...       ...       ...     ...   \n388     0.000000     0.000000  0.000000  0.142857  0.257143  0.637146    0.25   \n389     0.125000     0.270972  0.333333  0.000000  0.000000  0.703875    0.25   \n390     0.125000     0.677429  0.000000  0.285714  0.367347  0.820111    0.25   \n391     0.125000     0.541943  0.000000  0.285714  0.428571  0.703413    0.25   \n392     0.375000     0.541943  0.000000  0.428571  0.551020  0.727173    0.50   \n\n        XLogP  \n0    0.640625  \n1    0.671875  \n2    0.718750  \n3    0.828125  \n4    0.265625  \n..        ...  \n388  0.203125  \n389  0.406250  \n390  0.671875  \n391  0.609375  \n392  0.718750  \n\n[393 rows x 51 columns]",
      "text/html": "<div>\n<style scoped>\n    .dataframe tbody tr th:only-of-type {\n        vertical-align: middle;\n    }\n\n    .dataframe tbody tr th {\n        vertical-align: top;\n    }\n\n    .dataframe thead th {\n        text-align: right;\n    }\n</style>\n<table border=\"1\" class=\"dataframe\">\n  <thead>\n    <tr style=\"text-align: right;\">\n      <th></th>\n      <th>SMILES</th>\n      <th>nAromAtom</th>\n      <th>nAtom</th>\n      <th>AATS1dv</th>\n      <th>AATS1s</th>\n      <th>AATS2s</th>\n      <th>ATSC1dv</th>\n      <th>ATSC2Z</th>\n      <th>AATSC1dv</th>\n      <th>AATSC2v</th>\n      <th>...</th>\n      <th>EState_VSA3</th>\n      <th>EState_VSA4</th>\n      <th>EState_VSA5</th>\n      <th>EState_VSA8</th>\n      <th>nARing</th>\n      <th>nRot</th>\n      <th>RotRatio</th>\n      <th>JGT10</th>\n      <th>Radius</th>\n      <th>XLogP</th>\n    </tr>\n  </thead>\n  <tbody>\n    <tr>\n      <th>0</th>\n      <td>Cc1c(C)cccc1C</td>\n      <td>1.0</td>\n      <td>0.517241</td>\n      <td>0.576389</td>\n      <td>0.282591</td>\n      <td>0.282991</td>\n      <td>0.730492</td>\n      <td>0.700621</td>\n      <td>0.740440</td>\n      <td>0.878198</td>\n      <td>...</td>\n      <td>0.000000</td>\n      <td>0.000000</td>\n      <td>0.324926</td>\n      <td>0.762583</td>\n      <td>0.000000</td>\n      <td>0.000000</td>\n      <td>0.000000</td>\n      <td>0.578490</td>\n      <td>0.50</td>\n      <td>0.640625</td>\n    </tr>\n    <tr>\n      <th>1</th>\n      <td>CC1CCCC(C1)C</td>\n      <td>0.0</td>\n      <td>0.620690</td>\n      <td>0.210069</td>\n      <td>0.047170</td>\n      <td>0.042662</td>\n      <td>0.230335</td>\n      <td>0.359969</td>\n      <td>0.366775</td>\n      <td>0.521145</td>\n      <td>...</td>\n      <td>0.000000</td>\n      <td>0.460837</td>\n      <td>0.500000</td>\n      <td>0.270972</td>\n      <td>0.333333</td>\n      <td>0.000000</td>\n      <td>0.000000</td>\n      <td>0.537208</td>\n      <td>0.50</td>\n      <td>0.671875</td>\n    </tr>\n    <tr>\n      <th>2</th>\n      <td>CC(c1ccccc1)(C)C</td>\n      <td>1.0</td>\n      <td>0.620690</td>\n      <td>0.513889</td>\n      <td>0.259434</td>\n      <td>0.279715</td>\n      <td>0.646858</td>\n      <td>0.675433</td>\n      <td>0.629969</td>\n      <td>0.813625</td>\n      <td>...</td>\n      <td>0.290739</td>\n      <td>0.000000</td>\n      <td>0.108309</td>\n      <td>1.000000</td>\n      <td>0.000000</td>\n      <td>0.000000</td>\n      <td>0.000000</td>\n      <td>0.646033</td>\n      <td>0.50</td>\n      <td>0.718750</td>\n    </tr>\n    <tr>\n      <th>3</th>\n      <td>CC(CC1CCCCC1)C</td>\n      <td>0.0</td>\n      <td>0.827586</td>\n      <td>0.202778</td>\n      <td>0.040431</td>\n      <td>0.042318</td>\n      <td>0.230335</td>\n      <td>0.271418</td>\n      <td>0.349309</td>\n      <td>0.476476</td>\n      <td>...</td>\n      <td>0.000000</td>\n      <td>0.460837</td>\n      <td>0.750000</td>\n      <td>0.270972</td>\n      <td>0.333333</td>\n      <td>0.285714</td>\n      <td>0.257143</td>\n      <td>0.457626</td>\n      <td>0.50</td>\n      <td>0.828125</td>\n    </tr>\n    <tr>\n      <th>4</th>\n      <td>CC1CCC(O1)C</td>\n      <td>0.0</td>\n      <td>0.448276</td>\n      <td>0.424342</td>\n      <td>0.155341</td>\n      <td>0.268083</td>\n      <td>0.511587</td>\n      <td>0.511983</td>\n      <td>0.614242</td>\n      <td>0.524690</td>\n      <td>...</td>\n      <td>0.655463</td>\n      <td>0.000000</td>\n      <td>0.250000</td>\n      <td>0.270972</td>\n      <td>0.333333</td>\n      <td>0.000000</td>\n      <td>0.000000</td>\n      <td>0.583679</td>\n      <td>0.25</td>\n      <td>0.265625</td>\n    </tr>\n    <tr>\n      <th>...</th>\n      <td>...</td>\n      <td>...</td>\n      <td>...</td>\n      <td>...</td>\n      <td>...</td>\n      <td>...</td>\n      <td>...</td>\n      <td>...</td>\n      <td>...</td>\n      <td>...</td>\n      <td>...</td>\n      <td>...</td>\n      <td>...</td>\n      <td>...</td>\n      <td>...</td>\n      <td>...</td>\n      <td>...</td>\n      <td>...</td>\n      <td>...</td>\n      <td>...</td>\n      <td>...</td>\n    </tr>\n    <tr>\n      <th>388</th>\n      <td>CC(C)C(=O)C</td>\n      <td>0.0</td>\n      <td>0.344828</td>\n      <td>0.426389</td>\n      <td>0.350704</td>\n      <td>0.389112</td>\n      <td>0.529771</td>\n      <td>0.607913</td>\n      <td>0.721905</td>\n      <td>0.674332</td>\n      <td>...</td>\n      <td>0.000000</td>\n      <td>0.000000</td>\n      <td>0.000000</td>\n      <td>0.000000</td>\n      <td>0.000000</td>\n      <td>0.142857</td>\n      <td>0.257143</td>\n      <td>0.637146</td>\n      <td>0.25</td>\n      <td>0.203125</td>\n    </tr>\n    <tr>\n      <th>389</th>\n      <td>C[C@@H]1C[C@@H]1C</td>\n      <td>0.0</td>\n      <td>0.310345</td>\n      <td>0.241667</td>\n      <td>0.067984</td>\n      <td>0.027513</td>\n      <td>0.253369</td>\n      <td>0.315694</td>\n      <td>0.442458</td>\n      <td>0.397063</td>\n      <td>...</td>\n      <td>0.000000</td>\n      <td>0.460837</td>\n      <td>0.125000</td>\n      <td>0.270972</td>\n      <td>0.333333</td>\n      <td>0.000000</td>\n      <td>0.000000</td>\n      <td>0.703875</td>\n      <td>0.25</td>\n      <td>0.406250</td>\n    </tr>\n    <tr>\n      <th>390</th>\n      <td>CCC(C(C)C)(C)C</td>\n      <td>0.0</td>\n      <td>0.689655</td>\n      <td>0.189167</td>\n      <td>0.109973</td>\n      <td>0.054944</td>\n      <td>0.393751</td>\n      <td>0.663873</td>\n      <td>0.462411</td>\n      <td>0.776652</td>\n      <td>...</td>\n      <td>0.290739</td>\n      <td>0.230419</td>\n      <td>0.125000</td>\n      <td>0.677429</td>\n      <td>0.000000</td>\n      <td>0.285714</td>\n      <td>0.367347</td>\n      <td>0.820111</td>\n      <td>0.25</td>\n      <td>0.671875</td>\n    </tr>\n    <tr>\n      <th>391</th>\n      <td>CC(CC(C)C)C</td>\n      <td>0.0</td>\n      <td>0.586207</td>\n      <td>0.138258</td>\n      <td>0.099240</td>\n      <td>0.055962</td>\n      <td>0.206039</td>\n      <td>0.439732</td>\n      <td>0.357965</td>\n      <td>0.587151</td>\n      <td>...</td>\n      <td>0.000000</td>\n      <td>0.460837</td>\n      <td>0.125000</td>\n      <td>0.541943</td>\n      <td>0.000000</td>\n      <td>0.285714</td>\n      <td>0.428571</td>\n      <td>0.703413</td>\n      <td>0.25</td>\n      <td>0.609375</td>\n    </tr>\n    <tr>\n      <th>392</th>\n      <td>CCCC(C)(C)CC</td>\n      <td>0.0</td>\n      <td>0.689655</td>\n      <td>0.165833</td>\n      <td>0.094340</td>\n      <td>0.050891</td>\n      <td>0.301616</td>\n      <td>0.531046</td>\n      <td>0.406521</td>\n      <td>0.664978</td>\n      <td>...</td>\n      <td>0.290739</td>\n      <td>0.000000</td>\n      <td>0.375000</td>\n      <td>0.541943</td>\n      <td>0.000000</td>\n      <td>0.428571</td>\n      <td>0.551020</td>\n      <td>0.727173</td>\n      <td>0.50</td>\n      <td>0.718750</td>\n    </tr>\n  </tbody>\n</table>\n<p>393 rows × 51 columns</p>\n</div>"
     },
     "execution_count": 15,
     "metadata": {},
     "output_type": "execute_result"
    }
   ],
   "source": [
    "X_train.head(5)"
   ],
   "metadata": {
    "collapsed": false,
    "pycharm": {
     "name": "#%%\n"
    }
   }
  },
  {
   "cell_type": "code",
   "execution_count": 16,
   "outputs": [
    {
     "name": "stderr",
     "output_type": "stream",
     "text": [
      "\u001B[32m[I 2022-05-11 15:15:10,580]\u001B[0m A new study created in memory with name: no-name-504f26a5-2caa-4337-8674-9d582e7e6c46\u001B[0m\n",
      "\u001B[32m[I 2022-05-11 15:15:10,778]\u001B[0m Trial 0 finished with value: -8.338456117635626 and parameters: {'C': 522.221571478321, 'gamma': 0.010065072486894037, 'degree': 4}. Best is trial 0 with value: -8.338456117635626.\u001B[0m\n",
      "\u001B[32m[I 2022-05-11 15:15:10,932]\u001B[0m Trial 1 finished with value: -14.281291111991578 and parameters: {'C': 2.72158644432216, 'gamma': 0.0019303427026425909, 'degree': 6}. Best is trial 0 with value: -8.338456117635626.\u001B[0m\n",
      "\u001B[32m[I 2022-05-11 15:15:11,104]\u001B[0m Trial 2 finished with value: -15.21379430505775 and parameters: {'C': 0.00689814285361067, 'gamma': 0.0014986341595808403, 'degree': 10}. Best is trial 0 with value: -8.338456117635626.\u001B[0m\n",
      "\u001B[32m[I 2022-05-11 15:15:11,247]\u001B[0m Trial 3 finished with value: -9.11664511669588 and parameters: {'C': 848.8239982382102, 'gamma': 0.002183479176961659, 'degree': 3}. Best is trial 0 with value: -8.338456117635626.\u001B[0m\n",
      "\u001B[32m[I 2022-05-11 15:15:11,404]\u001B[0m Trial 4 finished with value: -9.934781270179792 and parameters: {'C': 93.6495476169384, 'gamma': 0.0036801263586286937, 'degree': 7}. Best is trial 0 with value: -8.338456117635626.\u001B[0m\n",
      "\u001B[32m[I 2022-05-11 15:15:11,560]\u001B[0m Trial 5 finished with value: -9.187459950593643 and parameters: {'C': 663.3615010920605, 'gamma': 0.0023018940008002337, 'degree': 9}. Best is trial 0 with value: -8.338456117635626.\u001B[0m\n",
      "\u001B[32m[I 2022-05-11 15:15:11,691]\u001B[0m Trial 6 finished with value: -15.128790349921843 and parameters: {'C': 0.028542738897161822, 'gamma': 0.016786109903312574, 'degree': 4}. Best is trial 0 with value: -8.338456117635626.\u001B[0m\n",
      "\u001B[32m[I 2022-05-11 15:15:11,933]\u001B[0m Trial 7 finished with value: -14.966764199803965 and parameters: {'C': 0.22043019551246062, 'gamma': 0.006008758916626243, 'degree': 7}. Best is trial 0 with value: -8.338456117635626.\u001B[0m\n",
      "\u001B[32m[I 2022-05-11 15:15:12,146]\u001B[0m Trial 8 finished with value: -14.792984216235528 and parameters: {'C': 0.5431081731190774, 'gamma': 0.004061924978644413, 'degree': 9}. Best is trial 0 with value: -8.338456117635626.\u001B[0m\n",
      "\u001B[32m[I 2022-05-11 15:15:12,342]\u001B[0m Trial 9 finished with value: -14.848002089956049 and parameters: {'C': 0.3489232927410817, 'gamma': 0.00553619614659894, 'degree': 8}. Best is trial 0 with value: -8.338456117635626.\u001B[0m\n",
      "\u001B[32m[I 2022-05-11 15:15:12,498]\u001B[0m Trial 10 finished with value: -8.466530416615473 and parameters: {'C': 14.871809186637536, 'gamma': 0.07418896881607809, 'degree': 2}. Best is trial 0 with value: -8.338456117635626.\u001B[0m\n",
      "\u001B[32m[I 2022-05-11 15:15:12,627]\u001B[0m Trial 11 finished with value: -7.931411762425476 and parameters: {'C': 22.23016241441254, 'gamma': 0.09245326460128396, 'degree': 2}. Best is trial 11 with value: -7.931411762425476.\u001B[0m\n",
      "\u001B[32m[I 2022-05-11 15:15:12,734]\u001B[0m Trial 12 finished with value: -7.872554413128644 and parameters: {'C': 30.26999222206722, 'gamma': 0.07984272941815321, 'degree': 4}. Best is trial 12 with value: -7.872554413128644.\u001B[0m\n",
      "\u001B[32m[I 2022-05-11 15:15:12,846]\u001B[0m Trial 13 finished with value: -7.940017225769386 and parameters: {'C': 23.693041626063266, 'gamma': 0.0879362788402125, 'degree': 2}. Best is trial 12 with value: -7.872554413128644.\u001B[0m\n",
      "\u001B[32m[I 2022-05-11 15:15:12,940]\u001B[0m Trial 14 finished with value: -9.961927808103022 and parameters: {'C': 6.314142373149154, 'gamma': 0.03749865852965003, 'degree': 5}. Best is trial 12 with value: -7.872554413128644.\u001B[0m\n",
      "\u001B[32m[I 2022-05-11 15:15:13,043]\u001B[0m Trial 15 finished with value: -8.127239308324958 and parameters: {'C': 67.52379373381164, 'gamma': 0.039829445438460086, 'degree': 3}. Best is trial 12 with value: -7.872554413128644.\u001B[0m\n",
      "\u001B[32m[I 2022-05-11 15:15:13,172]\u001B[0m Trial 16 finished with value: -8.141696232209979 and parameters: {'C': 62.41106389846498, 'gamma': 0.04123639417778697, 'degree': 4}. Best is trial 12 with value: -7.872554413128644.\u001B[0m\n",
      "\u001B[32m[I 2022-05-11 15:15:13,280]\u001B[0m Trial 17 finished with value: -11.440284828444996 and parameters: {'C': 1.7635197924533048, 'gamma': 0.02524165297805342, 'degree': 2}. Best is trial 12 with value: -7.872554413128644.\u001B[0m\n",
      "\u001B[32m[I 2022-05-11 15:15:13,375]\u001B[0m Trial 18 finished with value: -14.511232904940291 and parameters: {'C': 0.08215759094154318, 'gamma': 0.05786090918664989, 'degree': 5}. Best is trial 12 with value: -7.872554413128644.\u001B[0m\n",
      "\u001B[32m[I 2022-05-11 15:15:13,483]\u001B[0m Trial 19 finished with value: -15.211762253486075 and parameters: {'C': 0.0013503361710565653, 'gamma': 0.01640970113641839, 'degree': 3}. Best is trial 12 with value: -7.872554413128644.\u001B[0m\n",
      "\u001B[32m[I 2022-05-11 15:15:13,641]\u001B[0m Trial 20 finished with value: -6.8860779063457755 and parameters: {'C': 176.64434982680365, 'gamma': 0.09286958562629954, 'degree': 5}. Best is trial 20 with value: -6.8860779063457755.\u001B[0m\n",
      "\u001B[32m[I 2022-05-11 15:15:13,795]\u001B[0m Trial 21 finished with value: -6.890764721246839 and parameters: {'C': 172.72118000662013, 'gamma': 0.09246206269792519, 'degree': 5}. Best is trial 20 with value: -6.8860779063457755.\u001B[0m\n",
      "\u001B[32m[I 2022-05-11 15:15:13,981]\u001B[0m Trial 22 finished with value: -7.584017277528323 and parameters: {'C': 142.31463194203602, 'gamma': 0.04434065199862477, 'degree': 5}. Best is trial 20 with value: -6.8860779063457755.\u001B[0m\n",
      "\u001B[32m[I 2022-05-11 15:15:14,091]\u001B[0m Trial 23 finished with value: -7.2807748418769815 and parameters: {'C': 133.0969737120873, 'gamma': 0.059647022997025824, 'degree': 6}. Best is trial 20 with value: -6.8860779063457755.\u001B[0m\n",
      "\u001B[32m[I 2022-05-11 15:15:14,201]\u001B[0m Trial 24 finished with value: -7.931514221392402 and parameters: {'C': 230.78409818451186, 'gamma': 0.023527433279753502, 'degree': 6}. Best is trial 20 with value: -6.8860779063457755.\u001B[0m\n",
      "\u001B[32m[I 2022-05-11 15:15:14,324]\u001B[0m Trial 25 finished with value: -7.106067150086839 and parameters: {'C': 249.98462833581678, 'gamma': 0.05472915081000947, 'degree': 7}. Best is trial 20 with value: -6.8860779063457755.\u001B[0m\n",
      "\u001B[32m[I 2022-05-11 15:15:14,426]\u001B[0m Trial 26 finished with value: -10.13348974957652 and parameters: {'C': 6.634067769573835, 'gamma': 0.02704514472323578, 'degree': 7}. Best is trial 20 with value: -6.8860779063457755.\u001B[0m\n",
      "\u001B[32m[I 2022-05-11 15:15:14,642]\u001B[0m Trial 27 finished with value: -6.61772338439207 and parameters: {'C': 314.33279294424256, 'gamma': 0.09975203393493406, 'degree': 8}. Best is trial 27 with value: -6.61772338439207.\u001B[0m\n",
      "\u001B[32m[I 2022-05-11 15:15:14,780]\u001B[0m Trial 28 finished with value: -9.86388423817231 and parameters: {'C': 377.52583648505856, 'gamma': 0.0010528488353175132, 'degree': 8}. Best is trial 27 with value: -6.61772338439207.\u001B[0m\n",
      "\u001B[32m[I 2022-05-11 15:15:15,248]\u001B[0m Trial 29 finished with value: -6.2836822403597345 and parameters: {'C': 980.6637208938009, 'gamma': 0.09927140841134147, 'degree': 5}. Best is trial 29 with value: -6.2836822403597345.\u001B[0m\n",
      "\u001B[32m[I 2022-05-11 15:15:15,672]\u001B[0m Trial 30 finished with value: -7.57673167790973 and parameters: {'C': 960.3902830545233, 'gamma': 0.01537718840167869, 'degree': 8}. Best is trial 29 with value: -6.2836822403597345.\u001B[0m\n",
      "\u001B[32m[I 2022-05-11 15:15:16,158]\u001B[0m Trial 31 finished with value: -6.508750671323011 and parameters: {'C': 401.5245768755311, 'gamma': 0.09938040096805359, 'degree': 5}. Best is trial 29 with value: -6.2836822403597345.\u001B[0m\n",
      "\u001B[32m[I 2022-05-11 15:15:16,509]\u001B[0m Trial 32 finished with value: -6.911138476585708 and parameters: {'C': 428.2910445317236, 'gamma': 0.06873097000391992, 'degree': 5}. Best is trial 29 with value: -6.2836822403597345.\u001B[0m\n",
      "\u001B[32m[I 2022-05-11 15:15:16,814]\u001B[0m Trial 33 finished with value: -7.25454572795862 and parameters: {'C': 56.68062129809167, 'gamma': 0.09752787506303306, 'degree': 6}. Best is trial 29 with value: -6.2836822403597345.\u001B[0m\n",
      "\u001B[32m[I 2022-05-11 15:15:17,795]\u001B[0m Trial 34 finished with value: -6.999155387004484 and parameters: {'C': 948.1093446786783, 'gamma': 0.05116456735309158, 'degree': 6}. Best is trial 29 with value: -6.2836822403597345.\u001B[0m\n",
      "\u001B[32m[I 2022-05-11 15:15:18,228]\u001B[0m Trial 35 finished with value: -7.322423117694733 and parameters: {'C': 357.25471707151934, 'gamma': 0.03424735507080067, 'degree': 4}. Best is trial 29 with value: -6.2836822403597345.\u001B[0m\n",
      "\u001B[32m[I 2022-05-11 15:15:18,418]\u001B[0m Trial 36 finished with value: -8.941993272448467 and parameters: {'C': 8.516243650478927, 'gamma': 0.06665298051178989, 'degree': 10}. Best is trial 29 with value: -6.2836822403597345.\u001B[0m\n",
      "\u001B[32m[I 2022-05-11 15:15:18,804]\u001B[0m Trial 37 finished with value: -6.4393819677279724 and parameters: {'C': 458.49751892134003, 'gamma': 0.09865064899241471, 'degree': 5}. Best is trial 29 with value: -6.2836822403597345.\u001B[0m\n",
      "\u001B[32m[I 2022-05-11 15:15:18,998]\u001B[0m Trial 38 finished with value: -8.386743438045139 and parameters: {'C': 526.2220811322182, 'gamma': 0.00940866786113719, 'degree': 9}. Best is trial 29 with value: -6.2836822403597345.\u001B[0m\n",
      "\u001B[32m[I 2022-05-11 15:15:19,274]\u001B[0m Trial 39 finished with value: -7.800932563744406 and parameters: {'C': 43.81300130982463, 'gamma': 0.06940006977999641, 'degree': 3}. Best is trial 29 with value: -6.2836822403597345.\u001B[0m\n",
      "\u001B[32m[I 2022-05-11 15:15:19,549]\u001B[0m Trial 40 finished with value: -10.229330102926305 and parameters: {'C': 2.7162074609414035, 'gamma': 0.05225534502656649, 'degree': 4}. Best is trial 29 with value: -6.2836822403597345.\u001B[0m\n",
      "\u001B[32m[I 2022-05-11 15:15:19,801]\u001B[0m Trial 41 finished with value: -6.952549816226511 and parameters: {'C': 126.25405646827504, 'gamma': 0.09458792494640571, 'degree': 5}. Best is trial 29 with value: -6.2836822403597345.\u001B[0m\n",
      "\u001B[32m[I 2022-05-11 15:15:20,071]\u001B[0m Trial 42 finished with value: -6.8128406986340195 and parameters: {'C': 391.99289444635906, 'gamma': 0.07835920250409185, 'degree': 6}. Best is trial 29 with value: -6.2836822403597345.\u001B[0m\n",
      "\u001B[32m[I 2022-05-11 15:15:20,340]\u001B[0m Trial 43 finished with value: -6.754206326551257 and parameters: {'C': 494.9952341316063, 'gamma': 0.0776958068366602, 'degree': 6}. Best is trial 29 with value: -6.2836822403597345.\u001B[0m\n",
      "\u001B[32m[I 2022-05-11 15:15:20,633]\u001B[0m Trial 44 finished with value: -6.734372260716957 and parameters: {'C': 692.8869089204838, 'gamma': 0.0710047647756671, 'degree': 7}. Best is trial 29 with value: -6.2836822403597345.\u001B[0m\n",
      "\u001B[32m[I 2022-05-11 15:15:20,888]\u001B[0m Trial 45 finished with value: -7.091597825358923 and parameters: {'C': 838.7968655523661, 'gamma': 0.04654762211738911, 'degree': 7}. Best is trial 29 with value: -6.2836822403597345.\u001B[0m\n",
      "\u001B[32m[I 2022-05-11 15:15:21,116]\u001B[0m Trial 46 finished with value: -7.435429725356103 and parameters: {'C': 84.66802872871818, 'gamma': 0.06675250867215561, 'degree': 8}. Best is trial 29 with value: -6.2836822403597345.\u001B[0m\n",
      "\u001B[32m[I 2022-05-11 15:15:21,361]\u001B[0m Trial 47 finished with value: -15.153362551068492 and parameters: {'C': 0.011000082660812954, 'gamma': 0.03341750828755062, 'degree': 7}. Best is trial 29 with value: -6.2836822403597345.\u001B[0m\n",
      "\u001B[32m[I 2022-05-11 15:15:21,543]\u001B[0m Trial 48 finished with value: -9.4165629190416 and parameters: {'C': 266.7480846627794, 'gamma': 0.0027275668825978905, 'degree': 9}. Best is trial 29 with value: -6.2836822403597345.\u001B[0m\n",
      "\u001B[32m[I 2022-05-11 15:15:21,687]\u001B[0m Trial 49 finished with value: -8.186719203234285 and parameters: {'C': 626.8638548975017, 'gamma': 0.010696506163918502, 'degree': 4}. Best is trial 29 with value: -6.2836822403597345.\u001B[0m\n",
      "\u001B[32m[I 2022-05-11 15:15:21,824]\u001B[0m Trial 50 finished with value: -7.962152654357359 and parameters: {'C': 29.070214232892212, 'gamma': 0.07620898201286654, 'degree': 8}. Best is trial 29 with value: -6.2836822403597345.\u001B[0m\n",
      "\u001B[32m[I 2022-05-11 15:15:22,097]\u001B[0m Trial 51 finished with value: -6.415134160205359 and parameters: {'C': 546.4765522118936, 'gamma': 0.09854007785265395, 'degree': 6}. Best is trial 29 with value: -6.2836822403597345.\u001B[0m\n",
      "\u001B[32m[I 2022-05-11 15:15:22,337]\u001B[0m Trial 52 finished with value: -6.374186057373289 and parameters: {'C': 621.5256994653362, 'gamma': 0.09923384836184539, 'degree': 7}. Best is trial 29 with value: -6.2836822403597345.\u001B[0m\n",
      "\u001B[32m[I 2022-05-11 15:15:22,545]\u001B[0m Trial 53 finished with value: -7.491668072242909 and parameters: {'C': 99.93447225228198, 'gamma': 0.05808160099660351, 'degree': 6}. Best is trial 29 with value: -6.2836822403597345.\u001B[0m\n",
      "\u001B[32m[I 2022-05-11 15:15:22,912]\u001B[0m Trial 54 finished with value: -6.7358821966874345 and parameters: {'C': 252.08302520648837, 'gamma': 0.0950644865049153, 'degree': 5}. Best is trial 29 with value: -6.2836822403597345.\u001B[0m\n",
      "\u001B[32m[I 2022-05-11 15:15:23,168]\u001B[0m Trial 55 finished with value: -6.39317460384657 and parameters: {'C': 572.8260812259315, 'gamma': 0.09952724609212801, 'degree': 7}. Best is trial 29 with value: -6.2836822403597345.\u001B[0m\n",
      "\u001B[32m[I 2022-05-11 15:15:23,291]\u001B[0m Trial 56 finished with value: -13.704874258751943 and parameters: {'C': 0.14866639148962277, 'gamma': 0.08352816802480884, 'degree': 6}. Best is trial 29 with value: -6.2836822403597345.\u001B[0m\n",
      "\u001B[32m[I 2022-05-11 15:15:23,564]\u001B[0m Trial 57 finished with value: -6.717159764085257 and parameters: {'C': 978.6102668469159, 'gamma': 0.06359021409247842, 'degree': 7}. Best is trial 29 with value: -6.2836822403597345.\u001B[0m\n",
      "\u001B[32m[I 2022-05-11 15:15:23,676]\u001B[0m Trial 58 finished with value: -10.955814553018712 and parameters: {'C': 0.929816922098532, 'gamma': 0.08156592152607955, 'degree': 5}. Best is trial 29 with value: -6.2836822403597345.\u001B[0m\n",
      "\u001B[32m[I 2022-05-11 15:15:23,812]\u001B[0m Trial 59 finished with value: -9.092014509550546 and parameters: {'C': 11.539529500332984, 'gamma': 0.04568852203318204, 'degree': 6}. Best is trial 29 with value: -6.2836822403597345.\u001B[0m\n",
      "\u001B[32m[I 2022-05-11 15:15:23,962]\u001B[0m Trial 60 finished with value: -7.653472723240829 and parameters: {'C': 43.044240015672095, 'gamma': 0.08302204344512334, 'degree': 4}. Best is trial 29 with value: -6.2836822403597345.\u001B[0m\n",
      "\u001B[32m[I 2022-05-11 15:15:24,167]\u001B[0m Trial 61 finished with value: -6.702501055112215 and parameters: {'C': 238.98444652917723, 'gamma': 0.09940295333088811, 'degree': 8}. Best is trial 29 with value: -6.2836822403597345.\u001B[0m\n",
      "\u001B[32m[I 2022-05-11 15:15:24,388]\u001B[0m Trial 62 finished with value: -6.419679065480638 and parameters: {'C': 506.5969140146273, 'gamma': 0.09955375471721546, 'degree': 9}. Best is trial 29 with value: -6.2836822403597345.\u001B[0m\n",
      "\u001B[32m[I 2022-05-11 15:15:24,577]\u001B[0m Trial 63 finished with value: -6.976742630522617 and parameters: {'C': 530.3505345360461, 'gamma': 0.06050874732779221, 'degree': 5}. Best is trial 29 with value: -6.2836822403597345.\u001B[0m\n",
      "\u001B[32m[I 2022-05-11 15:15:24,714]\u001B[0m Trial 64 finished with value: -6.946542995825823 and parameters: {'C': 181.62805461711113, 'gamma': 0.08367253283540305, 'degree': 10}. Best is trial 29 with value: -6.2836822403597345.\u001B[0m\n",
      "\u001B[32m[I 2022-05-11 15:15:24,867]\u001B[0m Trial 65 finished with value: -7.057014672593082 and parameters: {'C': 579.5278484014906, 'gamma': 0.05085223648087481, 'degree': 7}. Best is trial 29 with value: -6.2836822403597345.\u001B[0m\n",
      "\u001B[32m[I 2022-05-11 15:15:24,973]\u001B[0m Trial 66 finished with value: -7.159486660429286 and parameters: {'C': 115.85427651703341, 'gamma': 0.07171424263736867, 'degree': 5}. Best is trial 29 with value: -6.2836822403597345.\u001B[0m\n",
      "\u001B[32m[I 2022-05-11 15:15:25,077]\u001B[0m Trial 67 finished with value: -9.264938356062059 and parameters: {'C': 180.38028594366216, 'gamma': 0.00520930935160779, 'degree': 6}. Best is trial 29 with value: -6.2836822403597345.\u001B[0m\n",
      "\u001B[32m[I 2022-05-11 15:15:25,260]\u001B[0m Trial 68 finished with value: -6.547009048492012 and parameters: {'C': 383.46655543732925, 'gamma': 0.09892754666529681, 'degree': 5}. Best is trial 29 with value: -6.2836822403597345.\u001B[0m\n",
      "\u001B[32m[I 2022-05-11 15:15:25,482]\u001B[0m Trial 69 finished with value: -6.391873031868253 and parameters: {'C': 985.2527106303705, 'gamma': 0.08564309084700639, 'degree': 9}. Best is trial 29 with value: -6.2836822403597345.\u001B[0m\n",
      "\u001B[32m[I 2022-05-11 15:15:25,669]\u001B[0m Trial 70 finished with value: -7.125017717013884 and parameters: {'C': 642.5363475416849, 'gamma': 0.037782245012554894, 'degree': 9}. Best is trial 29 with value: -6.2836822403597345.\u001B[0m\n",
      "\u001B[32m[I 2022-05-11 15:15:25,946]\u001B[0m Trial 71 finished with value: -6.422354116269053 and parameters: {'C': 913.837830233995, 'gamma': 0.08485904023888015, 'degree': 10}. Best is trial 29 with value: -6.2836822403597345.\u001B[0m\n",
      "\u001B[32m[I 2022-05-11 15:15:26,152]\u001B[0m Trial 72 finished with value: -6.462915216616667 and parameters: {'C': 926.9177039099944, 'gamma': 0.08072619647982537, 'degree': 10}. Best is trial 29 with value: -6.2836822403597345.\u001B[0m\n",
      "\u001B[32m[I 2022-05-11 15:15:26,271]\u001B[0m Trial 73 finished with value: -7.0410815442085894 and parameters: {'C': 292.6911713830858, 'gamma': 0.059869781302590644, 'degree': 10}. Best is trial 29 with value: -6.2836822403597345.\u001B[0m\n",
      "\u001B[32m[I 2022-05-11 15:15:26,446]\u001B[0m Trial 74 finished with value: -6.473936807671637 and parameters: {'C': 693.6431234513967, 'gamma': 0.08720071700823952, 'degree': 9}. Best is trial 29 with value: -6.2836822403597345.\u001B[0m\n",
      "\u001B[32m[I 2022-05-11 15:15:26,568]\u001B[0m Trial 75 finished with value: -7.033580099241769 and parameters: {'C': 191.98624592706142, 'gamma': 0.07191529341572743, 'degree': 10}. Best is trial 29 with value: -6.2836822403597345.\u001B[0m\n",
      "\u001B[32m[I 2022-05-11 15:15:26,714]\u001B[0m Trial 76 finished with value: -6.618422349703716 and parameters: {'C': 476.6787756780874, 'gamma': 0.087855717668672, 'degree': 9}. Best is trial 29 with value: -6.2836822403597345.\u001B[0m\n",
      "\u001B[32m[I 2022-05-11 15:15:26,828]\u001B[0m Trial 77 finished with value: -7.0916815399445525 and parameters: {'C': 326.059700731636, 'gamma': 0.05177512523635751, 'degree': 9}. Best is trial 29 with value: -6.2836822403597345.\u001B[0m\n",
      "\u001B[32m[I 2022-05-11 15:15:26,913]\u001B[0m Trial 78 finished with value: -15.211713674228132 and parameters: {'C': 0.0011564259558838597, 'gamma': 0.01965312234933337, 'degree': 9}. Best is trial 29 with value: -6.2836822403597345.\u001B[0m\n",
      "\u001B[32m[I 2022-05-11 15:15:27,134]\u001B[0m Trial 79 finished with value: -6.841989707539308 and parameters: {'C': 782.9418117067058, 'gamma': 0.062485530143793114, 'degree': 8}. Best is trial 29 with value: -6.2836822403597345.\u001B[0m\n",
      "\u001B[32m[I 2022-05-11 15:15:27,291]\u001B[0m Trial 80 finished with value: -7.324897094610807 and parameters: {'C': 91.63677104128489, 'gamma': 0.0704718138361091, 'degree': 10}. Best is trial 29 with value: -6.2836822403597345.\u001B[0m\n",
      "\u001B[32m[I 2022-05-11 15:15:27,527]\u001B[0m Trial 81 finished with value: -6.418840987308637 and parameters: {'C': 858.724080734183, 'gamma': 0.086739352719234, 'degree': 10}. Best is trial 29 with value: -6.2836822403597345.\u001B[0m\n",
      "\u001B[32m[I 2022-05-11 15:15:27,750]\u001B[0m Trial 82 finished with value: -6.3708507284741005 and parameters: {'C': 964.7192699180085, 'gamma': 0.08868795720213923, 'degree': 10}. Best is trial 29 with value: -6.2836822403597345.\u001B[0m\n",
      "\u001B[32m[I 2022-05-11 15:15:27,908]\u001B[0m Trial 83 finished with value: -6.53858846853124 and parameters: {'C': 586.927345705003, 'gamma': 0.08555415596363287, 'degree': 10}. Best is trial 29 with value: -6.2836822403597345.\u001B[0m\n",
      "\u001B[32m[I 2022-05-11 15:15:28,108]\u001B[0m Trial 84 finished with value: -6.547402423975678 and parameters: {'C': 908.5260777951579, 'gamma': 0.07539350340481366, 'degree': 10}. Best is trial 29 with value: -6.2836822403597345.\u001B[0m\n",
      "\u001B[32m[I 2022-05-11 15:15:28,357]\u001B[0m Trial 85 finished with value: -6.3650603797239125 and parameters: {'C': 985.9146155583992, 'gamma': 0.08881290275817649, 'degree': 10}. Best is trial 29 with value: -6.2836822403597345.\u001B[0m\n",
      "\u001B[32m[I 2022-05-11 15:15:28,526]\u001B[0m Trial 86 finished with value: -6.991180091243815 and parameters: {'C': 375.05306703516476, 'gamma': 0.06363088488212569, 'degree': 9}. Best is trial 29 with value: -6.2836822403597345.\u001B[0m\n",
      "\u001B[32m[I 2022-05-11 15:15:28,750]\u001B[0m Trial 87 finished with value: -7.0165958570025015 and parameters: {'C': 623.4132420723913, 'gamma': 0.055306485925141785, 'degree': 10}. Best is trial 29 with value: -6.2836822403597345.\u001B[0m\n",
      "\u001B[32m[I 2022-05-11 15:15:28,877]\u001B[0m Trial 88 finished with value: -9.75838078299782 and parameters: {'C': 315.63346511436083, 'gamma': 0.001403603362346307, 'degree': 9}. Best is trial 29 with value: -6.2836822403597345.\u001B[0m\n",
      "\u001B[32m[I 2022-05-11 15:15:29,004]\u001B[0m Trial 89 finished with value: -14.820013981078214 and parameters: {'C': 0.03269591641449064, 'gamma': 0.08924287660372214, 'degree': 10}. Best is trial 29 with value: -6.2836822403597345.\u001B[0m\n",
      "\u001B[32m[I 2022-05-11 15:15:29,173]\u001B[0m Trial 90 finished with value: -7.067045891517774 and parameters: {'C': 146.59989014473115, 'gamma': 0.07447382625521393, 'degree': 8}. Best is trial 29 with value: -6.2836822403597345.\u001B[0m\n",
      "\u001B[32m[I 2022-05-11 15:15:29,477]\u001B[0m Trial 91 finished with value: -6.337093520112164 and parameters: {'C': 991.0803751588141, 'gamma': 0.09187103036805092, 'degree': 10}. Best is trial 29 with value: -6.2836822403597345.\u001B[0m\n",
      "\u001B[32m[I 2022-05-11 15:15:29,733]\u001B[0m Trial 92 finished with value: -6.42727132134379 and parameters: {'C': 502.86625132884774, 'gamma': 0.09815311712690324, 'degree': 10}. Best is trial 29 with value: -6.2836822403597345.\u001B[0m\n",
      "\u001B[32m[I 2022-05-11 15:15:30,012]\u001B[0m Trial 93 finished with value: -6.430850547862922 and parameters: {'C': 722.8104725950213, 'gamma': 0.08968286850890302, 'degree': 10}. Best is trial 29 with value: -6.2836822403597345.\u001B[0m\n",
      "\u001B[32m[I 2022-05-11 15:15:30,219]\u001B[0m Trial 94 finished with value: -6.952225051979387 and parameters: {'C': 245.42723892865243, 'gamma': 0.07598127683663582, 'degree': 10}. Best is trial 29 with value: -6.2836822403597345.\u001B[0m\n",
      "\u001B[32m[I 2022-05-11 15:15:30,469]\u001B[0m Trial 95 finished with value: -6.987467268626768 and parameters: {'C': 397.69590248162575, 'gamma': 0.06336089003202985, 'degree': 9}. Best is trial 29 with value: -6.2836822403597345.\u001B[0m\n",
      "\u001B[32m[I 2022-05-11 15:15:30,782]\u001B[0m Trial 96 finished with value: -6.362755320835753 and parameters: {'C': 964.4755046669045, 'gamma': 0.08962586890025842, 'degree': 10}. Best is trial 29 with value: -6.2836822403597345.\u001B[0m\n",
      "\u001B[32m[I 2022-05-11 15:15:30,914]\u001B[0m Trial 97 finished with value: -8.049818993096817 and parameters: {'C': 730.7909240107028, 'gamma': 0.011501303371473494, 'degree': 10}. Best is trial 29 with value: -6.2836822403597345.\u001B[0m\n",
      "\u001B[32m[I 2022-05-11 15:15:31,050]\u001B[0m Trial 98 finished with value: -15.190966869319777 and parameters: {'C': 0.002221610188784542, 'gamma': 0.07880116020069006, 'degree': 10}. Best is trial 29 with value: -6.2836822403597345.\u001B[0m\n",
      "\u001B[32m[I 2022-05-11 15:15:31,317]\u001B[0m Trial 99 finished with value: -6.6161737667466225 and parameters: {'C': 936.6184247562261, 'gamma': 0.0693585346912244, 'degree': 10}. Best is trial 29 with value: -6.2836822403597345.\u001B[0m\n",
      "\u001B[32m[I 2022-05-11 15:15:31,548]\u001B[0m Trial 100 finished with value: -7.084414028418618 and parameters: {'C': 426.7123283567004, 'gamma': 0.04785234860958236, 'degree': 7}. Best is trial 29 with value: -6.2836822403597345.\u001B[0m\n",
      "\u001B[32m[I 2022-05-11 15:15:31,935]\u001B[0m Trial 101 finished with value: -6.509062726952038 and parameters: {'C': 510.08680812541803, 'gamma': 0.09121959152806962, 'degree': 9}. Best is trial 29 with value: -6.2836822403597345.\u001B[0m\n",
      "\u001B[32m[I 2022-05-11 15:15:32,182]\u001B[0m Trial 102 finished with value: -6.359791688082843 and parameters: {'C': 653.2812420186707, 'gamma': 0.09979116585887789, 'degree': 10}. Best is trial 29 with value: -6.2836822403597345.\u001B[0m\n",
      "\u001B[32m[I 2022-05-11 15:15:32,530]\u001B[0m Trial 103 finished with value: -6.357697081252957 and parameters: {'C': 995.8200708213519, 'gamma': 0.08939500720069823, 'degree': 10}. Best is trial 29 with value: -6.2836822403597345.\u001B[0m\n",
      "\u001B[32m[I 2022-05-11 15:15:32,872]\u001B[0m Trial 104 finished with value: -6.476767383708368 and parameters: {'C': 988.6012887085207, 'gamma': 0.07815407650815241, 'degree': 10}. Best is trial 29 with value: -6.2836822403597345.\u001B[0m\n",
      "\u001B[32m[I 2022-05-11 15:15:33,167]\u001B[0m Trial 105 finished with value: -6.8329874388208625 and parameters: {'C': 211.94911573767513, 'gamma': 0.09181904820503749, 'degree': 10}. Best is trial 29 with value: -6.2836822403597345.\u001B[0m\n",
      "\u001B[32m[I 2022-05-11 15:15:33,537]\u001B[0m Trial 106 finished with value: -6.819165361425375 and parameters: {'C': 673.7926670702478, 'gamma': 0.06667269856019456, 'degree': 10}. Best is trial 29 with value: -6.2836822403597345.\u001B[0m\n",
      "\u001B[32m[I 2022-05-11 15:15:33,732]\u001B[0m Trial 107 finished with value: -6.853575603280852 and parameters: {'C': 290.48977349792875, 'gamma': 0.08120322836090584, 'degree': 10}. Best is trial 29 with value: -6.2836822403597345.\u001B[0m\n",
      "\u001B[32m[I 2022-05-11 15:15:34,012]\u001B[0m Trial 108 finished with value: -6.975159985129044 and parameters: {'C': 659.9385712744976, 'gamma': 0.057456733686392494, 'degree': 6}. Best is trial 29 with value: -6.2836822403597345.\u001B[0m\n",
      "\u001B[32m[I 2022-05-11 15:15:34,163]\u001B[0m Trial 109 finished with value: -9.255697557584787 and parameters: {'C': 4.409753209740953, 'gamma': 0.09232064901008613, 'degree': 9}. Best is trial 29 with value: -6.2836822403597345.\u001B[0m\n",
      "\u001B[32m[I 2022-05-11 15:15:34,389]\u001B[0m Trial 110 finished with value: -6.9557626476839065 and parameters: {'C': 352.42123090080725, 'gamma': 0.06813309698655995, 'degree': 7}. Best is trial 29 with value: -6.2836822403597345.\u001B[0m\n",
      "\u001B[32m[I 2022-05-11 15:15:34,752]\u001B[0m Trial 111 finished with value: -6.325563337053765 and parameters: {'C': 765.8874091453472, 'gamma': 0.0997021812218787, 'degree': 10}. Best is trial 29 with value: -6.2836822403597345.\u001B[0m\n",
      "\u001B[32m[I 2022-05-11 15:15:35,065]\u001B[0m Trial 112 finished with value: -6.507715919083888 and parameters: {'C': 516.1149899683942, 'gamma': 0.09091652889491877, 'degree': 10}. Best is trial 29 with value: -6.2836822403597345.\u001B[0m\n",
      "\u001B[32m[I 2022-05-11 15:15:35,365]\u001B[0m Trial 113 finished with value: -6.285762162909787 and parameters: {'C': 998.0728579963128, 'gamma': 0.09866118305819863, 'degree': 10}. Best is trial 29 with value: -6.2836822403597345.\u001B[0m\n",
      "\u001B[32m[I 2022-05-11 15:15:35,574]\u001B[0m Trial 114 finished with value: -6.62577254146157 and parameters: {'C': 695.1445526203411, 'gamma': 0.07680942869876653, 'degree': 10}. Best is trial 29 with value: -6.2836822403597345.\u001B[0m\n",
      "\u001B[32m[I 2022-05-11 15:15:35,808]\u001B[0m Trial 115 finished with value: -6.722331753260673 and parameters: {'C': 423.2737544311139, 'gamma': 0.0837032051160223, 'degree': 10}. Best is trial 29 with value: -6.2836822403597345.\u001B[0m\n",
      "\u001B[32m[I 2022-05-11 15:15:36,042]\u001B[0m Trial 116 finished with value: -6.636103067988168 and parameters: {'C': 785.21777616372, 'gamma': 0.07310973799995633, 'degree': 10}. Best is trial 29 with value: -6.2836822403597345.\u001B[0m\n",
      "\u001B[32m[I 2022-05-11 15:15:36,338]\u001B[0m Trial 117 finished with value: -6.284524172658947 and parameters: {'C': 946.4591552698253, 'gamma': 0.0999979661484063, 'degree': 9}. Best is trial 29 with value: -6.2836822403597345.\u001B[0m\n",
      "\u001B[32m[I 2022-05-11 15:15:36,617]\u001B[0m Trial 118 finished with value: -6.380893578622113 and parameters: {'C': 898.6323267127322, 'gamma': 0.08912941717988826, 'degree': 9}. Best is trial 29 with value: -6.2836822403597345.\u001B[0m\n",
      "\u001B[32m[I 2022-05-11 15:15:36,850]\u001B[0m Trial 119 finished with value: -6.348718641375001 and parameters: {'C': 983.9267518288406, 'gamma': 0.09069873166993812, 'degree': 9}. Best is trial 29 with value: -6.2836822403597345.\u001B[0m\n"
     ]
    }
   ],
   "source": [
    "ml_model = Model('SVM',X_train,y_train,120)\n",
    "\n",
    "model_   = ml_model.build_model()"
   ],
   "metadata": {
    "collapsed": false,
    "pycharm": {
     "name": "#%%\n"
    }
   }
  },
  {
   "cell_type": "markdown",
   "source": [
    "### Performance on the test set"
   ],
   "metadata": {
    "collapsed": false,
    "pycharm": {
     "name": "#%% md\n"
    }
   }
  },
  {
   "cell_type": "code",
   "execution_count": 25,
   "outputs": [],
   "source": [
    "# Calculate prediction errors\n",
    "y_pred_test = model_.predict(sc.transform(X_test)[X_train.columns[1:]])\n",
    "mae         = np.abs(y_test.values-y_pred_test)"
   ],
   "metadata": {
    "collapsed": false,
    "pycharm": {
     "name": "#%%\n"
    }
   }
  },
  {
   "cell_type": "code",
   "execution_count": 26,
   "outputs": [
    {
     "data": {
      "text/plain": "Text(0, 0.5, 'expected')"
     },
     "execution_count": 26,
     "metadata": {},
     "output_type": "execute_result"
    },
    {
     "data": {
      "text/plain": "<Figure size 432x288 with 1 Axes>",
      "image/png": "[encoded data removed]"
     },
     "metadata": {
      "needs_background": "light"
     },
     "output_type": "display_data"
    }
   ],
   "source": [
    "plt.scatter(y_pred_test,y_test)\n",
    "plt.plot(np.linspace(0,130,10),np.linspace(0,130,10))\n",
    "plt.xlabel('predicted')\n",
    "plt.ylabel('expected')"
   ],
   "metadata": {
    "collapsed": false,
    "pycharm": {
     "name": "#%%\n"
    }
   }
  },
  {
   "cell_type": "code",
   "execution_count": 78,
   "outputs": [],
   "source": [
    "data_error = pd.DataFrame(columns=['SMILES','MAE'])\n",
    "data_error['SMILES'] = X_test.iloc[np.where(mae>20)[0]]['SMILES'].values\n",
    "data_error['MAE'] = mae[np.where(mae>20)[0]]"
   ],
   "metadata": {
    "collapsed": false,
    "pycharm": {
     "name": "#%%\n"
    }
   }
  },
  {
   "cell_type": "markdown",
   "source": [],
   "metadata": {
    "collapsed": false,
    "pycharm": {
     "name": "#%% md\n"
    }
   }
  },
  {
   "cell_type": "code",
   "execution_count": 80,
   "outputs": [
    {
     "data": {
      "text/plain": "             SMILES        MAE\n0         C1CCCCCC1  20.694417\n1       CCCCC(CC)CC  70.643821\n2         CCCC#CCCC  22.080342\n3  c1ccc2c(c1)C=CC2  21.287554\n4  C1CCC(C1)C1CCCC1  20.835007",
      "text/html": "<div>\n<style scoped>\n    .dataframe tbody tr th:only-of-type {\n        vertical-align: middle;\n    }\n\n    .dataframe tbody tr th {\n        vertical-align: top;\n    }\n\n    .dataframe thead th {\n        text-align: right;\n    }\n</style>\n<table border=\"1\" class=\"dataframe\">\n  <thead>\n    <tr style=\"text-align: right;\">\n      <th></th>\n      <th>SMILES</th>\n      <th>MAE</th>\n    </tr>\n  </thead>\n  <tbody>\n    <tr>\n      <th>0</th>\n      <td>C1CCCCCC1</td>\n      <td>20.694417</td>\n    </tr>\n    <tr>\n      <th>1</th>\n      <td>CCCCC(CC)CC</td>\n      <td>70.643821</td>\n    </tr>\n    <tr>\n      <th>2</th>\n      <td>CCCC#CCCC</td>\n      <td>22.080342</td>\n    </tr>\n    <tr>\n      <th>3</th>\n      <td>c1ccc2c(c1)C=CC2</td>\n      <td>21.287554</td>\n    </tr>\n    <tr>\n      <th>4</th>\n      <td>C1CCC(C1)C1CCCC1</td>\n      <td>20.835007</td>\n    </tr>\n  </tbody>\n</table>\n</div>"
     },
     "execution_count": 80,
     "metadata": {},
     "output_type": "execute_result"
    }
   ],
   "source": [
    "data_error"
   ],
   "metadata": {
    "collapsed": false,
    "pycharm": {
     "name": "#%%\n"
    }
   }
  },
  {
   "cell_type": "markdown",
   "source": [
    "### Applicability domain"
   ],
   "metadata": {
    "collapsed": false,
    "pycharm": {
     "name": "#%% md\n"
    }
   }
  },
  {
   "cell_type": "markdown",
   "source": [
    "1. OneClassSVM"
   ],
   "metadata": {
    "collapsed": false,
    "pycharm": {
     "name": "#%% md\n"
    }
   }
  },
  {
   "cell_type": "code",
   "execution_count": 28,
   "outputs": [],
   "source": [
    "mean_inside = []\n",
    "\n",
    "for nu in np.linspace(0.001,0.99,20):\n",
    "\n",
    "    clf = OneClassSVM(nu=nu, kernel=\"rbf\", gamma=0.1)\n",
    "    clf.fit(X_train.values[:,1:])\n",
    "    label = clf.predict(sc.transform(X_test)[X_train.columns[1:]])\n",
    "    mean_inside.append(mae[np.where(label>0)[0]].mean())\n",
    "\n"
   ],
   "metadata": {
    "collapsed": false,
    "pycharm": {
     "name": "#%%\n"
    }
   }
  },
  {
   "cell_type": "code",
   "execution_count": 29,
   "outputs": [
    {
     "data": {
      "text/plain": "Text(0, 0.5, 'MAE')"
     },
     "execution_count": 29,
     "metadata": {},
     "output_type": "execute_result"
    },
    {
     "data": {
      "text/plain": "<Figure size 432x288 with 1 Axes>",
      "image/png": "[encoded data removed]"
     },
     "metadata": {
      "needs_background": "light"
     },
     "output_type": "display_data"
    }
   ],
   "source": [
    "plt.plot(np.linspace(0.001,0.99,20),mean_inside)\n",
    "plt.xlabel('mu')\n",
    "plt.ylabel('MAE')"
   ],
   "metadata": {
    "collapsed": false,
    "pycharm": {
     "name": "#%%\n"
    }
   }
  },
  {
   "cell_type": "markdown",
   "source": [
    "2.Tanimato distance"
   ],
   "metadata": {
    "collapsed": false,
    "pycharm": {
     "name": "#%% md\n"
    }
   }
  },
  {
   "cell_type": "code",
   "execution_count": 30,
   "outputs": [],
   "source": [
    "DM = mean_tanimato\n",
    "Tanimato_dist = X_test['SMILES'].apply(lambda x: DM(x,X_train)).values"
   ],
   "metadata": {
    "collapsed": false,
    "pycharm": {
     "name": "#%%\n"
    }
   }
  },
  {
   "cell_type": "code",
   "execution_count": 31,
   "outputs": [
    {
     "data": {
      "text/plain": "Text(0, 0.5, 'MAE')"
     },
     "execution_count": 31,
     "metadata": {},
     "output_type": "execute_result"
    },
    {
     "data": {
      "text/plain": "<Figure size 432x288 with 1 Axes>",
      "image/png": "[encoded data removed]"
     },
     "metadata": {
      "needs_background": "light"
     },
     "output_type": "display_data"
    }
   ],
   "source": [
    "plt.scatter(Tanimato_dist,mae)\n",
    "plt.xlabel('Mean tanimato distance')\n",
    "plt.ylabel('MAE')"
   ],
   "metadata": {
    "collapsed": false,
    "pycharm": {
     "name": "#%%\n"
    }
   }
  },
  {
   "cell_type": "code",
   "execution_count": 32,
   "outputs": [],
   "source": [
    "spread_tanimato = Tanimato_dist.max() - Tanimato_dist.min()\n",
    "\n",
    "mean_inside2 = []\n",
    "for i in range(1,20):\n",
    "    upper_bound = Tanimato_dist.max() - i*spread_tanimato/20\n",
    "    mean_inside2.append(mae[np.where(Tanimato_dist<upper_bound)[0]].mean())"
   ],
   "metadata": {
    "collapsed": false,
    "pycharm": {
     "name": "#%%\n"
    }
   }
  },
  {
   "cell_type": "code",
   "execution_count": 33,
   "outputs": [
    {
     "data": {
      "text/plain": "Text(0, 0.5, 'MAE')"
     },
     "execution_count": 33,
     "metadata": {},
     "output_type": "execute_result"
    },
    {
     "data": {
      "text/plain": "<Figure size 432x288 with 1 Axes>",
      "image/png": "[encoded data removed]"
     },
     "metadata": {
      "needs_background": "light"
     },
     "output_type": "display_data"
    }
   ],
   "source": [
    "plt.plot(np.linspace(0,1,19),mean_inside2)\n",
    "plt.xlabel('Fraction')\n",
    "plt.ylabel('MAE')"
   ],
   "metadata": {
    "collapsed": false,
    "pycharm": {
     "name": "#%%\n"
    }
   }
  },
  {
   "cell_type": "code",
   "execution_count": 84,
   "outputs": [],
   "source": [
    "def box_plot(dist,mae):\n",
    "\n",
    "    df_  = pd.DataFrame(np.vstack((dist,mae)).T,columns=['dist','MAE'])\n",
    "    bins = pd.cut(df_.iloc[:,0], list(np.linspace(dist.max(), dist.min(), 5))[::-1])\n",
    "\n",
    "    fig,ax = plt.subplots()\n",
    "    ax.boxplot([g[1] for g in df_.groupby(bins)['MAE']])\n",
    "    ax.set_xticklabels(str(g[0])[1:-1] for g in df_.groupby(bins)['MAE'])\n",
    "    ax.set_xlabel('distance bins')\n",
    "    ax.set_ylabel('MAE')\n",
    "\n",
    "    fig.tight_layout()\n"
   ],
   "metadata": {
    "collapsed": false,
    "pycharm": {
     "name": "#%%\n"
    }
   }
  },
  {
   "cell_type": "code",
   "execution_count": 85,
   "outputs": [
    {
     "data": {
      "text/plain": "<Figure size 432x288 with 1 Axes>",
      "image/png": "[encoded data removed]"
     },
     "metadata": {
      "needs_background": "light"
     },
     "output_type": "display_data"
    }
   ],
   "source": [
    "box_plot(Tanimato_dist,mae)"
   ],
   "metadata": {
    "collapsed": false,
    "pycharm": {
     "name": "#%%\n"
    }
   }
  },
  {
   "cell_type": "markdown",
   "source": [
    "3. Leaverage distance"
   ],
   "metadata": {
    "collapsed": false,
    "pycharm": {
     "name": "#%% md\n"
    }
   }
  },
  {
   "cell_type": "code",
   "execution_count": 55,
   "outputs": [],
   "source": [
    "x_test_normed = sc.transform(X_test)[X_train.columns].values[:,1:]\n",
    "lev_dist      = [Leverage(x_test_normed[i,:],X_train.values[:,1:]) for i in range(len(X_test))]"
   ],
   "metadata": {
    "collapsed": false,
    "pycharm": {
     "name": "#%%\n"
    }
   }
  },
  {
   "cell_type": "code",
   "execution_count": 57,
   "outputs": [
    {
     "data": {
      "text/plain": "Text(0, 0.5, 'MAE')"
     },
     "execution_count": 57,
     "metadata": {},
     "output_type": "execute_result"
    },
    {
     "data": {
      "text/plain": "<Figure size 432x288 with 1 Axes>",
      "image/png": "[encoded data removed]"
     },
     "metadata": {
      "needs_background": "light"
     },
     "output_type": "display_data"
    }
   ],
   "source": [
    "plt.scatter(lev_dist,mae)\n",
    "plt.xlabel('Leaverage distance')\n",
    "plt.ylabel('MAE')"
   ],
   "metadata": {
    "collapsed": false,
    "pycharm": {
     "name": "#%%\n"
    }
   }
  },
  {
   "cell_type": "code",
   "execution_count": 86,
   "outputs": [
    {
     "data": {
      "text/plain": "<Figure size 432x288 with 1 Axes>",
      "image/png": "[encoded data removed]"
     },
     "metadata": {
      "needs_background": "light"
     },
     "output_type": "display_data"
    }
   ],
   "source": [
    "box_plot(np.array(lev_dist),mae)\n"
   ],
   "metadata": {
    "collapsed": false,
    "pycharm": {
     "name": "#%%\n"
    }
   }
  },
  {
   "cell_type": "markdown",
   "source": [
    "4. Isolation forest"
   ],
   "metadata": {
    "collapsed": false,
    "pycharm": {
     "name": "#%% md\n"
    }
   }
  },
  {
   "cell_type": "code",
   "execution_count": 87,
   "outputs": [],
   "source": [
    "from sklearn.ensemble import IsolationForest"
   ],
   "metadata": {
    "collapsed": false,
    "pycharm": {
     "name": "#%%\n"
    }
   }
  },
  {
   "cell_type": "code",
   "execution_count": 89,
   "outputs": [],
   "source": [
    "mean_inside = []\n",
    "\n",
    "for cont in np.linspace(0.001,0.99,20):\n",
    "\n",
    "    clf = IsolationForest(n_estimators=10, max_samples='auto', contamination=cont,\n",
    "                          max_features=1.0, bootstrap=False, n_jobs=-1, random_state=42, verbose=0)\n",
    "    clf.fit(X_train.values[:,1:])\n",
    "    label = clf.predict(sc.transform(X_test)[X_train.columns[1:]])\n",
    "    mean_inside.append(mae[np.where(label>0)[0]].mean())"
   ],
   "metadata": {
    "collapsed": false,
    "pycharm": {
     "name": "#%%\n"
    }
   }
  },
  {
   "cell_type": "code",
   "execution_count": 91,
   "outputs": [
    {
     "data": {
      "text/plain": "Text(0, 0.5, 'MAE')"
     },
     "execution_count": 91,
     "metadata": {},
     "output_type": "execute_result"
    },
    {
     "data": {
      "text/plain": "<Figure size 432x288 with 1 Axes>",
      "image/png": "[encoded data removed]"
     },
     "metadata": {
      "needs_background": "light"
     },
     "output_type": "display_data"
    }
   ],
   "source": [
    "plt.plot(np.linspace(0.001,0.99,20),mean_inside)\n",
    "plt.xlabel('contamination %')\n",
    "plt.ylabel('MAE')"
   ],
   "metadata": {
    "collapsed": false,
    "pycharm": {
     "name": "#%%\n"
    }
   }
  },
  {
   "cell_type": "code",
   "execution_count": null,
   "outputs": [],
   "source": [],
   "metadata": {
    "collapsed": false,
    "pycharm": {
     "name": "#%%\n"
    }
   }
  }
 ],
 "metadata": {
  "kernelspec": {
   "display_name": "biofuel",
   "language": "python",
   "name": "biofuel"
  },
  "language_info": {
   "codemirror_mode": {
    "name": "ipython",
    "version": 3
   },
   "file_extension": ".py",
   "mimetype": "text/x-python",
   "name": "python",
   "nbconvert_exporter": "python",
   "pygments_lexer": "ipython3",
   "version": "3.6.12"
  }
 },
 "nbformat": 4,
 "nbformat_minor": 5
}